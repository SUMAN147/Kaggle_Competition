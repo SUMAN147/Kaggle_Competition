{
  "cells": [
    {
      "metadata": {
        "colab_type": "text",
        "id": "X-cp_kAxCAY2",
        "_uuid": "d86e55f189177b5e6302560b5b17b5c32188ed4e"
      },
      "cell_type": "markdown",
      "source": "# Amazon Fine Food Reviews Analysis\n\n\nData Source: https://www.kaggle.com/snap/amazon-fine-food-reviews <br>\n\nEDA: https://nycdatascience.com/blog/student-works/amazon-fine-foods-visualization/\n\n\nThe Amazon Fine Food Reviews dataset consists of reviews of fine foods from Amazon.<br>\n\nNumber of reviews: 568,454<br>\nNumber of users: 256,059<br>\nNumber of products: 74,258<br>\nTimespan: Oct 1999 - Oct 2012<br>\nNumber of Attributes/Columns in data: 10 \n\nAttribute Information:\n\n1. Id\n2. ProductId - unique identifier for the product\n3. UserId - unqiue identifier for the user\n4. ProfileName\n5. HelpfulnessNumerator - number of users who found the review helpful\n6. HelpfulnessDenominator - number of users who indicated whether they found the review helpful or not\n7. Score - rating between 1 and 5\n8. Time - timestamp for the review\n9. Summary - brief summary of the review\n10. Text - text of the review\n\n\n#### Objective:\nGiven a review, determine whether the review is positive (Rating of 4 or 5) or negative (rating of 1 or 2).\n\n<br>\n[Q] How to determine if a review is positive or negative?<br>\n<br> \n[Ans] We could use the Score/Rating. A rating of 4 or 5 could be cosnidered a positive review. A review of 1 or 2 could be considered negative. A review of 3 is nuetral and ignored. This is an approximate and proxy way of determining the polarity (positivity/negativity) of a review.\n\n\n"
    },
    {
      "metadata": {
        "colab_type": "text",
        "id": "WHC_UQTuCAY4",
        "_uuid": "d62fb29ee3f9fa181bbe34be92acb3d0fa2e2dcf"
      },
      "cell_type": "markdown",
      "source": "## Loading the data\n\nThe dataset is available in two forms\n1. .csv file\n2. SQLite Database\n\nIn order to load the data, We have used the SQLITE dataset as it easier to query the data and visualise the data efficiently.\n<br> \n\nHere as we only want to get the global sentiment of the recommendations (positive or negative), we will purposefully ignore all Scores equal to 3. If the score id above 3, then the recommendation wil be set to \"positive\". Otherwise, it will be set to \"negative\"."
    },
    {
      "metadata": {
        "colab": {},
        "colab_type": "code",
        "id": "PvDdRsHgCAY5",
        "trusted": true,
        "_uuid": "d570e6443fa8c766c6e7d12e4ace838ba4ce06ac"
      },
      "cell_type": "code",
      "source": "%matplotlib inline\nimport warnings\nwarnings.filterwarnings(\"ignore\")\n\n\n\nimport sqlite3\nimport pandas as pd\nimport numpy as np\nimport nltk\nimport string\nimport matplotlib.pyplot as plt\nimport seaborn as sns\nfrom sklearn.feature_extraction.text import TfidfTransformer\nfrom sklearn.feature_extraction.text import TfidfVectorizer\n\nfrom sklearn.feature_extraction.text import CountVectorizer\nfrom sklearn.metrics import confusion_matrix\nfrom sklearn import metrics\nfrom sklearn.metrics import roc_curve, auc\nfrom nltk.stem.porter import PorterStemmer\n\nimport re\n# Tutorial about Python regular expressions: https://pymotw.com/2/re/\nimport string\nfrom nltk.corpus import stopwords\nfrom nltk.stem import PorterStemmer\nfrom nltk.stem.wordnet import WordNetLemmatizer\n\nfrom gensim.models import Word2Vec\nfrom gensim.models import KeyedVectors\nimport pickle\n\nfrom tqdm import tqdm\nimport os",
      "execution_count": 1,
      "outputs": []
    },
    {
      "metadata": {
        "colab_type": "text",
        "id": "QOI7X2YgCAY_",
        "_uuid": "dfb791ea61c8aa721e3ad48bdfbad500db2cd0f6"
      },
      "cell_type": "markdown",
      "source": "# [1]. Reading Data"
    },
    {
      "metadata": {
        "colab": {
          "base_uri": "https://localhost:8080/",
          "height": 453
        },
        "colab_type": "code",
        "id": "3iYH2p1ECAZA",
        "outputId": "e0754ae0-45dc-413f-9fef-585173f96f1c",
        "trusted": true,
        "_uuid": "cddf32a8ebf28b80049619d8ff6f6a3f0320b258"
      },
      "cell_type": "code",
      "source": "\n# using the SQLite Table to read data.\ncon = sqlite3.connect('../input/database.sqlite') \n#filtering only positive and negative reviews i.e. \n# not taking into consideration those reviews with Score=3\n# SELECT * FROM Reviews WHERE Score != 3 LIMIT 500000, will give top 500000 data points\n# you can change the number to any other number based on your computing power\n\n# filtered_data = pd.read_sql_query(\"\"\" SELECT * FROM Reviews WHERE Score != 3 LIMIT 500000\"\"\", con) \n# for tsne assignment you can take 5k data points\n\nfiltered_data = pd.read_sql_query(\"\"\" SELECT * FROM Reviews WHERE Score != 3 LIMIT 5000\"\"\", con) \n\n# Give reviews with Score>3 a positive rating, and reviews with a score<3 a negative rating.\ndef partition(x):\n    if x < 3:\n        return 0\n    return 1\n\n#changing reviews with score less than 3 to be positive and vice-versa\nactualScore = filtered_data['Score']\npositiveNegative = actualScore.map(partition) \nfiltered_data['Score'] = positiveNegative\nprint(\"Number of data points in our data\", filtered_data.shape)\nfiltered_data.head(3)",
      "execution_count": 2,
      "outputs": [
        {
          "output_type": "stream",
          "text": "Number of data points in our data (5000, 10)\n",
          "name": "stdout"
        },
        {
          "output_type": "execute_result",
          "execution_count": 2,
          "data": {
            "text/plain": "   Id                        ...                                                                       Text\n0   1                        ...                          I have bought several of the Vitality canned d...\n1   2                        ...                          Product arrived labeled as Jumbo Salted Peanut...\n2   3                        ...                          This is a confection that has been around a fe...\n\n[3 rows x 10 columns]",
            "text/html": "<div>\n<style scoped>\n    .dataframe tbody tr th:only-of-type {\n        vertical-align: middle;\n    }\n\n    .dataframe tbody tr th {\n        vertical-align: top;\n    }\n\n    .dataframe thead th {\n        text-align: right;\n    }\n</style>\n<table border=\"1\" class=\"dataframe\">\n  <thead>\n    <tr style=\"text-align: right;\">\n      <th></th>\n      <th>Id</th>\n      <th>ProductId</th>\n      <th>UserId</th>\n      <th>ProfileName</th>\n      <th>HelpfulnessNumerator</th>\n      <th>HelpfulnessDenominator</th>\n      <th>Score</th>\n      <th>Time</th>\n      <th>Summary</th>\n      <th>Text</th>\n    </tr>\n  </thead>\n  <tbody>\n    <tr>\n      <th>0</th>\n      <td>1</td>\n      <td>B001E4KFG0</td>\n      <td>A3SGXH7AUHU8GW</td>\n      <td>delmartian</td>\n      <td>1</td>\n      <td>1</td>\n      <td>1</td>\n      <td>1303862400</td>\n      <td>Good Quality Dog Food</td>\n      <td>I have bought several of the Vitality canned d...</td>\n    </tr>\n    <tr>\n      <th>1</th>\n      <td>2</td>\n      <td>B00813GRG4</td>\n      <td>A1D87F6ZCVE5NK</td>\n      <td>dll pa</td>\n      <td>0</td>\n      <td>0</td>\n      <td>0</td>\n      <td>1346976000</td>\n      <td>Not as Advertised</td>\n      <td>Product arrived labeled as Jumbo Salted Peanut...</td>\n    </tr>\n    <tr>\n      <th>2</th>\n      <td>3</td>\n      <td>B000LQOCH0</td>\n      <td>ABXLMWJIXXAIN</td>\n      <td>Natalia Corres \"Natalia Corres\"</td>\n      <td>1</td>\n      <td>1</td>\n      <td>1</td>\n      <td>1219017600</td>\n      <td>\"Delight\" says it all</td>\n      <td>This is a confection that has been around a fe...</td>\n    </tr>\n  </tbody>\n</table>\n</div>"
          },
          "metadata": {}
        }
      ]
    },
    {
      "metadata": {
        "colab": {},
        "colab_type": "code",
        "id": "I1jf03kECAZF",
        "trusted": true,
        "_uuid": "1d22d7118a71013af82d9f091b6f2d2b7184519b"
      },
      "cell_type": "code",
      "source": "display = pd.read_sql_query(\"\"\"\nSELECT UserId, ProductId, ProfileName, Time, Score, Text, COUNT(*)\nFROM Reviews\nGROUP BY UserId\nHAVING COUNT(*)>1\n\"\"\", con)",
      "execution_count": 3,
      "outputs": []
    },
    {
      "metadata": {
        "colab": {
          "base_uri": "https://localhost:8080/",
          "height": 320
        },
        "colab_type": "code",
        "id": "Ja8xSefOCAZH",
        "outputId": "38c19b8b-7786-48ce-e442-6bf14d19beb1",
        "trusted": true,
        "_uuid": "f85baf1d20f60a8838e10fd05f45a84775609694"
      },
      "cell_type": "code",
      "source": "print(display.shape)\ndisplay.head()",
      "execution_count": 4,
      "outputs": [
        {
          "output_type": "stream",
          "text": "(80668, 7)\n",
          "name": "stdout"
        },
        {
          "output_type": "execute_result",
          "execution_count": 4,
          "data": {
            "text/plain": "               UserId   ...    COUNT(*)\n0  #oc-R115TNMSPFT9I7   ...           2\n1  #oc-R11D9D7SHXIJB9   ...           3\n2  #oc-R11DNU2NBKQ23Z   ...           2\n3  #oc-R11O5J5ZVQE25C   ...           3\n4  #oc-R12KPBODL2B5ZD   ...           2\n\n[5 rows x 7 columns]",
            "text/html": "<div>\n<style scoped>\n    .dataframe tbody tr th:only-of-type {\n        vertical-align: middle;\n    }\n\n    .dataframe tbody tr th {\n        vertical-align: top;\n    }\n\n    .dataframe thead th {\n        text-align: right;\n    }\n</style>\n<table border=\"1\" class=\"dataframe\">\n  <thead>\n    <tr style=\"text-align: right;\">\n      <th></th>\n      <th>UserId</th>\n      <th>ProductId</th>\n      <th>ProfileName</th>\n      <th>Time</th>\n      <th>Score</th>\n      <th>Text</th>\n      <th>COUNT(*)</th>\n    </tr>\n  </thead>\n  <tbody>\n    <tr>\n      <th>0</th>\n      <td>#oc-R115TNMSPFT9I7</td>\n      <td>B005ZBZLT4</td>\n      <td>Breyton</td>\n      <td>1331510400</td>\n      <td>2</td>\n      <td>Overall its just OK when considering the price...</td>\n      <td>2</td>\n    </tr>\n    <tr>\n      <th>1</th>\n      <td>#oc-R11D9D7SHXIJB9</td>\n      <td>B005HG9ESG</td>\n      <td>Louis E. Emory \"hoppy\"</td>\n      <td>1342396800</td>\n      <td>5</td>\n      <td>My wife has recurring extreme muscle spasms, u...</td>\n      <td>3</td>\n    </tr>\n    <tr>\n      <th>2</th>\n      <td>#oc-R11DNU2NBKQ23Z</td>\n      <td>B005ZBZLT4</td>\n      <td>Kim Cieszykowski</td>\n      <td>1348531200</td>\n      <td>1</td>\n      <td>This coffee is horrible and unfortunately not ...</td>\n      <td>2</td>\n    </tr>\n    <tr>\n      <th>3</th>\n      <td>#oc-R11O5J5ZVQE25C</td>\n      <td>B005HG9ESG</td>\n      <td>Penguin Chick</td>\n      <td>1346889600</td>\n      <td>5</td>\n      <td>This will be the bottle that you grab from the...</td>\n      <td>3</td>\n    </tr>\n    <tr>\n      <th>4</th>\n      <td>#oc-R12KPBODL2B5ZD</td>\n      <td>B007OSBEV0</td>\n      <td>Christopher P. Presta</td>\n      <td>1348617600</td>\n      <td>1</td>\n      <td>I didnt like this coffee. Instead of telling y...</td>\n      <td>2</td>\n    </tr>\n  </tbody>\n</table>\n</div>"
          },
          "metadata": {}
        }
      ]
    },
    {
      "metadata": {
        "colab": {
          "base_uri": "https://localhost:8080/",
          "height": 113
        },
        "colab_type": "code",
        "id": "u5ctUTW-CAZK",
        "outputId": "59baba7c-3b95-496b-95ad-044c24e85d72",
        "trusted": true,
        "_uuid": "883b6ea3c883de30b8e13ad9d3bdcb8c42f68746"
      },
      "cell_type": "code",
      "source": "display[display['UserId']=='AZY10LLTJ71NX']",
      "execution_count": 5,
      "outputs": [
        {
          "output_type": "execute_result",
          "execution_count": 5,
          "data": {
            "text/plain": "              UserId   ...    COUNT(*)\n80638  AZY10LLTJ71NX   ...           5\n\n[1 rows x 7 columns]",
            "text/html": "<div>\n<style scoped>\n    .dataframe tbody tr th:only-of-type {\n        vertical-align: middle;\n    }\n\n    .dataframe tbody tr th {\n        vertical-align: top;\n    }\n\n    .dataframe thead th {\n        text-align: right;\n    }\n</style>\n<table border=\"1\" class=\"dataframe\">\n  <thead>\n    <tr style=\"text-align: right;\">\n      <th></th>\n      <th>UserId</th>\n      <th>ProductId</th>\n      <th>ProfileName</th>\n      <th>Time</th>\n      <th>Score</th>\n      <th>Text</th>\n      <th>COUNT(*)</th>\n    </tr>\n  </thead>\n  <tbody>\n    <tr>\n      <th>80638</th>\n      <td>AZY10LLTJ71NX</td>\n      <td>B001ATMQK2</td>\n      <td>undertheshrine \"undertheshrine\"</td>\n      <td>1296691200</td>\n      <td>5</td>\n      <td>I bought this 6 pack because for the price tha...</td>\n      <td>5</td>\n    </tr>\n  </tbody>\n</table>\n</div>"
          },
          "metadata": {}
        }
      ]
    },
    {
      "metadata": {
        "colab": {
          "base_uri": "https://localhost:8080/",
          "height": 35
        },
        "colab_type": "code",
        "id": "tiaXnkZxCAZO",
        "outputId": "115127db-0fcf-4fd6-a70b-ebd24b5ec2ab",
        "trusted": true,
        "_uuid": "f8b3df09853c198dda850db31511300c9a020857"
      },
      "cell_type": "code",
      "source": "display['COUNT(*)'].sum()",
      "execution_count": 6,
      "outputs": [
        {
          "output_type": "execute_result",
          "execution_count": 6,
          "data": {
            "text/plain": "393063"
          },
          "metadata": {}
        }
      ]
    },
    {
      "metadata": {
        "colab_type": "text",
        "id": "TX5b3dc5CAZS",
        "_uuid": "c874d1d236bc288a9aa1b4a1aae5332cc1d038c3"
      },
      "cell_type": "markdown",
      "source": "#  Exploratory Data Analysis\n\n## [2] Data Cleaning: Deduplication\n\nIt is observed (as shown in the table below) that the reviews data had many duplicate entries. Hence it was necessary to remove duplicates in order to get unbiased results for the analysis of the data.  Following is an example:"
    },
    {
      "metadata": {
        "colab": {
          "base_uri": "https://localhost:8080/",
          "height": 564
        },
        "colab_type": "code",
        "id": "4jW_0WxCCAZT",
        "outputId": "eebc000e-0c8e-4144-a272-d2d22361cd69",
        "scrolled": false,
        "trusted": true,
        "_uuid": "396da80085380cf96db5cfdc9fe926f6271c113f"
      },
      "cell_type": "code",
      "source": "display= pd.read_sql_query(\"\"\"\nSELECT *\nFROM Reviews\nWHERE Score != 3 AND UserId=\"AR5J8UI46CURR\"\nORDER BY ProductID\n\"\"\", con)\ndisplay.head()",
      "execution_count": 7,
      "outputs": [
        {
          "output_type": "execute_result",
          "execution_count": 7,
          "data": {
            "text/plain": "       Id                        ...                                                                       Text\n0   78445                        ...                          DELICIOUS WAFERS. I FIND THAT EUROPEAN WAFERS ...\n1  138317                        ...                          DELICIOUS WAFERS. I FIND THAT EUROPEAN WAFERS ...\n2  138277                        ...                          DELICIOUS WAFERS. I FIND THAT EUROPEAN WAFERS ...\n3   73791                        ...                          DELICIOUS WAFERS. I FIND THAT EUROPEAN WAFERS ...\n4  155049                        ...                          DELICIOUS WAFERS. I FIND THAT EUROPEAN WAFERS ...\n\n[5 rows x 10 columns]",
            "text/html": "<div>\n<style scoped>\n    .dataframe tbody tr th:only-of-type {\n        vertical-align: middle;\n    }\n\n    .dataframe tbody tr th {\n        vertical-align: top;\n    }\n\n    .dataframe thead th {\n        text-align: right;\n    }\n</style>\n<table border=\"1\" class=\"dataframe\">\n  <thead>\n    <tr style=\"text-align: right;\">\n      <th></th>\n      <th>Id</th>\n      <th>ProductId</th>\n      <th>UserId</th>\n      <th>ProfileName</th>\n      <th>HelpfulnessNumerator</th>\n      <th>HelpfulnessDenominator</th>\n      <th>Score</th>\n      <th>Time</th>\n      <th>Summary</th>\n      <th>Text</th>\n    </tr>\n  </thead>\n  <tbody>\n    <tr>\n      <th>0</th>\n      <td>78445</td>\n      <td>B000HDL1RQ</td>\n      <td>AR5J8UI46CURR</td>\n      <td>Geetha Krishnan</td>\n      <td>2</td>\n      <td>2</td>\n      <td>5</td>\n      <td>1199577600</td>\n      <td>LOACKER QUADRATINI VANILLA WAFERS</td>\n      <td>DELICIOUS WAFERS. I FIND THAT EUROPEAN WAFERS ...</td>\n    </tr>\n    <tr>\n      <th>1</th>\n      <td>138317</td>\n      <td>B000HDOPYC</td>\n      <td>AR5J8UI46CURR</td>\n      <td>Geetha Krishnan</td>\n      <td>2</td>\n      <td>2</td>\n      <td>5</td>\n      <td>1199577600</td>\n      <td>LOACKER QUADRATINI VANILLA WAFERS</td>\n      <td>DELICIOUS WAFERS. I FIND THAT EUROPEAN WAFERS ...</td>\n    </tr>\n    <tr>\n      <th>2</th>\n      <td>138277</td>\n      <td>B000HDOPYM</td>\n      <td>AR5J8UI46CURR</td>\n      <td>Geetha Krishnan</td>\n      <td>2</td>\n      <td>2</td>\n      <td>5</td>\n      <td>1199577600</td>\n      <td>LOACKER QUADRATINI VANILLA WAFERS</td>\n      <td>DELICIOUS WAFERS. I FIND THAT EUROPEAN WAFERS ...</td>\n    </tr>\n    <tr>\n      <th>3</th>\n      <td>73791</td>\n      <td>B000HDOPZG</td>\n      <td>AR5J8UI46CURR</td>\n      <td>Geetha Krishnan</td>\n      <td>2</td>\n      <td>2</td>\n      <td>5</td>\n      <td>1199577600</td>\n      <td>LOACKER QUADRATINI VANILLA WAFERS</td>\n      <td>DELICIOUS WAFERS. I FIND THAT EUROPEAN WAFERS ...</td>\n    </tr>\n    <tr>\n      <th>4</th>\n      <td>155049</td>\n      <td>B000PAQ75C</td>\n      <td>AR5J8UI46CURR</td>\n      <td>Geetha Krishnan</td>\n      <td>2</td>\n      <td>2</td>\n      <td>5</td>\n      <td>1199577600</td>\n      <td>LOACKER QUADRATINI VANILLA WAFERS</td>\n      <td>DELICIOUS WAFERS. I FIND THAT EUROPEAN WAFERS ...</td>\n    </tr>\n  </tbody>\n</table>\n</div>"
          },
          "metadata": {}
        }
      ]
    },
    {
      "metadata": {
        "colab_type": "text",
        "id": "BzVTlHiMCAZV",
        "_uuid": "b9f1e18f933fcbca70630443e225cd1013302cc6"
      },
      "cell_type": "markdown",
      "source": "As can be seen above the same user has multiple reviews of the with the same values for HelpfulnessNumerator, HelpfulnessDenominator, Score, Time, Summary and Text  and on doing analysis it was found that <br>\n<br> \nProductId=B000HDOPZG was Loacker Quadratini Vanilla Wafer Cookies, 8.82-Ounce Packages (Pack of 8)<br>\n<br> \nProductId=B000HDL1RQ was Loacker Quadratini Lemon Wafer Cookies, 8.82-Ounce Packages (Pack of 8) and so on<br>\n\nIt was inferred after analysis that reviews with same parameters other than ProductId belonged to the same product just having different flavour or quantity. Hence in order to reduce redundancy it was decided to eliminate the rows having same parameters.<br>\n\nThe method used for the same was that we first sort the data according to ProductId and then just keep the first similar product review and delelte the others. for eg. in the above just the review for ProductId=B000HDL1RQ remains. This method ensures that there is only one representative for each product and deduplication without sorting would lead to possibility of different representatives still existing for the same product."
    },
    {
      "metadata": {
        "colab": {},
        "colab_type": "code",
        "id": "DGy2NM7BCAZX",
        "trusted": true,
        "_uuid": "3bd46ae26b20f23d10aa6f5ddfeb7c79c9b537b0"
      },
      "cell_type": "code",
      "source": "#Sorting data according to ProductId in ascending order\nsorted_data=filtered_data.sort_values('ProductId', axis=0, ascending=True, inplace=False, kind='quicksort', na_position='last')",
      "execution_count": 8,
      "outputs": []
    },
    {
      "metadata": {
        "colab": {
          "base_uri": "https://localhost:8080/",
          "height": 35
        },
        "colab_type": "code",
        "id": "8b-O13XVCAZZ",
        "outputId": "89f045d6-80d8-46bf-a3de-3f9462b7004d",
        "trusted": true,
        "_uuid": "bdc99b8b7eafac7507e915ef1f47bd2800031cb9"
      },
      "cell_type": "code",
      "source": "#Deduplication of entries\nfinal=sorted_data.drop_duplicates(subset={\"UserId\",\"ProfileName\",\"Time\",\"Text\"}, keep='first', inplace=False)\nfinal.shape",
      "execution_count": 9,
      "outputs": [
        {
          "output_type": "execute_result",
          "execution_count": 9,
          "data": {
            "text/plain": "(4986, 10)"
          },
          "metadata": {}
        }
      ]
    },
    {
      "metadata": {
        "colab": {
          "base_uri": "https://localhost:8080/",
          "height": 35
        },
        "colab_type": "code",
        "id": "S72Yh-rHCAZc",
        "outputId": "17c279fb-1ff4-43ff-c999-0067c327139c",
        "trusted": true,
        "_uuid": "4da77ba8fb39315abe70e57a71300fbe93dd8888"
      },
      "cell_type": "code",
      "source": "#Checking to see how much % of data still remains\n(final['Id'].size*1.0)/(filtered_data['Id'].size*1.0)*100",
      "execution_count": 10,
      "outputs": [
        {
          "output_type": "execute_result",
          "execution_count": 10,
          "data": {
            "text/plain": "99.72"
          },
          "metadata": {}
        }
      ]
    },
    {
      "metadata": {
        "colab_type": "text",
        "id": "LO5nLKeFCAZf",
        "_uuid": "6364f6c674864e707ebb5925d90cbdd1a6308d38"
      },
      "cell_type": "markdown",
      "source": "<b>Observation:-</b> It was also seen that in two rows given below the value of HelpfulnessNumerator is greater than HelpfulnessDenominator which is not practically possible hence these two rows too are removed from calcualtions"
    },
    {
      "metadata": {
        "colab": {
          "base_uri": "https://localhost:8080/",
          "height": 335
        },
        "colab_type": "code",
        "id": "L9z5lrsiCAZh",
        "outputId": "de76e14b-ea06-48bf-976a-ef92ddff49e5",
        "trusted": true,
        "_uuid": "81d48bf017bee00ce597e878598ec47f93d78768"
      },
      "cell_type": "code",
      "source": "display= pd.read_sql_query(\"\"\"\nSELECT *\nFROM Reviews\nWHERE Score != 3 AND Id=44737 OR Id=64422\nORDER BY ProductID\n\"\"\", con)\n\ndisplay.head()",
      "execution_count": 11,
      "outputs": [
        {
          "output_type": "execute_result",
          "execution_count": 11,
          "data": {
            "text/plain": "      Id                        ...                                                                       Text\n0  64422                        ...                          My son loves spaghetti so I didn't hesitate or...\n1  44737                        ...                          It was almost a 'love at first bite' - the per...\n\n[2 rows x 10 columns]",
            "text/html": "<div>\n<style scoped>\n    .dataframe tbody tr th:only-of-type {\n        vertical-align: middle;\n    }\n\n    .dataframe tbody tr th {\n        vertical-align: top;\n    }\n\n    .dataframe thead th {\n        text-align: right;\n    }\n</style>\n<table border=\"1\" class=\"dataframe\">\n  <thead>\n    <tr style=\"text-align: right;\">\n      <th></th>\n      <th>Id</th>\n      <th>ProductId</th>\n      <th>UserId</th>\n      <th>ProfileName</th>\n      <th>HelpfulnessNumerator</th>\n      <th>HelpfulnessDenominator</th>\n      <th>Score</th>\n      <th>Time</th>\n      <th>Summary</th>\n      <th>Text</th>\n    </tr>\n  </thead>\n  <tbody>\n    <tr>\n      <th>0</th>\n      <td>64422</td>\n      <td>B000MIDROQ</td>\n      <td>A161DK06JJMCYF</td>\n      <td>J. E. Stephens \"Jeanne\"</td>\n      <td>3</td>\n      <td>1</td>\n      <td>5</td>\n      <td>1224892800</td>\n      <td>Bought This for My Son at College</td>\n      <td>My son loves spaghetti so I didn't hesitate or...</td>\n    </tr>\n    <tr>\n      <th>1</th>\n      <td>44737</td>\n      <td>B001EQ55RW</td>\n      <td>A2V0I904FH7ABY</td>\n      <td>Ram</td>\n      <td>3</td>\n      <td>2</td>\n      <td>4</td>\n      <td>1212883200</td>\n      <td>Pure cocoa taste with crunchy almonds inside</td>\n      <td>It was almost a 'love at first bite' - the per...</td>\n    </tr>\n  </tbody>\n</table>\n</div>"
          },
          "metadata": {}
        }
      ]
    },
    {
      "metadata": {
        "colab": {},
        "colab_type": "code",
        "id": "8Tphk1piCAZk",
        "trusted": true,
        "_uuid": "e808e5d4488ae41c28be4e57976ff9f2bf6c5c78"
      },
      "cell_type": "code",
      "source": "final=final[final.HelpfulnessNumerator<=final.HelpfulnessDenominator]",
      "execution_count": 12,
      "outputs": []
    },
    {
      "metadata": {
        "colab": {
          "base_uri": "https://localhost:8080/",
          "height": 90
        },
        "colab_type": "code",
        "id": "8TpsGDdJCAZm",
        "outputId": "cb2d597a-c193-429a-facf-dda696e3ffb0",
        "trusted": true,
        "_uuid": "249f4a2781649b094755aeefe3ab79d28376d6e7"
      },
      "cell_type": "code",
      "source": "#Before starting the next phase of preprocessing lets see the number of entries left\nprint(final.shape)\n\n#How many positive and negative reviews are present in our dataset?\nfinal['Score'].value_counts()",
      "execution_count": 13,
      "outputs": [
        {
          "output_type": "stream",
          "text": "(4986, 10)\n",
          "name": "stdout"
        },
        {
          "output_type": "execute_result",
          "execution_count": 13,
          "data": {
            "text/plain": "1    4178\n0     808\nName: Score, dtype: int64"
          },
          "metadata": {}
        }
      ]
    },
    {
      "metadata": {
        "colab_type": "text",
        "id": "RxBsuBylCAZr",
        "_uuid": "3a313fd23a64f0c09fd9ad5116c99521bd15d320"
      },
      "cell_type": "markdown",
      "source": "# [3].  Text Preprocessing.\n\nNow that we have finished deduplication our data requires some preprocessing before we go on further with analysis and making the prediction model.\n\nHence in the Preprocessing phase we do the following in the order below:-\n\n1. Begin by removing the html tags\n2. Remove any punctuations or limited set of special characters like , or . or # etc.\n3. Check if the word is made up of english letters and is not alpha-numeric\n4. Check to see if the length of the word is greater than 2 (as it was researched that there is no adjective in 2-letters)\n5. Convert the word to lowercase\n6. Remove Stopwords\n7. Finally Snowball Stemming the word (it was obsereved to be better than Porter Stemming)<br>\n\nAfter which we collect the words used to describe positive and negative reviews"
    },
    {
      "metadata": {
        "colab": {
          "base_uri": "https://localhost:8080/",
          "height": 183
        },
        "colab_type": "code",
        "id": "laOGMFB7CAZt",
        "outputId": "5026b971-834e-4d0b-c1d8-9206c5360485",
        "trusted": true,
        "_uuid": "f79aaff24946e54f513dd35e587ab669ac143ffe"
      },
      "cell_type": "code",
      "source": "# printing some random reviews\nsent_0 = final['Text'].values[0]\nprint(sent_0)\nprint(\"=\"*50)\n\nsent_1000 = final['Text'].values[1000]\nprint(sent_1000)\nprint(\"=\"*50)\n\nsent_1500 = final['Text'].values[1500]\nprint(sent_1500)\nprint(\"=\"*50)\n\nsent_4900 = final['Text'].values[4900]\nprint(sent_4900)\nprint(\"=\"*50)",
      "execution_count": 14,
      "outputs": [
        {
          "output_type": "stream",
          "text": "Why is this $[...] when the same product is available for $[...] here?<br />http://www.amazon.com/VICTOR-FLY-MAGNET-BAIT-REFILL/dp/B00004RBDY<br /><br />The Victor M380 and M502 traps are unreal, of course -- total fly genocide. Pretty stinky, but only right nearby.\n==================================================\nI recently tried this flavor/brand and was surprised at how delicious these chips are.  The best thing was that there were a lot of \"brown\" chips in the bsg (my favorite), so I bought some more through amazon and shared with family and friends.  I am a little disappointed that there are not, so far, very many brown chips in these bags, but the flavor is still very good.  I like them better than the yogurt and green onion flavor because they do not seem to be as salty, and the onion flavor is better.  If you haven't eaten Kettle chips before, I recommend that you try a bag before buying bulk.  They are thicker and crunchier than Lays but just as fresh out of the bag.\n==================================================\nWow.  So far, two two-star reviews.  One obviously had no idea what they were ordering; the other wants crispy cookies.  Hey, I'm sorry; but these reviews do nobody any good beyond reminding us to look  before ordering.<br /><br />These are chocolate-oatmeal cookies.  If you don't like that combination, don't order this type of cookie.  I find the combo quite nice, really.  The oatmeal sort of \"calms\" the rich chocolate flavor and gives the cookie sort of a coconut-type consistency.  Now let's also remember that tastes differ; so, I've given my opinion.<br /><br />Then, these are soft, chewy cookies -- as advertised.  They are not \"crispy\" cookies, or the blurb would say \"crispy,\" rather than \"chewy.\"  I happen to like raw cookie dough; however, I don't see where these taste like raw cookie dough.  Both are soft, however, so is this the confusion?  And, yes, they stick together.  Soft cookies tend to do that.  They aren't individually wrapped, which would add to the cost.  Oh yeah, chocolate chip cookies tend to be somewhat sweet.<br /><br />So, if you want something hard and crisp, I suggest Nabiso's Ginger Snaps.  If you want a cookie that's soft, chewy and tastes like a combination of chocolate and oatmeal, give these a try.  I'm here to place my second order.\n==================================================\nlove to order my coffee on amazon.  easy and shows up quickly.<br />This k cup is great coffee.  dcaf is very good as well\n==================================================\n",
          "name": "stdout"
        }
      ]
    },
    {
      "metadata": {
        "colab": {
          "base_uri": "https://localhost:8080/",
          "height": 55
        },
        "colab_type": "code",
        "id": "MvD0JaQ9CAZx",
        "outputId": "d1f67907-796c-4cba-e855-5e9668b0e790",
        "trusted": true,
        "_uuid": "042d70f991dcca312d7e29c72d61548463e1830f"
      },
      "cell_type": "code",
      "source": "# remove urls from text python: https://stackoverflow.com/a/40823105/4084039\nsent_0 = re.sub(r\"http\\S+\", \"\", sent_0)\nsent_1000 = re.sub(r\"http\\S+\", \"\", sent_1000)\nsent_150 = re.sub(r\"http\\S+\", \"\", sent_1500)\nsent_4900 = re.sub(r\"http\\S+\", \"\", sent_4900)\n\nprint(sent_0)",
      "execution_count": 15,
      "outputs": [
        {
          "output_type": "stream",
          "text": "Why is this $[...] when the same product is available for $[...] here?<br /> /><br />The Victor M380 and M502 traps are unreal, of course -- total fly genocide. Pretty stinky, but only right nearby.\n",
          "name": "stdout"
        }
      ]
    },
    {
      "metadata": {
        "colab": {
          "base_uri": "https://localhost:8080/",
          "height": 165
        },
        "colab_type": "code",
        "id": "Liu2zNFLCAZ0",
        "outputId": "09758805-3a5f-4582-cba8-b6b673d87c51",
        "trusted": true,
        "_uuid": "1d8a3042924dbe355eee5d379e9cd07603d81d3e"
      },
      "cell_type": "code",
      "source": "# https://stackoverflow.com/questions/16206380/python-beautifulsoup-how-to-remove-all-tags-from-an-element\nfrom bs4 import BeautifulSoup\n\nsoup = BeautifulSoup(sent_0, 'lxml')\ntext = soup.get_text()\nprint(text)\nprint(\"=\"*50)\n\nsoup = BeautifulSoup(sent_1000, 'lxml')\ntext = soup.get_text()\nprint(text)\nprint(\"=\"*50)\n\nsoup = BeautifulSoup(sent_1500, 'lxml')\ntext = soup.get_text()\nprint(text)\nprint(\"=\"*50)\n\nsoup = BeautifulSoup(sent_4900, 'lxml')\ntext = soup.get_text()\nprint(text)",
      "execution_count": 16,
      "outputs": [
        {
          "output_type": "stream",
          "text": "Why is this $[...] when the same product is available for $[...] here? />The Victor M380 and M502 traps are unreal, of course -- total fly genocide. Pretty stinky, but only right nearby.\n==================================================\nI recently tried this flavor/brand and was surprised at how delicious these chips are.  The best thing was that there were a lot of \"brown\" chips in the bsg (my favorite), so I bought some more through amazon and shared with family and friends.  I am a little disappointed that there are not, so far, very many brown chips in these bags, but the flavor is still very good.  I like them better than the yogurt and green onion flavor because they do not seem to be as salty, and the onion flavor is better.  If you haven't eaten Kettle chips before, I recommend that you try a bag before buying bulk.  They are thicker and crunchier than Lays but just as fresh out of the bag.\n==================================================\nWow.  So far, two two-star reviews.  One obviously had no idea what they were ordering; the other wants crispy cookies.  Hey, I'm sorry; but these reviews do nobody any good beyond reminding us to look  before ordering.These are chocolate-oatmeal cookies.  If you don't like that combination, don't order this type of cookie.  I find the combo quite nice, really.  The oatmeal sort of \"calms\" the rich chocolate flavor and gives the cookie sort of a coconut-type consistency.  Now let's also remember that tastes differ; so, I've given my opinion.Then, these are soft, chewy cookies -- as advertised.  They are not \"crispy\" cookies, or the blurb would say \"crispy,\" rather than \"chewy.\"  I happen to like raw cookie dough; however, I don't see where these taste like raw cookie dough.  Both are soft, however, so is this the confusion?  And, yes, they stick together.  Soft cookies tend to do that.  They aren't individually wrapped, which would add to the cost.  Oh yeah, chocolate chip cookies tend to be somewhat sweet.So, if you want something hard and crisp, I suggest Nabiso's Ginger Snaps.  If you want a cookie that's soft, chewy and tastes like a combination of chocolate and oatmeal, give these a try.  I'm here to place my second order.\n==================================================\nlove to order my coffee on amazon.  easy and shows up quickly.This k cup is great coffee.  dcaf is very good as well\n",
          "name": "stdout"
        }
      ]
    },
    {
      "metadata": {
        "colab": {},
        "colab_type": "code",
        "id": "lNHWbzBaCAZ3",
        "trusted": true,
        "_uuid": "71e8c4e030ed83f58ad1d0d99f96b89713f0552f"
      },
      "cell_type": "code",
      "source": "# https://stackoverflow.com/a/47091490/4084039\nimport re\n\ndef decontracted(phrase):\n    # specific\n    phrase = re.sub(r\"won't\", \"will not\", phrase)\n    phrase = re.sub(r\"can\\'t\", \"can not\", phrase)\n\n    # general\n    phrase = re.sub(r\"n\\'t\", \" not\", phrase)\n    phrase = re.sub(r\"\\'re\", \" are\", phrase)\n    phrase = re.sub(r\"\\'s\", \" is\", phrase)\n    phrase = re.sub(r\"\\'d\", \" would\", phrase)\n    phrase = re.sub(r\"\\'ll\", \" will\", phrase)\n    phrase = re.sub(r\"\\'t\", \" not\", phrase)\n    phrase = re.sub(r\"\\'ve\", \" have\", phrase)\n    phrase = re.sub(r\"\\'m\", \" am\", phrase)\n    return phrase",
      "execution_count": 17,
      "outputs": []
    },
    {
      "metadata": {
        "colab": {
          "base_uri": "https://localhost:8080/",
          "height": 74
        },
        "colab_type": "code",
        "id": "y7v1fmngCAZ5",
        "outputId": "1c144e4e-5057-453a-e87d-cee90dd0aef9",
        "trusted": true,
        "_uuid": "8ae0b3b57623524efb24d13de7d349740e57882c"
      },
      "cell_type": "code",
      "source": "sent_1500 = decontracted(sent_1500)\nprint(sent_1500)\nprint(\"=\"*50)",
      "execution_count": 18,
      "outputs": [
        {
          "output_type": "stream",
          "text": "Wow.  So far, two two-star reviews.  One obviously had no idea what they were ordering; the other wants crispy cookies.  Hey, I am sorry; but these reviews do nobody any good beyond reminding us to look  before ordering.<br /><br />These are chocolate-oatmeal cookies.  If you do not like that combination, do not order this type of cookie.  I find the combo quite nice, really.  The oatmeal sort of \"calms\" the rich chocolate flavor and gives the cookie sort of a coconut-type consistency.  Now let is also remember that tastes differ; so, I have given my opinion.<br /><br />Then, these are soft, chewy cookies -- as advertised.  They are not \"crispy\" cookies, or the blurb would say \"crispy,\" rather than \"chewy.\"  I happen to like raw cookie dough; however, I do not see where these taste like raw cookie dough.  Both are soft, however, so is this the confusion?  And, yes, they stick together.  Soft cookies tend to do that.  They are not individually wrapped, which would add to the cost.  Oh yeah, chocolate chip cookies tend to be somewhat sweet.<br /><br />So, if you want something hard and crisp, I suggest Nabiso is Ginger Snaps.  If you want a cookie that is soft, chewy and tastes like a combination of chocolate and oatmeal, give these a try.  I am here to place my second order.\n==================================================\n",
          "name": "stdout"
        }
      ]
    },
    {
      "metadata": {
        "colab": {
          "base_uri": "https://localhost:8080/",
          "height": 55
        },
        "colab_type": "code",
        "id": "jKIBLrAjCAZ7",
        "outputId": "522c781a-c5ae-4aa0-b0d7-6b899911874d",
        "trusted": true,
        "_uuid": "4cfab141867ae4cf06c3ae82314c43cd601de5ad"
      },
      "cell_type": "code",
      "source": "#remove words with numbers python: https://stackoverflow.com/a/18082370/4084039\nsent_0 = re.sub(\"\\S*\\d\\S*\", \"\", sent_0).strip()\nprint(sent_0)\n",
      "execution_count": 19,
      "outputs": [
        {
          "output_type": "stream",
          "text": "Why is this $[...] when the same product is available for $[...] here?<br /> /><br />The Victor  and  traps are unreal, of course -- total fly genocide. Pretty stinky, but only right nearby.\n",
          "name": "stdout"
        }
      ]
    },
    {
      "metadata": {
        "colab": {
          "base_uri": "https://localhost:8080/",
          "height": 55
        },
        "colab_type": "code",
        "id": "sU3eY6geCAZ9",
        "outputId": "3d0d4ba7-2178-4831-cb18-395086457b59",
        "trusted": true,
        "_uuid": "2596206009aee77e919a0abd1ed3eb123a456964"
      },
      "cell_type": "code",
      "source": "#remove spacial character: https://stackoverflow.com/a/5843547/4084039\nsent_1500 = re.sub('[^A-Za-z0-9]+', ' ', sent_1500)\nprint(sent_1500)",
      "execution_count": 20,
      "outputs": [
        {
          "output_type": "stream",
          "text": "Wow So far two two star reviews One obviously had no idea what they were ordering the other wants crispy cookies Hey I am sorry but these reviews do nobody any good beyond reminding us to look before ordering br br These are chocolate oatmeal cookies If you do not like that combination do not order this type of cookie I find the combo quite nice really The oatmeal sort of calms the rich chocolate flavor and gives the cookie sort of a coconut type consistency Now let is also remember that tastes differ so I have given my opinion br br Then these are soft chewy cookies as advertised They are not crispy cookies or the blurb would say crispy rather than chewy I happen to like raw cookie dough however I do not see where these taste like raw cookie dough Both are soft however so is this the confusion And yes they stick together Soft cookies tend to do that They are not individually wrapped which would add to the cost Oh yeah chocolate chip cookies tend to be somewhat sweet br br So if you want something hard and crisp I suggest Nabiso is Ginger Snaps If you want a cookie that is soft chewy and tastes like a combination of chocolate and oatmeal give these a try I am here to place my second order \n",
          "name": "stdout"
        }
      ]
    },
    {
      "metadata": {
        "colab": {},
        "colab_type": "code",
        "id": "Xsr4xHkJCAaA",
        "trusted": true,
        "_uuid": "f0a3e68be7c1956cc4947fbf779098f1e9271106"
      },
      "cell_type": "code",
      "source": "# https://gist.github.com/sebleier/554280\n# we are removing the words from the stop words list: 'no', 'nor', 'not'\n# <br /><br /> ==> after the above steps, we are getting \"br br\"\n# we are including them into stop words list\n# instead of <br /> if we have <br/> these tags would have revmoved in the 1st step\n\nstopwords= set(['br', 'the', 'i', 'me', 'my', 'myself', 'we', 'our', 'ours', 'ourselves', 'you', \"you're\", \"you've\",\\\n            \"you'll\", \"you'd\", 'your', 'yours', 'yourself', 'yourselves', 'he', 'him', 'his', 'himself', \\\n            'she', \"she's\", 'her', 'hers', 'herself', 'it', \"it's\", 'its', 'itself', 'they', 'them', 'their',\\\n            'theirs', 'themselves', 'what', 'which', 'who', 'whom', 'this', 'that', \"that'll\", 'these', 'those', \\\n            'am', 'is', 'are', 'was', 'were', 'be', 'been', 'being', 'have', 'has', 'had', 'having', 'do', 'does', \\\n            'did', 'doing', 'a', 'an', 'the', 'and', 'but', 'if', 'or', 'because', 'as', 'until', 'while', 'of', \\\n            'at', 'by', 'for', 'with', 'about', 'against', 'between', 'into', 'through', 'during', 'before', 'after',\\\n            'above', 'below', 'to', 'from', 'up', 'down', 'in', 'out', 'on', 'off', 'over', 'under', 'again', 'further',\\\n            'then', 'once', 'here', 'there', 'when', 'where', 'why', 'how', 'all', 'any', 'both', 'each', 'few', 'more',\\\n            'most', 'other', 'some', 'such', 'only', 'own', 'same', 'so', 'than', 'too', 'very', \\\n            's', 't', 'can', 'will', 'just', 'don', \"don't\", 'should', \"should've\", 'now', 'd', 'll', 'm', 'o', 're', \\\n            've', 'y', 'ain', 'aren', \"aren't\", 'couldn', \"couldn't\", 'didn', \"didn't\", 'doesn', \"doesn't\", 'hadn',\\\n            \"hadn't\", 'hasn', \"hasn't\", 'haven', \"haven't\", 'isn', \"isn't\", 'ma', 'mightn', \"mightn't\", 'mustn',\\\n            \"mustn't\", 'needn', \"needn't\", 'shan', \"shan't\", 'shouldn', \"shouldn't\", 'wasn', \"wasn't\", 'weren', \"weren't\", \\\n            'won', \"won't\", 'wouldn', \"wouldn't\"])",
      "execution_count": 21,
      "outputs": []
    },
    {
      "metadata": {
        "colab": {
          "base_uri": "https://localhost:8080/",
          "height": 35
        },
        "colab_type": "code",
        "id": "MgsJ09NpCAaB",
        "outputId": "f2cd574d-0d8b-4329-937b-ca142b05d517",
        "trusted": true,
        "_uuid": "34e3cec9c60c974de48805e6c6e8988ded6a9cd8"
      },
      "cell_type": "code",
      "source": "# Combining all the above stundents \nfrom tqdm import tqdm\npreprocessed_reviews = []\n# tqdm is for printing the status bar\nfor sentance in tqdm(final['Text'].values):\n    sentance = re.sub(r\"http\\S+\", \"\", sentance)\n    sentance = BeautifulSoup(sentance, 'lxml').get_text()\n    sentance = decontracted(sentance)\n    sentance = re.sub(\"\\S*\\d\\S*\", \"\", sentance).strip()\n    sentance = re.sub('[^A-Za-z]+', ' ', sentance)\n    # https://gist.github.com/sebleier/554280\n    sentance = ' '.join(e.lower() for e in sentance.split() if e.lower() not in stopwords)\n    preprocessed_reviews.append(sentance.strip())",
      "execution_count": 22,
      "outputs": [
        {
          "output_type": "stream",
          "text": "100%|██████████| 4986/4986 [00:02<00:00, 2417.29it/s]\n",
          "name": "stderr"
        }
      ]
    },
    {
      "metadata": {
        "colab": {
          "base_uri": "https://localhost:8080/",
          "height": 55
        },
        "colab_type": "code",
        "id": "f_zfwXXWCAaE",
        "outputId": "44091030-1df3-4ee9-dbfc-bd2ed9612c27",
        "trusted": true,
        "_uuid": "06a9fc069b65790a1a777b09e8dd1f74f79f57b1"
      },
      "cell_type": "code",
      "source": "preprocessed_reviews[1500]",
      "execution_count": 23,
      "outputs": [
        {
          "output_type": "execute_result",
          "execution_count": 23,
          "data": {
            "text/plain": "'wow far two two star reviews one obviously no idea ordering wants crispy cookies hey sorry reviews nobody good beyond reminding us look ordering chocolate oatmeal cookies not like combination not order type cookie find combo quite nice really oatmeal sort calms rich chocolate flavor gives cookie sort coconut type consistency let also remember tastes differ given opinion soft chewy cookies advertised not crispy cookies blurb would say crispy rather chewy happen like raw cookie dough however not see taste like raw cookie dough soft however confusion yes stick together soft cookies tend not individually wrapped would add cost oh yeah chocolate chip cookies tend somewhat sweet want something hard crisp suggest nabiso ginger snaps want cookie soft chewy tastes like combination chocolate oatmeal give try place second order'"
          },
          "metadata": {}
        }
      ]
    },
    {
      "metadata": {
        "colab_type": "text",
        "id": "tmeU-LoVCAaI",
        "_uuid": "a2882b0ed9d2503c667709b1a2f59e005a7c8929"
      },
      "cell_type": "markdown",
      "source": "<h2><font color='red'>[3.2] Preprocess Summary</font></h2>"
    },
    {
      "metadata": {
        "colab": {
          "base_uri": "https://localhost:8080/",
          "height": 35
        },
        "colab_type": "code",
        "id": "wtJ2hcy9CAaI",
        "outputId": "1bf2629b-f1e8-4808-8160-3ea373799bb9",
        "trusted": true,
        "_uuid": "d00eca99e784907094973c2ecac3e3963b4e3dfd"
      },
      "cell_type": "code",
      "source": "# Preprocessing for summary of the review\nsummary_preprocessed_reviews = []\n\nfor sentence in tqdm(final['Summary'].values):\n    sentence = re.sub(r\"http\\S+\",\"\",sentence)\n    sentence = BeautifulSoup(sentence, 'lxml').get_text()\n    sentence = decontracted(sentence)\n    sentence = re.sub(\"\\S*\\d\\S*\",\"\",sentence).strip()\n    sentence = re.sub('[^A-Za-z]+',' ',sentence)\n    sentence = ' '.join(e.lower() for e in sentence.split() if e.lower() not in stopwords)\n    summary_preprocessed_reviews.append(sentence.strip())",
      "execution_count": 24,
      "outputs": [
        {
          "output_type": "stream",
          "text": "100%|██████████| 4986/4986 [00:01<00:00, 3445.28it/s]\n",
          "name": "stderr"
        }
      ]
    },
    {
      "metadata": {
        "colab_type": "text",
        "id": "ytBZVEs2CAaL",
        "_uuid": "4c2858a1bcaaedbf9d996b03ad49024d1a9fcd4a"
      },
      "cell_type": "markdown",
      "source": "# [4] Featurization"
    },
    {
      "metadata": {
        "colab_type": "text",
        "id": "9amw6tMZCAaL",
        "_uuid": "80554f715fbe062719807040815097f3d608fe89"
      },
      "cell_type": "markdown",
      "source": "## [4.1] BAG OF WORDS"
    },
    {
      "metadata": {
        "colab": {
          "base_uri": "https://localhost:8080/",
          "height": 128
        },
        "colab_type": "code",
        "id": "3hasoJ-_CAaN",
        "outputId": "a769e8db-7b1f-4d67-d731-a2b023891574",
        "trusted": true,
        "_uuid": "54c68f7901d7ba23276f58286ca038014619002e"
      },
      "cell_type": "code",
      "source": "#BoW\ncount_vect = CountVectorizer() #in scikit-learn\ncount_vect.fit(preprocessed_reviews)\nprint(\"some feature names \", count_vect.get_feature_names()[:10])\nprint('='*50)\n\nfinal_counts = count_vect.transform(preprocessed_reviews)\nprint(\"the type of count vectorizer \",type(final_counts))\nprint(\"the shape of out text BOW vectorizer \",final_counts.get_shape())\nprint(\"the number of unique words \", final_counts.get_shape()[1])",
      "execution_count": 25,
      "outputs": [
        {
          "output_type": "stream",
          "text": "some feature names  ['aa', 'aahhhs', 'aback', 'abandon', 'abates', 'abbott', 'abby', 'abdominal', 'abiding', 'ability']\n==================================================\nthe type of count vectorizer  <class 'scipy.sparse.csr.csr_matrix'>\nthe shape of out text BOW vectorizer  (4986, 12997)\nthe number of unique words  12997\n",
          "name": "stdout"
        }
      ]
    },
    {
      "metadata": {
        "colab_type": "text",
        "id": "1dhfJZ7ZCAaR",
        "_uuid": "56ba8c0bf1114ac78a14efb8b815601a2a17d650"
      },
      "cell_type": "markdown",
      "source": "## [4.2] Bi-Grams and n-Grams."
    },
    {
      "metadata": {
        "colab": {
          "base_uri": "https://localhost:8080/",
          "height": 72
        },
        "colab_type": "code",
        "id": "u1Ma2LBfCAaR",
        "outputId": "e28f37f1-2d14-4d55-bc5c-2f477177695b",
        "trusted": true,
        "_uuid": "65cf1f99d4680c92076b5e848b2cdfff82a410af"
      },
      "cell_type": "code",
      "source": "#bi-gram, tri-gram and n-gram\n\n#removing stop words like \"not\" should be avoided before building n-grams\n# count_vect = CountVectorizer(ngram_range=(1,2))\n# please do read the CountVectorizer documentation http://scikit-learn.org/stable/modules/generated/sklearn.feature_extraction.text.CountVectorizer.html\n# you can choose these numebrs min_df=10, max_features=5000, of your choice\ncount_vect = CountVectorizer(ngram_range=(1,2), min_df=10, max_features=5000)\nfinal_bigram_counts = count_vect.fit_transform(preprocessed_reviews)\nprint(\"the type of count vectorizer \",type(final_bigram_counts))\nprint(\"the shape of out text BOW vectorizer \",final_bigram_counts.get_shape())\nprint(\"the number of unique words including both unigrams and bigrams \", final_bigram_counts.get_shape()[1])",
      "execution_count": 26,
      "outputs": [
        {
          "output_type": "stream",
          "text": "the type of count vectorizer  <class 'scipy.sparse.csr.csr_matrix'>\nthe shape of out text BOW vectorizer  (4986, 3144)\nthe number of unique words including both unigrams and bigrams  3144\n",
          "name": "stdout"
        }
      ]
    },
    {
      "metadata": {
        "colab_type": "text",
        "id": "F--Xk5fhCAaV",
        "_uuid": "c6d159dcbac95d74ac6185a11754944fd5e952a7"
      },
      "cell_type": "markdown",
      "source": "## [4.3] TF-IDF"
    },
    {
      "metadata": {
        "colab": {
          "base_uri": "https://localhost:8080/",
          "height": 128
        },
        "colab_type": "code",
        "id": "6heiZFZ-CAaW",
        "outputId": "3fb66d43-18be-4999-aa4b-bfe767671035",
        "trusted": true,
        "_uuid": "8673dfb6717d1e03cf9fff5310ba732a5b06434d"
      },
      "cell_type": "code",
      "source": "tf_idf_vect = TfidfVectorizer(ngram_range=(1,2), min_df=10)\ntf_idf_vect.fit(preprocessed_reviews)\nprint(\"some sample features(unique words in the corpus)\",tf_idf_vect.get_feature_names()[0:10])\nprint('='*50)\n\nfinal_tf_idf = tf_idf_vect.transform(preprocessed_reviews)\nprint(\"the type of count vectorizer \",type(final_tf_idf))\nprint(\"the shape of out text TFIDF vectorizer \",final_tf_idf.get_shape())\nprint(\"the number of unique words including both unigrams and bigrams \", final_tf_idf.get_shape()[1])",
      "execution_count": 27,
      "outputs": [
        {
          "output_type": "stream",
          "text": "some sample features(unique words in the corpus) ['ability', 'able', 'able find', 'able get', 'absolute', 'absolutely', 'absolutely delicious', 'absolutely love', 'absolutely no', 'according']\n==================================================\nthe type of count vectorizer  <class 'scipy.sparse.csr.csr_matrix'>\nthe shape of out text TFIDF vectorizer  (4986, 3144)\nthe number of unique words including both unigrams and bigrams  3144\n",
          "name": "stdout"
        }
      ]
    },
    {
      "metadata": {
        "colab_type": "text",
        "id": "XnzP-eZdCAaa",
        "_uuid": "bf3ca0bd89c15deb7ac344f1bb99b5632fffd4f6"
      },
      "cell_type": "markdown",
      "source": "## [4.4] Word2Vec"
    },
    {
      "metadata": {
        "colab": {
          "base_uri": "https://localhost:8080/",
          "height": 92
        },
        "colab_type": "code",
        "id": "e-IuUZsTCAaa",
        "outputId": "3561b80a-4e27-4b00-c438-da17a6936615",
        "trusted": true,
        "_uuid": "6b7defe031d63b6055a10f99c4c36e899c3be1e9"
      },
      "cell_type": "code",
      "source": "# Train your own Word2Vec model using your own text corpus\nimport gensim\n\ni=0\nlist_of_sentance=[]\nfor sentance in preprocessed_reviews:\n    list_of_sentance.append(sentance.split())\n\nw2v_model=gensim.models.Word2Vec(list_of_sentance,min_count= 5,size=50, workers=4)\nprint(w2v_model.wv.most_similar('great'))\nprint(w2v_model.wv.most_similar('worst'))",
      "execution_count": 28,
      "outputs": [
        {
          "output_type": "stream",
          "text": "[('excellent', 0.993863582611084), ('especially', 0.9926856160163879), ('wonderful', 0.9925826787948608), ('think', 0.9923037886619568), ('alternative', 0.9920820593833923), ('alot', 0.9920673370361328), ('regular', 0.9920228719711304), ('value', 0.9918762445449829), ('overall', 0.9918214082717896), ('looking', 0.991790771484375)]\n[('popcorn', 0.9993647933006287), ('varieties', 0.9993205070495605), ('glass', 0.9992308020591736), ('crisps', 0.9992293119430542), ('simply', 0.9992263317108154), ('soda', 0.9992213845252991), ('clean', 0.9992068409919739), ('awful', 0.999196469783783), ('gourmet', 0.9991833567619324), ('cherry', 0.9991825819015503)]\n",
          "name": "stdout"
        }
      ]
    },
    {
      "metadata": {
        "colab": {},
        "colab_type": "code",
        "id": "GIbKBSkRCAac",
        "scrolled": true,
        "trusted": true,
        "_uuid": "64bb9ae2a0b24b513a659bcf75c2244c59202adb"
      },
      "cell_type": "code",
      "source": "# Using Google News Word2Vectors\n\n# in this project we are using a pretrained model by google\n# its 3.3G file, once you load this into your memory \n# it occupies ~9Gb, so please do this step only if you have >12G of ram\n# we will provide a pickle file wich contains a dict , \n# and it contains all our courpus words as keys and  model[word] as values\n# To use this code-snippet, download \"GoogleNews-vectors-negative300.bin\" \n# from https://drive.google.com/file/d/0B7XkCwpI5KDYNlNUTTlSS21pQmM/edit\n# it's 1.9GB in size.\n\n\n# http://kavita-ganesan.com/gensim-word2vec-tutorial-starter-code/#.W17SRFAzZPY\n# you can comment this whole cell\n# or change these varible according to your need\n\nis_your_ram_gt_16g=False\nwant_to_use_google_w2v = False\nwant_to_train_w2v = False\n\nif want_to_train_w2v:\n    # min_count = 5 considers only words that occured atleast 5 times\n    w2v_model=Word2Vec(list_of_sentance,min_count=5,size=50, workers=4)\n    print(w2v_model.wv.most_similar('great'))\n    print('='*50)\n    print(w2v_model.wv.most_similar('worst'))\n    \nelif want_to_use_google_w2v and is_your_ram_gt_16g:\n    if os.path.isfile('GoogleNews-vectors-negative300.bin'):\n        w2v_model=KeyedVectors.load_word2vec_format('GoogleNews-vectors-negative300.bin', binary=True)\n        print(w2v_model.wv.most_similar('great'))\n        print(w2v_model.wv.most_similar('worst'))\n    else:\n        print(\"you don't have gogole's word2vec file, keep want_to_train_w2v = True, to train your own w2v \")",
      "execution_count": 29,
      "outputs": []
    },
    {
      "metadata": {
        "colab": {
          "base_uri": "https://localhost:8080/",
          "height": 74
        },
        "colab_type": "code",
        "id": "JEJGArtUCAae",
        "outputId": "12485c04-58f7-40e4-aafe-58d208372397",
        "trusted": true,
        "_uuid": "21246b4a944a01d269f6397d9e7e3eea76dfc014"
      },
      "cell_type": "code",
      "source": "w2v_words = list(w2v_model.wv.vocab)\nprint(\"number of words that occured minimum 5 times \",len(w2v_words))\nprint(\"sample words \", w2v_words[0:50])",
      "execution_count": 30,
      "outputs": [
        {
          "output_type": "stream",
          "text": "number of words that occured minimum 5 times  3817\nsample words  ['product', 'available', 'course', 'total', 'pretty', 'stinky', 'right', 'nearby', 'used', 'ca', 'not', 'beat', 'great', 'received', 'shipment', 'could', 'hardly', 'wait', 'try', 'love', 'call', 'instead', 'removed', 'easily', 'daughter', 'designed', 'printed', 'use', 'car', 'windows', 'beautifully', 'shop', 'program', 'going', 'lot', 'fun', 'everywhere', 'like', 'tv', 'computer', 'really', 'good', 'idea', 'final', 'outstanding', 'window', 'everybody', 'asks', 'bought', 'made']\n",
          "name": "stdout"
        }
      ]
    },
    {
      "metadata": {
        "colab_type": "text",
        "id": "EPjGCg7UCAag",
        "_uuid": "716755585066d989bfa22c1b2479438b4c74da44"
      },
      "cell_type": "markdown",
      "source": "## [4.4.1] Converting text into vectors using wAvg W2V, TFIDF-W2V"
    },
    {
      "metadata": {
        "colab_type": "text",
        "id": "oPxfYXhMCAag",
        "_uuid": "4dc46936c5f60ba06ba25b34df2521121f166dd1"
      },
      "cell_type": "markdown",
      "source": "#### [4.4.1.1] Avg W2v"
    },
    {
      "metadata": {
        "colab": {
          "base_uri": "https://localhost:8080/",
          "height": 72
        },
        "colab_type": "code",
        "id": "sB4Y18rQCAag",
        "outputId": "a0f48d42-cdfb-40f2-af56-a503d1ed184f",
        "trusted": true,
        "_uuid": "651c2fc99f431822ee81566e8e79b1233fccd3ce"
      },
      "cell_type": "code",
      "source": "# average Word2Vec\n# compute average word2vec for each review.\nsent_vectors = []; # the avg-w2v for each sentence/review is stored in this list\nfor sent in tqdm(list_of_sentance): # for each review/sentence\n    sent_vec = np.zeros(50) # as word vectors are of zero length 50, you might need to change this to 300 if you use google's w2v\n    cnt_words =0; # num of words with a valid vector in the sentence/review\n    for word in sent: # for each word in a review/sentence\n        if word in w2v_words:\n            vec = w2v_model.wv[word]\n            sent_vec += vec\n            cnt_words += 1\n    if cnt_words != 0:\n        sent_vec /= cnt_words\n    sent_vectors.append(sent_vec)\nprint(len(sent_vectors))\nprint(len(sent_vectors[0]))",
      "execution_count": 31,
      "outputs": [
        {
          "output_type": "stream",
          "text": "100%|██████████| 4986/4986 [00:06<00:00, 719.21it/s]",
          "name": "stderr"
        },
        {
          "output_type": "stream",
          "text": "4986\n50\n",
          "name": "stdout"
        },
        {
          "output_type": "stream",
          "text": "\n",
          "name": "stderr"
        }
      ]
    },
    {
      "metadata": {
        "colab_type": "text",
        "id": "sKAEsZZLCAam",
        "_uuid": "22dd168790d9fe29f143c6fef5ffa68e03c44d88"
      },
      "cell_type": "markdown",
      "source": "#### [4.4.1.2] TFIDF weighted W2v"
    },
    {
      "metadata": {
        "colab": {},
        "colab_type": "code",
        "id": "pAVTG3brCAao",
        "trusted": true,
        "_uuid": "b0767ecf746f8ffb76d50bc3461a3f0fde5d398d"
      },
      "cell_type": "code",
      "source": "# S = [\"abc def pqr\", \"def def def abc\", \"pqr pqr def\"]\nmodel = TfidfVectorizer()\nmodel.fit(preprocessed_reviews)\n# we are converting a dictionary with word as a key, and the idf as a value\ndictionary = dict(zip(model.get_feature_names(), list(model.idf_)))",
      "execution_count": 32,
      "outputs": []
    },
    {
      "metadata": {
        "colab": {
          "base_uri": "https://localhost:8080/",
          "height": 35
        },
        "colab_type": "code",
        "id": "Tyxhz3XQCAap",
        "outputId": "15fe7127-d1a6-41c0-bf69-d624b16fef9f",
        "scrolled": true,
        "trusted": true,
        "_uuid": "0781c752fa187de2cbded61fe45d230de2f58d2a"
      },
      "cell_type": "code",
      "source": "# TF-IDF weighted Word2Vec\ntfidf_feat = model.get_feature_names() # tfidf words/col-names\n# final_tf_idf is the sparse matrix with row= sentence, col=word and cell_val = tfidf\n\ntfidf_sent_vectors = []; # the tfidf-w2v for each sentence/review is stored in this list\nrow=0;\nfor sent in tqdm(list_of_sentance): # for each review/sentence \n    sent_vec = np.zeros(50) # as word vectors are of zero length\n    weight_sum =0; # num of words with a valid vector in the sentence/review\n    for word in sent: # for each word in a review/sentence\n        if word in w2v_words and word in tfidf_feat:\n            vec = w2v_model.wv[word]\n#             tf_idf = tf_idf_matrix[row, tfidf_feat.index(word)]\n            # to reduce the computation we are \n            # dictionary[word] = idf value of word in whole courpus\n            # sent.count(word) = tf valeus of word in this review\n            tf_idf = dictionary[word]*(sent.count(word)/len(sent))\n            sent_vec += (vec * tf_idf)\n            weight_sum += tf_idf\n    if weight_sum != 0:\n        sent_vec /= weight_sum\n    tfidf_sent_vectors.append(sent_vec)\n    row += 1",
      "execution_count": 33,
      "outputs": [
        {
          "output_type": "stream",
          "text": "100%|██████████| 4986/4986 [00:38<00:00, 129.47it/s]\n",
          "name": "stderr"
        }
      ]
    },
    {
      "metadata": {
        "colab": {
          "base_uri": "https://localhost:8080/",
          "height": 54
        },
        "colab_type": "code",
        "id": "HhUbkbKYEHJI",
        "outputId": "01563763-121c-4603-8a56-2bd5ad5d90b1",
        "trusted": true,
        "_uuid": "343133f0f2d1186e48e42dac039cff03566ead07"
      },
      "cell_type": "code",
      "source": "print(len(sent_vectors))\nprint(len(sent_vectors[0]))",
      "execution_count": 34,
      "outputs": [
        {
          "output_type": "stream",
          "text": "4986\n50\n",
          "name": "stdout"
        }
      ]
    },
    {
      "metadata": {
        "colab_type": "text",
        "id": "IjMcxjHfCAas",
        "_uuid": "86479a66e81b8f07daa586baacee448574ec6602"
      },
      "cell_type": "markdown",
      "source": "# [5] Applying TSNE"
    },
    {
      "metadata": {
        "colab_type": "text",
        "id": "SPCsfz2fCAat",
        "_uuid": "98951715834f338d5273cb902e017189b0fb95f0"
      },
      "cell_type": "markdown",
      "source": "<ol> \n    <li> you need to plot 4 tsne plots with each of these feature set\n        <ol>\n            <li>Review text, preprocessed one converted into vectors using (BOW)</li>\n            <li>Review text, preprocessed one converted into vectors using (TFIDF)</li>\n            <li>Review text, preprocessed one converted into vectors using (AVG W2v)</li>\n            <li>Review text, preprocessed one converted into vectors using (TFIDF W2v)</li>\n        </ol>\n    </li>\n    <li> <font color='blue'>Note 1: The TSNE accepts only dense matrices</font></li>\n    <li> <font color='blue'>Note 2: Consider only 5k to 6k data points </font></li>\n</ol>"
    },
    {
      "metadata": {
        "colab": {
          "base_uri": "https://localhost:8080/",
          "height": 265
        },
        "colab_type": "code",
        "id": "Z379u6ElCAat",
        "outputId": "52b11491-6e3b-48de-cb13-0f7a64e3b0aa",
        "trusted": true,
        "_uuid": "ab746f0e079a2128d3eea52c6431c61aeda063c0"
      },
      "cell_type": "code",
      "source": "# https://github.com/pavlin-policar/fastTSNE you can try this also, this version is little faster than sklearn \nimport numpy as np\nfrom sklearn.manifold import TSNE\nfrom sklearn import datasets\nimport pandas as pd\nimport matplotlib.pyplot as plt\nimport warnings as wr\nwr.filterwarnings('ignore')\n\niris = datasets.load_iris()\nx = iris['data']\ny = iris['target']\n\ntsne = TSNE(n_components=2, perplexity=30, learning_rate=200)\n\nX_embedding = tsne.fit_transform(x)\n# if x is a sparse matrix you need to pass it as X_embedding = tsne.fit_transform(x.toarray()) , .toarray() will convert the sparse matrix into dense matrix\n\nfor_tsne = np.hstack((X_embedding, y.reshape(-1,1)))\nfor_tsne_df = pd.DataFrame(data=for_tsne, columns=['Dimension_x','Dimension_y','Score'])\ncolors = {0:'red', 1:'blue', 2:'green'}\nplt.scatter(for_tsne_df['Dimension_x'], for_tsne_df['Dimension_y'], c=for_tsne_df['Score'].apply(lambda x: colors[x]))\nplt.show()",
      "execution_count": 35,
      "outputs": [
        {
          "output_type": "display_data",
          "data": {
            "text/plain": "<Figure size 432x288 with 1 Axes>",
            "image/png": "[encoded data removed]"
          },
          "metadata": {}
        }
      ]
    },
    {
      "metadata": {
        "colab_type": "text",
        "id": "ejF91OEjCAaw",
        "_uuid": "c174f5ca98516cc96c51909d8e3d5baf900e92c3"
      },
      "cell_type": "markdown",
      "source": "## [5.1a] Applying TNSE on Text BOW(Unigram) vectors"
    },
    {
      "metadata": {
        "trusted": true,
        "_uuid": "be810b5d67a6401ce00298cb718f1f50f20d7320"
      },
      "cell_type": "code",
      "source": "import warnings as wr\nwr.filterwarnings('ignore')\nfrom sklearn.preprocessing import StandardScaler\n\n#Changing Score feature as positive and negative for 1 and 0 correspondingly for better understanding\nfinal['Score'].replace([1,0],['positive','negative'],inplace = True)",
      "execution_count": 36,
      "outputs": []
    },
    {
      "metadata": {
        "colab": {
          "base_uri": "https://localhost:8080/",
          "height": 441
        },
        "colab_type": "code",
        "id": "rnetKp45CAaw",
        "outputId": "895d445c-c6d9-4898-8da8-accc270b547d",
        "trusted": true,
        "_uuid": "5a1f429f5660932dcf212e4a4fd1b9660864f241"
      },
      "cell_type": "code",
      "source": "#Standarization of the Bow(Unigram) vector   \nUBow_standardized_data = StandardScaler().fit_transform(final_counts.toarray())\n\n# Create a TSNE model with perplexity=10.0 and  learning_rate=200.0,\nmodel = TSNE(n_components=2, random_state=0,perplexity=10.0, learning_rate=200.0,n_iter=5000)\ntsne_data = model.fit_transform(UBow_standardized_data)\n\ntsne_data = np.vstack((tsne_data.T , final['Score'])).T\ntsne_df = pd.DataFrame(data=tsne_data, columns=(\"Dim_1\", \"Dim_2\", \"Review\"))\n\n# # Ploting the result of tsne\nd = {'color': ['b', 'r']}\nsns.FacetGrid(tsne_df, hue_kws=d, hue='Review', size=6).map(plt.scatter, 'Dim_1', 'Dim_2').add_legend()\nplt.title(\"Tsne on BOW(Unigram) vectors\",fontsize=20)\nplt.show()",
      "execution_count": null,
      "outputs": []
    },
    {
      "metadata": {
        "_uuid": "4d73fa09abd15f81235dbe647fddcf8265b7da16"
      },
      "cell_type": "markdown",
      "source": " # Observation"
    },
    {
      "metadata": {
        "_uuid": "9f0f14bfc6f7e6759008acbd0f74364315c3df7a"
      },
      "cell_type": "markdown",
      "source": "->  This graph is plotted with perplexity 10 and learning rate 200.\n\n->  But still data is not separated.even for different peplexity and learning rate data is not separable."
    },
    {
      "metadata": {
        "colab_type": "text",
        "id": "QS0bmrGNDGY1",
        "_uuid": "50f5b10ace2f86cc87012de76caaa82d24f2102a"
      },
      "cell_type": "markdown",
      "source": "## [5.1b] Applying TNSE on Text BOW(Bigrams) vectors"
    },
    {
      "metadata": {
        "colab": {},
        "colab_type": "code",
        "id": "XITls68BDQN8",
        "trusted": true,
        "_uuid": "e1bcee465456dd19b48564e48787b1ec2386aebf"
      },
      "cell_type": "code",
      "source": "#Standarization of the Bow(Bigram) vector  \nBBow_standardized_data = StandardScaler().fit_transform(final_bigram_counts.toarray())\n\n# Create a TSNE model with perplexity=10.0 and  learning_rate=200.0,\nmodel = TSNE(n_components=2, random_state=0,perplexity=10.0, learning_rate=200.0,n_iter=5000)\ntsne_data = model.fit_transform(BBow_standardized_data)\n\ntsne_data = np.vstack((tsne_data.T , final['Score'])).T\ntsne_df = pd.DataFrame(data=tsne_data, columns=(\"Dim_1\", \"Dim_2\", \"Review\"))\n\n# # Ploting the result of tsne\nd = {'color': ['b', 'r']}\nsns.FacetGrid(tsne_df, hue_kws=d, hue='Review', size=6).map(plt.scatter, 'Dim_1', 'Dim_2').add_legend()\nplt.title(\"Tsne on BOW(Bigram) vectors\",fontsize=20)\nplt.show()",
      "execution_count": null,
      "outputs": []
    },
    {
      "metadata": {
        "_uuid": "c7d6e16c7593d188bc8b663d0320d3db6ecde239"
      },
      "cell_type": "markdown",
      "source": "# Observation"
    },
    {
      "metadata": {
        "_uuid": "3b41d4afbab258988321d23a2c022a328a337ab4"
      },
      "cell_type": "markdown",
      "source": "->  This TSNE graph on Bigram is plotted with perplexity 10 and learning rate 200.\n\n->  But still data is not separated.even for different peplexity and learning rate data is not separable."
    },
    {
      "metadata": {
        "colab_type": "text",
        "id": "b_-boR2SCAay",
        "_uuid": "b544d1e03d74dbee6608ae7f5d6504265191278c"
      },
      "cell_type": "markdown",
      "source": "## [5.2] Applying TNSE on Text TFIDF vectors"
    },
    {
      "metadata": {
        "colab": {},
        "colab_type": "code",
        "id": "6eBTrer9CAay",
        "trusted": true,
        "_uuid": "9cf7debdba7e3039d86922cb11a4af1193bce44e"
      },
      "cell_type": "code",
      "source": "#Standarization of the Text TFIDF vector  \nTfIdf_standardized_data = StandardScaler().fit_transform(final_tf_idf.toarray())\n\n# Create a TSNE model with perplexity=10.0 and  learning_rate=200.0,\nmodel = TSNE(n_components=2, random_state=0,perplexity=10.0, learning_rate=200.0,n_iter=5000)\ntsne_data = model.fit_transform(TfIdf_standardized_data)\n\ntsne_data = np.vstack((tsne_data.T , final['Score'])).T\ntsne_df = pd.DataFrame(data=tsne_data, columns=(\"Dim_1\", \"Dim_2\", \"Review\"))\n\n# # Ploting the result of tsne\nd = {'color': ['b', 'r']}\nsns.FacetGrid(tsne_df, hue_kws=d, hue='Review', size=6).map(plt.scatter, 'Dim_1', 'Dim_2').add_legend()\nplt.title(\"Tsne on Text TFIDF vectors\",fontsize=20)\nplt.show()",
      "execution_count": null,
      "outputs": []
    },
    {
      "metadata": {
        "_uuid": "19d0f27aab0189de3a3c382480cebce44196b866"
      },
      "cell_type": "markdown",
      "source": "# Observation"
    },
    {
      "metadata": {
        "_uuid": "6411ee7ada49f1b61ab36a0455352a24e2276bfd"
      },
      "cell_type": "markdown",
      "source": "->"
    },
    {
      "metadata": {
        "colab_type": "text",
        "id": "zln2L0SUCAa0",
        "_uuid": "993bf2e5f285671547c1e48e9198d4ea2768295f"
      },
      "cell_type": "markdown",
      "source": "## [5.3] Applying TNSE on Text Avg W2V vectors"
    },
    {
      "metadata": {
        "colab": {},
        "colab_type": "code",
        "id": "-YnpPa54CAa0",
        "trusted": true,
        "_uuid": "cb116679647bd8d07d913e5860193f9b1047e45b"
      },
      "cell_type": "code",
      "source": "#Standarization of the Text Avg W2V vector  \nAvgW2V_standardized_data = StandardScaler().fit_transform(sent_vectors)\n\n# Create a TSNE model with perplexity=10.0 and  learning_rate=100.0,\nmodel = TSNE(n_components=2, random_state=0,perplexity=10.0, learning_rate=200.0,n_iter=5000)\ntsne_data = model.fit_transform(AvgW2V_standardized_data)\n\ntsne_data = np.vstack((tsne_data.T , final['Score'])).T\ntsne_df = pd.DataFrame(data=tsne_data, columns=(\"Dim_1\", \"Dim_2\", \"Review\"))\n\n# # Ploting the result of tsne\nd = {'color': ['b', 'r']}\nsns.FacetGrid(tsne_df, hue_kws=d, hue='Review', size=6).map(plt.scatter, 'Dim_1', 'Dim_2').add_legend()\nplt.title(\"Tsne on Text Avg W2V vectors\",fontsize=20)\nplt.show()",
      "execution_count": null,
      "outputs": []
    },
    {
      "metadata": {
        "_uuid": "d1a589ab0058512c3f1606ef7345ff6ac1fa12b8"
      },
      "cell_type": "markdown",
      "source": "# Observation"
    },
    {
      "metadata": {
        "_uuid": "6c5bb42d6ed743406a07dd16c4bd1b3a20ae12dc"
      },
      "cell_type": "markdown",
      "source": "->"
    },
    {
      "metadata": {
        "colab_type": "text",
        "id": "RBaVF4aHCAa4",
        "_uuid": "6a518c59f9b09438c94b6684b47eba421361b23b"
      },
      "cell_type": "markdown",
      "source": "## [5.4] Applying TNSE on Text TFIDF weighted W2V vectors"
    },
    {
      "metadata": {
        "colab": {},
        "colab_type": "code",
        "id": "xYysToufCAa4",
        "trusted": true,
        "_uuid": "1dff4fcbaba35e683a92da42d570a9446465f511"
      },
      "cell_type": "code",
      "source": "#Standarization of the Text TFIDF Weighted W2V vector  \nTfIdf_W2V_standardized_data = StandardScaler().fit_transform(tfidf_sent_vectors)\n\n# Create a TSNE model with perplexity=10.0 and  learning_rate=100.0,\nmodel = TSNE(n_components=2, random_state=0,perplexity=10.0, learning_rate=200.0,n_iter=5000)\ntsne_data = model.fit_transform(TfIdf_W2V_standardized_data)\n\ntsne_data = np.vstack((tsne_data.T , final['Score'])).T\ntsne_df = pd.DataFrame(data=tsne_data, columns=(\"Dim_1\", \"Dim_2\", \"Review\"))\n\n# # Ploting the result of tsne\nd = {'color': ['b', 'r']}\nsns.FacetGrid(tsne_df, hue_kws=d, hue='Review', size=6).map(plt.scatter, 'Dim_1', 'Dim_2').add_legend()\nplt.title(\"Tsne on Text TFIDF Weighted W2V vectors\",fontsize=20)\nplt.show()",
      "execution_count": null,
      "outputs": []
    },
    {
      "metadata": {
        "_uuid": "0d9eb44b1906d79a377a4cf0f0a697f4beb876fe"
      },
      "cell_type": "markdown",
      "source": "# Observation"
    },
    {
      "metadata": {
        "_uuid": "531ca2547feb8d4c21563ec93fa946806365ee42"
      },
      "cell_type": "markdown",
      "source": "->"
    },
    {
      "metadata": {
        "colab_type": "text",
        "id": "jilexiiyCAa6",
        "_uuid": "6c62d9d47b4cab40af6377911e47757566b6f24c"
      },
      "cell_type": "markdown",
      "source": "# [6] Conclusions"
    },
    {
      "metadata": {
        "colab": {},
        "colab_type": "code",
        "id": "TroM2UQUCAa7",
        "trusted": true,
        "_uuid": "ab81b3c021a1636ae46090318ea0d088c58b1c59"
      },
      "cell_type": "code",
      "source": "# Write few sentance about the results that you got and observation that you did from the analysis",
      "execution_count": null,
      "outputs": []
    },
    {
      "metadata": {
        "trusted": true,
        "_uuid": "fccd381a19f54fd83ab33afff7b0937d860a8788"
      },
      "cell_type": "code",
      "source": "",
      "execution_count": null,
      "outputs": []
    },
    {
      "metadata": {
        "trusted": true,
        "_uuid": "c6eb63216becb4385219617cece01c1a6a7c0675"
      },
      "cell_type": "code",
      "source": "",
      "execution_count": null,
      "outputs": []
    },
    {
      "metadata": {
        "trusted": true,
        "_uuid": "de17c666ea9d6141a013cb9f4cc7bf25de0bb32d"
      },
      "cell_type": "code",
      "source": "",
      "execution_count": null,
      "outputs": []
    },
    {
      "metadata": {
        "trusted": true,
        "_uuid": "c14e513dd04011b9d5e538ea011a952354a0bff0"
      },
      "cell_type": "code",
      "source": "",
      "execution_count": null,
      "outputs": []
    }
  ],
  "metadata": {
    "accelerator": "TPU",
    "colab": {
      "collapsed_sections": [],
      "name": "02 Amazon Fine Food Reviews Analysis_TSNE.ipynb",
      "provenance": [],
      "toc_visible": true,
      "version": "0.3.2"
    },
    "kernelspec": {
      "display_name": "Python 3",
      "language": "python",
      "name": "python3"
    },
    "language_info": {
      "name": "python",
      "version": "3.6.6",
      "mimetype": "text/x-python",
      "codemirror_mode": {
        "name": "ipython",
        "version": 3
      },
      "pygments_lexer": "ipython3",
      "nbconvert_exporter": "python",
      "file_extension": ".py"
    }
  },
  "nbformat": 4,
  "nbformat_minor": 1
}