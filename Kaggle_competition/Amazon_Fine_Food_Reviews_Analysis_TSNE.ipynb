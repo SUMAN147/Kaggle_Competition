{
  "cells": [
    {
      "metadata": {
        "_uuid": "772767b5da4812361fc56fddb9783b69053d4dff"
      },
      "cell_type": "markdown",
      "source": "# Amazon Fine Food Reviews Analysis\n\n\nData Source: https://www.kaggle.com/snap/amazon-fine-food-reviews <br>\n\nEDA: https://nycdatascience.com/blog/student-works/amazon-fine-foods-visualization/\n\n\nThe Amazon Fine Food Reviews dataset consists of reviews of fine foods from Amazon.<br>\n\nNumber of reviews: 568,454<br>\nNumber of users: 256,059<br>\nNumber of products: 74,258<br>\nTimespan: Oct 1999 - Oct 2012<br>\nNumber of Attributes/Columns in data: 10 \n\nAttribute Information:\n\n1. Id\n2. ProductId - unique identifier for the product\n3. UserId - unqiue identifier for the user\n4. ProfileName\n5. HelpfulnessNumerator - number of users who found the review helpful\n6. HelpfulnessDenominator - number of users who indicated whether they found the review helpful or not\n7. Score - rating between 1 and 5\n8. Time - timestamp for the review\n9. Summary - brief summary of the review\n10. Text - text of the review\n\n\n#### Objective:\nGiven a review, determine whether the review is positive (rating of 4 or 5) or negative (rating of 1 or 2).\n\n<br>\n[Q] How to determine if a review is positive or negative?<br>\n<br> \n[Ans] We could use Score/Rating. A rating of 4 or 5 can be cosnidered as a positive review. A rating of 1 or 2 can be considered as negative one. A review of rating 3 is considered nuetral and such reviews are ignored from our analysis. This is an approximate and proxy way of determining the polarity (positivity/negativity) of a review.\n\n\n"
    },
    {
      "metadata": {
        "_uuid": "983cfe7e6049cb32233f396954a09f869b583c3c"
      },
      "cell_type": "markdown",
      "source": "# [1]. Reading Data"
    },
    {
      "metadata": {
        "_uuid": "197227c7e462c90deaf103c2c5803206c94109fe"
      },
      "cell_type": "markdown",
      "source": "## [1.1] Loading the data\n\nThe dataset is available in two forms\n1. .csv file\n2. SQLite Database\n\nIn order to load the data, We have used the SQLITE dataset as it is easier to query the data and visualise the data efficiently.\n<br> \n\nHere as we only want to get the global sentiment of the recommendations (positive or negative), we will purposefully ignore all Scores equal to 3. If the score is above 3, then the recommendation wil be set to \"positive\". Otherwise, it will be set to \"negative\"."
    },
    {
      "metadata": {
        "trusted": false,
        "_uuid": "dad1e98bcabfd8151c5e011f9e6d7d8847038e7d"
      },
      "cell_type": "code",
      "source": "%matplotlib inline\nimport warnings\nwarnings.filterwarnings(\"ignore\")\n\n\nimport sqlite3\nimport pandas as pd\nimport numpy as np\nimport nltk\nimport string\nimport matplotlib.pyplot as plt\nimport seaborn as sns\nfrom sklearn.feature_extraction.text import TfidfTransformer\nfrom sklearn.feature_extraction.text import TfidfVectorizer\n\nfrom sklearn.feature_extraction.text import CountVectorizer\nfrom sklearn.metrics import confusion_matrix\nfrom sklearn import metrics\nfrom sklearn.metrics import roc_curve, auc\nfrom nltk.stem.porter import PorterStemmer\n\nimport re\n# Tutorial about Python regular expressions: https://pymotw.com/2/re/\nimport string\nfrom nltk.corpus import stopwords\nfrom nltk.stem import PorterStemmer\nfrom nltk.stem.wordnet import WordNetLemmatizer\n\nfrom gensim.models import Word2Vec\nfrom gensim.models import KeyedVectors\nimport pickle\n\nfrom tqdm import tqdm\nimport os",
      "execution_count": null,
      "outputs": []
    },
    {
      "metadata": {
        "trusted": false,
        "_uuid": "ac2c72e43464f23334f96038072c3179bf23b143"
      },
      "cell_type": "code",
      "source": "# using SQLite Table to read data.\ncon = sqlite3.connect('../input/database.sqlite') \n\n# filtering only positive and negative reviews i.e. \n# not taking into consideration those reviews with Score=3\n# SELECT * FROM Reviews WHERE Score != 3 LIMIT 500000, will give top 500000 data points\n# you can change the number to any other number based on your computing power\n\n# filtered_data = pd.read_sql_query(\"\"\" SELECT * FROM Reviews WHERE Score != 3 LIMIT 500000\"\"\", con) \n# for tsne assignment you can take 5k data points\n\nfiltered_data = pd.read_sql_query(\"\"\" SELECT * FROM Reviews WHERE Score != 3 LIMIT 5000\"\"\", con) \n\n# Give reviews with Score>3 a positive rating(1), and reviews with a score<3 a negative rating(0).\ndef partition(x):\n    if x < 3:\n        return 0\n    return 1\n\n#changing reviews with score less than 3 to be positive and vice-versa\nactualScore = filtered_data['Score']\npositiveNegative = actualScore.map(partition) \nfiltered_data['Score'] = positiveNegative\nprint(\"Number of data points in our data\", filtered_data.shape)\nfiltered_data.head(3)",
      "execution_count": null,
      "outputs": []
    },
    {
      "metadata": {
        "trusted": false,
        "_uuid": "7bfc472fd845048200f3801c1821d3b556f8a446"
      },
      "cell_type": "code",
      "source": "display = pd.read_sql_query(\"\"\"\nSELECT UserId, ProductId, ProfileName, Time, Score, Text, COUNT(*)\nFROM Reviews\nGROUP BY UserId\nHAVING COUNT(*)>1\n\"\"\", con)",
      "execution_count": null,
      "outputs": []
    },
    {
      "metadata": {
        "scrolled": true,
        "trusted": false,
        "_uuid": "113682ee0e046dfe483b09ca7f30660fc05b95ca"
      },
      "cell_type": "code",
      "source": "print(display.shape)\ndisplay.head()",
      "execution_count": null,
      "outputs": []
    },
    {
      "metadata": {
        "trusted": false,
        "_uuid": "8e44e9f891735243d96e6aa0a59043c715c4ed99"
      },
      "cell_type": "code",
      "source": "display[display['UserId']=='AZY10LLTJ71NX']",
      "execution_count": null,
      "outputs": []
    },
    {
      "metadata": {
        "trusted": false,
        "_uuid": "0f772fc9b05117c49bbf9273615ad685a5618a78"
      },
      "cell_type": "code",
      "source": "display['COUNT(*)'].sum()",
      "execution_count": null,
      "outputs": []
    },
    {
      "metadata": {
        "_uuid": "8329d73eb59c64fac8953e3b853b65b3e3ec8520"
      },
      "cell_type": "markdown",
      "source": "#  [2] Exploratory Data Analysis"
    },
    {
      "metadata": {
        "_uuid": "a72f8832f9d4c1e82dffcaa7f282bf94a791f71e"
      },
      "cell_type": "markdown",
      "source": "## [2.1] Data Cleaning: Deduplication\n\nIt is observed (as shown in the table below) that the reviews data had many duplicate entries. Hence it was necessary to remove duplicates in order to get unbiased results for the analysis of the data.  Following is an example:"
    },
    {
      "metadata": {
        "scrolled": false,
        "trusted": false,
        "_uuid": "db6c0d83eb65cf778122dcac5e580961c65d1c60"
      },
      "cell_type": "code",
      "source": "display= pd.read_sql_query(\"\"\"\nSELECT *\nFROM Reviews\nWHERE Score != 3 AND UserId=\"AR5J8UI46CURR\"\nORDER BY ProductID\n\"\"\", con)\ndisplay.head()",
      "execution_count": null,
      "outputs": []
    },
    {
      "metadata": {
        "_uuid": "44d91ed4031f92b375b92509e4ab7abc9782314c"
      },
      "cell_type": "markdown",
      "source": "As it can be seen above that same user has multiple reviews with same values for HelpfulnessNumerator, HelpfulnessDenominator, Score, Time, Summary and Text and on doing analysis it was found that <br>\n<br> \nProductId=B000HDOPZG was Loacker Quadratini Vanilla Wafer Cookies, 8.82-Ounce Packages (Pack of 8)<br>\n<br> \nProductId=B000HDL1RQ was Loacker Quadratini Lemon Wafer Cookies, 8.82-Ounce Packages (Pack of 8) and so on<br>\n\nIt was inferred after analysis that reviews with same parameters other than ProductId belonged to the same product just having different flavour or quantity. Hence in order to reduce redundancy it was decided to eliminate the rows having same parameters.<br>\n\nThe method used for the same was that we first sort the data according to ProductId and then just keep the first similar product review and delelte the others. for eg. in the above just the review for ProductId=B000HDL1RQ remains. This method ensures that there is only one representative for each product and deduplication without sorting would lead to possibility of different representatives still existing for the same product."
    },
    {
      "metadata": {
        "trusted": false,
        "_uuid": "c2fb67c92e10551b1bd5726ae03c56c315de5cd4"
      },
      "cell_type": "code",
      "source": "#Sorting data according to ProductId in ascending order\nsorted_data=filtered_data.sort_values('ProductId', axis=0, ascending=True, inplace=False, kind='quicksort', na_position='last')",
      "execution_count": null,
      "outputs": []
    },
    {
      "metadata": {
        "trusted": false,
        "_uuid": "c761b4c479542d15bbf0c62787df7de2f62355ba"
      },
      "cell_type": "code",
      "source": "#Deduplication of entries\nfinal=sorted_data.drop_duplicates(subset={\"UserId\",\"ProfileName\",\"Time\",\"Text\"}, keep='first', inplace=False)\nfinal.shape",
      "execution_count": null,
      "outputs": []
    },
    {
      "metadata": {
        "trusted": false,
        "_uuid": "8d975509e34487053f6e6a7d29df0df48ba267f5"
      },
      "cell_type": "code",
      "source": "#Checking to see how much % of data still remains\n(final['Id'].size*1.0)/(filtered_data['Id'].size*1.0)*100",
      "execution_count": null,
      "outputs": []
    },
    {
      "metadata": {
        "_uuid": "2a6fed1de923106e27d18830f8d09e6294111e32"
      },
      "cell_type": "markdown",
      "source": "<b>Observation:-</b> It was also seen that in two rows given below the value of HelpfulnessNumerator is greater than HelpfulnessDenominator which is not practically possible hence these two rows too are removed from calcualtions"
    },
    {
      "metadata": {
        "trusted": false,
        "_uuid": "82fc1e0bb0f870d15aefccc65ec82a677905db7a"
      },
      "cell_type": "code",
      "source": "display= pd.read_sql_query(\"\"\"\nSELECT *\nFROM Reviews\nWHERE Score != 3 AND Id=44737 OR Id=64422\nORDER BY ProductID\n\"\"\", con)\n\ndisplay.head()",
      "execution_count": null,
      "outputs": []
    },
    {
      "metadata": {
        "trusted": false,
        "_uuid": "7a73b3f57de17783a5d530af7d4408474d595513"
      },
      "cell_type": "code",
      "source": "final=final[final.HelpfulnessNumerator<=final.HelpfulnessDenominator]",
      "execution_count": null,
      "outputs": []
    },
    {
      "metadata": {
        "trusted": false,
        "_uuid": "ced1ee268850252c395d3adf1bcef8f035714639"
      },
      "cell_type": "code",
      "source": "#Before starting the next phase of preprocessing lets see the number of entries left\nprint(final.shape)\n\n#How many positive and negative reviews are present in our dataset?\nfinal['Score'].value_counts()",
      "execution_count": null,
      "outputs": []
    },
    {
      "metadata": {
        "_uuid": "27fd4f9c39abc64ac263647168e0ad2d81db53e0"
      },
      "cell_type": "markdown",
      "source": "#  [3] Preprocessing"
    },
    {
      "metadata": {
        "_uuid": "296c16ab2707875f622eeffd40ef0d3100baaea4"
      },
      "cell_type": "markdown",
      "source": "## [3.1].  Preprocessing Review Text\n\nNow that we have finished deduplication our data requires some preprocessing before we go on further with analysis and making the prediction model.\n\nHence in the Preprocessing phase we do the following in the order below:-\n\n1. Begin by removing the html tags\n2. Remove any punctuations or limited set of special characters like , or . or # etc.\n3. Check if the word is made up of english letters and is not alpha-numeric\n4. Check to see if the length of the word is greater than 2 (as it was researched that there is no adjective in 2-letters)\n5. Convert the word to lowercase\n6. Remove Stopwords\n7. Finally Snowball Stemming the word (it was obsereved to be better than Porter Stemming)<br>\n\nAfter which we collect the words used to describe positive and negative reviews"
    },
    {
      "metadata": {
        "trusted": false,
        "_uuid": "b4df5a21dd43d3f93d2961f723b06ee18cf44930"
      },
      "cell_type": "code",
      "source": "# printing some random reviews\nsent_0 = final['Text'].values[0]\nprint(sent_0)\nprint(\"=\"*50)\n\nsent_1000 = final['Text'].values[1000]\nprint(sent_1000)\nprint(\"=\"*50)\n\nsent_1500 = final['Text'].values[1500]\nprint(sent_1500)\nprint(\"=\"*50)\n\nsent_4900 = final['Text'].values[4900]\nprint(sent_4900)\nprint(\"=\"*50)",
      "execution_count": null,
      "outputs": []
    },
    {
      "metadata": {
        "trusted": false,
        "_uuid": "6f5895961cd0f2f4611639e7d431d7c902d14f55"
      },
      "cell_type": "code",
      "source": "# remove urls from text python: https://stackoverflow.com/a/40823105/4084039\nsent_0 = re.sub(r\"http\\S+\", \"\", sent_0)\nsent_1000 = re.sub(r\"http\\S+\", \"\", sent_1000)\nsent_150 = re.sub(r\"http\\S+\", \"\", sent_1500)\nsent_4900 = re.sub(r\"http\\S+\", \"\", sent_4900)\n\nprint(sent_0)",
      "execution_count": null,
      "outputs": []
    },
    {
      "metadata": {
        "trusted": false,
        "_uuid": "9ea6c55327d6cf9a2541ad60a401da0caa8b3e5c"
      },
      "cell_type": "code",
      "source": "# https://stackoverflow.com/questions/16206380/python-beautifulsoup-how-to-remove-all-tags-from-an-element\nfrom bs4 import BeautifulSoup\n\nsoup = BeautifulSoup(sent_0, 'lxml')\ntext = soup.get_text()\nprint(text)\nprint(\"=\"*50)\n\nsoup = BeautifulSoup(sent_1000, 'lxml')\ntext = soup.get_text()\nprint(text)\nprint(\"=\"*50)\n\nsoup = BeautifulSoup(sent_1500, 'lxml')\ntext = soup.get_text()\nprint(text)\nprint(\"=\"*50)\n\nsoup = BeautifulSoup(sent_4900, 'lxml')\ntext = soup.get_text()\nprint(text)",
      "execution_count": null,
      "outputs": []
    },
    {
      "metadata": {
        "trusted": false,
        "_uuid": "b176cf4a86e75ae5f79ef406ae19b20aa66f6e0d"
      },
      "cell_type": "code",
      "source": "# https://stackoverflow.com/a/47091490/4084039\nimport re\n\ndef decontracted(phrase):\n    # specific\n    phrase = re.sub(r\"won't\", \"will not\", phrase)\n    phrase = re.sub(r\"can\\'t\", \"can not\", phrase)\n\n    # general\n    phrase = re.sub(r\"n\\'t\", \" not\", phrase)\n    phrase = re.sub(r\"\\'re\", \" are\", phrase)\n    phrase = re.sub(r\"\\'s\", \" is\", phrase)\n    phrase = re.sub(r\"\\'d\", \" would\", phrase)\n    phrase = re.sub(r\"\\'ll\", \" will\", phrase)\n    phrase = re.sub(r\"\\'t\", \" not\", phrase)\n    phrase = re.sub(r\"\\'ve\", \" have\", phrase)\n    phrase = re.sub(r\"\\'m\", \" am\", phrase)\n    return phrase",
      "execution_count": null,
      "outputs": []
    },
    {
      "metadata": {
        "trusted": false,
        "_uuid": "5afc93fce73474071246a994f38d89b238a4d6f6"
      },
      "cell_type": "code",
      "source": "sent_1500 = decontracted(sent_1500)\nprint(sent_1500)\nprint(\"=\"*50)",
      "execution_count": null,
      "outputs": []
    },
    {
      "metadata": {
        "trusted": false,
        "_uuid": "80b0bbfe1a1817ed376ee95dedfd81848eff408e"
      },
      "cell_type": "code",
      "source": "#remove words with numbers python: https://stackoverflow.com/a/18082370/4084039\nsent_0 = re.sub(\"\\S*\\d\\S*\", \"\", sent_0).strip()\nprint(sent_0)",
      "execution_count": null,
      "outputs": []
    },
    {
      "metadata": {
        "trusted": false,
        "_uuid": "ca7666fd6eca4839e578a9a90392ff1d6e80d6ef"
      },
      "cell_type": "code",
      "source": "#remove spacial character: https://stackoverflow.com/a/5843547/4084039\nsent_1500 = re.sub('[^A-Za-z0-9]+', ' ', sent_1500)\nprint(sent_1500)",
      "execution_count": null,
      "outputs": []
    },
    {
      "metadata": {
        "trusted": false,
        "_uuid": "46553cd5f1b3864189393bd34757a5632c59b6fc"
      },
      "cell_type": "code",
      "source": "# https://gist.github.com/sebleier/554280\n# we are removing the words from the stop words list: 'no', 'nor', 'not'\n# <br /><br /> ==> after the above steps, we are getting \"br br\"\n# we are including them into stop words list\n# instead of <br /> if we have <br/> these tags would have revmoved in the 1st step\n\nstopwords= set(['br', 'the', 'i', 'me', 'my', 'myself', 'we', 'our', 'ours', 'ourselves', 'you', \"you're\", \"you've\",\\\n            \"you'll\", \"you'd\", 'your', 'yours', 'yourself', 'yourselves', 'he', 'him', 'his', 'himself', \\\n            'she', \"she's\", 'her', 'hers', 'herself', 'it', \"it's\", 'its', 'itself', 'they', 'them', 'their',\\\n            'theirs', 'themselves', 'what', 'which', 'who', 'whom', 'this', 'that', \"that'll\", 'these', 'those', \\\n            'am', 'is', 'are', 'was', 'were', 'be', 'been', 'being', 'have', 'has', 'had', 'having', 'do', 'does', \\\n            'did', 'doing', 'a', 'an', 'the', 'and', 'but', 'if', 'or', 'because', 'as', 'until', 'while', 'of', \\\n            'at', 'by', 'for', 'with', 'about', 'against', 'between', 'into', 'through', 'during', 'before', 'after',\\\n            'above', 'below', 'to', 'from', 'up', 'down', 'in', 'out', 'on', 'off', 'over', 'under', 'again', 'further',\\\n            'then', 'once', 'here', 'there', 'when', 'where', 'why', 'how', 'all', 'any', 'both', 'each', 'few', 'more',\\\n            'most', 'other', 'some', 'such', 'only', 'own', 'same', 'so', 'than', 'too', 'very', \\\n            's', 't', 'can', 'will', 'just', 'don', \"don't\", 'should', \"should've\", 'now', 'd', 'll', 'm', 'o', 're', \\\n            've', 'y', 'ain', 'aren', \"aren't\", 'couldn', \"couldn't\", 'didn', \"didn't\", 'doesn', \"doesn't\", 'hadn',\\\n            \"hadn't\", 'hasn', \"hasn't\", 'haven', \"haven't\", 'isn', \"isn't\", 'ma', 'mightn', \"mightn't\", 'mustn',\\\n            \"mustn't\", 'needn', \"needn't\", 'shan', \"shan't\", 'shouldn', \"shouldn't\", 'wasn', \"wasn't\", 'weren', \"weren't\", \\\n            'won', \"won't\", 'wouldn', \"wouldn't\"])",
      "execution_count": null,
      "outputs": []
    },
    {
      "metadata": {
        "trusted": false,
        "_uuid": "14eb3ca14022eb8d23db6e01e3bb610b67947f7a"
      },
      "cell_type": "code",
      "source": "# Combining all the above stundents \nfrom tqdm import tqdm\npreprocessed_reviews = []\n# tqdm is for printing the status bar\nfor sentance in tqdm(final['Text'].values):\n    sentance = re.sub(r\"http\\S+\", \"\", sentance)\n    sentance = BeautifulSoup(sentance, 'lxml').get_text()\n    sentance = decontracted(sentance)\n    sentance = re.sub(\"\\S*\\d\\S*\", \"\", sentance).strip()\n    sentance = re.sub('[^A-Za-z]+', ' ', sentance)\n    # https://gist.github.com/sebleier/554280\n    sentance = ' '.join(e.lower() for e in sentance.split() if e.lower() not in stopwords)\n    preprocessed_reviews.append(sentance.strip())",
      "execution_count": null,
      "outputs": []
    },
    {
      "metadata": {
        "trusted": false,
        "_uuid": "8df144e6fd53d3cd8d89b8549fe160dd310cc0d6"
      },
      "cell_type": "code",
      "source": "preprocessed_reviews[1500]",
      "execution_count": null,
      "outputs": []
    },
    {
      "metadata": {
        "_uuid": "1fd3c8bc3e5aec9792acade8ad61e71661a19b65"
      },
      "cell_type": "markdown",
      "source": "<h2><font color='red'>[3.2] Preprocessing Review Summary</font></h2>"
    },
    {
      "metadata": {
        "trusted": false,
        "_uuid": "4acfcffebabdb3cb81e86acf139c6d6257a2bd5e"
      },
      "cell_type": "code",
      "source": "## Similartly you can do preprocessing for review summary also.",
      "execution_count": null,
      "outputs": []
    },
    {
      "metadata": {
        "_uuid": "340df5c5772ce8236eec1f8cb3227da40951c7cd"
      },
      "cell_type": "markdown",
      "source": "# [4] Featurization"
    },
    {
      "metadata": {
        "_uuid": "cc70f192638cfa042cb0b76dafe5967232829961"
      },
      "cell_type": "markdown",
      "source": "## [4.1] BAG OF WORDS"
    },
    {
      "metadata": {
        "trusted": false,
        "_uuid": "7ed6e753a841991324ff87d1dd453365545956d6"
      },
      "cell_type": "code",
      "source": "#BoW\ncount_vect = CountVectorizer() #in scikit-learn\ncount_vect.fit(preprocessed_reviews)\nprint(\"some feature names \", count_vect.get_feature_names()[:10])\nprint('='*50)\n\nfinal_counts = count_vect.transform(preprocessed_reviews)\nprint(\"the type of count vectorizer \",type(final_counts))\nprint(\"the shape of out text BOW vectorizer \",final_counts.get_shape())\nprint(\"the number of unique words \", final_counts.get_shape()[1])",
      "execution_count": null,
      "outputs": []
    },
    {
      "metadata": {
        "_uuid": "ed99d506bd927490efec3e01118c068ebd96554c"
      },
      "cell_type": "markdown",
      "source": "## [4.2] Bi-Grams and n-Grams."
    },
    {
      "metadata": {
        "trusted": false,
        "_uuid": "c27d113415a99331b68b6adb17b50c2815b549bb"
      },
      "cell_type": "code",
      "source": "#bi-gram, tri-gram and n-gram\n\n#removing stop words like \"not\" should be avoided before building n-grams\n# count_vect = CountVectorizer(ngram_range=(1,2))\n# please do read the CountVectorizer documentation http://scikit-learn.org/stable/modules/generated/sklearn.feature_extraction.text.CountVectorizer.html\n\n# you can choose these numebrs min_df=10, max_features=5000, of your choice\ncount_vect = CountVectorizer(ngram_range=(1,2), min_df=10, max_features=5000)\nfinal_bigram_counts = count_vect.fit_transform(preprocessed_reviews)\nprint(\"the type of count vectorizer \",type(final_bigram_counts))\nprint(\"the shape of out text BOW vectorizer \",final_bigram_counts.get_shape())\nprint(\"the number of unique words including both unigrams and bigrams \", final_bigram_counts.get_shape()[1])",
      "execution_count": null,
      "outputs": []
    },
    {
      "metadata": {
        "_uuid": "44e401631688cbffd107f662ba5b3dbcae55b5e0"
      },
      "cell_type": "markdown",
      "source": "## [4.3] TF-IDF"
    },
    {
      "metadata": {
        "trusted": false,
        "_uuid": "d9ed8a22e42171503bc93ccb56b52000a1f68253"
      },
      "cell_type": "code",
      "source": "tf_idf_vect = TfidfVectorizer(ngram_range=(1,2), min_df=10)\ntf_idf_vect.fit(preprocessed_reviews)\nprint(\"some sample features(unique words in the corpus)\",tf_idf_vect.get_feature_names()[0:10])\nprint('='*50)\n\nfinal_tf_idf = tf_idf_vect.transform(preprocessed_reviews)\nprint(\"the type of count vectorizer \",type(final_tf_idf))\nprint(\"the shape of out text TFIDF vectorizer \",final_tf_idf.get_shape())\nprint(\"the number of unique words including both unigrams and bigrams \", final_tf_idf.get_shape()[1])",
      "execution_count": null,
      "outputs": []
    },
    {
      "metadata": {
        "_uuid": "dbf715971176e444d6cd5789736e95e296ae33e2"
      },
      "cell_type": "markdown",
      "source": "## [4.4] Word2Vec"
    },
    {
      "metadata": {
        "trusted": false,
        "_uuid": "4503be9a1c75286cf9575543767013010aafc945"
      },
      "cell_type": "code",
      "source": "# Train your own Word2Vec model using your own text corpus\ni=0\nlist_of_sentance=[]\nfor sentance in preprocessed_reviews:\n    list_of_sentance.append(sentance.split())",
      "execution_count": null,
      "outputs": []
    },
    {
      "metadata": {
        "scrolled": true,
        "trusted": false,
        "_uuid": "dac2b8bc295bd979398f33b0ab812f37c4572597"
      },
      "cell_type": "code",
      "source": "# Using Google News Word2Vectors\n\n# in this project we are using a pretrained model by google\n# its 3.3G file, once you load this into your memory \n# it occupies ~9Gb, so please do this step only if you have >12G of ram\n# we will provide a pickle file wich contains a dict , \n# and it contains all our courpus words as keys and  model[word] as values\n# To use this code-snippet, download \"GoogleNews-vectors-negative300.bin\" \n# from https://drive.google.com/file/d/0B7XkCwpI5KDYNlNUTTlSS21pQmM/edit\n# it's 1.9GB in size.\n\n\n# http://kavita-ganesan.com/gensim-word2vec-tutorial-starter-code/#.W17SRFAzZPY\n# you can comment this whole cell\n# or change these varible according to your need\n\nis_your_ram_gt_16g=False\nwant_to_use_google_w2v = False\nwant_to_train_w2v = True\n\nif want_to_train_w2v:\n    # min_count = 5 considers only words that occured atleast 5 times\n    w2v_model=Word2Vec(list_of_sentance,min_count=5,size=50, workers=4)\n    print(w2v_model.wv.most_similar('great'))\n    print('='*50)\n    print(w2v_model.wv.most_similar('worst'))\n    \nelif want_to_use_google_w2v and is_your_ram_gt_16g:\n    if os.path.isfile('GoogleNews-vectors-negative300.bin'):\n        w2v_model=KeyedVectors.load_word2vec_format('GoogleNews-vectors-negative300.bin', binary=True)\n        print(w2v_model.wv.most_similar('great'))\n        print(w2v_model.wv.most_similar('worst'))\n    else:\n        print(\"you don't have gogole's word2vec file, keep want_to_train_w2v = True, to train your own w2v \")",
      "execution_count": null,
      "outputs": []
    },
    {
      "metadata": {
        "trusted": false,
        "_uuid": "cd99cb7ac458c286959d86da431edc7d6210f12b"
      },
      "cell_type": "code",
      "source": "w2v_words = list(w2v_model.wv.vocab)\nprint(\"number of words that occured minimum 5 times \",len(w2v_words))\nprint(\"sample words \", w2v_words[0:50])",
      "execution_count": null,
      "outputs": []
    },
    {
      "metadata": {
        "_uuid": "9c9b1dde122ad57a477c03014b2e12c24782895e"
      },
      "cell_type": "markdown",
      "source": "## [4.4.1] Converting text into vectors using Avg W2V, TFIDF-W2V"
    },
    {
      "metadata": {
        "_uuid": "fdb2cb4d2db2fe9c92a844717caa2655b152ef7f"
      },
      "cell_type": "markdown",
      "source": "#### [4.4.1.1] Avg W2v"
    },
    {
      "metadata": {
        "trusted": false,
        "_uuid": "760245e70baf042a2ae7438b5a2c778d64918ac1"
      },
      "cell_type": "code",
      "source": "# average Word2Vec\n# compute average word2vec for each review.\nsent_vectors = []; # the avg-w2v for each sentence/review is stored in this list\nfor sent in tqdm(list_of_sentance): # for each review/sentence\n    sent_vec = np.zeros(50) # as word vectors are of zero length 50, you might need to change this to 300 if you use google's w2v\n    cnt_words =0; # num of words with a valid vector in the sentence/review\n    for word in sent: # for each word in a review/sentence\n        if word in w2v_words:\n            vec = w2v_model.wv[word]\n            sent_vec += vec\n            cnt_words += 1\n    if cnt_words != 0:\n        sent_vec /= cnt_words\n    sent_vectors.append(sent_vec)\nprint(len(sent_vectors))\nprint(len(sent_vectors[0]))",
      "execution_count": null,
      "outputs": []
    },
    {
      "metadata": {
        "_uuid": "706b225bb0e60749960cb12337ae76188d62975c"
      },
      "cell_type": "markdown",
      "source": "#### [4.4.1.2] TFIDF weighted W2v"
    },
    {
      "metadata": {
        "trusted": false,
        "_uuid": "916cae00a983f996aaafbebbf542e37ed40f1fbe"
      },
      "cell_type": "code",
      "source": "# S = [\"abc def pqr\", \"def def def abc\", \"pqr pqr def\"]\nmodel = TfidfVectorizer()\ntf_idf_matrix = model.fit_transform(preprocessed_reviews)\n# we are converting a dictionary with word as a key, and the idf as a value\ndictionary = dict(zip(model.get_feature_names(), list(model.idf_)))",
      "execution_count": null,
      "outputs": []
    },
    {
      "metadata": {
        "scrolled": true,
        "trusted": false,
        "_uuid": "c8c6d30edf31c000b0b57686eca981d371d072e3"
      },
      "cell_type": "code",
      "source": "# TF-IDF weighted Word2Vec\ntfidf_feat = model.get_feature_names() # tfidf words/col-names\n# final_tf_idf is the sparse matrix with row= sentence, col=word and cell_val = tfidf\n\ntfidf_sent_vectors = []; # the tfidf-w2v for each sentence/review is stored in this list\nrow=0;\nfor sent in tqdm(list_of_sentance): # for each review/sentence \n    sent_vec = np.zeros(50) # as word vectors are of zero length\n    weight_sum =0; # num of words with a valid vector in the sentence/review\n    for word in sent: # for each word in a review/sentence\n        if word in w2v_words and word in tfidf_feat:\n            vec = w2v_model.wv[word]\n#             tf_idf = tf_idf_matrix[row, tfidf_feat.index(word)]\n            # to reduce the computation we are \n            # dictionary[word] = idf value of word in whole courpus\n            # sent.count(word) = tf valeus of word in this review\n            tf_idf = dictionary[word]*(sent.count(word)/len(sent))\n            sent_vec += (vec * tf_idf)\n            weight_sum += tf_idf\n    if weight_sum != 0:\n        sent_vec /= weight_sum\n    tfidf_sent_vectors.append(sent_vec)\n    row += 1",
      "execution_count": null,
      "outputs": []
    },
    {
      "metadata": {
        "_uuid": "434c3b93148dca3ecd33bc6933cbc134d2607648"
      },
      "cell_type": "markdown",
      "source": "# [5] Assignment 3: KNN"
    },
    {
      "metadata": {
        "_uuid": "5d3b70e21e786b18910c6ff377e773de944aa278"
      },
      "cell_type": "markdown",
      "source": "<ol>\n    <li><strong>Apply Knn(brute force version) on these feature sets</strong>\n        <ul>\n            <li><font color='red'>SET 1:</font>Review text, preprocessed one converted into vectors using (BOW)</li>\n            <li><font color='red'>SET 2:</font>Review text, preprocessed one converted into vectors using (TFIDF)</li>\n            <li><font color='red'>SET 3:</font>Review text, preprocessed one converted into vectors using (AVG W2v)</li>\n            <li><font color='red'>SET 4:</font>Review text, preprocessed one converted into vectors using (TFIDF W2v)</li>\n        </ul>\n    </li>\n    <br>\n    <li><strong>Apply Knn(kd tree version) on these feature sets</strong>\n        <br><font color='red'>NOTE: </font>sklearn implementation of kd-tree accepts only dense matrices, you need to convert the sparse matrices of CountVectorizer/TfidfVectorizer into dense matices. You can convert sparse matrices to dense using .toarray() attribute. For more information please visit this <a href='https://docs.scipy.org/doc/scipy-0.18.1/reference/generated/scipy.sparse.csr_matrix.toarray.html'>link</a>\n        <ul>\n            <li><font color='red'>SET 5:</font>Review text, preprocessed one converted into vectors using (BOW) but with restriction on maximum features generated.\n            <pre>\n            count_vect = CountVectorizer(min_df=10, max_features=500) \n            count_vect.fit(preprocessed_reviews)\n            </pre>\n            </li>\n            <li><font color='red'>SET 6:</font>Review text, preprocessed one converted into vectors using (TFIDF) but with restriction on maximum features generated.\n            <pre>\n                tf_idf_vect = TfidfVectorizer(min_df=10, max_features=500)\n                tf_idf_vect.fit(preprocessed_reviews)\n            </pre>\n            </li>\n            <li><font color='red'>SET 3:</font>Review text, preprocessed one converted into vectors using (AVG W2v)</li>\n            <li><font color='red'>SET 4:</font>Review text, preprocessed one converted into vectors using (TFIDF W2v)</li>\n        </ul>\n    </li>\n    <br>\n    <li><strong>The hyper paramter tuning(find best K)</strong>\n        <ul>\n    <li>Find the best hyper parameter which will give the maximum <a href='https://www.appliedaicourse.com/course/applied-ai-course-online/lessons/receiver-operating-characteristic-curve-roc-curve-and-auc-1/'>AUC</a> value</li>\n    <li>Find the best hyper paramter using k-fold cross validation or simple cross validation data</li>\n    <li>Use gridsearch cv or randomsearch cv or you can also write your own for loops to do this task of hyperparameter tuning</li>\n        </ul>\n    </li>\n    <br>\n    <li>\n    <strong>Representation of results</strong>\n        <ul>\n    <li>You need to plot the performance of model both on train data and cross validation data for each hyper parameter, like shown in the figure\n    <img src='train_cv_auc.JPG' width=300px></li>\n    <li>Once after you found the best hyper parameter, you need to train your model with it, and find the AUC on test data and plot the ROC curve on both train and test.\n    <img src='train_test_auc.JPG' width=300px></li>\n    <li>Along with plotting ROC curve, you need to print the <a href='https://www.appliedaicourse.com/course/applied-ai-course-online/lessons/confusion-matrix-tpr-fpr-fnr-tnr-1/'>confusion matrix</a> with predicted and original labels of test data points\n    <img src='confusion_matrix.png' width=300px></li>\n        </ul>\n    </li>\n    <br>\n    <li><strong>Conclusion</strong>\n        <ul>\n    <li>You need to summarize the results at the end of the notebook, summarize it in the table format. To print out a table please refer to this prettytable library<a href='http://zetcode.com/python/prettytable/'> link</a> \n        <img src='summary.JPG' width=400px>\n    </li>\n        </ul>\n</ol>"
    },
    {
      "metadata": {
        "_uuid": "cdd326d6afa48f5f07eaa80bd94b2058f83a30c8"
      },
      "cell_type": "markdown",
      "source": "<h4><font color='red'>Note: Data Leakage</font></h4>\n\n1. There will be an issue of data-leakage if you vectorize the entire data and then split it into train/cv/test.\n2. To avoid the issue of data-leakag, make sure to split your data first and then vectorize it. \n3. While vectorizing your data, apply the method fit_transform() on you train data, and apply the method transform() on cv/test data.\n4. For more details please go through this <a href='https://soundcloud.com/applied-ai-course/leakage-bow-and-tfidf'>link.</a>"
    },
    {
      "metadata": {
        "_uuid": "a6b516a3768ce86523aa30b5f2e78a48f9572f13"
      },
      "cell_type": "markdown",
      "source": "## [5.1] Applying KNN brute force"
    },
    {
      "metadata": {
        "_uuid": "f676c4b36a94edb2c22d43dcd51df67e7312ff67"
      },
      "cell_type": "markdown",
      "source": "### [5.1.1] Applying KNN brute force on BOW,<font color='red'> SET 1</font>"
    },
    {
      "metadata": {
        "trusted": false,
        "_uuid": "fe8ead93c799b1c866f7f8b8e8278ae400afc38b"
      },
      "cell_type": "code",
      "source": "# Please write all the code with proper documentation",
      "execution_count": null,
      "outputs": []
    },
    {
      "metadata": {
        "_uuid": "9c680f15dc8c86b3e1239b876e0cbd8fe4a86390"
      },
      "cell_type": "markdown",
      "source": "### [5.1.2] Applying KNN brute force on TFIDF,<font color='red'> SET 2</font>"
    },
    {
      "metadata": {
        "trusted": false,
        "_uuid": "9b7830aeeca69f2c8d1bca5c3a5a89dd1a8936bf"
      },
      "cell_type": "code",
      "source": "# Please write all the code with proper documentation",
      "execution_count": null,
      "outputs": []
    },
    {
      "metadata": {
        "_uuid": "b3cb97b78b259811ef04ef9108794b3a7cffc866"
      },
      "cell_type": "markdown",
      "source": "### [5.1.3] Applying KNN brute force on AVG W2V,<font color='red'> SET 3</font>"
    },
    {
      "metadata": {
        "trusted": false,
        "_uuid": "716837738b6e88bd7b97cb9889d367f384cd4b7a"
      },
      "cell_type": "code",
      "source": "# Please write all the code with proper documentation",
      "execution_count": null,
      "outputs": []
    },
    {
      "metadata": {
        "_uuid": "f376d02aacd0d103f6c6eee21fe108bb3625dfcc"
      },
      "cell_type": "markdown",
      "source": "### [5.1.4] Applying KNN brute force on TFIDF W2V,<font color='red'> SET 4</font>"
    },
    {
      "metadata": {
        "trusted": false,
        "_uuid": "b18159d638b1adaa061ff4c3408190781d43f74c"
      },
      "cell_type": "code",
      "source": "# Please write all the code with proper documentation",
      "execution_count": null,
      "outputs": []
    },
    {
      "metadata": {
        "_uuid": "cc4b63f94fe3e2c1c761e77559a656efd6474714"
      },
      "cell_type": "markdown",
      "source": "## [5.2] Applying KNN kd-tree"
    },
    {
      "metadata": {
        "_uuid": "d30886d3bd76e32b65b831743d0a94d4e3b717f9"
      },
      "cell_type": "markdown",
      "source": "### [5.2.1] Applying KNN kd-tree on BOW,<font color='red'> SET 5</font>"
    },
    {
      "metadata": {
        "trusted": false,
        "_uuid": "38f985e18ed51562e4c85c853b58721d64d88b24"
      },
      "cell_type": "code",
      "source": "# Please write all the code with proper documentation",
      "execution_count": null,
      "outputs": []
    },
    {
      "metadata": {
        "_uuid": "906f4aa1f0d01b861d2cef418f56f6b3353096b1"
      },
      "cell_type": "markdown",
      "source": "### [5.2.2] Applying KNN kd-tree on TFIDF,<font color='red'> SET 6</font>"
    },
    {
      "metadata": {
        "trusted": false,
        "_uuid": "854bd14b13a5fc8ad6e87ba01a2c9fa62f805302"
      },
      "cell_type": "code",
      "source": "# Please write all the code with proper documentation",
      "execution_count": null,
      "outputs": []
    },
    {
      "metadata": {
        "_uuid": "1343bc18796d0e0825afec022cc0096f34a71e05"
      },
      "cell_type": "markdown",
      "source": "### [5.2.3] Applying KNN kd-tree on AVG W2V,<font color='red'> SET 3</font>"
    },
    {
      "metadata": {
        "trusted": false,
        "_uuid": "8b76ba1fb9eacd305a477ce40b35f7c4f5f9aba4"
      },
      "cell_type": "code",
      "source": "# Please write all the code with proper documentation",
      "execution_count": null,
      "outputs": []
    },
    {
      "metadata": {
        "_uuid": "f251f41f15a4f28f49be5927b7f20a3a7f5fbda8"
      },
      "cell_type": "markdown",
      "source": "### [5.2.4] Applying KNN kd-tree on TFIDF W2V,<font color='red'> SET 4</font>"
    },
    {
      "metadata": {
        "trusted": false,
        "_uuid": "c858bef7e0741bed3c67811348ebbf3e3277ef54"
      },
      "cell_type": "code",
      "source": "# Please write all the code with proper documentation",
      "execution_count": null,
      "outputs": []
    },
    {
      "metadata": {
        "_uuid": "56ce65d561e6489ebf96df6e99be01c486a2b20b"
      },
      "cell_type": "markdown",
      "source": "# [6] Conclusions"
    },
    {
      "metadata": {
        "trusted": false,
        "_uuid": "6ee903ce8dc9f2f65bf4b957f44402b95de32397"
      },
      "cell_type": "code",
      "source": "# Please compare all your models using Prettytable library",
      "execution_count": null,
      "outputs": []
    }
  ],
  "metadata": {
    "kernelspec": {
      "display_name": "Python 3",
      "language": "python",
      "name": "python3"
    },
    "language_info": {
      "name": "python",
      "version": "3.6.6",
      "mimetype": "text/x-python",
      "codemirror_mode": {
        "name": "ipython",
        "version": 3
      },
      "pygments_lexer": "ipython3",
      "nbconvert_exporter": "python",
      "file_extension": ".py"
    }
  },
  "nbformat": 4,
  "nbformat_minor": 1
}