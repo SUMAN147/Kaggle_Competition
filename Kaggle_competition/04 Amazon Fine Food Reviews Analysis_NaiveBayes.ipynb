{
  "cells": [
    {
      "metadata": {
        "_uuid": "8467b2f4fb99ac097e44ff512f9440133fd9b594"
      },
      "cell_type": "markdown",
      "source": "# Amazon Fine Food Reviews Analysis\n\n\nData Source: https://www.kaggle.com/snap/amazon-fine-food-reviews <br>\n\nEDA: https://nycdatascience.com/blog/student-works/amazon-fine-foods-visualization/\n\n\nThe Amazon Fine Food Reviews dataset consists of reviews of fine foods from Amazon.<br>\n\nNumber of reviews: 568,454<br>\nNumber of users: 256,059<br>\nNumber of products: 74,258<br>\nTimespan: Oct 1999 - Oct 2012<br>\nNumber of Attributes/Columns in data: 10 \n\nAttribute Information:\n\n1. Id\n2. ProductId - unique identifier for the product\n3. UserId - unqiue identifier for the user\n4. ProfileName\n5. HelpfulnessNumerator - number of users who found the review helpful\n6. HelpfulnessDenominator - number of users who indicated whether they found the review helpful or not\n7. Score - rating between 1 and 5\n8. Time - timestamp for the review\n9. Summary - brief summary of the review\n10. Text - text of the review\n\n\n#### Objective:\nGiven a review, determine whether the review is positive (rating of 4 or 5) or negative (rating of 1 or 2).\n\n<br>\n[Q] How to determine if a review is positive or negative?<br>\n<br> \n[Ans] We could use Score/Rating. A rating of 4 or 5 can be cosnidered as a positive review. A rating of 1 or 2 can be considered as negative one. A review of rating 3 is considered nuetral and such reviews are ignored from our analysis. This is an approximate and proxy way of determining the polarity (positivity/negativity) of a review.\n\n\n"
    },
    {
      "metadata": {
        "_uuid": "326e73a6c553ea408336d4e760662f6d6572ee40"
      },
      "cell_type": "markdown",
      "source": "# [1]. Reading Data"
    },
    {
      "metadata": {
        "_uuid": "ce1543067e32780ad613affadba6b40b0a9d36c4"
      },
      "cell_type": "markdown",
      "source": "## [1.1] Loading the data\n\nThe dataset is available in two forms\n1. .csv file\n2. SQLite Database\n\nIn order to load the data, We have used the SQLITE dataset as it is easier to query the data and visualise the data efficiently.\n<br> \n\nHere as we only want to get the global sentiment of the recommendations (positive or negative), we will purposefully ignore all Scores equal to 3. If the score is above 3, then the recommendation wil be set to \"positive\". Otherwise, it will be set to \"negative\"."
    },
    {
      "metadata": {
        "trusted": true,
        "_uuid": "87e270edd6e3476b4a126bf2b173451fc160cad1"
      },
      "cell_type": "code",
      "source": "%matplotlib inline\nimport warnings\nwarnings.filterwarnings(\"ignore\")\n\n\nimport sqlite3\nimport pandas as pd\nimport numpy as np\nimport nltk\nimport string\nimport matplotlib.pyplot as plt\nimport seaborn as sns\nfrom sklearn.feature_extraction.text import TfidfTransformer\nfrom sklearn.feature_extraction.text import TfidfVectorizer\n\nfrom sklearn.feature_extraction.text import CountVectorizer\nfrom sklearn.metrics import confusion_matrix\nfrom sklearn import metrics\nfrom sklearn.metrics import roc_curve, auc\nfrom nltk.stem.porter import PorterStemmer\n\nimport re\n# Tutorial about Python regular expressions: https://pymotw.com/2/re/\nimport string\nfrom nltk.corpus import stopwords\nfrom nltk.stem import PorterStemmer\nfrom nltk.stem.wordnet import WordNetLemmatizer\n\nfrom gensim.models import Word2Vec\nfrom gensim.models import KeyedVectors\nimport pickle\n\nfrom tqdm import tqdm\nimport os",
      "execution_count": null,
      "outputs": []
    },
    {
      "metadata": {
        "trusted": true,
        "_uuid": "8e378f9cdf716364d340154ef23f87b44c6d9304"
      },
      "cell_type": "code",
      "source": "# using SQLite Table to read data.\ncon = sqlite3.connect('../input/database.sqlite') \n\n# filtering only positive and negative reviews i.e. \n# not taking into consideration those reviews with Score=3\n# SELECT * FROM Reviews WHERE Score != 3 LIMIT 500000, will give top 500000 data points\n# you can change the number to any other number based on your computing power\n\n# filtered_data = pd.read_sql_query(\"\"\" SELECT * FROM Reviews WHERE Score != 3 LIMIT 500000\"\"\", con) \n# for tsne assignment you can take 5k data points\n\nfiltered_data = pd.read_sql_query(\"\"\" SELECT * FROM Reviews WHERE Score != 3 LIMIT 10000\"\"\", con) \n\n# Give reviews with Score>3 a positive rating(1), and reviews with a score<3 a negative rating(0).\ndef partition(x):\n    if x < 3:\n        return 0\n    return 1\n\n#changing reviews with score less than 3 to be positive and vice-versa\nactualScore = filtered_data['Score']\npositiveNegative = actualScore.map(partition) \nfiltered_data['Score'] = positiveNegative\nprint(\"Number of data points in our data\", filtered_data.shape)\nfiltered_data.head(3)",
      "execution_count": null,
      "outputs": []
    },
    {
      "metadata": {
        "trusted": true,
        "_uuid": "2388cdd8177aeb30ec41aad7277c0432510cb0bb"
      },
      "cell_type": "code",
      "source": "display = pd.read_sql_query(\"\"\"\nSELECT UserId, ProductId, ProfileName, Time, Score, Text, COUNT(*)\nFROM Reviews\nGROUP BY UserId\nHAVING COUNT(*)>1\n\"\"\", con)",
      "execution_count": null,
      "outputs": []
    },
    {
      "metadata": {
        "scrolled": true,
        "trusted": true,
        "_uuid": "73c898c36850f6923a7ae42dfed3fd62d90034dc"
      },
      "cell_type": "code",
      "source": "print(display.shape)\ndisplay.head()",
      "execution_count": null,
      "outputs": []
    },
    {
      "metadata": {
        "trusted": true,
        "_uuid": "4415e2efad9815d86495e03da66effb2242248ed"
      },
      "cell_type": "code",
      "source": "display[display['UserId']=='AZY10LLTJ71NX']",
      "execution_count": null,
      "outputs": []
    },
    {
      "metadata": {
        "trusted": true,
        "_uuid": "653ab64d3c0b193d86e88381a687d8b237fc4b1a"
      },
      "cell_type": "code",
      "source": "display['COUNT(*)'].sum()",
      "execution_count": null,
      "outputs": []
    },
    {
      "metadata": {
        "_uuid": "e4960e2cc980f8221b13dc2151576a46b75455f4"
      },
      "cell_type": "markdown",
      "source": "#  [2] Exploratory Data Analysis"
    },
    {
      "metadata": {
        "_uuid": "751e96fd6e06a03969d4a6b7ec4670ec35116135"
      },
      "cell_type": "markdown",
      "source": "## [2.1] Data Cleaning: Deduplication\n\nIt is observed (as shown in the table below) that the reviews data had many duplicate entries. Hence it was necessary to remove duplicates in order to get unbiased results for the analysis of the data.  Following is an example:"
    },
    {
      "metadata": {
        "scrolled": false,
        "trusted": true,
        "_uuid": "b092bf684b6f18cea2fe7f49a1160270e3917a40"
      },
      "cell_type": "code",
      "source": "display= pd.read_sql_query(\"\"\"\nSELECT *\nFROM Reviews\nWHERE Score != 3 AND UserId=\"AR5J8UI46CURR\"\nORDER BY ProductID\n\"\"\", con)\ndisplay.head()",
      "execution_count": null,
      "outputs": []
    },
    {
      "metadata": {
        "_uuid": "79fd050e4fa4a39c645dd8676310eed099b59e85"
      },
      "cell_type": "markdown",
      "source": "As it can be seen above that same user has multiple reviews with same values for HelpfulnessNumerator, HelpfulnessDenominator, Score, Time, Summary and Text and on doing analysis it was found that <br>\n<br> \nProductId=B000HDOPZG was Loacker Quadratini Vanilla Wafer Cookies, 8.82-Ounce Packages (Pack of 8)<br>\n<br> \nProductId=B000HDL1RQ was Loacker Quadratini Lemon Wafer Cookies, 8.82-Ounce Packages (Pack of 8) and so on<br>\n\nIt was inferred after analysis that reviews with same parameters other than ProductId belonged to the same product just having different flavour or quantity. Hence in order to reduce redundancy it was decided to eliminate the rows having same parameters.<br>\n\nThe method used for the same was that we first sort the data according to ProductId and then just keep the first similar product review and delelte the others. for eg. in the above just the review for ProductId=B000HDL1RQ remains. This method ensures that there is only one representative for each product and deduplication without sorting would lead to possibility of different representatives still existing for the same product."
    },
    {
      "metadata": {
        "trusted": true,
        "_uuid": "88383be75773f2e25d595008567fa969b86f9475"
      },
      "cell_type": "code",
      "source": "#Sorting data according to ProductId in ascending order\nsorted_data=filtered_data.sort_values('ProductId', axis=0, ascending=True, inplace=False, kind='quicksort', na_position='last')",
      "execution_count": null,
      "outputs": []
    },
    {
      "metadata": {
        "trusted": true,
        "_uuid": "9229a2cad5dd641e4e976d1a6afcab157c1490a1"
      },
      "cell_type": "code",
      "source": "#Deduplication of entries\nfinal=sorted_data.drop_duplicates(subset={\"UserId\",\"ProfileName\",\"Time\",\"Text\"}, keep='first', inplace=False)\nfinal.shape",
      "execution_count": null,
      "outputs": []
    },
    {
      "metadata": {
        "trusted": true,
        "_uuid": "6da101dbc15246185a5b7d76430d50baaf959180"
      },
      "cell_type": "code",
      "source": "#Checking to see how much % of data still remains\n(final['Id'].size*1.0)/(filtered_data['Id'].size*1.0)*100",
      "execution_count": null,
      "outputs": []
    },
    {
      "metadata": {
        "_uuid": "e55e78cef1f8e0203bb73349ed4d18e04ed163f9"
      },
      "cell_type": "markdown",
      "source": "<b>Observation:-</b> It was also seen that in two rows given below the value of HelpfulnessNumerator is greater than HelpfulnessDenominator which is not practically possible hence these two rows too are removed from calcualtions"
    },
    {
      "metadata": {
        "trusted": true,
        "_uuid": "c6974c47a3efd47ed162ee3771c235f51dec30d6"
      },
      "cell_type": "code",
      "source": "display= pd.read_sql_query(\"\"\"\nSELECT *\nFROM Reviews\nWHERE Score != 3 AND Id=44737 OR Id=64422\nORDER BY ProductID\n\"\"\", con)\n\ndisplay.head()",
      "execution_count": null,
      "outputs": []
    },
    {
      "metadata": {
        "trusted": true,
        "_uuid": "caf46eba7a3d523ada6a4b08a301fe26ccb7e89d"
      },
      "cell_type": "code",
      "source": "final=final[final.HelpfulnessNumerator<=final.HelpfulnessDenominator]",
      "execution_count": null,
      "outputs": []
    },
    {
      "metadata": {
        "trusted": true,
        "_uuid": "c4857ee0773a7b7263437d481b576e631d22ddd6"
      },
      "cell_type": "code",
      "source": "#Before starting the next phase of preprocessing lets see the number of entries left\nprint(final.shape)\n\n#How many positive and negative reviews are present in our dataset?\nfinal['Score'].value_counts()",
      "execution_count": null,
      "outputs": []
    },
    {
      "metadata": {
        "_uuid": "a853dc17aa0ae3b8f67dc6bf119a205064ef8a57"
      },
      "cell_type": "markdown",
      "source": "#  [3] Preprocessing"
    },
    {
      "metadata": {
        "_uuid": "16fa4053cfe34b43935f3957adeb3e5c37222da6"
      },
      "cell_type": "markdown",
      "source": "## [3.1].  Preprocessing Review Text\n\nNow that we have finished deduplication our data requires some preprocessing before we go on further with analysis and making the prediction model.\n\nHence in the Preprocessing phase we do the following in the order below:-\n\n1. Begin by removing the html tags\n2. Remove any punctuations or limited set of special characters like , or . or # etc.\n3. Check if the word is made up of english letters and is not alpha-numeric\n4. Check to see if the length of the word is greater than 2 (as it was researched that there is no adjective in 2-letters)\n5. Convert the word to lowercase\n6. Remove Stopwords\n7. Finally Snowball Stemming the word (it was obsereved to be better than Porter Stemming)<br>\n\nAfter which we collect the words used to describe positive and negative reviews"
    },
    {
      "metadata": {
        "trusted": true,
        "_uuid": "f87fe807ef850e29e8908cd521b6583490257582"
      },
      "cell_type": "code",
      "source": "# printing some random reviews\nsent_0 = final['Text'].values[0]\nprint(sent_0)\nprint(\"=\"*50)\n\nsent_1000 = final['Text'].values[1000]\nprint(sent_1000)\nprint(\"=\"*50)\n\nsent_1500 = final['Text'].values[1500]\nprint(sent_1500)\nprint(\"=\"*50)\n\nsent_4900 = final['Text'].values[4900]\nprint(sent_4900)\nprint(\"=\"*50)",
      "execution_count": null,
      "outputs": []
    },
    {
      "metadata": {
        "trusted": true,
        "_uuid": "f18d806a35d7a2f17a4bad26e63b9695d4528341"
      },
      "cell_type": "code",
      "source": "# remove urls from text python: https://stackoverflow.com/a/40823105/4084039\nsent_0 = re.sub(r\"http\\S+\", \"\", sent_0)\nsent_1000 = re.sub(r\"http\\S+\", \"\", sent_1000)\nsent_150 = re.sub(r\"http\\S+\", \"\", sent_1500)\nsent_4900 = re.sub(r\"http\\S+\", \"\", sent_4900)\n\nprint(sent_0)",
      "execution_count": null,
      "outputs": []
    },
    {
      "metadata": {
        "trusted": true,
        "_uuid": "78b27aff935466563c0f3657d9036bb4c30279ed"
      },
      "cell_type": "code",
      "source": "# https://stackoverflow.com/questions/16206380/python-beautifulsoup-how-to-remove-all-tags-from-an-element\nfrom bs4 import BeautifulSoup\n\nsoup = BeautifulSoup(sent_0, 'lxml')\ntext = soup.get_text()\nprint(text)\nprint(\"=\"*50)\n\nsoup = BeautifulSoup(sent_1000, 'lxml')\ntext = soup.get_text()\nprint(text)\nprint(\"=\"*50)\n\nsoup = BeautifulSoup(sent_1500, 'lxml')\ntext = soup.get_text()\nprint(text)\nprint(\"=\"*50)\n\nsoup = BeautifulSoup(sent_4900, 'lxml')\ntext = soup.get_text()\nprint(text)",
      "execution_count": null,
      "outputs": []
    },
    {
      "metadata": {
        "trusted": true,
        "_uuid": "9781e325f683293cdcce1da73c72251961af4327"
      },
      "cell_type": "code",
      "source": "# https://stackoverflow.com/a/47091490/4084039\nimport re\n\ndef decontracted(phrase):\n    # specific\n    phrase = re.sub(r\"won't\", \"will not\", phrase)\n    phrase = re.sub(r\"can\\'t\", \"can not\", phrase)\n\n    # general\n    phrase = re.sub(r\"n\\'t\", \" not\", phrase)\n    phrase = re.sub(r\"\\'re\", \" are\", phrase)\n    phrase = re.sub(r\"\\'s\", \" is\", phrase)\n    phrase = re.sub(r\"\\'d\", \" would\", phrase)\n    phrase = re.sub(r\"\\'ll\", \" will\", phrase)\n    phrase = re.sub(r\"\\'t\", \" not\", phrase)\n    phrase = re.sub(r\"\\'ve\", \" have\", phrase)\n    phrase = re.sub(r\"\\'m\", \" am\", phrase)\n    return phrase",
      "execution_count": null,
      "outputs": []
    },
    {
      "metadata": {
        "trusted": true,
        "_uuid": "d5bd26b90d2837c0c945679b4c55c0f5c60d6959"
      },
      "cell_type": "code",
      "source": "sent_1500 = decontracted(sent_1500)\nprint(sent_1500)\nprint(\"=\"*50)",
      "execution_count": null,
      "outputs": []
    },
    {
      "metadata": {
        "trusted": true,
        "_uuid": "e2f789cb3a7f6675a201c7db57af0f5bef094396"
      },
      "cell_type": "code",
      "source": "#remove words with numbers python: https://stackoverflow.com/a/18082370/4084039\nsent_0 = re.sub(\"\\S*\\d\\S*\", \"\", sent_0).strip()\nprint(sent_0)",
      "execution_count": null,
      "outputs": []
    },
    {
      "metadata": {
        "trusted": true,
        "_uuid": "d45fdf33870913ff23e1993ca651507fcbc689fd"
      },
      "cell_type": "code",
      "source": "#remove spacial character: https://stackoverflow.com/a/5843547/4084039\nsent_1500 = re.sub('[^A-Za-z0-9]+', ' ', sent_1500)\nprint(sent_1500)",
      "execution_count": null,
      "outputs": []
    },
    {
      "metadata": {
        "trusted": true,
        "_uuid": "f82f9a95c118ba26d1a8646ce854b9e411f64af1"
      },
      "cell_type": "code",
      "source": "# https://gist.github.com/sebleier/554280\n# we are removing the words from the stop words list: 'no', 'nor', 'not'\n# <br /><br /> ==> after the above steps, we are getting \"br br\"\n# we are including them into stop words list\n# instead of <br /> if we have <br/> these tags would have revmoved in the 1st step\n\nstopwords= set(['br', 'the', 'i', 'me', 'my', 'myself', 'we', 'our', 'ours', 'ourselves', 'you', \"you're\", \"you've\",\\\n            \"you'll\", \"you'd\", 'your', 'yours', 'yourself', 'yourselves', 'he', 'him', 'his', 'himself', \\\n            'she', \"she's\", 'her', 'hers', 'herself', 'it', \"it's\", 'its', 'itself', 'they', 'them', 'their',\\\n            'theirs', 'themselves', 'what', 'which', 'who', 'whom', 'this', 'that', \"that'll\", 'these', 'those', \\\n            'am', 'is', 'are', 'was', 'were', 'be', 'been', 'being', 'have', 'has', 'had', 'having', 'do', 'does', \\\n            'did', 'doing', 'a', 'an', 'the', 'and', 'but', 'if', 'or', 'because', 'as', 'until', 'while', 'of', \\\n            'at', 'by', 'for', 'with', 'about', 'against', 'between', 'into', 'through', 'during', 'before', 'after',\\\n            'above', 'below', 'to', 'from', 'up', 'down', 'in', 'out', 'on', 'off', 'over', 'under', 'again', 'further',\\\n            'then', 'once', 'here', 'there', 'when', 'where', 'why', 'how', 'all', 'any', 'both', 'each', 'few', 'more',\\\n            'most', 'other', 'some', 'such', 'only', 'own', 'same', 'so', 'than', 'too', 'very', \\\n            's', 't', 'can', 'will', 'just', 'don', \"don't\", 'should', \"should've\", 'now', 'd', 'll', 'm', 'o', 're', \\\n            've', 'y', 'ain', 'aren', \"aren't\", 'couldn', \"couldn't\", 'didn', \"didn't\", 'doesn', \"doesn't\", 'hadn',\\\n            \"hadn't\", 'hasn', \"hasn't\", 'haven', \"haven't\", 'isn', \"isn't\", 'ma', 'mightn', \"mightn't\", 'mustn',\\\n            \"mustn't\", 'needn', \"needn't\", 'shan', \"shan't\", 'shouldn', \"shouldn't\", 'wasn', \"wasn't\", 'weren', \"weren't\", \\\n            'won', \"won't\", 'wouldn', \"wouldn't\"])",
      "execution_count": null,
      "outputs": []
    },
    {
      "metadata": {
        "_uuid": "90014d3568d7c91691edea1bfe7cd5dccf2cd375"
      },
      "cell_type": "markdown",
      "source": "<h2><font color='green'>[3.2a]Preprocessing Review Text</font></h2>"
    },
    {
      "metadata": {
        "trusted": true,
        "_uuid": "6eb5a92f98ab7aab9aeaf65eba1044379a916e8b"
      },
      "cell_type": "code",
      "source": "# Combining all the above stundents \nfrom tqdm import tqdm\npreprocessed_reviews = []\n# tqdm is for printing the status bar\nfor sentance in tqdm(final['Text'].values):\n    sentance = re.sub(r\"http\\S+\", \"\", sentance)\n    sentance = BeautifulSoup(sentance, 'lxml').get_text()\n    sentance = decontracted(sentance)\n    sentance = re.sub(\"\\S*\\d\\S*\", \"\", sentance).strip()\n    sentance = re.sub('[^A-Za-z]+', ' ', sentance)\n    # https://gist.github.com/sebleier/554280\n    sentance = ' '.join(e.lower() for e in sentance.split() if e.lower() not in stopwords)\n    preprocessed_reviews.append(sentance.strip())",
      "execution_count": null,
      "outputs": []
    },
    {
      "metadata": {
        "trusted": true,
        "_uuid": "702bd69ff4da25ac2f1e76a1d381a88c64a1ef9d"
      },
      "cell_type": "code",
      "source": "preprocessed_reviews[1500]",
      "execution_count": null,
      "outputs": []
    },
    {
      "metadata": {
        "_uuid": "2f6244a1a5f38b7f66d18b7dc8f990e3304d1cbe"
      },
      "cell_type": "markdown",
      "source": "<h2><font color='green'>[3.2b] Preprocessing Review Summary</font></h2>"
    },
    {
      "metadata": {
        "trusted": true,
        "_uuid": "96e0bfa7b6f47d87aa67a141bb6ed71ae6136460"
      },
      "cell_type": "code",
      "source": "## preprocessing for review summary \nsummary_preprocessed_reviews = []\n# tqdm is for printing the status bar\nfor sentance in tqdm(final['Summary'].values):\n    sentance = re.sub(r\"http\\S+\", \"\", sentance)\n    sentance = BeautifulSoup(sentance, 'lxml').get_text()\n    sentance = decontracted(sentance)\n    sentance = re.sub(\"\\S*\\d\\S*\", \"\", sentance).strip()\n    sentance = re.sub('[^A-Za-z]+', ' ', sentance)\n    # https://gist.github.com/sebleier/554280\n    sentance = ' '.join(e.lower() for e in sentance.split() if e.lower() not in stopwords)\n    summary_preprocessed_reviews.append(sentance.strip())\n\nprint(summary_preprocessed_reviews[1500])\n",
      "execution_count": null,
      "outputs": []
    },
    {
      "metadata": {
        "_uuid": "6404e12ee9149c43bfaf26dd9721d48c59551336"
      },
      "cell_type": "markdown",
      "source": "<h2><font color='black'>Feature Engineering</font></h2>"
    },
    {
      "metadata": {
        "trusted": true,
        "_uuid": "f9ef4476b7f681b7c9e4f8699dbed27ce080f525"
      },
      "cell_type": "code",
      "source": "# Adding review text and Summary text as Input into the data\n\npreprocessed_reviews = [i + ' ' + j for i, j in zip(summary_preprocessed_reviews,preprocessed_reviews)] \nprint(preprocessed_reviews[1500])\n",
      "execution_count": null,
      "outputs": []
    },
    {
      "metadata": {
        "_uuid": "2dbee043de6db3c1b17f257bc445b9d50ec9a312"
      },
      "cell_type": "markdown",
      "source": "# Splitting of Preprocessed data into Train and Test data"
    },
    {
      "metadata": {
        "trusted": true,
        "_uuid": "313e9d3e2bd4603806182c8ff9401bfc739b2a08"
      },
      "cell_type": "code",
      "source": "#Calculating the train and test size and dividing the data into train and test chunks into the 70 - 30 ratio\nimport math\n\npreprocessed_reviews = np.array(preprocessed_reviews) \ntrain_size = math.floor(preprocessed_reviews.shape[0] * 0.7)\n\n#split the data set into train and test\npreprocessed_reviews_train = preprocessed_reviews[: train_size]\npreprocessed_reviews_test  =preprocessed_reviews[train_size : ]  \nScore_train =final['Score'][: train_size ]\nScore_test = final['Score'][train_size : ]\nprint(preprocessed_reviews_train.shape)\nprint(preprocessed_reviews_test.shape)\n# abc = pd.Score_train\n# print(abc.value_counts())\nprint(Score_train.shape)\nprint(Score_test.shape)\nprint(Score_train.value_counts())",
      "execution_count": null,
      "outputs": []
    },
    {
      "metadata": {
        "_uuid": "98fb140201ba633e35e9514b0c77f2f99805f5a3"
      },
      "cell_type": "markdown",
      "source": "# [4] Featurization"
    },
    {
      "metadata": {
        "_uuid": "35a5c2476b28e6bf07ffc5adf717ef2336400cb7"
      },
      "cell_type": "markdown",
      "source": "## [4.1] BAG OF WORDS"
    },
    {
      "metadata": {
        "trusted": true,
        "_uuid": "c3fb9627c5a5bdb301d55ba16b50ef0311a07258"
      },
      "cell_type": "code",
      "source": "#BoW \ncount_vect = CountVectorizer(min_df=5) #in scikit-learn\n\n# BOW on Train data \ncount_vect_train_data = count_vect.fit_transform(preprocessed_reviews_train)\n\n# BOW on Test data  \ncount_vect_test_data = count_vect.transform(preprocessed_reviews_test)\n\nprint(\"some feature names \", count_vect.get_feature_names()[:10])\nprint('='*50)\n\n\nprint(\"the type of count vectorizer of train Preprocessed data\",type(count_vect_train_data))\nprint(\"the type of count vectorizer of test Preprocessed data\",type(count_vect_test_data))\nprint(\"the shape of out text BOW vectorizer on train data\",count_vect_train_data.get_shape())\nprint(\"the shape of out text BOW vectorizer on test data\",count_vect_test_data.get_shape())\nprint(\"the number of unique words \", count_vect_test_data.get_shape()[1])",
      "execution_count": null,
      "outputs": []
    },
    {
      "metadata": {
        "_uuid": "897ea8ab5412987586815fee3aa0f9d1425760ca"
      },
      "cell_type": "markdown",
      "source": "## [4.2] Bi-Grams and n-Grams."
    },
    {
      "metadata": {
        "trusted": true,
        "_uuid": "72f1d74ccfa595b7ea08b9fd253602d484c7124a"
      },
      "cell_type": "code",
      "source": "#bi-gram, tri-gram and n-gram\n\nn_count_vect = CountVectorizer(ngram_range=(1,2), min_df=10)\n\n# bi-gram BOW on Train data and Test data \nn_count_vect_train_data = n_count_vect.fit_transform(preprocessed_reviews_train) \nn_count_vect_test_data = n_count_vect.transform(preprocessed_reviews_test)\n\n\nprint(\"some feature names \", n_count_vect.get_feature_names()[:10])\nprint('='*50)\n\n\nprint(\"the type of count vectorizer of train Preprocessed data\",type(n_count_vect_train_data))\nprint(\"the type of count vectorizer of test Preprocessed data\",type(n_count_vect_test_data))\nprint(\"the shape of out text bi gram BOW vectorizer on train data\",n_count_vect_train_data.get_shape())\nprint(\"the shape of out text bi gram BOW vectorizer on test data\",n_count_vect_test_data.get_shape())\nprint(\"the number of unique words \",n_count_vect_train_data.get_shape()[1])",
      "execution_count": null,
      "outputs": []
    },
    {
      "metadata": {
        "_uuid": "fe9200ac536b66b912e0944e7e251dad82ce1f64"
      },
      "cell_type": "markdown",
      "source": "## [4.3] TF-IDF"
    },
    {
      "metadata": {
        "trusted": true,
        "_uuid": "07f7b699ecfe9a353f62ba2c18ab4d9777673650"
      },
      "cell_type": "code",
      "source": "#Text converting into vector using Tf-Idf\ntf_idf_vect = TfidfVectorizer(ngram_range=(1,2), min_df=10 )\n\n# n-gram TfIdf on Train and Test data \ntfIdf_vect_train_data = tf_idf_vect.fit_transform(preprocessed_reviews_train) \ntfIdf_vect_test_data = tf_idf_vect.transform(preprocessed_reviews_test)\n\nprint(\"some feature names \", tf_idf_vect.get_feature_names()[:10])\nprint('='*50)\n\nprint(\"the type of count vectorizer of train Preprocessed data\",type(tfIdf_vect_train_data))\nprint(\"the type of count vectorizer of test Preprocessed data\",type(tfIdf_vect_test_data))\nprint(\"the shape of out text n-gram TfIdf vectorizer on train data\",tfIdf_vect_train_data.get_shape())\nprint(\"the shape of out text n-gram TfIdf vectorizer on test data\",tfIdf_vect_test_data.get_shape())\nprint(\"the number of unique words \",tfIdf_vect_train_data.get_shape()[1])",
      "execution_count": null,
      "outputs": []
    },
    {
      "metadata": {
        "_uuid": "7144a63859ba7199aa53f9e36bbdc90786887121"
      },
      "cell_type": "markdown",
      "source": "## [4.4] Word2Vec"
    },
    {
      "metadata": {
        "trusted": true,
        "_uuid": "16ea1c5f240f9b07fd7070fca4249fff28570f2b"
      },
      "cell_type": "code",
      "source": "# Train your own Word2Vec model using your own text corpus\nimport gensim\n\ni=0\nlist_of_sentance=[]\nfor sentance in preprocessed_reviews:\n    list_of_sentance.append(sentance.split())\n\nw2v_model=gensim.models.Word2Vec(list_of_sentance,min_count= 5,size=50, workers=4)    ",
      "execution_count": null,
      "outputs": []
    },
    {
      "metadata": {
        "scrolled": true,
        "trusted": true,
        "_uuid": "2ab4119ce33cd571575a3a0578a6b2dadb94cbc0"
      },
      "cell_type": "code",
      "source": "# Using Google News Word2Vectors\n\n# in this project we are using a pretrained model by google\n# its 3.3G file, once you load this into your memory \n# it occupies ~9Gb, so please do this step only if you have >12G of ram\n# we will provide a pickle file wich contains a dict , \n# and it contains all our courpus words as keys and  model[word] as values\n# To use this code-snippet, download \"GoogleNews-vectors-negative300.bin\" \n# from https://drive.google.com/file/d/0B7XkCwpI5KDYNlNUTTlSS21pQmM/edit\n# it's 1.9GB in size.\n\n\n# http://kavita-ganesan.com/gensim-word2vec-tutorial-starter-code/#.W17SRFAzZPY\n# you can comment this whole cell\n# or change these varible according to your need\n\nis_your_ram_gt_16g=False\nwant_to_use_google_w2v = False\nwant_to_train_w2v = False\n\nif want_to_train_w2v:\n    # min_count = 5 considers only words that occured atleast 5 times\n    w2v_model=Word2Vec(list_of_sentance,min_count=5,size=50, workers=4)\n    print(w2v_model.wv.most_similar('great'))\n    print('='*50)\n    print(w2v_model.wv.most_similar('worst'))\n    \nelif want_to_use_google_w2v and is_your_ram_gt_16g:\n    if os.path.isfile('GoogleNews-vectors-negative300.bin'):\n        w2v_model=KeyedVectors.load_word2vec_format('GoogleNews-vectors-negative300.bin', binary=True)\n        print(w2v_model.wv.most_similar('great'))\n        print(w2v_model.wv.most_similar('worst'))\n    else:\n        print(\"you don't have gogole's word2vec file, keep want_to_train_w2v = True, to train your own w2v \")",
      "execution_count": null,
      "outputs": []
    },
    {
      "metadata": {
        "trusted": true,
        "_uuid": "4bc8642746b385c77b811cc6f30ac9962470216f"
      },
      "cell_type": "code",
      "source": "w2v_words = list(w2v_model.wv.vocab)\nprint(\"number of words that occured minimum 5 times \",len(w2v_words))\nprint(\"sample words \", w2v_words[0:50])",
      "execution_count": null,
      "outputs": []
    },
    {
      "metadata": {
        "_uuid": "7daf03faafda994e4e0decfe59236741f0af62d3"
      },
      "cell_type": "markdown",
      "source": "## [4.4.1] Converting text into vectors using Avg W2V, TFIDF-W2V"
    },
    {
      "metadata": {
        "_uuid": "ff505ef6728d70817e282af934bcb2c033e33bd5"
      },
      "cell_type": "markdown",
      "source": "#### [4.4.1.1] Avg W2v"
    },
    {
      "metadata": {
        "trusted": true,
        "_uuid": "e9c7bd2c5578ec4294da9e67e458b2a0f634d6b0"
      },
      "cell_type": "code",
      "source": "# average Word2Vec\n# compute average word2vec for each review.\nsent_vectors = []; # the avg-w2v for each sentence/review is stored in this list\nfor sent in tqdm(list_of_sentance): # for each review/sentence\n    sent_vec = np.zeros(50) # as word vectors are of zero length 50, you might need to change this to 300 if you use google's w2v\n    cnt_words =0; # num of words with a valid vector in the sentence/review\n    for word in sent: # for each word in a review/sentence\n        if word in w2v_words:\n            vec = w2v_model.wv[word]\n            sent_vec += vec\n            cnt_words += 1\n    if cnt_words != 0:\n        sent_vec /= cnt_words\n    sent_vectors.append(sent_vec)\nprint(len(sent_vectors))\nprint(len(sent_vectors[0]))",
      "execution_count": null,
      "outputs": []
    },
    {
      "metadata": {
        "_uuid": "208fe8da025ab1e85303356b0c5f1916efd79843"
      },
      "cell_type": "markdown",
      "source": "#### [4.4.1.2] TFIDF weighted W2v"
    },
    {
      "metadata": {
        "trusted": true,
        "_uuid": "425d30474c811999e2066871cc5d11adcef3ecf9"
      },
      "cell_type": "code",
      "source": "# S = [\"abc def pqr\", \"def def def abc\", \"pqr pqr def\"]\nmodel = TfidfVectorizer()\ntf_idf_matrix = model.fit_transform(preprocessed_reviews)\n# we are converting a dictionary with word as a key, and the idf as a value\ndictionary = dict(zip(model.get_feature_names(), list(model.idf_)))",
      "execution_count": null,
      "outputs": []
    },
    {
      "metadata": {
        "scrolled": true,
        "trusted": true,
        "_uuid": "bf1d4e3f48c7dabb9bd6d9c624f6c8bc2ec91c81"
      },
      "cell_type": "code",
      "source": "# TF-IDF weighted Word2Vec\ntfidf_feat = model.get_feature_names() # tfidf words/col-names\n# final_tf_idf is the sparse matrix with row= sentence, col=word and cell_val = tfidf\n\ntfidf_sent_vectors = []; # the tfidf-w2v for each sentence/review is stored in this list\nrow=0;\nfor sent in tqdm(list_of_sentance): # for each review/sentence \n    sent_vec = np.zeros(50) # as word vectors are of zero length\n    weight_sum =0; # num of words with a valid vector in the sentence/review\n    for word in sent: # for each word in a review/sentence\n        if word in w2v_words and word in tfidf_feat:\n            vec = w2v_model.wv[word]\n#             tf_idf = tf_idf_matrix[row, tfidf_feat.index(word)]\n            # to reduce the computation we are \n            # dictionary[word] = idf value of word in whole courpus\n            # sent.count(word) = tf valeus of word in this review\n            tf_idf = dictionary[word]*(sent.count(word)/len(sent))\n            sent_vec += (vec * tf_idf)\n            weight_sum += tf_idf\n    if weight_sum != 0:\n        sent_vec /= weight_sum\n    tfidf_sent_vectors.append(sent_vec)\n    row += 1",
      "execution_count": null,
      "outputs": []
    },
    {
      "metadata": {
        "_uuid": "d7a6cd005c15bd052d9140d9dc943dff0718e449"
      },
      "cell_type": "markdown",
      "source": "# [5] Assignment 4: Apply Naive Bayes"
    },
    {
      "metadata": {
        "_uuid": "e9d2ed5f212c7fd908f3930d58d29c39c2e02688"
      },
      "cell_type": "markdown",
      "source": "<ol>\n    <li><strong>Apply Multinomial NaiveBayes on these feature sets</strong>\n        <ul>\n            <li><font color='red'>SET 1:</font>Review text, preprocessed one converted into vectors using (BOW)</li>\n            <li><font color='red'>SET 2:</font>Review text, preprocessed one converted into vectors using (TFIDF)</li>\n        </ul>\n    </li>\n    <br>\n    <li><strong>The hyper paramter tuning(find best Alpha)</strong>\n        <ul>\n    <li>Find the best hyper parameter which will give the maximum <a href='https://www.appliedaicourse.com/course/applied-ai-course-online/lessons/receiver-operating-characteristic-curve-roc-curve-and-auc-1/'>AUC</a> value</li>\n    <li>Consider a wide range of alpha values for hyperparameter tuning, start as low as 0.00001</li>\n    <li>Find the best hyper paramter using k-fold cross validation or simple cross validation data</li>\n    <li>Use gridsearch cv or randomsearch cv or you can also write your own for loops to do this task of hyperparameter tuning</li>\n        </ul>\n    </li>\n    <br>\n    <li><strong>Feature importance</strong>\n        <ul>\n    <li>Find the top 10 features of positive class and top 10 features of negative class for both feature sets <font color='red'>Set 1</font> and <font color='red'>Set 2</font> using absolute values of `coef_` parameter of  <a href='https://scikit-learn.org/stable/modules/generated/sklearn.naive_bayes.MultinomialNB.html'>MultinomialNB</a> and print their corresponding feature names</li>\n        </ul>\n    </li>\n    <br>\n    <li><strong>Feature engineering</strong>\n        <ul>\n    <li>To increase the performance of your model, you can also experiment with with feature engineering like :</li>\n            <ul>\n            <li>Taking length of reviews as another feature.</li>\n            <li>Considering some features from review summary as well.</li>\n        </ul>\n        </ul>\n    </li>\n    <br>\n    <li><strong>Representation of results</strong>\n        <ul>\n    <li>You need to plot the performance of model both on train data and cross validation data for each hyper parameter, like shown in the figure. Here on X-axis you will have alpha values, since they have a wide range, just to represent those alpha values on the graph, apply log function on those alpha values.\n    <img src='train_cv_auc.JPG' width=300px></li>\n    <li>Once after you found the best hyper parameter, you need to train your model with it, and find the AUC on test data and plot the ROC curve on both train and test.\n    <img src='train_test_auc.JPG' width=300px></li>\n    <li>Along with plotting ROC curve, you need to print the <a href='https://www.appliedaicourse.com/course/applied-ai-course-online/lessons/confusion-matrix-tpr-fpr-fnr-tnr-1/'>confusion matrix</a> with predicted and original labels of test data points. Please visualize your confusion matrices using <a href='https://seaborn.pydata.org/generated/seaborn.heatmap.html'>seaborn heatmaps.\n    <img src='confusion_matrix.png' width=300px></li>\n        </ul>\n    </li>\n    <br>\n    <li><strong>Conclusion</strong>\n        <ul>\n    <li>You need to summarize the results at the end of the notebook, summarize it in the table format. To print out a table please refer to this prettytable library<a href='http://zetcode.com/python/prettytable/'>  link</a> \n        <img src='summary.JPG' width=400px>\n    </li>\n        </ul>\n</ol>"
    },
    {
      "metadata": {
        "_uuid": "d2a44b8b088adcf2244db9fdb0ed65bc3806b51b"
      },
      "cell_type": "markdown",
      "source": "<h4><font color='red'>Note: Data Leakage</font></h4>\n\n1. There will be an issue of data-leakage if you vectorize the entire data and then split it into train/cv/test.\n2. To avoid the issue of data-leakag, make sure to split your data first and then vectorize it. \n3. While vectorizing your data, apply the method fit_transform() on you train data, and apply the method transform() on cv/test data.\n4. For more details please go through this <a href='https://soundcloud.com/applied-ai-course/leakage-bow-and-tfidf'>link.</a>"
    },
    {
      "metadata": {
        "_uuid": "a79a81ba8f54daa3b3a3b0f9dcb637411b672e8e"
      },
      "cell_type": "markdown",
      "source": "# Functions for Naive Bayes Accuracy"
    },
    {
      "metadata": {
        "trusted": true,
        "_uuid": "3899567f5d89b3e25b84a13af0b6c2386c7636c0"
      },
      "cell_type": "code",
      "source": "from sklearn.naive_bayes import MultinomialNB\nfrom sklearn.model_selection import GridSearchCV\n\n#Function to return KNN_Optimal parameter and Draw plot of area under roc curve vs Number of neighbors\ndef NaiveBayes_accuracy(Train_data ,Score_train ):\n    #possible number of alpha\n    alphas =  np.array([0.00001, 0.00003, 0.0001, 0.0003, 0.001, 0.003, 0.01, 0.03, 0.1, 0.3, 1, 3, 10,30,100,300,1000])\n    param_grid = dict(alpha = alphas)\n    \n    NB_Optimal = MultinomialNB()\n    grid = GridSearchCV(NB_Optimal, param_grid=param_grid,scoring='roc_auc',cv=5,  n_jobs=-1)\n    grid_result = grid.fit(Train_data , Score_train)\n    \n    # summarize results\n    print(\"Best: %f using %s\" % (grid_result.best_score_, grid_result.best_params_))\n    means = grid_result.cv_results_['mean_test_score']\n    \n    # Plot graph between grid cross validation result and number of neighbors\n    plt.plot(alphas , means, marker = '*') \n    plt.title(\"Area under Roc Curve vs alpha\")\n    plt.xlabel('alpha')\n    plt.ylabel('Area')\n    plt.show()\n    return grid_result.best_params_['alpha']\n\n\n# Function to  plot graph on area under roc curve on test and train data and print confusion matrix\ndef plot_Graph(alpha, Train_data, Train_label, Test_data, Test_label):\n    #Train KNN on optimal parameter\n    NB_Optimal = MultinomialNB(alpha = alpha)\n    # fitting the model\n    NB_Optimal.fit(Train_data, Train_label)\n\n    #predict the probability of Train data and test data from model\n    train_log_proba = NB_Optimal.predict_log_proba(Train_data)\n    test_log_proba =  NB_Optimal.predict_log_proba(Test_data)\n    \n    #Calculate the Class \n    train_pred = np.argmax(train_log_proba, axis=1) \n    test_pred =  np.argmax(test_log_proba, axis=1)\n    \n    #Compute fpr and tpr from the predicted label and  True label of train data and test data\n    fpr_train, tpr_train,_ = roc_curve(Train_label, train_pred)\n    fpr_test, tpr_test,_ = roc_curve(Test_label, test_pred)\n    \n    # Compute area under roc curve\n    area_train = auc(fpr_train, tpr_train)\n    area_test = auc(fpr_test, tpr_test)\n    \n    lw =2\n    plt.plot(fpr_test, tpr_test, color='darkorange',lw=lw, label='ROC curve of Test data (area = %0.2f)' % area_test)\n    plt.plot(fpr_train, tpr_train, color='green',lw=lw, label='ROC curve of Train data(area = %0.2f)' % area_train)\n    plt.plot([0, 1], [0, 1], color='navy', lw=lw, linestyle='--')\n    plt.xlim([0.0, 1.0])\n    plt.ylim([0.0, 1.05])\n    plt.xlabel('False Positive Rate')\n    plt.ylabel('True Positive Rate')\n    plt.title('Receiver operating characteristic example')\n    plt.legend(loc=\"lower right\")\n    \n    # Confusion matrix\n    plt.figure()\n    cm = confusion_matrix(Test_label, test_pred)\n    class_label = [\"negative\", \"positive\"]\n    df_cm = pd.DataFrame(cm, index = class_label, columns = class_label)\n    sns.heatmap(df_cm, annot = True, fmt = \"d\")\n    plt.title(\"Confusiion Matrix\")\n    plt.xlabel(\"Predicted Label\")\n    plt.ylabel(\"True Label\")\n    plt.show()\n    ",
      "execution_count": null,
      "outputs": []
    },
    {
      "metadata": {
        "_uuid": "756dee1fc1179bffbf965f5b6f5b8570326e43da"
      },
      "cell_type": "markdown",
      "source": "# Applying Multinomial Naive Bayes"
    },
    {
      "metadata": {
        "_uuid": "398a97dff7fa1b623bb218bfe8dd76c44a1963c4"
      },
      "cell_type": "markdown",
      "source": "## [5.1] Applying Naive Bayes on BOW,<font color='red'> SET 1</font>"
    },
    {
      "metadata": {
        "trusted": true,
        "_uuid": "32a3ebef7b6483912210a33a558c0fc21ac196c8"
      },
      "cell_type": "code",
      "source": "import warnings\nwarnings.filterwarnings(\"ignore\")\n\n# Find optimal value of aplha\nBOW_optimal_alpha = NaiveBayes_accuracy(n_count_vect_train_data , Score_train)\n\n#Plot the graph on area under roc curve on test and train data and print confusion matrix\nplot_Graph(BOW_optimal_alpha , n_count_vect_train_data, Score_train, n_count_vect_test_data, Score_test)",
      "execution_count": null,
      "outputs": []
    },
    {
      "metadata": {
        "_uuid": "33bce5db945035b796a549d8736deebde7872b81"
      },
      "cell_type": "markdown",
      "source": "### [5.1.1] Top 10 important features of positive class from<font color='red'> SET 1</font>"
    },
    {
      "metadata": {
        "trusted": true,
        "_uuid": "29079ba84445769f4fb15349a4877e5be6437d30"
      },
      "cell_type": "code",
      "source": "# Train model with optimal value of alpha\nNB_optimal = MultinomialNB(alpha = BOW_optimal_alpha)\n    \n# fitting the model\nNB_optimal.fit(n_count_vect_train_data, Score_train)\n\n# Top 10 positive  Features After Naive Bayes\npos_class_prob_sorted = NB_optimal.feature_log_prob_[1, :].argsort()\nprint(np.take(count_vect.get_feature_names(), pos_class_prob_sorted[:10]))",
      "execution_count": null,
      "outputs": []
    },
    {
      "metadata": {
        "_uuid": "7172358a992fd3273d157eec47d44e49453a2d46"
      },
      "cell_type": "markdown",
      "source": "### [5.1.2] Top 10 important features of negative class from<font color='red'> SET 1</font>"
    },
    {
      "metadata": {
        "trusted": true,
        "_uuid": "727ef9818f70e9bc32c643d5bd4152f38fe07ebd"
      },
      "cell_type": "code",
      "source": "# Top 10 negative Features After Naive Bayes\nneg_class_prob_sorted = NB_optimal.feature_log_prob_[0, :].argsort()\nprint(np.take(count_vect.get_feature_names(), neg_class_prob_sorted[:10]))",
      "execution_count": null,
      "outputs": []
    },
    {
      "metadata": {
        "_uuid": "7add84a8862a545c6b5ab657c3b9e650abb4a300"
      },
      "cell_type": "markdown",
      "source": "## [5.2] Applying Naive Bayes on TFIDF,<font color='red'> SET 2</font>"
    },
    {
      "metadata": {
        "trusted": true,
        "_uuid": "0922f6647c974127e7f1395afc6d2df7d1abd395"
      },
      "cell_type": "code",
      "source": "import warnings\nwarnings.filterwarnings(\"ignore\")\n\n# Find optimal value of aplha\ntfIdf_optimal_alpha = NaiveBayes_accuracy(tfIdf_vect_train_data , Score_train)\n\n#Plot the graph on area under roc curve on test and train data and print confusion matrix\nplot_Graph(tfIdf_optimal_alpha , tfIdf_vect_train_data , Score_train, tfIdf_vect_test_data , Score_test)",
      "execution_count": null,
      "outputs": []
    },
    {
      "metadata": {
        "_uuid": "2d9699bff6c11ce6aab1dedbc115d81d0ee30e91"
      },
      "cell_type": "markdown",
      "source": "### [5.2.1] Top 10 important features of positive class from<font color='red'> SET 2</font>"
    },
    {
      "metadata": {
        "trusted": true,
        "_uuid": "170bebc95e32fdfcb4fbe3b971c5f9299be7ee6f"
      },
      "cell_type": "code",
      "source": "# Train model with optimal value of alpha\nNB_optimal_TfIdf = MultinomialNB(alpha = tfIdf_optimal_alpha)\n    \n# fitting the model\nNB_optimal_TfIdf.fit(tfIdf_vect_train_data , Score_train)\n\n# Top 10 positive  Features After Naive Bayes\npos_class_prob_sorted = NB_optimal_TfIdf.feature_log_prob_[1, :].argsort()\nprint(np.take(count_vect.get_feature_names(), pos_class_prob_sorted[:10]))",
      "execution_count": null,
      "outputs": []
    },
    {
      "metadata": {
        "_uuid": "8970653183e3885bd01d695cd3b2ad56f2f93c83"
      },
      "cell_type": "markdown",
      "source": "### [5.2.2] Top 10 important features of negative class from<font color='red'> SET 2</font>"
    },
    {
      "metadata": {
        "trusted": true,
        "_uuid": "d7b67d26baf3bd6a5d38393751291b765c061a21"
      },
      "cell_type": "code",
      "source": "# Top 10 negative Features After Naive Bayes\nneg_class_prob_sorted = NB_optimal_TfIdf.feature_log_prob_[0, :].argsort()\nprint(np.take(count_vect.get_feature_names(), neg_class_prob_sorted[:10]))",
      "execution_count": null,
      "outputs": []
    },
    {
      "metadata": {
        "_uuid": "a78a3b3f60fa7667a412f14e03f4bcecd61cb80b"
      },
      "cell_type": "markdown",
      "source": "# [6] Conclusions"
    },
    {
      "metadata": {
        "trusted": true,
        "_uuid": "e5f5a0a07e97bdb214f95e8e4717f9d6371f54ac"
      },
      "cell_type": "code",
      "source": "from prettytable import PrettyTable\n\nx = PrettyTable()\n\nx.field_names = [\"Algorithm\", \"Optimal value of alpha\" , \"Train_data_AUC\", \"\", \"CrossValidation_data_AUC\", \"Test_data_AUC\"]\nx.add_row([\"Naive Bayes with n(1,2) gram BOW  \" , 1.0 , 0.90 , 0.885711 , 0.80 ])\nx.add_row([\"Naive Bayes with TfIdf            \" , 0.3 , 0.69 , 0.941824 , 0.68 ])\n\nprint(x)",
      "execution_count": null,
      "outputs": []
    },
    {
      "metadata": {
        "trusted": true,
        "_uuid": "7f6c49f3b0d1a7217fb03f4313254d76cc1c2a56"
      },
      "cell_type": "code",
      "source": "-> when taken summary as a review test performance increses",
      "execution_count": null,
      "outputs": []
    },
    {
      "metadata": {
        "trusted": true,
        "_uuid": "28b3d59a898fe5f7050a717e9f27d59335e31e0e"
      },
      "cell_type": "code",
      "source": "",
      "execution_count": null,
      "outputs": []
    },
    {
      "metadata": {
        "trusted": true,
        "_uuid": "b9ea2ea38200cadf20a9e8060d0023c3c64cca77"
      },
      "cell_type": "code",
      "source": "",
      "execution_count": null,
      "outputs": []
    }
  ],
  "metadata": {
    "kernelspec": {
      "display_name": "Python 3",
      "language": "python",
      "name": "python3"
    },
    "language_info": {
      "name": "python",
      "version": "3.6.6",
      "mimetype": "text/x-python",
      "codemirror_mode": {
        "name": "ipython",
        "version": 3
      },
      "pygments_lexer": "ipython3",
      "nbconvert_exporter": "python",
      "file_extension": ".py"
    }
  },
  "nbformat": 4,
  "nbformat_minor": 1
}