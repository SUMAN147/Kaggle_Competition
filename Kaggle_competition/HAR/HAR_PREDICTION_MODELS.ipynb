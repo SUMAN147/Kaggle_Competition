{
  "nbformat": 4,
  "nbformat_minor": 0,
  "metadata": {
    "kernelspec": {
      "display_name": "Python 3",
      "language": "python",
      "name": "python3"
    },
    "language_info": {
      "codemirror_mode": {
        "name": "ipython",
        "version": 3
      },
      "file_extension": ".py",
      "mimetype": "text/x-python",
      "name": "python",
      "nbconvert_exporter": "python",
      "pygments_lexer": "ipython3",
      "version": "3.6.1"
    },
    "colab": {
      "name": "HAR_PREDICTION_MODELS.ipynb",
      "version": "0.3.2",
      "provenance": []
    }
  },
  "cells": [
    {
      "cell_type": "code",
      "metadata": {
        "id": "5WvlaOC301Dr",
        "colab_type": "code",
        "colab": {}
      },
      "source": [
        "import numpy as np\n",
        "import pandas as pd"
      ],
      "execution_count": 0,
      "outputs": []
    },
    {
      "cell_type": "markdown",
      "metadata": {
        "id": "OcKJWhlJ01Dw",
        "colab_type": "text"
      },
      "source": [
        "## Obtain the train and test data"
      ]
    },
    {
      "cell_type": "code",
      "metadata": {
        "scrolled": false,
        "id": "_q-tD2Dj01Dx",
        "colab_type": "code",
        "colab": {
          "base_uri": "https://localhost:8080/",
          "height": 34
        },
        "outputId": "4acf60bb-329b-4dcb-a30e-6dc29e3b160b"
      },
      "source": [
        "train = pd.read_csv('/content/drive/My Drive/HumanActivityRecognition/HAR/UCI_HAR_Dataset/csv_files/train.csv')\n",
        "test = pd.read_csv('/content/drive/My Drive/HumanActivityRecognition/HAR/UCI_HAR_Dataset/csv_files/test.csv')\n",
        "print(train.shape, test.shape)"
      ],
      "execution_count": 28,
      "outputs": [
        {
          "output_type": "stream",
          "text": [
            "(7352, 564) (2947, 564)\n"
          ],
          "name": "stdout"
        }
      ]
    },
    {
      "cell_type": "code",
      "metadata": {
        "scrolled": true,
        "id": "K7ujThzF01D2",
        "colab_type": "code",
        "colab": {
          "base_uri": "https://localhost:8080/",
          "height": 185
        },
        "outputId": "5921dfe8-d684-490c-b6a1-6e9b8f8cfb55"
      },
      "source": [
        "train.head(3)"
      ],
      "execution_count": 6,
      "outputs": [
        {
          "output_type": "execute_result",
          "data": {
            "text/html": [
              "<div>\n",
              "<style scoped>\n",
              "    .dataframe tbody tr th:only-of-type {\n",
              "        vertical-align: middle;\n",
              "    }\n",
              "\n",
              "    .dataframe tbody tr th {\n",
              "        vertical-align: top;\n",
              "    }\n",
              "\n",
              "    .dataframe thead th {\n",
              "        text-align: right;\n",
              "    }\n",
              "</style>\n",
              "<table border=\"1\" class=\"dataframe\">\n",
              "  <thead>\n",
              "    <tr style=\"text-align: right;\">\n",
              "      <th></th>\n",
              "      <th>tBodyAccmeanX</th>\n",
              "      <th>tBodyAccmeanY</th>\n",
              "      <th>tBodyAccmeanZ</th>\n",
              "      <th>tBodyAccstdX</th>\n",
              "      <th>tBodyAccstdY</th>\n",
              "      <th>tBodyAccstdZ</th>\n",
              "      <th>tBodyAccmadX</th>\n",
              "      <th>tBodyAccmadY</th>\n",
              "      <th>tBodyAccmadZ</th>\n",
              "      <th>tBodyAccmaxX</th>\n",
              "      <th>tBodyAccmaxY</th>\n",
              "      <th>tBodyAccmaxZ</th>\n",
              "      <th>tBodyAccminX</th>\n",
              "      <th>tBodyAccminY</th>\n",
              "      <th>tBodyAccminZ</th>\n",
              "      <th>tBodyAccsma</th>\n",
              "      <th>tBodyAccenergyX</th>\n",
              "      <th>tBodyAccenergyY</th>\n",
              "      <th>tBodyAccenergyZ</th>\n",
              "      <th>tBodyAcciqrX</th>\n",
              "      <th>tBodyAcciqrY</th>\n",
              "      <th>tBodyAcciqrZ</th>\n",
              "      <th>tBodyAccentropyX</th>\n",
              "      <th>tBodyAccentropyY</th>\n",
              "      <th>tBodyAccentropyZ</th>\n",
              "      <th>tBodyAccarCoeffX1</th>\n",
              "      <th>tBodyAccarCoeffX2</th>\n",
              "      <th>tBodyAccarCoeffX3</th>\n",
              "      <th>tBodyAccarCoeffX4</th>\n",
              "      <th>tBodyAccarCoeffY1</th>\n",
              "      <th>tBodyAccarCoeffY2</th>\n",
              "      <th>tBodyAccarCoeffY3</th>\n",
              "      <th>tBodyAccarCoeffY4</th>\n",
              "      <th>tBodyAccarCoeffZ1</th>\n",
              "      <th>tBodyAccarCoeffZ2</th>\n",
              "      <th>tBodyAccarCoeffZ3</th>\n",
              "      <th>tBodyAccarCoeffZ4</th>\n",
              "      <th>tBodyAcccorrelationXY</th>\n",
              "      <th>tBodyAcccorrelationXZ</th>\n",
              "      <th>tBodyAcccorrelationYZ</th>\n",
              "      <th>...</th>\n",
              "      <th>fBodyBodyAccJerkMagmaxInds</th>\n",
              "      <th>fBodyBodyAccJerkMagmeanFreq</th>\n",
              "      <th>fBodyBodyAccJerkMagskewness</th>\n",
              "      <th>fBodyBodyAccJerkMagkurtosis</th>\n",
              "      <th>fBodyBodyGyroMagmean</th>\n",
              "      <th>fBodyBodyGyroMagstd</th>\n",
              "      <th>fBodyBodyGyroMagmad</th>\n",
              "      <th>fBodyBodyGyroMagmax</th>\n",
              "      <th>fBodyBodyGyroMagmin</th>\n",
              "      <th>fBodyBodyGyroMagsma</th>\n",
              "      <th>fBodyBodyGyroMagenergy</th>\n",
              "      <th>fBodyBodyGyroMagiqr</th>\n",
              "      <th>fBodyBodyGyroMagentropy</th>\n",
              "      <th>fBodyBodyGyroMagmaxInds</th>\n",
              "      <th>fBodyBodyGyroMagmeanFreq</th>\n",
              "      <th>fBodyBodyGyroMagskewness</th>\n",
              "      <th>fBodyBodyGyroMagkurtosis</th>\n",
              "      <th>fBodyBodyGyroJerkMagmean</th>\n",
              "      <th>fBodyBodyGyroJerkMagstd</th>\n",
              "      <th>fBodyBodyGyroJerkMagmad</th>\n",
              "      <th>fBodyBodyGyroJerkMagmax</th>\n",
              "      <th>fBodyBodyGyroJerkMagmin</th>\n",
              "      <th>fBodyBodyGyroJerkMagsma</th>\n",
              "      <th>fBodyBodyGyroJerkMagenergy</th>\n",
              "      <th>fBodyBodyGyroJerkMagiqr</th>\n",
              "      <th>fBodyBodyGyroJerkMagentropy</th>\n",
              "      <th>fBodyBodyGyroJerkMagmaxInds</th>\n",
              "      <th>fBodyBodyGyroJerkMagmeanFreq</th>\n",
              "      <th>fBodyBodyGyroJerkMagskewness</th>\n",
              "      <th>fBodyBodyGyroJerkMagkurtosis</th>\n",
              "      <th>angletBodyAccMeangravity</th>\n",
              "      <th>angletBodyAccJerkMeangravityMean</th>\n",
              "      <th>angletBodyGyroMeangravityMean</th>\n",
              "      <th>angletBodyGyroJerkMeangravityMean</th>\n",
              "      <th>angleXgravityMean</th>\n",
              "      <th>angleYgravityMean</th>\n",
              "      <th>angleZgravityMean</th>\n",
              "      <th>subject</th>\n",
              "      <th>Activity</th>\n",
              "      <th>ActivityName</th>\n",
              "    </tr>\n",
              "  </thead>\n",
              "  <tbody>\n",
              "    <tr>\n",
              "      <th>0</th>\n",
              "      <td>0.288585</td>\n",
              "      <td>-0.020294</td>\n",
              "      <td>-0.132905</td>\n",
              "      <td>-0.995279</td>\n",
              "      <td>-0.983111</td>\n",
              "      <td>-0.913526</td>\n",
              "      <td>-0.995112</td>\n",
              "      <td>-0.983185</td>\n",
              "      <td>-0.923527</td>\n",
              "      <td>-0.934724</td>\n",
              "      <td>-0.567378</td>\n",
              "      <td>-0.744413</td>\n",
              "      <td>0.852947</td>\n",
              "      <td>0.685845</td>\n",
              "      <td>0.814263</td>\n",
              "      <td>-0.965523</td>\n",
              "      <td>-0.999945</td>\n",
              "      <td>-0.999863</td>\n",
              "      <td>-0.994612</td>\n",
              "      <td>-0.994231</td>\n",
              "      <td>-0.987614</td>\n",
              "      <td>-0.943220</td>\n",
              "      <td>-0.407747</td>\n",
              "      <td>-0.679338</td>\n",
              "      <td>-0.602122</td>\n",
              "      <td>0.929294</td>\n",
              "      <td>-0.853011</td>\n",
              "      <td>0.359910</td>\n",
              "      <td>-0.058526</td>\n",
              "      <td>0.256892</td>\n",
              "      <td>-0.224848</td>\n",
              "      <td>0.264106</td>\n",
              "      <td>-0.095246</td>\n",
              "      <td>0.278851</td>\n",
              "      <td>-0.465085</td>\n",
              "      <td>0.491936</td>\n",
              "      <td>-0.190884</td>\n",
              "      <td>0.376314</td>\n",
              "      <td>0.435129</td>\n",
              "      <td>0.660790</td>\n",
              "      <td>...</td>\n",
              "      <td>-0.936508</td>\n",
              "      <td>0.346989</td>\n",
              "      <td>-0.516080</td>\n",
              "      <td>-0.802760</td>\n",
              "      <td>-0.980135</td>\n",
              "      <td>-0.961309</td>\n",
              "      <td>-0.973653</td>\n",
              "      <td>-0.952264</td>\n",
              "      <td>-0.989498</td>\n",
              "      <td>-0.980135</td>\n",
              "      <td>-0.999240</td>\n",
              "      <td>-0.992656</td>\n",
              "      <td>-0.701291</td>\n",
              "      <td>-1.000000</td>\n",
              "      <td>-0.128989</td>\n",
              "      <td>0.586156</td>\n",
              "      <td>0.374605</td>\n",
              "      <td>-0.991990</td>\n",
              "      <td>-0.990697</td>\n",
              "      <td>-0.989941</td>\n",
              "      <td>-0.992448</td>\n",
              "      <td>-0.991048</td>\n",
              "      <td>-0.991990</td>\n",
              "      <td>-0.999937</td>\n",
              "      <td>-0.990458</td>\n",
              "      <td>-0.871306</td>\n",
              "      <td>-1.000000</td>\n",
              "      <td>-0.074323</td>\n",
              "      <td>-0.298676</td>\n",
              "      <td>-0.710304</td>\n",
              "      <td>-0.112754</td>\n",
              "      <td>0.030400</td>\n",
              "      <td>-0.464761</td>\n",
              "      <td>-0.018446</td>\n",
              "      <td>-0.841247</td>\n",
              "      <td>0.179941</td>\n",
              "      <td>-0.058627</td>\n",
              "      <td>1</td>\n",
              "      <td>5</td>\n",
              "      <td>STANDING</td>\n",
              "    </tr>\n",
              "    <tr>\n",
              "      <th>1</th>\n",
              "      <td>0.278419</td>\n",
              "      <td>-0.016411</td>\n",
              "      <td>-0.123520</td>\n",
              "      <td>-0.998245</td>\n",
              "      <td>-0.975300</td>\n",
              "      <td>-0.960322</td>\n",
              "      <td>-0.998807</td>\n",
              "      <td>-0.974914</td>\n",
              "      <td>-0.957686</td>\n",
              "      <td>-0.943068</td>\n",
              "      <td>-0.557851</td>\n",
              "      <td>-0.818409</td>\n",
              "      <td>0.849308</td>\n",
              "      <td>0.685845</td>\n",
              "      <td>0.822637</td>\n",
              "      <td>-0.981930</td>\n",
              "      <td>-0.999991</td>\n",
              "      <td>-0.999788</td>\n",
              "      <td>-0.998405</td>\n",
              "      <td>-0.999150</td>\n",
              "      <td>-0.977866</td>\n",
              "      <td>-0.948225</td>\n",
              "      <td>-0.714892</td>\n",
              "      <td>-0.500930</td>\n",
              "      <td>-0.570979</td>\n",
              "      <td>0.611627</td>\n",
              "      <td>-0.329549</td>\n",
              "      <td>0.284213</td>\n",
              "      <td>0.284595</td>\n",
              "      <td>0.115705</td>\n",
              "      <td>-0.090963</td>\n",
              "      <td>0.294310</td>\n",
              "      <td>-0.281211</td>\n",
              "      <td>0.085988</td>\n",
              "      <td>-0.022153</td>\n",
              "      <td>-0.016657</td>\n",
              "      <td>-0.220643</td>\n",
              "      <td>-0.013429</td>\n",
              "      <td>-0.072692</td>\n",
              "      <td>0.579382</td>\n",
              "      <td>...</td>\n",
              "      <td>-0.841270</td>\n",
              "      <td>0.532061</td>\n",
              "      <td>-0.624871</td>\n",
              "      <td>-0.900160</td>\n",
              "      <td>-0.988296</td>\n",
              "      <td>-0.983322</td>\n",
              "      <td>-0.982659</td>\n",
              "      <td>-0.986321</td>\n",
              "      <td>-0.991829</td>\n",
              "      <td>-0.988296</td>\n",
              "      <td>-0.999811</td>\n",
              "      <td>-0.993979</td>\n",
              "      <td>-0.720683</td>\n",
              "      <td>-0.948718</td>\n",
              "      <td>-0.271958</td>\n",
              "      <td>-0.336310</td>\n",
              "      <td>-0.720015</td>\n",
              "      <td>-0.995854</td>\n",
              "      <td>-0.996399</td>\n",
              "      <td>-0.995442</td>\n",
              "      <td>-0.996866</td>\n",
              "      <td>-0.994440</td>\n",
              "      <td>-0.995854</td>\n",
              "      <td>-0.999981</td>\n",
              "      <td>-0.994544</td>\n",
              "      <td>-1.000000</td>\n",
              "      <td>-1.000000</td>\n",
              "      <td>0.158075</td>\n",
              "      <td>-0.595051</td>\n",
              "      <td>-0.861499</td>\n",
              "      <td>0.053477</td>\n",
              "      <td>-0.007435</td>\n",
              "      <td>-0.732626</td>\n",
              "      <td>0.703511</td>\n",
              "      <td>-0.844788</td>\n",
              "      <td>0.180289</td>\n",
              "      <td>-0.054317</td>\n",
              "      <td>1</td>\n",
              "      <td>5</td>\n",
              "      <td>STANDING</td>\n",
              "    </tr>\n",
              "    <tr>\n",
              "      <th>2</th>\n",
              "      <td>0.279653</td>\n",
              "      <td>-0.019467</td>\n",
              "      <td>-0.113462</td>\n",
              "      <td>-0.995380</td>\n",
              "      <td>-0.967187</td>\n",
              "      <td>-0.978944</td>\n",
              "      <td>-0.996520</td>\n",
              "      <td>-0.963668</td>\n",
              "      <td>-0.977469</td>\n",
              "      <td>-0.938692</td>\n",
              "      <td>-0.557851</td>\n",
              "      <td>-0.818409</td>\n",
              "      <td>0.843609</td>\n",
              "      <td>0.682401</td>\n",
              "      <td>0.839344</td>\n",
              "      <td>-0.983478</td>\n",
              "      <td>-0.999969</td>\n",
              "      <td>-0.999660</td>\n",
              "      <td>-0.999470</td>\n",
              "      <td>-0.997130</td>\n",
              "      <td>-0.964810</td>\n",
              "      <td>-0.974675</td>\n",
              "      <td>-0.592235</td>\n",
              "      <td>-0.485821</td>\n",
              "      <td>-0.570979</td>\n",
              "      <td>0.273025</td>\n",
              "      <td>-0.086309</td>\n",
              "      <td>0.337202</td>\n",
              "      <td>-0.164739</td>\n",
              "      <td>0.017150</td>\n",
              "      <td>-0.074507</td>\n",
              "      <td>0.342256</td>\n",
              "      <td>-0.332564</td>\n",
              "      <td>0.239281</td>\n",
              "      <td>-0.136204</td>\n",
              "      <td>0.173863</td>\n",
              "      <td>-0.299493</td>\n",
              "      <td>-0.124698</td>\n",
              "      <td>-0.181105</td>\n",
              "      <td>0.608900</td>\n",
              "      <td>...</td>\n",
              "      <td>-0.904762</td>\n",
              "      <td>0.660795</td>\n",
              "      <td>-0.724697</td>\n",
              "      <td>-0.928539</td>\n",
              "      <td>-0.989255</td>\n",
              "      <td>-0.986028</td>\n",
              "      <td>-0.984274</td>\n",
              "      <td>-0.990979</td>\n",
              "      <td>-0.995703</td>\n",
              "      <td>-0.989255</td>\n",
              "      <td>-0.999854</td>\n",
              "      <td>-0.993238</td>\n",
              "      <td>-0.736521</td>\n",
              "      <td>-0.794872</td>\n",
              "      <td>-0.212728</td>\n",
              "      <td>-0.535352</td>\n",
              "      <td>-0.871914</td>\n",
              "      <td>-0.995031</td>\n",
              "      <td>-0.995127</td>\n",
              "      <td>-0.994640</td>\n",
              "      <td>-0.996060</td>\n",
              "      <td>-0.995866</td>\n",
              "      <td>-0.995031</td>\n",
              "      <td>-0.999973</td>\n",
              "      <td>-0.993755</td>\n",
              "      <td>-1.000000</td>\n",
              "      <td>-0.555556</td>\n",
              "      <td>0.414503</td>\n",
              "      <td>-0.390748</td>\n",
              "      <td>-0.760104</td>\n",
              "      <td>-0.118559</td>\n",
              "      <td>0.177899</td>\n",
              "      <td>0.100699</td>\n",
              "      <td>0.808529</td>\n",
              "      <td>-0.848933</td>\n",
              "      <td>0.180637</td>\n",
              "      <td>-0.049118</td>\n",
              "      <td>1</td>\n",
              "      <td>5</td>\n",
              "      <td>STANDING</td>\n",
              "    </tr>\n",
              "  </tbody>\n",
              "</table>\n",
              "<p>3 rows × 564 columns</p>\n",
              "</div>"
            ],
            "text/plain": [
              "   tBodyAccmeanX  tBodyAccmeanY  tBodyAccmeanZ  ...  subject  Activity  ActivityName\n",
              "0       0.288585      -0.020294      -0.132905  ...        1         5      STANDING\n",
              "1       0.278419      -0.016411      -0.123520  ...        1         5      STANDING\n",
              "2       0.279653      -0.019467      -0.113462  ...        1         5      STANDING\n",
              "\n",
              "[3 rows x 564 columns]"
            ]
          },
          "metadata": {
            "tags": []
          },
          "execution_count": 6
        }
      ]
    },
    {
      "cell_type": "code",
      "metadata": {
        "id": "XnX5Tu7h01D6",
        "colab_type": "code",
        "colab": {}
      },
      "source": [
        "# get X_train and y_train from csv files\n",
        "X_train = train.drop(['subject', 'Activity', 'ActivityName'], axis=1)\n",
        "y_train = train.ActivityName"
      ],
      "execution_count": 0,
      "outputs": []
    },
    {
      "cell_type": "code",
      "metadata": {
        "id": "5t6jGO-w01D9",
        "colab_type": "code",
        "colab": {}
      },
      "source": [
        "# get X_test and y_test from test csv file\n",
        "X_test = test.drop(['subject', 'Activity', 'ActivityName'], axis=1)\n",
        "y_test = test.ActivityName"
      ],
      "execution_count": 0,
      "outputs": []
    },
    {
      "cell_type": "code",
      "metadata": {
        "id": "DLl3VX3R01EA",
        "colab_type": "code",
        "colab": {
          "base_uri": "https://localhost:8080/",
          "height": 50
        },
        "outputId": "10cc9cc4-33d6-494f-c880-80ab9c386c75"
      },
      "source": [
        "print('X_train and y_train : ({},{})'.format(X_train.shape, y_train.shape))\n",
        "print('X_test  and y_test  : ({},{})'.format(X_test.shape, y_test.shape))"
      ],
      "execution_count": 31,
      "outputs": [
        {
          "output_type": "stream",
          "text": [
            "X_train and y_train : ((7352, 561),(7352,))\n",
            "X_test  and y_test  : ((2947, 561),(2947,))\n"
          ],
          "name": "stdout"
        }
      ]
    },
    {
      "cell_type": "markdown",
      "metadata": {
        "id": "DvbaKLmt01ED",
        "colab_type": "text"
      },
      "source": [
        " "
      ]
    },
    {
      "cell_type": "markdown",
      "metadata": {
        "id": "Bqec8duF01EF",
        "colab_type": "text"
      },
      "source": [
        " "
      ]
    },
    {
      "cell_type": "markdown",
      "metadata": {
        "id": "n4Nm5nCs01EG",
        "colab_type": "text"
      },
      "source": [
        "# Let's model with our data"
      ]
    },
    {
      "cell_type": "markdown",
      "metadata": {
        "id": "owssxZBp01EH",
        "colab_type": "text"
      },
      "source": [
        "### Labels that are useful in plotting confusion matrix"
      ]
    },
    {
      "cell_type": "code",
      "metadata": {
        "id": "XuQlgjam01EH",
        "colab_type": "code",
        "colab": {}
      },
      "source": [
        "labels=['LAYING', 'SITTING','STANDING','WALKING','WALKING_DOWNSTAIRS','WALKING_UPSTAIRS']"
      ],
      "execution_count": 0,
      "outputs": []
    },
    {
      "cell_type": "markdown",
      "metadata": {
        "id": "_5IKl5Lr01EM",
        "colab_type": "text"
      },
      "source": [
        "### Function to plot the confusion matrix"
      ]
    },
    {
      "cell_type": "code",
      "metadata": {
        "id": "SFJcRS3X01EN",
        "colab_type": "code",
        "colab": {}
      },
      "source": [
        "import itertools\n",
        "import matplotlib.pyplot as plt\n",
        "from sklearn.metrics import confusion_matrix\n",
        "plt.rcParams[\"font.family\"] = 'DejaVu Sans'\n",
        "\n",
        "def plot_confusion_matrix(cm, classes, normalize=False,\n",
        "                          title='Confusion matrix', cmap=plt.cm.Blues):\n",
        "  if normalize:\n",
        "    cm = cm.astype('float') / cm.sum(axis=1)[:, np.newaxis]\n",
        "    \n",
        "  plt.imshow(cm, interpolation='nearest', cmap=cmap)\n",
        "  plt.title(title)\n",
        "  plt.colorbar()\n",
        "  tick_marks = np.arange(len(classes))\n",
        "  plt.xticks(tick_marks, classes, rotation=90)\n",
        "  plt.yticks(tick_marks, classes)\n",
        "    \n",
        "  fmt = '.2f' if normalize else 'd'\n",
        "  thresh = cm.max() / 2\n",
        "  for i, j in itertools.product(range(cm.shape[0]), range(cm.shape[1])):\n",
        "    plt.text(j,i,format(cm[i,j], fmt),\n",
        "             horizontalalignment=\"center\",\n",
        "             color=\"white\" if cm[i,j] > thresh else \"black\")\n",
        "    \n",
        "  plt.tight_layout()\n",
        "  plt.ylabel('True Label')\n",
        "  plt.xlabel('Predicted label')\n",
        "    \n",
        "                                  \n",
        "                                  \n",
        "                                  \n"
      ],
      "execution_count": 0,
      "outputs": []
    },
    {
      "cell_type": "markdown",
      "metadata": {
        "id": "nWVpShNr01ES",
        "colab_type": "text"
      },
      "source": [
        "### Generic function to run any model specified"
      ]
    },
    {
      "cell_type": "code",
      "metadata": {
        "id": "u_i2I0v-01EU",
        "colab_type": "code",
        "colab": {}
      },
      "source": [
        "from datetime import datetime\n",
        "\n",
        "def perform_model(model, X_train, y_train, X_test, y_test, class_labels, cm_normalize=True,\\\n",
        "                 print_cm = True, cm_map=plt.cm.Greens):\n",
        "    \n",
        "    #to store results at various phases\n",
        "    results = dict()\n",
        "    \n",
        "    #time at which model starts training\n",
        "    train_start_time = datetime.now()\n",
        "    print('Training the Model...')\n",
        "    model.fit(X_train, y_train)\n",
        "    print('Done \\n \\n')\n",
        "    train_end_time = datetime.now()\n",
        "    results['training_time'] = train_end_time - train_start_time\n",
        "    print('training_time(HH:MM:SS.ms) - {}\\n\\n'.format(results['training_time'])) \n",
        "    \n",
        "    \n",
        "    # predict test data\n",
        "    print('Predicting test data')\n",
        "    test_start_time = datetime.now()\n",
        "    y_pred = model.predict(X_test)\n",
        "    test_end_time = datetime.now()\n",
        "    print('Done \\n \\n')\n",
        "    results['testing_time'] = test_end_time - test_start_time\n",
        "    print('testing time(HH:MM:SS:ms) - {}\\n\\n'.format(results['testing_time']))\n",
        "    results['predicted'] = y_pred\n",
        "   \n",
        "\n",
        "    # calculate overall accuracty of the model\n",
        "    accuracy = metrics.accuracy_score(y_true=y_test, y_pred=y_pred)\n",
        "    # store accuracy in results\n",
        "    results['accuracy'] = accuracy\n",
        "    print('---------------------')\n",
        "    print('|      Accuracy      |')\n",
        "    print('---------------------')\n",
        "    print('\\n    {}\\n\\n'.format(accuracy))\n",
        "    \n",
        "    \n",
        "    # confusion matrix\n",
        "    cm = metrics.confusion_matrix(y_test, y_pred)\n",
        "    results['confusion_matrix'] = cm\n",
        "    if print_cm: \n",
        "        print('--------------------')\n",
        "        print('| Confusion Matrix |')\n",
        "        print('--------------------')\n",
        "        print('\\n {}'.format(cm))\n",
        "        \n",
        "    # plot confusin matrix\n",
        "    plt.figure(figsize=(8,8))\n",
        "    plt.grid(b=False)\n",
        "    plot_confusion_matrix(cm, classes=class_labels, normalize=True, title='Normalized confusion matrix', cmap = cm_map)\n",
        "    plt.show()\n",
        "    \n",
        "    # get classification report\n",
        "    print('-------------------------')\n",
        "    print('| Classifiction Report |')\n",
        "    print('-------------------------')\n",
        "    classification_report = metrics.classification_report(y_test, y_pred)\n",
        "    # store report in results\n",
        "    results['classification_report'] = classification_report\n",
        "    print(classification_report)\n",
        "    \n",
        "    # add the trained  model to the results\n",
        "    results['model'] = model\n",
        "    \n",
        "    return results\n",
        "    \n",
        "    "
      ],
      "execution_count": 0,
      "outputs": []
    },
    {
      "cell_type": "markdown",
      "metadata": {
        "id": "8rWsK9XP01Ec",
        "colab_type": "text"
      },
      "source": [
        "### Method to print the gridsearch Attributes"
      ]
    },
    {
      "cell_type": "code",
      "metadata": {
        "id": "Jw-NtHwP01Ed",
        "colab_type": "code",
        "colab": {}
      },
      "source": [
        "def print_grid_search_attributes(model):\n",
        "    # Estimator that gave highest score among all the estimators formed in GridSearch\n",
        "    print('--------------------------')\n",
        "    print('|      Best Estimator     |')\n",
        "    print('--------------------------')\n",
        "    print('\\n\\t{}\\n'.format(model.best_estimator_))\n",
        "\n",
        "\n",
        "    # parameters that gave best results while performing grid search\n",
        "    print('--------------------------')\n",
        "    print('|     Best parameters     |')\n",
        "    print('--------------------------')\n",
        "    print('\\tParameters of best estimator : \\n\\n\\t{}\\n'.format(model.best_params_))\n",
        "\n",
        "\n",
        "    #  number of cross validation splits\n",
        "    print('---------------------------------')\n",
        "    print('|   No of CrossValidation sets   |')\n",
        "    print('--------------------------------')\n",
        "    print('\\n\\tTotal numbre of cross validation sets: {}\\n'.format(model.n_splits_))\n",
        "\n",
        "\n",
        "    # Average cross validated score of the best estimator, from the Grid Search \n",
        "    print('--------------------------')\n",
        "    print('|        Best Score       |')\n",
        "    print('--------------------------')\n",
        "    print('\\n\\tAverage Cross Validate scores of best estimator : \\n\\n\\t{}\\n'.format(model.best_score_))\n",
        "\n",
        "    \n",
        "    "
      ],
      "execution_count": 0,
      "outputs": []
    },
    {
      "cell_type": "markdown",
      "metadata": {
        "id": "mjNkzOuy01Eg",
        "colab_type": "text"
      },
      "source": [
        " "
      ]
    },
    {
      "cell_type": "markdown",
      "metadata": {
        "id": "XhVS46om01Eh",
        "colab_type": "text"
      },
      "source": [
        " "
      ]
    },
    {
      "cell_type": "markdown",
      "metadata": {
        "id": "NkEk27cW01Eh",
        "colab_type": "text"
      },
      "source": [
        " "
      ]
    },
    {
      "cell_type": "markdown",
      "metadata": {
        "id": "8PBWpdtm01Ei",
        "colab_type": "text"
      },
      "source": [
        "# 1. Logistic Regression with Grid Search"
      ]
    },
    {
      "cell_type": "code",
      "metadata": {
        "id": "xmR2u_j801Ej",
        "colab_type": "code",
        "colab": {}
      },
      "source": [
        "from sklearn import linear_model\n",
        "from sklearn import metrics\n",
        "\n",
        "from sklearn.model_selection import GridSearchCV"
      ],
      "execution_count": 0,
      "outputs": []
    },
    {
      "cell_type": "code",
      "metadata": {
        "scrolled": false,
        "id": "nYXWSG2701Em",
        "colab_type": "code",
        "colab": {
          "base_uri": "https://localhost:8080/",
          "height": 1000
        },
        "outputId": "3aa6b28c-14fc-49d6-8ec6-bffaf9ebac3c"
      },
      "source": [
        "# start Grid search\n",
        "\n",
        "parameters = {'C':[0.01, 0.03, 0.1, 0.3, 1, 3, 10, 30,],'penalty':['l2','l1']}\n",
        "log_reg = linear_model.LogisticRegression()\n",
        "log_reg_grid = GridSearchCV(log_reg, param_grid=parameters, cv=3, verbose=1, n_jobs=-1)\n",
        "log_reg_grid_results = perform_model(log_reg_grid,X_train, y_train, X_test, y_test, class_labels=labels)"
      ],
      "execution_count": 37,
      "outputs": [
        {
          "output_type": "stream",
          "text": [
            "Training the Model...\n",
            "Fitting 3 folds for each of 16 candidates, totalling 48 fits\n"
          ],
          "name": "stdout"
        },
        {
          "output_type": "stream",
          "text": [
            "[Parallel(n_jobs=-1)]: Using backend LokyBackend with 2 concurrent workers.\n",
            "[Parallel(n_jobs=-1)]: Done  48 out of  48 | elapsed:  3.6min finished\n",
            "/usr/local/lib/python3.6/dist-packages/sklearn/linear_model/logistic.py:432: FutureWarning: Default solver will be changed to 'lbfgs' in 0.22. Specify a solver to silence this warning.\n",
            "  FutureWarning)\n",
            "/usr/local/lib/python3.6/dist-packages/sklearn/linear_model/logistic.py:469: FutureWarning: Default multi_class will be changed to 'auto' in 0.22. Specify the multi_class option to silence this warning.\n",
            "  \"this warning.\", FutureWarning)\n"
          ],
          "name": "stderr"
        },
        {
          "output_type": "stream",
          "text": [
            "Done \n",
            " \n",
            "\n",
            "training_time(HH:MM:SS.ms) - 0:03:54.079199\n",
            "\n",
            "\n",
            "Predicting test data\n",
            "Done \n",
            " \n",
            "\n",
            "testing time(HH:MM:SS:ms) - 0:00:00.010424\n",
            "\n",
            "\n",
            "---------------------\n",
            "|      Accuracy      |\n",
            "---------------------\n",
            "\n",
            "    0.9626739056667798\n",
            "\n",
            "\n",
            "--------------------\n",
            "| Confusion Matrix |\n",
            "--------------------\n",
            "\n",
            " [[537   0   0   0   0   0]\n",
            " [  1 428  58   0   0   4]\n",
            " [  0  12 519   1   0   0]\n",
            " [  0   0   0 495   1   0]\n",
            " [  0   0   0   3 409   8]\n",
            " [  0   0   0  22   0 449]]\n"
          ],
          "name": "stdout"
        },
        {
          "output_type": "display_data",
          "data": {
            "image/png": "[encoded data removed]",
            "text/plain": [
              "<Figure size 576x576 with 2 Axes>"
            ]
          },
          "metadata": {
            "tags": []
          }
        },
        {
          "output_type": "stream",
          "text": [
            "-------------------------\n",
            "| Classifiction Report |\n",
            "-------------------------\n",
            "                    precision    recall  f1-score   support\n",
            "\n",
            "            LAYING       1.00      1.00      1.00       537\n",
            "           SITTING       0.97      0.87      0.92       491\n",
            "          STANDING       0.90      0.98      0.94       532\n",
            "           WALKING       0.95      1.00      0.97       496\n",
            "WALKING_DOWNSTAIRS       1.00      0.97      0.99       420\n",
            "  WALKING_UPSTAIRS       0.97      0.95      0.96       471\n",
            "\n",
            "          accuracy                           0.96      2947\n",
            "         macro avg       0.97      0.96      0.96      2947\n",
            "      weighted avg       0.96      0.96      0.96      2947\n",
            "\n"
          ],
          "name": "stdout"
        }
      ]
    },
    {
      "cell_type": "code",
      "metadata": {
        "id": "IjyaVSF901Eo",
        "colab_type": "code",
        "colab": {
          "base_uri": "https://localhost:8080/",
          "height": 578
        },
        "outputId": "d4747596-d833-43f5-da39-db872cc36dea"
      },
      "source": [
        "plt.figure(figsize=(8,8))\n",
        "plt.grid(b=False)\n",
        "plot_confusion_matrix(log_reg_grid_results['confusion_matrix'], classes=labels, cmap=plt.cm.Greens )\n",
        "plt.show()\n"
      ],
      "execution_count": 45,
      "outputs": [
        {
          "output_type": "display_data",
          "data": {
            "image/png": "[encoded data removed]",
            "text/plain": [
              "<Figure size 576x576 with 2 Axes>"
            ]
          },
          "metadata": {
            "tags": []
          }
        }
      ]
    },
    {
      "cell_type": "code",
      "metadata": {
        "id": "r2eOkB6A01Er",
        "colab_type": "code",
        "colab": {
          "base_uri": "https://localhost:8080/",
          "height": 538
        },
        "outputId": "b5fc45b1-9380-4f64-bb26-0226cf54805c"
      },
      "source": [
        "# observe the attributes of the model \n",
        "print_grid_search_attributes(log_reg_grid_results['model'])"
      ],
      "execution_count": 39,
      "outputs": [
        {
          "output_type": "stream",
          "text": [
            "--------------------------\n",
            "|      Best Estimator     |\n",
            "--------------------------\n",
            "\n",
            "\tLogisticRegression(C=30, class_weight=None, dual=False, fit_intercept=True,\n",
            "                   intercept_scaling=1, l1_ratio=None, max_iter=100,\n",
            "                   multi_class='warn', n_jobs=None, penalty='l2',\n",
            "                   random_state=None, solver='warn', tol=0.0001, verbose=0,\n",
            "                   warm_start=False)\n",
            "\n",
            "--------------------------\n",
            "|     Best parameters     |\n",
            "--------------------------\n",
            "\tParameters of best estimator : \n",
            "\n",
            "\t{'C': 30, 'penalty': 'l2'}\n",
            "\n",
            "---------------------------------\n",
            "|   No of CrossValidation sets   |\n",
            "--------------------------------\n",
            "\n",
            "\tTotal numbre of cross validation sets: 3\n",
            "\n",
            "--------------------------\n",
            "|        Best Score       |\n",
            "--------------------------\n",
            "\n",
            "\tAverage Cross Validate scores of best estimator : \n",
            "\n",
            "\t0.9461371055495104\n",
            "\n"
          ],
          "name": "stdout"
        }
      ]
    },
    {
      "cell_type": "markdown",
      "metadata": {
        "id": "8S6mruo201Et",
        "colab_type": "text"
      },
      "source": [
        " "
      ]
    },
    {
      "cell_type": "markdown",
      "metadata": {
        "id": "fLCK1O2i01Eu",
        "colab_type": "text"
      },
      "source": [
        " "
      ]
    },
    {
      "cell_type": "markdown",
      "metadata": {
        "id": "CyiRKIMt01Ev",
        "colab_type": "text"
      },
      "source": [
        " "
      ]
    },
    {
      "cell_type": "markdown",
      "metadata": {
        "collapsed": true,
        "id": "jLCa-QOe01Ew",
        "colab_type": "text"
      },
      "source": [
        "#  2. Linear SVC with GridSearch"
      ]
    },
    {
      "cell_type": "code",
      "metadata": {
        "id": "4k4BSa_701Ey",
        "colab_type": "code",
        "colab": {}
      },
      "source": [
        "from sklearn.svm import LinearSVC"
      ],
      "execution_count": 0,
      "outputs": []
    },
    {
      "cell_type": "code",
      "metadata": {
        "scrolled": false,
        "id": "tyfriohB01E4",
        "colab_type": "code",
        "colab": {
          "base_uri": "https://localhost:8080/",
          "height": 1000
        },
        "outputId": "f3c307bd-a99b-4b52-bac4-7bde6bf3b3ef"
      },
      "source": [
        "parameters = {'C':[0.125, 0.5, 1, 2, 8, 16]}\n",
        "lr_svc = LinearSVC(tol=0.00005)\n",
        "lr_svc_grid = GridSearchCV(lr_svc , param_grid=parameters, n_jobs=-1, verbose=1)\n",
        "lr_svc_grid_results =perform_model(lr_svc_grid, X_train, y_train, X_test, y_test, class_labels=labels)"
      ],
      "execution_count": 41,
      "outputs": [
        {
          "output_type": "stream",
          "text": [
            "Training the Model...\n",
            "Fitting 3 folds for each of 6 candidates, totalling 18 fits\n"
          ],
          "name": "stdout"
        },
        {
          "output_type": "stream",
          "text": [
            "/usr/local/lib/python3.6/dist-packages/sklearn/model_selection/_split.py:1978: FutureWarning: The default value of cv will change from 3 to 5 in version 0.22. Specify it explicitly to silence this warning.\n",
            "  warnings.warn(CV_WARNING, FutureWarning)\n",
            "[Parallel(n_jobs=-1)]: Using backend LokyBackend with 2 concurrent workers.\n",
            "[Parallel(n_jobs=-1)]: Done  18 out of  18 | elapsed:  1.1min finished\n",
            "/usr/local/lib/python3.6/dist-packages/sklearn/svm/base.py:929: ConvergenceWarning: Liblinear failed to converge, increase the number of iterations.\n",
            "  \"the number of iterations.\", ConvergenceWarning)\n"
          ],
          "name": "stderr"
        },
        {
          "output_type": "stream",
          "text": [
            "Done \n",
            " \n",
            "\n",
            "training_time(HH:MM:SS.ms) - 0:01:16.420464\n",
            "\n",
            "\n",
            "Predicting test data\n",
            "Done \n",
            " \n",
            "\n",
            "testing time(HH:MM:SS:ms) - 0:00:00.009156\n",
            "\n",
            "\n",
            "---------------------\n",
            "|      Accuracy      |\n",
            "---------------------\n",
            "\n",
            "    0.9677638276213099\n",
            "\n",
            "\n",
            "--------------------\n",
            "| Confusion Matrix |\n",
            "--------------------\n",
            "\n",
            " [[537   0   0   0   0   0]\n",
            " [  3 435  48   0   0   5]\n",
            " [  0  17 514   1   0   0]\n",
            " [  0   0   0 495   0   1]\n",
            " [  0   0   0   2 413   5]\n",
            " [  0   0   0  12   1 458]]\n"
          ],
          "name": "stdout"
        },
        {
          "output_type": "display_data",
          "data": {
            "image/png": "[encoded data removed]",
            "text/plain": [
              "<Figure size 576x576 with 2 Axes>"
            ]
          },
          "metadata": {
            "tags": []
          }
        },
        {
          "output_type": "stream",
          "text": [
            "-------------------------\n",
            "| Classifiction Report |\n",
            "-------------------------\n",
            "                    precision    recall  f1-score   support\n",
            "\n",
            "            LAYING       0.99      1.00      1.00       537\n",
            "           SITTING       0.96      0.89      0.92       491\n",
            "          STANDING       0.91      0.97      0.94       532\n",
            "           WALKING       0.97      1.00      0.98       496\n",
            "WALKING_DOWNSTAIRS       1.00      0.98      0.99       420\n",
            "  WALKING_UPSTAIRS       0.98      0.97      0.97       471\n",
            "\n",
            "          accuracy                           0.97      2947\n",
            "         macro avg       0.97      0.97      0.97      2947\n",
            "      weighted avg       0.97      0.97      0.97      2947\n",
            "\n"
          ],
          "name": "stdout"
        }
      ]
    },
    {
      "cell_type": "code",
      "metadata": {
        "id": "G0Qh--iI01E8",
        "colab_type": "code",
        "colab": {
          "base_uri": "https://localhost:8080/",
          "height": 521
        },
        "outputId": "f1bb4531-4d70-49bc-c323-4063fad30056"
      },
      "source": [
        "print_grid_search_attributes(lr_svc_grid_results['model'])"
      ],
      "execution_count": 46,
      "outputs": [
        {
          "output_type": "stream",
          "text": [
            "--------------------------\n",
            "|      Best Estimator     |\n",
            "--------------------------\n",
            "\n",
            "\tLinearSVC(C=16, class_weight=None, dual=True, fit_intercept=True,\n",
            "          intercept_scaling=1, loss='squared_hinge', max_iter=1000,\n",
            "          multi_class='ovr', penalty='l2', random_state=None, tol=5e-05,\n",
            "          verbose=0)\n",
            "\n",
            "--------------------------\n",
            "|     Best parameters     |\n",
            "--------------------------\n",
            "\tParameters of best estimator : \n",
            "\n",
            "\t{'C': 16}\n",
            "\n",
            "---------------------------------\n",
            "|   No of CrossValidation sets   |\n",
            "--------------------------------\n",
            "\n",
            "\tTotal numbre of cross validation sets: 3\n",
            "\n",
            "--------------------------\n",
            "|        Best Score       |\n",
            "--------------------------\n",
            "\n",
            "\tAverage Cross Validate scores of best estimator : \n",
            "\n",
            "\t0.9460010881392819\n",
            "\n"
          ],
          "name": "stdout"
        }
      ]
    },
    {
      "cell_type": "markdown",
      "metadata": {
        "id": "zNOGIwy001E_",
        "colab_type": "text"
      },
      "source": [
        "# 3.  Kernel SVM with GridSearch"
      ]
    },
    {
      "cell_type": "code",
      "metadata": {
        "scrolled": false,
        "id": "gXu07VFB01E_",
        "colab_type": "code",
        "colab": {
          "base_uri": "https://localhost:8080/",
          "height": 1000
        },
        "outputId": "93052335-bead-46b3-8bc8-425eae6d737a"
      },
      "source": [
        "from sklearn.svm import SVC\n",
        "parameters = {'C':[2,8,16],\\\n",
        "              'gamma':[0.0078125, 0.125, 2]}\n",
        "rbf_svm = SVC(kernel='rbf')\n",
        "rbf_svm_grid = GridSearchCV(rbf_svm, param_grid=parameters, n_jobs=-1)\n",
        "rbf_svm_grid_results = perform_model(rbf_svm_grid, X_train, y_train, X_test, y_test, class_labels=labels)"
      ],
      "execution_count": 47,
      "outputs": [
        {
          "output_type": "stream",
          "text": [
            "Training the Model...\n"
          ],
          "name": "stdout"
        },
        {
          "output_type": "stream",
          "text": [
            "/usr/local/lib/python3.6/dist-packages/sklearn/model_selection/_split.py:1978: FutureWarning: The default value of cv will change from 3 to 5 in version 0.22. Specify it explicitly to silence this warning.\n",
            "  warnings.warn(CV_WARNING, FutureWarning)\n"
          ],
          "name": "stderr"
        },
        {
          "output_type": "stream",
          "text": [
            "Done \n",
            " \n",
            "\n",
            "training_time(HH:MM:SS.ms) - 0:07:01.013298\n",
            "\n",
            "\n",
            "Predicting test data\n",
            "Done \n",
            " \n",
            "\n",
            "testing time(HH:MM:SS:ms) - 0:00:03.121164\n",
            "\n",
            "\n",
            "---------------------\n",
            "|      Accuracy      |\n",
            "---------------------\n",
            "\n",
            "    0.9626739056667798\n",
            "\n",
            "\n",
            "--------------------\n",
            "| Confusion Matrix |\n",
            "--------------------\n",
            "\n",
            " [[537   0   0   0   0   0]\n",
            " [  0 441  48   0   0   2]\n",
            " [  0  12 520   0   0   0]\n",
            " [  0   0   0 489   2   5]\n",
            " [  0   0   0   4 397  19]\n",
            " [  0   0   0  17   1 453]]\n"
          ],
          "name": "stdout"
        },
        {
          "output_type": "display_data",
          "data": {
            "image/png": "[encoded data removed]",
            "text/plain": [
              "<Figure size 576x576 with 2 Axes>"
            ]
          },
          "metadata": {
            "tags": []
          }
        },
        {
          "output_type": "stream",
          "text": [
            "-------------------------\n",
            "| Classifiction Report |\n",
            "-------------------------\n",
            "                    precision    recall  f1-score   support\n",
            "\n",
            "            LAYING       1.00      1.00      1.00       537\n",
            "           SITTING       0.97      0.90      0.93       491\n",
            "          STANDING       0.92      0.98      0.95       532\n",
            "           WALKING       0.96      0.99      0.97       496\n",
            "WALKING_DOWNSTAIRS       0.99      0.95      0.97       420\n",
            "  WALKING_UPSTAIRS       0.95      0.96      0.95       471\n",
            "\n",
            "          accuracy                           0.96      2947\n",
            "         macro avg       0.96      0.96      0.96      2947\n",
            "      weighted avg       0.96      0.96      0.96      2947\n",
            "\n"
          ],
          "name": "stdout"
        }
      ]
    },
    {
      "cell_type": "code",
      "metadata": {
        "id": "4P7PR2et01FF",
        "colab_type": "code",
        "colab": {
          "base_uri": "https://localhost:8080/",
          "height": 521
        },
        "outputId": "86c16c30-c3c6-485a-a006-73e957152b66"
      },
      "source": [
        "print_grid_search_attributes(rbf_svm_grid_results['model'])"
      ],
      "execution_count": 48,
      "outputs": [
        {
          "output_type": "stream",
          "text": [
            "--------------------------\n",
            "|      Best Estimator     |\n",
            "--------------------------\n",
            "\n",
            "\tSVC(C=16, cache_size=200, class_weight=None, coef0=0.0,\n",
            "    decision_function_shape='ovr', degree=3, gamma=0.0078125, kernel='rbf',\n",
            "    max_iter=-1, probability=False, random_state=None, shrinking=True,\n",
            "    tol=0.001, verbose=False)\n",
            "\n",
            "--------------------------\n",
            "|     Best parameters     |\n",
            "--------------------------\n",
            "\tParameters of best estimator : \n",
            "\n",
            "\t{'C': 16, 'gamma': 0.0078125}\n",
            "\n",
            "---------------------------------\n",
            "|   No of CrossValidation sets   |\n",
            "--------------------------------\n",
            "\n",
            "\tTotal numbre of cross validation sets: 3\n",
            "\n",
            "--------------------------\n",
            "|        Best Score       |\n",
            "--------------------------\n",
            "\n",
            "\tAverage Cross Validate scores of best estimator : \n",
            "\n",
            "\t0.9440968443960827\n",
            "\n"
          ],
          "name": "stdout"
        }
      ]
    },
    {
      "cell_type": "markdown",
      "metadata": {
        "collapsed": true,
        "id": "xXQR_wE-01FI",
        "colab_type": "text"
      },
      "source": [
        "# 4. Decision Trees with GridSearchCV"
      ]
    },
    {
      "cell_type": "code",
      "metadata": {
        "scrolled": false,
        "id": "WeYPvi7x01FI",
        "colab_type": "code",
        "colab": {
          "base_uri": "https://localhost:8080/",
          "height": 1000
        },
        "outputId": "a8622a56-e11b-4c0d-fe46-6ae0b672daee"
      },
      "source": [
        "from sklearn.tree import DecisionTreeClassifier\n",
        "parameters = {'max_depth':np.arange(3,10,2)}\n",
        "dt = DecisionTreeClassifier()\n",
        "dt_grid = GridSearchCV(dt,param_grid=parameters, n_jobs=-1)\n",
        "dt_grid_results = perform_model(dt_grid, X_train, y_train, X_test, y_test, class_labels=labels)\n",
        "print_grid_search_attributes(dt_grid_results['model'])"
      ],
      "execution_count": 49,
      "outputs": [
        {
          "output_type": "stream",
          "text": [
            "Training the Model...\n"
          ],
          "name": "stdout"
        },
        {
          "output_type": "stream",
          "text": [
            "/usr/local/lib/python3.6/dist-packages/sklearn/model_selection/_split.py:1978: FutureWarning: The default value of cv will change from 3 to 5 in version 0.22. Specify it explicitly to silence this warning.\n",
            "  warnings.warn(CV_WARNING, FutureWarning)\n"
          ],
          "name": "stderr"
        },
        {
          "output_type": "stream",
          "text": [
            "Done \n",
            " \n",
            "\n",
            "training_time(HH:MM:SS.ms) - 0:00:16.997741\n",
            "\n",
            "\n",
            "Predicting test data\n",
            "Done \n",
            " \n",
            "\n",
            "testing time(HH:MM:SS:ms) - 0:00:00.006349\n",
            "\n",
            "\n",
            "---------------------\n",
            "|      Accuracy      |\n",
            "---------------------\n",
            "\n",
            "    0.8659653885307091\n",
            "\n",
            "\n",
            "--------------------\n",
            "| Confusion Matrix |\n",
            "--------------------\n",
            "\n",
            " [[537   0   0   0   0   0]\n",
            " [  0 386 105   0   0   0]\n",
            " [  0  93 439   0   0   0]\n",
            " [  0   0   0 471  17   8]\n",
            " [  0   0   0  13 345  62]\n",
            " [  0   0   0  78  19 374]]\n"
          ],
          "name": "stdout"
        },
        {
          "output_type": "display_data",
          "data": {
            "image/png": "[encoded data removed]",
            "text/plain": [
              "<Figure size 576x576 with 2 Axes>"
            ]
          },
          "metadata": {
            "tags": []
          }
        },
        {
          "output_type": "stream",
          "text": [
            "-------------------------\n",
            "| Classifiction Report |\n",
            "-------------------------\n",
            "                    precision    recall  f1-score   support\n",
            "\n",
            "            LAYING       1.00      1.00      1.00       537\n",
            "           SITTING       0.81      0.79      0.80       491\n",
            "          STANDING       0.81      0.83      0.82       532\n",
            "           WALKING       0.84      0.95      0.89       496\n",
            "WALKING_DOWNSTAIRS       0.91      0.82      0.86       420\n",
            "  WALKING_UPSTAIRS       0.84      0.79      0.82       471\n",
            "\n",
            "          accuracy                           0.87      2947\n",
            "         macro avg       0.87      0.86      0.86      2947\n",
            "      weighted avg       0.87      0.87      0.87      2947\n",
            "\n",
            "--------------------------\n",
            "|      Best Estimator     |\n",
            "--------------------------\n",
            "\n",
            "\tDecisionTreeClassifier(class_weight=None, criterion='gini', max_depth=7,\n",
            "                       max_features=None, max_leaf_nodes=None,\n",
            "                       min_impurity_decrease=0.0, min_impurity_split=None,\n",
            "                       min_samples_leaf=1, min_samples_split=2,\n",
            "                       min_weight_fraction_leaf=0.0, presort=False,\n",
            "                       random_state=None, splitter='best')\n",
            "\n",
            "--------------------------\n",
            "|     Best parameters     |\n",
            "--------------------------\n",
            "\tParameters of best estimator : \n",
            "\n",
            "\t{'max_depth': 7}\n",
            "\n",
            "---------------------------------\n",
            "|   No of CrossValidation sets   |\n",
            "--------------------------------\n",
            "\n",
            "\tTotal numbre of cross validation sets: 3\n",
            "\n",
            "--------------------------\n",
            "|        Best Score       |\n",
            "--------------------------\n",
            "\n",
            "\tAverage Cross Validate scores of best estimator : \n",
            "\n",
            "\t0.8378672470076169\n",
            "\n"
          ],
          "name": "stdout"
        }
      ]
    },
    {
      "cell_type": "markdown",
      "metadata": {
        "id": "tDWTgi3d01FM",
        "colab_type": "text"
      },
      "source": [
        "# 5. Random Forest Classifier with GridSearch"
      ]
    },
    {
      "cell_type": "code",
      "metadata": {
        "scrolled": false,
        "id": "ZPM3GFPi01FN",
        "colab_type": "code",
        "colab": {
          "base_uri": "https://localhost:8080/",
          "height": 1000
        },
        "outputId": "74b1d4cb-da6a-4a57-9755-eadd2255b863"
      },
      "source": [
        "from sklearn.ensemble import RandomForestClassifier\n",
        "params = {'n_estimators': np.arange(10,20,30), 'max_depth':np.arange(3,15,2)}\n",
        "rfc =RandomForestClassifier()\n",
        "rfc_grid = GridSearchCV(rfc, param_grid= params, n_jobs=-1)\n",
        "rfc_grid_results = perform_model(rfc_grid, X_train, y_train, X_test, y_test, class_labels=labels)\n",
        "print_grid_search_attributes(rfc_grid_results['model'])"
      ],
      "execution_count": 53,
      "outputs": [
        {
          "output_type": "stream",
          "text": [
            "Training the Model...\n"
          ],
          "name": "stdout"
        },
        {
          "output_type": "stream",
          "text": [
            "/usr/local/lib/python3.6/dist-packages/sklearn/model_selection/_split.py:1978: FutureWarning: The default value of cv will change from 3 to 5 in version 0.22. Specify it explicitly to silence this warning.\n",
            "  warnings.warn(CV_WARNING, FutureWarning)\n"
          ],
          "name": "stderr"
        },
        {
          "output_type": "stream",
          "text": [
            "Done \n",
            " \n",
            "\n",
            "training_time(HH:MM:SS.ms) - 0:00:07.624074\n",
            "\n",
            "\n",
            "Predicting test data\n",
            "Done \n",
            " \n",
            "\n",
            "testing time(HH:MM:SS:ms) - 0:00:00.010448\n",
            "\n",
            "\n",
            "---------------------\n",
            "|      Accuracy      |\n",
            "---------------------\n",
            "\n",
            "    0.9073634204275535\n",
            "\n",
            "\n",
            "--------------------\n",
            "| Confusion Matrix |\n",
            "--------------------\n",
            "\n",
            " [[537   0   0   0   0   0]\n",
            " [  0 428  63   0   0   0]\n",
            " [  0  53 479   0   0   0]\n",
            " [  0   0   0 484   8   4]\n",
            " [  0   0   0  43 329  48]\n",
            " [  0   0   0  47   7 417]]\n"
          ],
          "name": "stdout"
        },
        {
          "output_type": "display_data",
          "data": {
            "image/png": "[encoded data removed]",
            "text/plain": [
              "<Figure size 576x576 with 2 Axes>"
            ]
          },
          "metadata": {
            "tags": []
          }
        },
        {
          "output_type": "stream",
          "text": [
            "-------------------------\n",
            "| Classifiction Report |\n",
            "-------------------------\n",
            "                    precision    recall  f1-score   support\n",
            "\n",
            "            LAYING       1.00      1.00      1.00       537\n",
            "           SITTING       0.89      0.87      0.88       491\n",
            "          STANDING       0.88      0.90      0.89       532\n",
            "           WALKING       0.84      0.98      0.90       496\n",
            "WALKING_DOWNSTAIRS       0.96      0.78      0.86       420\n",
            "  WALKING_UPSTAIRS       0.89      0.89      0.89       471\n",
            "\n",
            "          accuracy                           0.91      2947\n",
            "         macro avg       0.91      0.90      0.90      2947\n",
            "      weighted avg       0.91      0.91      0.91      2947\n",
            "\n",
            "--------------------------\n",
            "|      Best Estimator     |\n",
            "--------------------------\n",
            "\n",
            "\tRandomForestClassifier(bootstrap=True, class_weight=None, criterion='gini',\n",
            "                       max_depth=7, max_features='auto', max_leaf_nodes=None,\n",
            "                       min_impurity_decrease=0.0, min_impurity_split=None,\n",
            "                       min_samples_leaf=1, min_samples_split=2,\n",
            "                       min_weight_fraction_leaf=0.0, n_estimators=10,\n",
            "                       n_jobs=None, oob_score=False, random_state=None,\n",
            "                       verbose=0, warm_start=False)\n",
            "\n",
            "--------------------------\n",
            "|     Best parameters     |\n",
            "--------------------------\n",
            "\tParameters of best estimator : \n",
            "\n",
            "\t{'max_depth': 7, 'n_estimators': 10}\n",
            "\n",
            "---------------------------------\n",
            "|   No of CrossValidation sets   |\n",
            "--------------------------------\n",
            "\n",
            "\tTotal numbre of cross validation sets: 3\n",
            "\n",
            "--------------------------\n",
            "|        Best Score       |\n",
            "--------------------------\n",
            "\n",
            "\tAverage Cross Validate scores of best estimator : \n",
            "\n",
            "\t0.8997551686615887\n",
            "\n"
          ],
          "name": "stdout"
        }
      ]
    },
    {
      "cell_type": "markdown",
      "metadata": {
        "id": "5OIbLq6v01FR",
        "colab_type": "text"
      },
      "source": [
        "# 6.  Gradient Boosted Decision Trees With GridSearch"
      ]
    },
    {
      "cell_type": "code",
      "metadata": {
        "scrolled": false,
        "id": "-NeCD00o01FS",
        "colab_type": "code",
        "colab": {
          "base_uri": "https://localhost:8080/",
          "height": 1000
        },
        "outputId": "0de6f3e8-8f36-4664-a696-a437187740c2"
      },
      "source": [
        "from sklearn.ensemble import GradientBoostingClassifier\n",
        "param_grid = {'max_depth': np.arange(5,8,1), \\\n",
        "             'n_estimators':np.arange(130,170,10)}\n",
        "gbdt = GradientBoostingClassifier()\n",
        "gbdt_grid = GridSearchCV(gbdt, param_grid=param_grid, n_jobs=-1)\n",
        "gbdt_grid_results = perform_model(gbdt_grid, X_train, y_train, X_test, y_test, class_labels=labels)\n",
        "print_grid_search_attributes(gbdt_grid_results['model'])"
      ],
      "execution_count": 54,
      "outputs": [
        {
          "output_type": "stream",
          "text": [
            "Training the Model...\n"
          ],
          "name": "stdout"
        },
        {
          "output_type": "stream",
          "text": [
            "/usr/local/lib/python3.6/dist-packages/sklearn/model_selection/_split.py:1978: FutureWarning: The default value of cv will change from 3 to 5 in version 0.22. Specify it explicitly to silence this warning.\n",
            "  warnings.warn(CV_WARNING, FutureWarning)\n"
          ],
          "name": "stderr"
        },
        {
          "output_type": "stream",
          "text": [
            "Done \n",
            " \n",
            "\n",
            "training_time(HH:MM:SS.ms) - 1:38:42.567336\n",
            "\n",
            "\n",
            "Predicting test data\n",
            "Done \n",
            " \n",
            "\n",
            "testing time(HH:MM:SS:ms) - 0:00:00.086268\n",
            "\n",
            "\n",
            "---------------------\n",
            "|      Accuracy      |\n",
            "---------------------\n",
            "\n",
            "    0.9250084832032576\n",
            "\n",
            "\n",
            "--------------------\n",
            "| Confusion Matrix |\n",
            "--------------------\n",
            "\n",
            " [[537   0   0   0   0   0]\n",
            " [  0 401  89   0   0   1]\n",
            " [  0  37 495   0   0   0]\n",
            " [  0   0   0 485   6   5]\n",
            " [  0   0   0  12 373  35]\n",
            " [  0   2   0  28   6 435]]\n"
          ],
          "name": "stdout"
        },
        {
          "output_type": "display_data",
          "data": {
            "image/png": "[encoded data removed]",
            "text/plain": [
              "<Figure size 576x576 with 2 Axes>"
            ]
          },
          "metadata": {
            "tags": []
          }
        },
        {
          "output_type": "stream",
          "text": [
            "-------------------------\n",
            "| Classifiction Report |\n",
            "-------------------------\n",
            "                    precision    recall  f1-score   support\n",
            "\n",
            "            LAYING       1.00      1.00      1.00       537\n",
            "           SITTING       0.91      0.82      0.86       491\n",
            "          STANDING       0.85      0.93      0.89       532\n",
            "           WALKING       0.92      0.98      0.95       496\n",
            "WALKING_DOWNSTAIRS       0.97      0.89      0.93       420\n",
            "  WALKING_UPSTAIRS       0.91      0.92      0.92       471\n",
            "\n",
            "          accuracy                           0.93      2947\n",
            "         macro avg       0.93      0.92      0.92      2947\n",
            "      weighted avg       0.93      0.93      0.92      2947\n",
            "\n",
            "--------------------------\n",
            "|      Best Estimator     |\n",
            "--------------------------\n",
            "\n",
            "\tGradientBoostingClassifier(criterion='friedman_mse', init=None,\n",
            "                           learning_rate=0.1, loss='deviance', max_depth=5,\n",
            "                           max_features=None, max_leaf_nodes=None,\n",
            "                           min_impurity_decrease=0.0, min_impurity_split=None,\n",
            "                           min_samples_leaf=1, min_samples_split=2,\n",
            "                           min_weight_fraction_leaf=0.0, n_estimators=140,\n",
            "                           n_iter_no_change=None, presort='auto',\n",
            "                           random_state=None, subsample=1.0, tol=0.0001,\n",
            "                           validation_fraction=0.1, verbose=0,\n",
            "                           warm_start=False)\n",
            "\n",
            "--------------------------\n",
            "|     Best parameters     |\n",
            "--------------------------\n",
            "\tParameters of best estimator : \n",
            "\n",
            "\t{'max_depth': 5, 'n_estimators': 140}\n",
            "\n",
            "---------------------------------\n",
            "|   No of CrossValidation sets   |\n",
            "--------------------------------\n",
            "\n",
            "\tTotal numbre of cross validation sets: 3\n",
            "\n",
            "--------------------------\n",
            "|        Best Score       |\n",
            "--------------------------\n",
            "\n",
            "\tAverage Cross Validate scores of best estimator : \n",
            "\n",
            "\t0.9039717083786725\n",
            "\n"
          ],
          "name": "stdout"
        }
      ]
    },
    {
      "cell_type": "markdown",
      "metadata": {
        "id": "dXDSx7j701FV",
        "colab_type": "text"
      },
      "source": [
        "\n",
        "# 7. Comparing all models"
      ]
    },
    {
      "cell_type": "code",
      "metadata": {
        "scrolled": true,
        "id": "G37MPGTw01FW",
        "colab_type": "code",
        "colab": {
          "base_uri": "https://localhost:8080/",
          "height": 168
        },
        "outputId": "a86624cd-270c-4e8e-fe99-bac602fd118f"
      },
      "source": [
        "print('\\n                     Accuracy     Error')\n",
        "print('                     ----------   --------')\n",
        "print('Logistic Regression : {:.04}%       {:.04}%'.format(log_reg_grid_results['accuracy'] * 100,\\\n",
        "                                                  100-(log_reg_grid_results['accuracy'] * 100)))\n",
        "\n",
        "print('Linear SVC          : {:.04}%       {:.04}% '.format(lr_svc_grid_results['accuracy'] * 100,\\\n",
        "                                                        100-(lr_svc_grid_results['accuracy'] * 100)))\n",
        "\n",
        "print('rbf SVM classifier  : {:.04}%      {:.04}% '.format(rbf_svm_grid_results['accuracy'] * 100,\\\n",
        "                                                          100-(rbf_svm_grid_results['accuracy'] * 100)))\n",
        "\n",
        "print('DecisionTree        : {:.04}%      {:.04}% '.format(dt_grid_results['accuracy'] * 100,\\\n",
        "                                                        100-(dt_grid_results['accuracy'] * 100)))\n",
        "\n",
        "print('Random Forest       : {:.04}%      {:.04}% '.format(rfc_grid_results['accuracy'] * 100,\\\n",
        "                                                           100-(rfc_grid_results['accuracy'] * 100)))\n",
        "print('GradientBoosting DT : {:.04}%      {:.04}% '.format(rfc_grid_results['accuracy'] * 100,\\\n",
        "                                                        100-(rfc_grid_results['accuracy'] * 100)))"
      ],
      "execution_count": 55,
      "outputs": [
        {
          "output_type": "stream",
          "text": [
            "\n",
            "                     Accuracy     Error\n",
            "                     ----------   --------\n",
            "Logistic Regression : 96.27%       3.733%\n",
            "Linear SVC          : 96.78%       3.224% \n",
            "rbf SVM classifier  : 96.27%      3.733% \n",
            "DecisionTree        : 86.6%      13.4% \n",
            "Random Forest       : 90.74%      9.264% \n",
            "GradientBoosting DT : 90.74%      9.264% \n"
          ],
          "name": "stdout"
        }
      ]
    },
    {
      "cell_type": "markdown",
      "metadata": {
        "id": "u4qM0vKW01Fb",
        "colab_type": "text"
      },
      "source": [
        "> We can choose ___Logistic regression___ or ___Linear SVC___ or ___rbf SVM___."
      ]
    },
    {
      "cell_type": "markdown",
      "metadata": {
        "id": "-uPclzoP01Fc",
        "colab_type": "text"
      },
      "source": [
        "# Conclusion :"
      ]
    },
    {
      "cell_type": "markdown",
      "metadata": {
        "id": "wK4BJ4ZB01Ff",
        "colab_type": "text"
      },
      "source": [
        "In the real world, domain-knowledge, EDA and feature-engineering matter most."
      ]
    },
    {
      "cell_type": "markdown",
      "metadata": {
        "id": "LxfhzilM01Fg",
        "colab_type": "text"
      },
      "source": [
        " "
      ]
    },
    {
      "cell_type": "code",
      "metadata": {
        "id": "LcQu1ceSJy1Z",
        "colab_type": "code",
        "colab": {}
      },
      "source": [
        ""
      ],
      "execution_count": 0,
      "outputs": []
    },
    {
      "cell_type": "markdown",
      "metadata": {
        "id": "dheMzHrB01Fh",
        "colab_type": "text"
      },
      "source": [
        " "
      ]
    },
    {
      "cell_type": "markdown",
      "metadata": {
        "id": "rFzXW8LE01Fi",
        "colab_type": "text"
      },
      "source": [
        " "
      ]
    },
    {
      "cell_type": "markdown",
      "metadata": {
        "id": "QfSbBCKl01Fj",
        "colab_type": "text"
      },
      "source": [
        " "
      ]
    },
    {
      "cell_type": "markdown",
      "metadata": {
        "id": "4RKzzxH801Fk",
        "colab_type": "text"
      },
      "source": [
        " "
      ]
    },
    {
      "cell_type": "markdown",
      "metadata": {
        "id": "qdrIVscv01Fl",
        "colab_type": "text"
      },
      "source": [
        " "
      ]
    },
    {
      "cell_type": "markdown",
      "metadata": {
        "id": "OqVLUm5401Fm",
        "colab_type": "text"
      },
      "source": [
        " "
      ]
    },
    {
      "cell_type": "markdown",
      "metadata": {
        "id": "7CeZmaPq01Fm",
        "colab_type": "text"
      },
      "source": [
        " "
      ]
    },
    {
      "cell_type": "markdown",
      "metadata": {
        "id": "IcFo0xJN01Fn",
        "colab_type": "text"
      },
      "source": [
        " "
      ]
    },
    {
      "cell_type": "markdown",
      "metadata": {
        "id": "G99U4Qlf01Fo",
        "colab_type": "text"
      },
      "source": [
        " "
      ]
    },
    {
      "cell_type": "markdown",
      "metadata": {
        "id": "R4TYJCa_01Fp",
        "colab_type": "text"
      },
      "source": [
        " "
      ]
    },
    {
      "cell_type": "markdown",
      "metadata": {
        "id": "uOvT5WhD01Fq",
        "colab_type": "text"
      },
      "source": [
        " "
      ]
    },
    {
      "cell_type": "markdown",
      "metadata": {
        "id": "JmVSnqxG01Fr",
        "colab_type": "text"
      },
      "source": [
        " "
      ]
    },
    {
      "cell_type": "markdown",
      "metadata": {
        "id": "xEuUziGg01Ft",
        "colab_type": "text"
      },
      "source": [
        " "
      ]
    },
    {
      "cell_type": "markdown",
      "metadata": {
        "id": "nltSBnMl01Fv",
        "colab_type": "text"
      },
      "source": [
        " "
      ]
    },
    {
      "cell_type": "markdown",
      "metadata": {
        "id": "5NLJHsQf01Fv",
        "colab_type": "text"
      },
      "source": [
        " "
      ]
    },
    {
      "cell_type": "markdown",
      "metadata": {
        "id": "Gvv74j8G01Fw",
        "colab_type": "text"
      },
      "source": [
        " "
      ]
    },
    {
      "cell_type": "markdown",
      "metadata": {
        "id": "63ZZqoU201Fy",
        "colab_type": "text"
      },
      "source": [
        " "
      ]
    },
    {
      "cell_type": "markdown",
      "metadata": {
        "id": "BgeEjTN701F1",
        "colab_type": "text"
      },
      "source": [
        " "
      ]
    },
    {
      "cell_type": "markdown",
      "metadata": {
        "id": "mvOSQF-K01F6",
        "colab_type": "text"
      },
      "source": [
        " "
      ]
    },
    {
      "cell_type": "markdown",
      "metadata": {
        "id": "aJKnMmwC01F8",
        "colab_type": "text"
      },
      "source": [
        " "
      ]
    },
    {
      "cell_type": "markdown",
      "metadata": {
        "id": "Fpzhhqd501F9",
        "colab_type": "text"
      },
      "source": [
        " "
      ]
    },
    {
      "cell_type": "markdown",
      "metadata": {
        "id": "tJ7xcLvJ01F-",
        "colab_type": "text"
      },
      "source": [
        " "
      ]
    },
    {
      "cell_type": "markdown",
      "metadata": {
        "id": "MqzAIGU501F_",
        "colab_type": "text"
      },
      "source": [
        " "
      ]
    },
    {
      "cell_type": "markdown",
      "metadata": {
        "id": "zH5ZOeF801F_",
        "colab_type": "text"
      },
      "source": [
        " "
      ]
    },
    {
      "cell_type": "markdown",
      "metadata": {
        "id": "hAAGhV6x01GA",
        "colab_type": "text"
      },
      "source": [
        " "
      ]
    },
    {
      "cell_type": "markdown",
      "metadata": {
        "id": "vodX7FCX01GA",
        "colab_type": "text"
      },
      "source": [
        " "
      ]
    },
    {
      "cell_type": "markdown",
      "metadata": {
        "id": "vXZEb2VR01GB",
        "colab_type": "text"
      },
      "source": [
        " "
      ]
    },
    {
      "cell_type": "markdown",
      "metadata": {
        "id": "bKE2a0yf01GC",
        "colab_type": "text"
      },
      "source": [
        " "
      ]
    },
    {
      "cell_type": "markdown",
      "metadata": {
        "id": "mQTPpLjs01GD",
        "colab_type": "text"
      },
      "source": [
        " \n",
        " "
      ]
    },
    {
      "cell_type": "markdown",
      "metadata": {
        "id": "PkWoZH2401GF",
        "colab_type": "text"
      },
      "source": [
        " "
      ]
    },
    {
      "cell_type": "markdown",
      "metadata": {
        "id": "PGFAv81Z01GG",
        "colab_type": "text"
      },
      "source": [
        " "
      ]
    },
    {
      "cell_type": "markdown",
      "metadata": {
        "id": "sX-CdDO801GI",
        "colab_type": "text"
      },
      "source": [
        " "
      ]
    },
    {
      "cell_type": "markdown",
      "metadata": {
        "id": "PZA4OJsU01GJ",
        "colab_type": "text"
      },
      "source": [
        " \n"
      ]
    },
    {
      "cell_type": "markdown",
      "metadata": {
        "id": "TMHb0v-v01GM",
        "colab_type": "text"
      },
      "source": [
        " \n"
      ]
    },
    {
      "cell_type": "markdown",
      "metadata": {
        "id": "thYEjIgK01GN",
        "colab_type": "text"
      },
      "source": [
        " \n"
      ]
    },
    {
      "cell_type": "markdown",
      "metadata": {
        "id": "p9e9BPXf01GR",
        "colab_type": "text"
      },
      "source": [
        " \n"
      ]
    },
    {
      "cell_type": "markdown",
      "metadata": {
        "id": "wuCPpMJN01GS",
        "colab_type": "text"
      },
      "source": [
        " \n"
      ]
    },
    {
      "cell_type": "markdown",
      "metadata": {
        "id": "ZXCBcADM01GT",
        "colab_type": "text"
      },
      "source": [
        " \n"
      ]
    },
    {
      "cell_type": "markdown",
      "metadata": {
        "id": "lU6ZiypB01GU",
        "colab_type": "text"
      },
      "source": [
        " \n"
      ]
    },
    {
      "cell_type": "markdown",
      "metadata": {
        "id": "r2y072CR01GV",
        "colab_type": "text"
      },
      "source": [
        " \n"
      ]
    },
    {
      "cell_type": "markdown",
      "metadata": {
        "id": "js69ZGyo01GW",
        "colab_type": "text"
      },
      "source": [
        " \n"
      ]
    },
    {
      "cell_type": "markdown",
      "metadata": {
        "id": "Th_ZlAjS01GW",
        "colab_type": "text"
      },
      "source": [
        " \n"
      ]
    },
    {
      "cell_type": "markdown",
      "metadata": {
        "id": "j0q_2RrR01GX",
        "colab_type": "text"
      },
      "source": [
        " \n"
      ]
    },
    {
      "cell_type": "markdown",
      "metadata": {
        "id": "d3XQrJfl01GX",
        "colab_type": "text"
      },
      "source": [
        " \n"
      ]
    },
    {
      "cell_type": "markdown",
      "metadata": {
        "id": "EePvyYLF01GY",
        "colab_type": "text"
      },
      "source": [
        "  "
      ]
    },
    {
      "cell_type": "markdown",
      "metadata": {
        "id": "daIjzR8K01GZ",
        "colab_type": "text"
      },
      "source": [
        "  "
      ]
    },
    {
      "cell_type": "markdown",
      "metadata": {
        "id": "_HIVLWAr01GZ",
        "colab_type": "text"
      },
      "source": [
        "  "
      ]
    },
    {
      "cell_type": "markdown",
      "metadata": {
        "id": "8wO0ZB1501Ga",
        "colab_type": "text"
      },
      "source": [
        "  "
      ]
    },
    {
      "cell_type": "markdown",
      "metadata": {
        "id": "FnAO2SQg01Ga",
        "colab_type": "text"
      },
      "source": [
        " "
      ]
    }
  ]
}