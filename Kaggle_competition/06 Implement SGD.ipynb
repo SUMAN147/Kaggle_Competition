{
  "cells": [
    {
      "metadata": {
        "_uuid": "075ee8551488b454c4d3ec3f66cbe315cc885a25",
        "id": "HkELhnrrgTa9",
        "colab_type": "text"
      },
      "cell_type": "markdown",
      "source": "# Amazon Fine Food Reviews Analysis\n\n\nData Source: https://www.kaggle.com/snap/amazon-fine-food-reviews <br>\n\nEDA: https://nycdatascience.com/blog/student-works/amazon-fine-foods-visualization/\n\n\nThe Amazon Fine Food Reviews dataset consists of reviews of fine foods from Amazon.<br>\n\nNumber of reviews: 568,454<br>\nNumber of users: 256,059<br>\nNumber of products: 74,258<br>\nTimespan: Oct 1999 - Oct 2012<br>\nNumber of Attributes/Columns in data: 10 \n\nAttribute Information:\n\n1. Id\n2. ProductId - unique identifier for the product\n3. UserId - unqiue identifier for the user\n4. ProfileName\n5. HelpfulnessNumerator - number of users who found the review helpful\n6. HelpfulnessDenominator - number of users who indicated whether they found the review helpful or not\n7. Score - rating between 1 and 5\n8. Time - timestamp for the review\n9. Summary - brief summary of the review\n10. Text - text of the review\n\n\n#### Objective:\nGiven a review, determine whether the review is positive (rating of 4 or 5) or negative (rating of 1 or 2).\n\n<br>\n[Q] How to determine if a review is positive or negative?<br>\n<br> \n[Ans] We could use Score/Rating. A rating of 4 or 5 can be cosnidered as a positive review. A rating of 1 or 2 can be considered as negative one. A review of rating 3 is considered nuetral and such reviews are ignored from our analysis. This is an approximate and proxy way of determining the polarity (positivity/negativity) of a review.\n\n\n"
    },
    {
      "metadata": {
        "_uuid": "31ebf02e07c34953e0890e89a21292397988b029",
        "id": "y_Po37IBgTbA",
        "colab_type": "text"
      },
      "cell_type": "markdown",
      "source": "# [1]. Reading Data"
    },
    {
      "metadata": {
        "_uuid": "a6d1fdf29edcc476e379cf769e15f5c6f2d8662d",
        "id": "BRtXLn2-gTbD",
        "colab_type": "text"
      },
      "cell_type": "markdown",
      "source": "## [1.1] Loading the data\n\nThe dataset is available in two forms\n1. .csv file\n2. SQLite Database\n\nIn order to load the data, We have used the SQLITE dataset as it is easier to query the data and visualise the data efficiently.\n<br> \n\nHere as we only want to get the global sentiment of the recommendations (positive or negative), we will purposefully ignore all Scores equal to 3. If the score is above 3, then the recommendation wil be set to \"positive\". Otherwise, it will be set to \"negative\"."
    },
    {
      "metadata": {
        "trusted": true,
        "_uuid": "949e10acb4e3f7353e54a895559bf7bcabe94af6",
        "id": "H8D6hwI8gTbE",
        "colab_type": "code",
        "colab": {}
      },
      "cell_type": "code",
      "source": "%matplotlib inline\nimport warnings\nwarnings.filterwarnings(\"ignore\")\n\n\nimport sqlite3\nimport pandas as pd\nimport numpy as np\nimport nltk\nimport string\nimport matplotlib.pyplot as plt\nimport seaborn as sns\nfrom sklearn.feature_extraction.text import TfidfTransformer\nfrom sklearn.feature_extraction.text import TfidfVectorizer\n\nfrom sklearn.feature_extraction.text import CountVectorizer\nfrom sklearn.preprocessing import StandardScaler\nfrom sklearn.metrics import confusion_matrix\nfrom sklearn import metrics\nfrom sklearn.metrics import roc_curve, auc\nfrom nltk.stem.porter import PorterStemmer\n\nimport re\n# Tutorial about Python regular expressions: https://pymotw.com/2/re/\nimport string\nfrom nltk.corpus import stopwords\nfrom nltk.stem import PorterStemmer\nfrom nltk.stem.wordnet import WordNetLemmatizer\n\nfrom gensim.models import Word2Vec\nfrom gensim.models import KeyedVectors\nimport pickle\n\nfrom tqdm import tqdm\nimport os",
      "execution_count": null,
      "outputs": []
    },
    {
      "metadata": {
        "trusted": true,
        "_uuid": "deb7d3815b9e7aa6d015e35c081756befa9a7096",
        "id": "0b8j1TDrgTbL",
        "colab_type": "code",
        "colab": {},
        "outputId": "31498890-5c2c-4f6e-90c5-b420577c85a4"
      },
      "cell_type": "code",
      "source": "# using SQLite Table to read data.\ncon = sqlite3.connect('../input/database.sqlite') \n\n# filtering only positive and negative reviews i.e. \n# not taking into consideration those reviews with Score=3\n# SELECT * FROM Reviews WHERE Score != 3 LIMIT 500000, will give top 500000 data points\n# you can change the number to any other number based on your computing power\n\n# filtered_data = pd.read_sql_query(\"\"\" SELECT * FROM Reviews WHERE Score != 3 LIMIT 500000\"\"\", con) \n# for tsne assignment you can take 5k data points\n\nfiltered_data = pd.read_sql_query(\"\"\" SELECT * FROM Reviews WHERE Score != 3 \"\"\", con) \n\n# Give reviews with Score>3 a positive rating(1), and reviews with a score<3 a negative rating(0).\ndef partition(x):\n    if x < 3:\n        return 0\n    return 1\n\n#changing reviews with score less than 3 to be negative and vice-versa\nactualScore = filtered_data['Score']\npositiveNegative = actualScore.map(partition) \nfiltered_data['Score'] = positiveNegative\nprint(\"Number of data points in our data\", filtered_data.shape)\nfiltered_data.head(3)",
      "execution_count": null,
      "outputs": []
    },
    {
      "metadata": {
        "trusted": true,
        "_uuid": "c145f10ad172db998b2f5987baf8c37df4aedfb7",
        "id": "fAjNB6kMgTbW",
        "colab_type": "code",
        "colab": {}
      },
      "cell_type": "code",
      "source": "display = pd.read_sql_query(\"\"\"\nSELECT UserId, ProductId, ProfileName, Time, Score, Text, COUNT(*)\nFROM Reviews\nGROUP BY UserId\nHAVING COUNT(*)>1\n\"\"\", con)",
      "execution_count": null,
      "outputs": []
    },
    {
      "metadata": {
        "scrolled": true,
        "trusted": true,
        "_uuid": "0fca3c94548bccf0e5dd1b7e5fc2c79dce220ace",
        "id": "Mzg6Hov4gTbb",
        "colab_type": "code",
        "colab": {},
        "outputId": "bb6bea82-9127-4c98-f8e3-eb166f208dc4"
      },
      "cell_type": "code",
      "source": "print(display.shape)\ndisplay.head()",
      "execution_count": null,
      "outputs": []
    },
    {
      "metadata": {
        "trusted": true,
        "_uuid": "6d81e88a6f3f8a9eed4e026df55b43663fd51bba",
        "id": "LqluA9mZgTbh",
        "colab_type": "code",
        "colab": {},
        "outputId": "1baa94e8-2e66-4175-92c7-abc323cc7a1f"
      },
      "cell_type": "code",
      "source": "display[display['UserId']=='AZY10LLTJ71NX']",
      "execution_count": null,
      "outputs": []
    },
    {
      "metadata": {
        "trusted": true,
        "_uuid": "a715af81a5706cc498235c8269e13667fcdb99f9",
        "id": "E_28vAuugTbm",
        "colab_type": "code",
        "colab": {},
        "outputId": "4effb660-64b3-4dae-e727-c408810210b1"
      },
      "cell_type": "code",
      "source": "display['COUNT(*)'].sum()",
      "execution_count": null,
      "outputs": []
    },
    {
      "metadata": {
        "_uuid": "3684f5978ff03274b6ba89daedc3f74348a1cfc3",
        "id": "u48IOWPhgTbs",
        "colab_type": "text"
      },
      "cell_type": "markdown",
      "source": "#  [2] Exploratory Data Analysis"
    },
    {
      "metadata": {
        "_uuid": "fd8950c53474e2d8c446ea61c6c7d2bbec50db83",
        "id": "Rm2AHamzgTbt",
        "colab_type": "text"
      },
      "cell_type": "markdown",
      "source": "## [2.1] Data Cleaning: Deduplication\n\nIt is observed (as shown in the table below) that the reviews data had many duplicate entries. Hence it was necessary to remove duplicates in order to get unbiased results for the analysis of the data.  Following is an example:"
    },
    {
      "metadata": {
        "scrolled": false,
        "trusted": true,
        "_uuid": "811a97ec6f7268d4e1b8700e51d145c27c3f27db",
        "id": "6CzPY6QZgTbv",
        "colab_type": "code",
        "colab": {},
        "outputId": "9b09e536-8b6f-478c-c7e5-d40fcb296c28"
      },
      "cell_type": "code",
      "source": "display= pd.read_sql_query(\"\"\"\nSELECT *\nFROM Reviews\nWHERE Score != 3 AND UserId=\"AR5J8UI46CURR\"\nORDER BY ProductID\n\"\"\", con)\ndisplay.head()",
      "execution_count": null,
      "outputs": []
    },
    {
      "metadata": {
        "_uuid": "6fcc9e99e273675c2a4e5a29e09b9dae19421771",
        "id": "tN6jlkh6gTb1",
        "colab_type": "text"
      },
      "cell_type": "markdown",
      "source": "As it can be seen above that same user has multiple reviews with same values for HelpfulnessNumerator, HelpfulnessDenominator, Score, Time, Summary and Text and on doing analysis it was found that <br>\n<br> \nProductId=B000HDOPZG was Loacker Quadratini Vanilla Wafer Cookies, 8.82-Ounce Packages (Pack of 8)<br>\n<br> \nProductId=B000HDL1RQ was Loacker Quadratini Lemon Wafer Cookies, 8.82-Ounce Packages (Pack of 8) and so on<br>\n\nIt was inferred after analysis that reviews with same parameters other than ProductId belonged to the same product just having different flavour or quantity. Hence in order to reduce redundancy it was decided to eliminate the rows having same parameters.<br>\n\nThe method used for the same was that we first sort the data according to ProductId and then just keep the first similar product review and delelte the others. for eg. in the above just the review for ProductId=B000HDL1RQ remains. This method ensures that there is only one representative for each product and deduplication without sorting would lead to possibility of different representatives still existing for the same product."
    },
    {
      "metadata": {
        "trusted": true,
        "_uuid": "5b548086163d7d537989aff9ba4f630a730dcc17",
        "id": "Ypy3iiePgTb2",
        "colab_type": "code",
        "colab": {}
      },
      "cell_type": "code",
      "source": "#Sorting data according to ProductId in ascending order\nsorted_data=filtered_data.sort_values('ProductId', axis=0, ascending=True, inplace=False, kind='quicksort', na_position='last')",
      "execution_count": null,
      "outputs": []
    },
    {
      "metadata": {
        "trusted": true,
        "_uuid": "94c06fb54cb300a394e8d4fe8018b963f419a314",
        "id": "G4f8jPUrgTb-",
        "colab_type": "code",
        "colab": {},
        "outputId": "df425930-ab96-48a3-8c0f-ce8b7fdc09c3"
      },
      "cell_type": "code",
      "source": "#Deduplication of entries\nfinal=sorted_data.drop_duplicates(subset={\"UserId\",\"ProfileName\",\"Time\",\"Text\"}, keep='first', inplace=False)\nfinal.shape",
      "execution_count": null,
      "outputs": []
    },
    {
      "metadata": {
        "trusted": true,
        "_uuid": "dddbb8dd3ca83b1edddf4800a73670c3ae0b6f16",
        "id": "SqxdR9Z5gTcD",
        "colab_type": "code",
        "colab": {},
        "outputId": "b46fe768-cb6f-4a2a-ddd6-a2974d0450c0"
      },
      "cell_type": "code",
      "source": "#Checking to see how much % of data still remains\n(final['Id'].size*1.0)/(filtered_data['Id'].size*1.0)*100",
      "execution_count": null,
      "outputs": []
    },
    {
      "metadata": {
        "_uuid": "75f7eff3f4ff98786d32b78115567226ad4bdaa2",
        "id": "Ycpq8R8GgTcM",
        "colab_type": "text"
      },
      "cell_type": "markdown",
      "source": "<b>Observation:-</b> It was also seen that in two rows given below the value of HelpfulnessNumerator is greater than HelpfulnessDenominator which is not practically possible hence these two rows too are removed from calcualtions"
    },
    {
      "metadata": {
        "trusted": true,
        "_uuid": "99a2be4693a8528a53694716d39909bf581f4b19",
        "id": "gDrNLknTgTcQ",
        "colab_type": "code",
        "colab": {},
        "outputId": "8fe10b84-afc6-4387-a85b-f35973deb236"
      },
      "cell_type": "code",
      "source": "display= pd.read_sql_query(\"\"\"\nSELECT *\nFROM Reviews\nWHERE Score != 3 AND Id=44737 OR Id=64422\nORDER BY ProductID\n\"\"\", con)\n\ndisplay.head()",
      "execution_count": null,
      "outputs": []
    },
    {
      "metadata": {
        "trusted": true,
        "_uuid": "ed273b5bb9a5552207877185ea5f07d31f9f7c7f",
        "id": "4JuqOsAFgTcX",
        "colab_type": "code",
        "colab": {}
      },
      "cell_type": "code",
      "source": "final=final[final.HelpfulnessNumerator<=final.HelpfulnessDenominator]",
      "execution_count": null,
      "outputs": []
    },
    {
      "metadata": {
        "trusted": true,
        "_uuid": "c2192436ae84c47b19a25e81e1ff51804e8b8316",
        "id": "BP6u0fgJgTce",
        "colab_type": "code",
        "colab": {},
        "outputId": "a3f1c966-e557-46e9-aada-66e6e0717f09"
      },
      "cell_type": "code",
      "source": "#Before starting the next phase of preprocessing lets see the number of entries left\nprint(final.shape)\n\n#How many positive and negative reviews are present in our dataset?\nfinal['Score'].value_counts()",
      "execution_count": null,
      "outputs": []
    },
    {
      "metadata": {
        "_uuid": "d5936808c75b53e0b1a1435b43e81fb9a8db082a",
        "id": "vq6md39XgTcn",
        "colab_type": "text"
      },
      "cell_type": "markdown",
      "source": "#  [3] Preprocessing"
    },
    {
      "metadata": {
        "_uuid": "7e6c1df19e4efae8bed5c8bfd82292068bd6b85d",
        "id": "ZeplIe_cgTcq",
        "colab_type": "text"
      },
      "cell_type": "markdown",
      "source": "## [3.1].  Preprocessing Review Text\n\nNow that we have finished deduplication our data requires some preprocessing before we go on further with analysis and making the prediction model.\n\nHence in the Preprocessing phase we do the following in the order below:-\n\n1. Begin by removing the html tags\n2. Remove any punctuations or limited set of special characters like , or . or # etc.\n3. Check if the word is made up of english letters and is not alpha-numeric\n4. Check to see if the length of the word is greater than 2 (as it was researched that there is no adjective in 2-letters)\n5. Convert the word to lowercase\n6. Remove Stopwords\n7. Finally Snowball Stemming the word (it was obsereved to be better than Porter Stemming)<br>\n\nAfter which we collect the words used to describe positive and negative reviews"
    },
    {
      "metadata": {
        "trusted": true,
        "_uuid": "0f7db3f484b3fda552c6790ac4ee73abad3872fc",
        "id": "Nkr8vrWwgTcs",
        "colab_type": "code",
        "colab": {},
        "outputId": "b089ce01-7917-48a3-899b-1bfb0ebe093a"
      },
      "cell_type": "code",
      "source": "# printing some random reviews\nsent_0 = final['Text'].values[0]\nprint(sent_0)\nprint(\"=\"*50)\n\nsent_1000 = final['Text'].values[1000]\nprint(sent_1000)\nprint(\"=\"*50)\n\nsent_1500 = final['Text'].values[1500]\nprint(sent_1500)\nprint(\"=\"*50)\n\nsent_4900 = final['Text'].values[4900]\nprint(sent_4900)\nprint(\"=\"*50)",
      "execution_count": null,
      "outputs": []
    },
    {
      "metadata": {
        "trusted": true,
        "_uuid": "38639293ce6202b382f65482293b44da0824c509",
        "id": "krmoSRwzgTc4",
        "colab_type": "code",
        "colab": {},
        "outputId": "fd0297ef-c4a0-4e99-f5c4-b6d7496fe896"
      },
      "cell_type": "code",
      "source": "# remove urls from text python: https://stackoverflow.com/a/40823105/4084039\nsent_0 = re.sub(r\"http\\S+\", \"\", sent_0)\nsent_1000 = re.sub(r\"http\\S+\", \"\", sent_1000)\nsent_150 = re.sub(r\"http\\S+\", \"\", sent_1500)\nsent_4900 = re.sub(r\"http\\S+\", \"\", sent_4900)\n\nprint(sent_0)",
      "execution_count": null,
      "outputs": []
    },
    {
      "metadata": {
        "trusted": true,
        "_uuid": "e1795d07ba5f390d55e0ffad5eb9eb14da196066",
        "id": "nHMcLaqNgTdE",
        "colab_type": "code",
        "colab": {},
        "outputId": "42baa53c-c520-44c1-a54b-5b8d4c7255bf"
      },
      "cell_type": "code",
      "source": "# https://stackoverflow.com/questions/16206380/python-beautifulsoup-how-to-remove-all-tags-from-an-element\nfrom bs4 import BeautifulSoup\n\nsoup = BeautifulSoup(sent_0, 'lxml')\ntext = soup.get_text()\nprint(text)\nprint(\"=\"*50)\n\nsoup = BeautifulSoup(sent_1000, 'lxml')\ntext = soup.get_text()\nprint(text)\nprint(\"=\"*50)\n\nsoup = BeautifulSoup(sent_1500, 'lxml')\ntext = soup.get_text()\nprint(text)\nprint(\"=\"*50)\n\nsoup = BeautifulSoup(sent_4900, 'lxml')\ntext = soup.get_text()\nprint(text)",
      "execution_count": null,
      "outputs": []
    },
    {
      "metadata": {
        "trusted": true,
        "_uuid": "f18b0c069e7107ef59940b8541126207e5b44e65",
        "id": "ttlTa5OygTdP",
        "colab_type": "code",
        "colab": {}
      },
      "cell_type": "code",
      "source": "# https://stackoverflow.com/a/47091490/4084039\nimport re\n\ndef decontracted(phrase):\n    # specific\n    phrase = re.sub(r\"won't\", \"will not\", phrase)\n    phrase = re.sub(r\"can\\'t\", \"can not\", phrase)\n\n    # general\n    phrase = re.sub(r\"n\\'t\", \" not\", phrase)\n    phrase = re.sub(r\"\\'re\", \" are\", phrase)\n    phrase = re.sub(r\"\\'s\", \" is\", phrase)\n    phrase = re.sub(r\"\\'d\", \" would\", phrase)\n    phrase = re.sub(r\"\\'ll\", \" will\", phrase)\n    phrase = re.sub(r\"\\'t\", \" not\", phrase)\n    phrase = re.sub(r\"\\'ve\", \" have\", phrase)\n    phrase = re.sub(r\"\\'m\", \" am\", phrase)\n    return phrase",
      "execution_count": null,
      "outputs": []
    },
    {
      "metadata": {
        "trusted": true,
        "_uuid": "6dd847f455daa26a6ef07b27ec3fbf60548c92bf",
        "id": "2LCdEjCxgTdW",
        "colab_type": "code",
        "colab": {},
        "outputId": "a50aed96-fedb-4720-b7c4-2a774466c2a2"
      },
      "cell_type": "code",
      "source": "sent_1500 = decontracted(sent_1500)\nprint(sent_1500)\nprint(\"=\"*50)",
      "execution_count": null,
      "outputs": []
    },
    {
      "metadata": {
        "trusted": true,
        "_uuid": "0a536da3792e7b68017a133ceb1ed07681d19b04",
        "id": "GaEc9kb8gTde",
        "colab_type": "code",
        "colab": {},
        "outputId": "8e08cb44-f730-4547-cfe3-69699067a42e"
      },
      "cell_type": "code",
      "source": "#remove words with numbers python: https://stackoverflow.com/a/18082370/4084039\nsent_0 = re.sub(\"\\S*\\d\\S*\", \"\", sent_0).strip()\nprint(sent_0)",
      "execution_count": null,
      "outputs": []
    },
    {
      "metadata": {
        "trusted": true,
        "_uuid": "728ab1a43cbd958105df44ecb512c51fd9489e28",
        "id": "p4I7Pih-gTdn",
        "colab_type": "code",
        "colab": {},
        "outputId": "2bd5939c-93c6-4aa1-b636-9d2e12a1c66c"
      },
      "cell_type": "code",
      "source": "#remove spacial character: https://stackoverflow.com/a/5843547/4084039\nsent_1500 = re.sub('[^A-Za-z0-9]+', ' ', sent_1500)\nprint(sent_1500)",
      "execution_count": null,
      "outputs": []
    },
    {
      "metadata": {
        "trusted": true,
        "_uuid": "e593e7f590ee6ccb91b45518e70f4282b713f90d",
        "id": "oWvSDWBUgTdw",
        "colab_type": "code",
        "colab": {}
      },
      "cell_type": "code",
      "source": "# https://gist.github.com/sebleier/554280\n# we are removing the words from the stop words list: 'no', 'nor', 'not'\n# <br /><br /> ==> after the above steps, we are getting \"br br\"\n# we are including them into stop words list\n# instead of <br /> if we have <br/> these tags would have revmoved in the 1st step\n\nstopwords= set(['br', 'the', 'i', 'me', 'my', 'myself', 'we', 'our', 'ours', 'ourselves', 'you', \"you're\", \"you've\",\\\n            \"you'll\", \"you'd\", 'your', 'yours', 'yourself', 'yourselves', 'he', 'him', 'his', 'himself', \\\n            'she', \"she's\", 'her', 'hers', 'herself', 'it', \"it's\", 'its', 'itself', 'they', 'them', 'their',\\\n            'theirs', 'themselves', 'what', 'which', 'who', 'whom', 'this', 'that', \"that'll\", 'these', 'those', \\\n            'am', 'is', 'are', 'was', 'were', 'be', 'been', 'being', 'have', 'has', 'had', 'having', 'do', 'does', \\\n            'did', 'doing', 'a', 'an', 'the', 'and', 'but', 'if', 'or', 'because', 'as', 'until', 'while', 'of', \\\n            'at', 'by', 'for', 'with', 'about', 'against', 'between', 'into', 'through', 'during', 'before', 'after',\\\n            'above', 'below', 'to', 'from', 'up', 'down', 'in', 'out', 'on', 'off', 'over', 'under', 'again', 'further',\\\n            'then', 'once', 'here', 'there', 'when', 'where', 'why', 'how', 'all', 'any', 'both', 'each', 'few', 'more',\\\n            'most', 'other', 'some', 'such', 'only', 'own', 'same', 'so', 'than', 'too', 'very', \\\n            's', 't', 'can', 'will', 'just', 'don', \"don't\", 'should', \"should've\", 'now', 'd', 'll', 'm', 'o', 're', \\\n            've', 'y', 'ain', 'aren', \"aren't\", 'couldn', \"couldn't\", 'didn', \"didn't\", 'doesn', \"doesn't\", 'hadn',\\\n            \"hadn't\", 'hasn', \"hasn't\", 'haven', \"haven't\", 'isn', \"isn't\", 'ma', 'mightn', \"mightn't\", 'mustn',\\\n            \"mustn't\", 'needn', \"needn't\", 'shan', \"shan't\", 'shouldn', \"shouldn't\", 'wasn', \"wasn't\", 'weren', \"weren't\", \\\n            'won', \"won't\", 'wouldn', \"wouldn't\"])",
      "execution_count": null,
      "outputs": []
    },
    {
      "metadata": {
        "trusted": true,
        "_uuid": "762f96bfef8af47f15acb7f2837ef2cae511c819",
        "id": "NumkHoEpgTd1",
        "colab_type": "code",
        "colab": {},
        "outputId": "a83f0333-ff82-4eaf-aff9-2c3ad123cd98"
      },
      "cell_type": "code",
      "source": "# Combining all the above stundents \nfrom tqdm import tqdm\npreprocessed_reviews = []\n# tqdm is for printing the status bar\nfor sentance in tqdm(final['Text'].values):\n    sentance = re.sub(r\"http\\S+\", \"\", sentance)\n    sentance = BeautifulSoup(sentance, 'lxml').get_text()\n    sentance = decontracted(sentance)\n    sentance = re.sub(\"\\S*\\d\\S*\", \"\", sentance).strip()\n    sentance = re.sub('[^A-Za-z]+', ' ', sentance)\n    # https://gist.github.com/sebleier/554280\n    sentance = ' '.join(e.lower() for e in sentance.split() if e.lower() not in stopwords)\n    preprocessed_reviews.append(sentance.strip())",
      "execution_count": null,
      "outputs": []
    },
    {
      "metadata": {
        "trusted": true,
        "_uuid": "470ef60645725e5c7f9d24954e0ee3c274b80d6b",
        "id": "MRBSeiVlgTeB",
        "colab_type": "code",
        "colab": {},
        "outputId": "4d07f5ba-c29d-44ff-d5a9-ace93f5f607d"
      },
      "cell_type": "code",
      "source": "preprocessed_reviews[1500]",
      "execution_count": null,
      "outputs": []
    },
    {
      "metadata": {
        "_uuid": "bd0712db9747fe5dac08537bd4bb5272cef30b20",
        "id": "mssobA_ugTeK",
        "colab_type": "text"
      },
      "cell_type": "markdown",
      "source": "<h2><font color='red'>[3.2] Preprocessing Review Summary</font></h2>"
    },
    {
      "metadata": {
        "trusted": true,
        "_uuid": "5e3501a436dd9060fe5ad60662dd5a4cdf8d0f25",
        "id": "2z86CB-GgTeL",
        "colab_type": "code",
        "colab": {},
        "outputId": "d22b83e6-9894-4f98-db03-b86bca702381"
      },
      "cell_type": "code",
      "source": "## preprocessing for review summary \nsummary_preprocessed_reviews = []\n# tqdm is for printing the status bar\nfor sentance in tqdm(final['Summary'].values):\n    sentance = re.sub(r\"http\\S+\", \"\", sentance)\n    sentance = BeautifulSoup(sentance, 'lxml').get_text()\n    sentance = decontracted(sentance)\n    sentance = re.sub(\"\\S*\\d\\S*\", \"\", sentance).strip()\n    sentance = re.sub('[^A-Za-z]+', ' ', sentance)\n    # https://gist.github.com/sebleier/554280\n    sentance = ' '.join(e.lower() for e in sentance.split() if e.lower() not in stopwords)\n    summary_preprocessed_reviews.append(sentance.strip())\n\nprint(summary_preprocessed_reviews[1500])\n",
      "execution_count": null,
      "outputs": []
    },
    {
      "metadata": {
        "_uuid": "1d361f9b69b6807cb08eec816b808c64b464b4de"
      },
      "cell_type": "markdown",
      "source": "# Feature Engineering"
    },
    {
      "metadata": {
        "trusted": true,
        "_uuid": "14f7fb654ee4a861fdf8b25ccb6e80eca376bc17"
      },
      "cell_type": "code",
      "source": "# Adding review text and Summary text as Input into the data\n\npreprocessed_reviews = [i + ' ' + j for i, j in zip(preprocessed_reviews,summary_preprocessed_reviews)] \nprint(preprocessed_reviews[1500])\n\n# Adding new Column to the Final dataframe\nfinal['preprocessed_reviews'] = preprocessed_reviews\n",
      "execution_count": null,
      "outputs": []
    },
    {
      "metadata": {
        "_uuid": "892dda3a4fbdea48f3c0d22cc8631b20051dd7ca",
        "id": "v5PwPnCKgTeS",
        "colab_type": "text"
      },
      "cell_type": "markdown",
      "source": "\n# Splitting of Preprocessed data into Train and Test data"
    },
    {
      "metadata": {
        "trusted": true,
        "_uuid": "a772cc8d139bf5a0c46ffeef8a11806c6b88e1b1",
        "id": "xE-ZRVCCgTeU",
        "colab_type": "code",
        "colab": {},
        "outputId": "a3301c17-7cda-4a59-dd39-f236f9c641bb"
      },
      "cell_type": "code",
      "source": "#Calculating the train and test size and dividing the data into train and test chunks into the 70 - 30 ratio\nimport math\n\ndef splitData(final_data):    \n    preprocessed_reviews = np.array(final_data['preprocessed_reviews']) \n    train_size = math.floor(preprocessed_reviews.shape[0] * 0.7)\n\n    #split the data set into train and test\n    preprocessed_reviews_train = preprocessed_reviews[: train_size]\n    preprocessed_reviews_test  =preprocessed_reviews[train_size : ]  \n    Score_train =final_data['Score'][: train_size ]\n    Score_test =final_data['Score'][train_size : ]\n    \n    return [preprocessed_reviews_train,preprocessed_reviews_test,Score_train,Score_test]",
      "execution_count": null,
      "outputs": []
    },
    {
      "metadata": {
        "_uuid": "842695d87bf1de8c7a09ab10bea5e89c1f936c64",
        "id": "a6fSUp_EgTef",
        "colab_type": "text"
      },
      "cell_type": "markdown",
      "source": "# [4] Featurization"
    },
    {
      "metadata": {
        "_uuid": "45f65caee581ca12da2947918eb4b7952e4358e9",
        "id": "Qpm1gzIFgTeg",
        "colab_type": "text"
      },
      "cell_type": "markdown",
      "source": "## [4.1] BAG OF WORDS"
    },
    {
      "metadata": {
        "trusted": true,
        "_uuid": "38d3fec79c41c8b70da53250a1a3872263986975",
        "id": "7mSkhFtJgTej",
        "colab_type": "code",
        "colab": {},
        "outputId": "d6ad0736-ae90-49cc-fb55-d633471096af"
      },
      "cell_type": "code",
      "source": "#Function for Bow\n\ndef bowText(preprocessed_reviews_train,preprocessed_reviews_test,max_feature):\n    count_vect = CountVectorizer(min_df=10 , max_features = max_feature) #in scikit-learn\n\n    # BOW on Train data and Test data\n    count_vect_train_data = count_vect.fit_transform(preprocessed_reviews_train)\n    count_vect_test_data = count_vect.transform(preprocessed_reviews_test)\n\n    print(\"some feature names \", count_vect.get_feature_names()[:10])\n    print('='*50)\n\n\n    print(\"the type of count vectorizer of train Preprocessed data\",type(count_vect_train_data))\n    print(\"the type of count vectorizer of test Preprocessed data\",type(count_vect_test_data))\n    print(\"the shape of out text BOW vectorizer on train data\",count_vect_train_data.get_shape())\n    print(\"the shape of out text BOW vectorizer on test data\",count_vect_test_data.get_shape())\n    print(\"the number of unique words \", count_vect_test_data.get_shape()[1])\n    \n    return [count_vect_train_data,count_vect_test_data]",
      "execution_count": null,
      "outputs": []
    },
    {
      "metadata": {
        "_uuid": "5406aba396604290d818b9ea3675bed41b56baf1",
        "id": "trw9LeEqgTep",
        "colab_type": "text"
      },
      "cell_type": "markdown",
      "source": "## [4.2] Bi-Grams and n-Grams."
    },
    {
      "metadata": {
        "trusted": true,
        "_uuid": "74e4f22ce7def1fc5ab8df77407ac456e15b7d0d",
        "id": "pMfazuHwgTeq",
        "colab_type": "code",
        "colab": {},
        "outputId": "681f1a79-7de3-42f2-9cb1-daa96140e28f"
      },
      "cell_type": "code",
      "source": "#Function for bi-gram, tri-gram and n-gram\ndef ngramBowText(preprocessed_reviews_train,preprocessed_reviews_test,max_feature):\n    bi_count_vect = CountVectorizer(ngram_range=(1,2), min_df=10, max_features=max_feature)\n\n    # bi-gram BOW on Train data and on Test data\n    bi_count_vect_train_data = bi_count_vect.fit_transform(preprocessed_reviews_train)\n    bi_count_vect_test_data = bi_count_vect.transform(preprocessed_reviews_test)\n\n    print(\"some feature names \", bi_count_vect.get_feature_names()[:10])\n    print('='*50)\n\n\n    print(\"the type of count vectorizer of train Preprocessed data\",type(bi_count_vect_train_data))\n    print(\"the type of count vectorizer of test Preprocessed data\",type(bi_count_vect_test_data))\n    print(\"the shape of out text bi gram BOW vectorizer on train data\",bi_count_vect_train_data.get_shape())\n    print(\"the shape of out text bi gram BOW vectorizer on test data\",bi_count_vect_test_data.get_shape())\n    print(\"the number of unique words \",bi_count_vect_train_data.get_shape()[1])\n    \n    return [bi_count_vect_train_data,bi_count_vect_test_data]",
      "execution_count": null,
      "outputs": []
    },
    {
      "metadata": {
        "_uuid": "3b70ed1ee9cbb7a409978f925a7b9b2c69604d3e",
        "id": "NSG1SE8kgTew",
        "colab_type": "text"
      },
      "cell_type": "markdown",
      "source": "## [4.3] TF-IDF"
    },
    {
      "metadata": {
        "trusted": true,
        "_uuid": "0f25d6819ca8333786788be7047d9851e97c5c4d",
        "id": "DLHK5zDRgTez",
        "colab_type": "code",
        "colab": {},
        "outputId": "4eb6082a-719d-4f52-f90a-77048fc5a6be"
      },
      "cell_type": "code",
      "source": "#Function for Text converting into vector using Tf-Idf\ndef tfIdfText(preprocessed_reviews_train,preprocessed_reviews_test,max_feature):\n    tf_idf_vect = TfidfVectorizer(ngram_range=(1,2), min_df=10, max_features=max_feature)\n\n    # n-gram TfIdf on Train and Test data \n    tfIdf_vect_train_data = tf_idf_vect.fit_transform(preprocessed_reviews_train) \n    tfIdf_vect_test_data = tf_idf_vect.transform(preprocessed_reviews_test)\n\n    print(\"some feature names \", tf_idf_vect.get_feature_names()[:10])\n    print('='*50)\n\n    print(\"the type of count vectorizer of train Preprocessed data\",type(tfIdf_vect_train_data))\n    print(\"the type of count vectorizer of test Preprocessed data\",type(tfIdf_vect_test_data))\n    print(\"the shape of out text n-gram TfIdf vectorizer on train data\",tfIdf_vect_train_data.get_shape())\n    print(\"the shape of out text n-gram TfIdf vectorizer on test data\",tfIdf_vect_test_data.get_shape())\n    print(\"the number of unique words \",tfIdf_vect_train_data.get_shape()[1])\n    \n    return [tfIdf_vect_train_data,tfIdf_vect_test_data]",
      "execution_count": null,
      "outputs": []
    },
    {
      "metadata": {
        "_uuid": "16cd88d1767e4dff812bfe5228375ccb432b3b03",
        "id": "IRN9zYsugTe4",
        "colab_type": "text"
      },
      "cell_type": "markdown",
      "source": "## [4.4] Word2Vec"
    },
    {
      "metadata": {
        "trusted": true,
        "_uuid": "c7b9099f76df4db13552b568a5341d5da39bd7a5",
        "id": "XQ6Q0dsigTe5",
        "colab_type": "code",
        "colab": {}
      },
      "cell_type": "code",
      "source": "# Randomly select 50k rows from dataset\nfinal_data = final.sample(n=50000)\npreprocessed_reviews_train, preprocessed_reviews_test, Score_W2V_train, Score_W2V_test = splitData(final_data)\n\n# Train your own Word2Vec model using your own train data\nimport gensim\ni=0\nlist_of_sentance=[]\nfor sentance in preprocessed_reviews_train:\n    list_of_sentance.append(sentance.split())\n\nw2v_model=gensim.models.Word2Vec(list_of_sentance,min_count= 5,size=50, workers=4)\n",
      "execution_count": null,
      "outputs": []
    },
    {
      "metadata": {
        "scrolled": true,
        "trusted": true,
        "_uuid": "ddcfa3c3e6921a11aaa9d149c1373099d37589d1",
        "id": "BH-ktmjXgTfC",
        "colab_type": "code",
        "colab": {}
      },
      "cell_type": "code",
      "source": "# Using Google News Word2Vectors\n\n# in this project we are using a pretrained model by google\n# its 3.3G file, once you load this into your memory \n# it occupies ~9Gb, so please do this step only if you have >12G of ram\n# we will provide a pickle file wich contains a dict , \n# and it contains all our courpus words as keys and  model[word] as values\n# To use this code-snippet, download \"GoogleNews-vectors-negative300.bin\" \n# from https://drive.google.com/file/d/0B7XkCwpI5KDYNlNUTTlSS21pQmM/edit\n# it's 1.9GB in size.\n\n\n# http://kavita-ganesan.com/gensim-word2vec-tutorial-starter-code/#.W17SRFAzZPY\n# you can comment this whole cell\n# or change these varible according to your need\n\nis_your_ram_gt_16g=False\nwant_to_use_google_w2v = False\nwant_to_train_w2v = False\n\nif want_to_train_w2v:\n    # min_count = 5 considers only words that occured atleast 5 times\n    w2v_model=Word2Vec(list_of_sentance,min_count=5,size=50, workers=4)\n    print(w2v_model.wv.most_similar('great'))\n    print('='*50)\n    print(w2v_model.wv.most_similar('worst'))\n    \nelif want_to_use_google_w2v and is_your_ram_gt_16g:\n    if os.path.isfile('GoogleNews-vectors-negative300.bin'):\n        w2v_model=KeyedVectors.load_word2vec_format('GoogleNews-vectors-negative300.bin', binary=True)\n        print(w2v_model.wv.most_similar('great'))\n        print(w2v_model.wv.most_similar('worst'))\n    else:\n        print(\"you don't have gogole's word2vec file, keep want_to_train_w2v = True, to train your own w2v \")",
      "execution_count": null,
      "outputs": []
    },
    {
      "metadata": {
        "trusted": true,
        "_uuid": "08aa98f705e8da090c3ab24ef27bbed1db30d130"
      },
      "cell_type": "code",
      "source": "w2v_words = list(w2v_model.wv.vocab)\nprint(\"number of words that occured minimum 5 times \",len(w2v_words))\nprint(\"sample words \", w2v_words[0:50])",
      "execution_count": null,
      "outputs": []
    },
    {
      "metadata": {
        "_uuid": "71817fe1f1393c2015fe41a4d0f5145fe08c3334",
        "id": "bdxroVrMgTfU",
        "colab_type": "text"
      },
      "cell_type": "markdown",
      "source": "## [4.4.1] Converting text into vectors using Avg W2V, TFIDF-W2V"
    },
    {
      "metadata": {
        "_uuid": "2325b3ce8e3dbc7dc1ac2b5782a8275b31cd5919",
        "id": "EaZgZM91gTfV",
        "colab_type": "text"
      },
      "cell_type": "markdown",
      "source": "#### [4.4.1.1] Avg W2v"
    },
    {
      "metadata": {
        "trusted": true,
        "_uuid": "f65599b26d0f2a51837295a231f15544d0c841e7",
        "id": "olehpoZggTfW",
        "colab_type": "code",
        "colab": {},
        "outputId": "ee909124-c9d4-4714-bc9c-39cc7a54b15d"
      },
      "cell_type": "code",
      "source": "# average Word2Vec\nAvgW2V_train_data = []; # the avg-w2v for each train sentence/review is stored in this list\nAvgW2V_test_data = [] ; # the avg-w2v for each test sentence/review is stored in this list\n\n# compute average word2vec for each  Training review.\nfor sent in tqdm(preprocessed_reviews_train): # for each review/sentence\n    sent_vec = np.zeros(50) # as word vectors are of zero length 50, you might need to change this to 300 if you use google's w2v\n    cnt_words =0; # num of words with a valid vector in the sentence/review\n    for word in sent: # for each word in a review/sentence\n        if word in w2v_words:\n            vec = w2v_model.wv[word]\n            sent_vec += vec\n            cnt_words += 1\n    if cnt_words != 0:\n        sent_vec /= cnt_words\n    AvgW2V_train_data.append(sent_vec)\n\n# compute average word2vec for each  Test review  \nfor sent in tqdm(preprocessed_reviews_test): # for each review/sentence\n    sent_vec = np.zeros(50) # as word vectors are of zero length 50, you might need to change this to 300 if you use google's w2v\n    cnt_words =0; # num of words with a valid vector in the sentence/review\n    for word in sent: # for each word in a review/sentence\n        if word in w2v_words:\n            vec = w2v_model.wv[word]\n            sent_vec += vec\n            cnt_words += 1\n    if cnt_words != 0:\n        sent_vec /= cnt_words\n    AvgW2V_test_data.append(sent_vec)    \nprint(len(AvgW2V_test_data))\nprint(len(AvgW2V_test_data[0]))",
      "execution_count": null,
      "outputs": []
    },
    {
      "metadata": {
        "_uuid": "bd82d0ebb0b6cb14f19a890144b9c11ef3406348",
        "id": "7NUqtZOYgTfb",
        "colab_type": "text"
      },
      "cell_type": "markdown",
      "source": "#### [4.4.1.2] TFIDF weighted W2v"
    },
    {
      "metadata": {
        "trusted": true,
        "_uuid": "b6052e9a871122f76082b750af6ab22b31901791",
        "id": "ZaEy8p1zgTfd",
        "colab_type": "code",
        "colab": {}
      },
      "cell_type": "code",
      "source": "# S = [\"abc def pqr\", \"def def def abc\", \"pqr pqr def\"]\nmodel = TfidfVectorizer()\ntf_idf_matrix = model.fit_transform(preprocessed_reviews_train)  # Vectorization of train data\n\n# we are converting a dictionary with word as a key, and the idf as a value\ndictionary = dict(zip(model.get_feature_names(), list(model.idf_)))",
      "execution_count": null,
      "outputs": []
    },
    {
      "metadata": {
        "scrolled": true,
        "trusted": true,
        "_uuid": "383ff40ee3506f78ddfdd75c4c25b5f4c5773dbb",
        "id": "9k6WYXg4gTfg",
        "colab_type": "code",
        "colab": {},
        "outputId": "a82490cd-d886-4119-fb6e-147744c5b546"
      },
      "cell_type": "code",
      "source": "# TF-IDF weighted Word2Vec\ntfidf_feat = model.get_feature_names() # tfidf words/col-names\n# final_tf_idf is the sparse matrix with row= sentence, col=word and cell_val = tfidf\n\ntfIdf_W2V_train_data = []; # the tf-Idf avg-w2v for each train sentence/review is stored in this list\ntfIdf_W2V_test_data = [] ; # the tf-Idf avg-w2v for each test sentence/review is stored in this list\n\n# TF-IDF weighted Word2Vec for Train data\nrow=0;\nfor sent in tqdm(preprocessed_reviews_train): # for each review/sentence \n    sent_vec = np.zeros(50) # as word vectors are of zero length\n    weight_sum =0; # num of words with a valid vector in the sentence/review\n    for word in sent: # for each word in a review/sentence\n        if word in w2v_words and word in tfidf_feat:\n            vec = w2v_model.wv[word]\n#             tf_idf = tf_idf_matrix[row, tfidf_feat.index(word)]\n            # to reduce the computation we are \n            # dictionary[word] = idf value of word in whole courpus\n            # sent.count(word) = tf valeus of word in this review\n            tf_idf = dictionary[word]*(sent.count(word)/len(sent))\n            sent_vec += (vec * tf_idf)\n            weight_sum += tf_idf\n    if weight_sum != 0:\n        sent_vec /= weight_sum\n    tfIdf_W2V_train_data.append(sent_vec)\n    row += 1\n    \n# TF-IDF weighted Word2Vec for Test data \nrow=0;\nfor sent in tqdm(preprocessed_reviews_test): # for each review/sentence \n    sent_vec = np.zeros(50) # as word vectors are of zero length\n    weight_sum =0; # num of words with a valid vector in the sentence/review\n    for word in sent: # for each word in a review/sentence\n        if word in w2v_words and word in tfidf_feat:\n            vec = w2v_model.wv[word]\n#             tf_idf = tf_idf_matrix[row, tfidf_feat.index(word)]\n            # to reduce the computation we are \n            # dictionary[word] = idf value of word in whole courpus\n            # sent.count(word) = tf valeus of word in this review\n            tf_idf = dictionary[word]*(sent.count(word)/len(sent))\n            sent_vec += (vec * tf_idf)\n            weight_sum += tf_idf\n    if weight_sum != 0:\n        sent_vec /= weight_sum\n    tfIdf_W2V_test_data.append(sent_vec)\n    row += 1    ",
      "execution_count": null,
      "outputs": []
    },
    {
      "metadata": {
        "_uuid": "3adcaf09449ddbd0001ca7b199ab8bb93eac92d5",
        "id": "OUwxyZ9cgTfk",
        "colab_type": "text"
      },
      "cell_type": "markdown",
      "source": "# [5] Assignment 3: KNN"
    },
    {
      "metadata": {
        "_uuid": "89ecb38eac2989ec8e71fe25042cf920ec9aa8c1",
        "id": "al9mk9BVgTfl",
        "colab_type": "text"
      },
      "cell_type": "markdown",
      "source": "<ol>\n    <li><strong>Apply Knn(brute force version) on these feature sets</strong>\n        <ul>\n            <li><font color='red'>SET 1:</font>Review text, preprocessed one converted into vectors using (BOW)</li>\n            <li><font color='red'>SET 2:</font>Review text, preprocessed one converted into vectors using (TFIDF)</li>\n            <li><font color='red'>SET 3:</font>Review text, preprocessed one converted into vectors using (AVG W2v)</li>\n            <li><font color='red'>SET 4:</font>Review text, preprocessed one converted into vectors using (TFIDF W2v)</li>\n        </ul>\n    </li>\n    <br>\n    <li><strong>Apply Knn(kd tree version) on these feature sets</strong>\n        <br><font color='red'>NOTE: </font>sklearn implementation of kd-tree accepts only dense matrices, you need to convert the sparse matrices of CountVectorizer/TfidfVectorizer into dense matices. You can convert sparse matrices to dense using .toarray() attribute. For more information please visit this <a href='https://docs.scipy.org/doc/scipy-0.18.1/reference/generated/scipy.sparse.csr_matrix.toarray.html'>link</a>\n        <ul>\n            <li><font color='red'>SET 5:</font>Review text, preprocessed one converted into vectors using (BOW) but with restriction on maximum features generated.\n            <pre>\n            count_vect = CountVectorizer(min_df=10, max_features=500) \n            count_vect.fit(preprocessed_reviews)\n            </pre>\n            </li>\n            <li><font color='red'>SET 6:</font>Review text, preprocessed one converted into vectors using (TFIDF) but with restriction on maximum features generated.\n            <pre>\n                tf_idf_vect = TfidfVectorizer(min_df=10, max_features=500)\n                tf_idf_vect.fit(preprocessed_reviews)\n            </pre>\n            </li>\n            <li><font color='red'>SET 3:</font>Review text, preprocessed one converted into vectors using (AVG W2v)</li>\n            <li><font color='red'>SET 4:</font>Review text, preprocessed one converted into vectors using (TFIDF W2v)</li>\n        </ul>\n    </li>\n    <br>\n    <li><strong>The hyper paramter tuning(find best K)</strong>\n        <ul>\n    <li>Find the best hyper parameter which will give the maximum <a href='https://www.appliedaicourse.com/course/applied-ai-course-online/lessons/receiver-operating-characteristic-curve-roc-curve-and-auc-1/'>AUC</a> value</li>\n    <li>Find the best hyper paramter using k-fold cross validation or simple cross validation data</li>\n    <li>Use gridsearch cv or randomsearch cv or you can also write your own for loops to do this task of hyperparameter tuning</li>\n        </ul>\n    </li>\n    <br>\n    <li>\n    <strong>Representation of results</strong>\n        <ul>\n    <li>You need to plot the performance of model both on train data and cross validation data for each hyper parameter, like shown in the figure\n    <img src='train_cv_auc.JPG' width=300px></li>\n    <li>Once after you found the best hyper parameter, you need to train your model with it, and find the AUC on test data and plot the ROC curve on both train and test.\n    <img src='train_test_auc.JPG' width=300px></li>\n    <li>Along with plotting ROC curve, you need to print the <a href='https://www.appliedaicourse.com/course/applied-ai-course-online/lessons/confusion-matrix-tpr-fpr-fnr-tnr-1/'>confusion matrix</a> with predicted and original labels of test data points\n    <img src='confusion_matrix.png' width=300px></li>\n        </ul>\n    </li>\n    <br>\n    <li><strong>Conclusion</strong>\n        <ul>\n    <li>You need to summarize the results at the end of the notebook, summarize it in the table format. To print out a table please refer to this prettytable library<a href='http://zetcode.com/python/prettytable/'> link</a> \n        <img src='summary.JPG' width=400px>\n    </li>\n        </ul>\n</ol>"
    },
    {
      "metadata": {
        "_uuid": "a35c47717d6d314914fa65fcb9d3186b44b1f26e",
        "id": "fqzVdg-3gTfm",
        "colab_type": "text"
      },
      "cell_type": "markdown",
      "source": "<h4><font color='red'>Note: Data Leakage</font></h4>\n\n1. There will be an issue of data-leakage if you vectorize the entire data and then split it into train/cv/test.\n2. To avoid the issue of data-leakag, make sure to split your data first and then vectorize it. \n3. While vectorizing your data, apply the method fit_transform() on you train data, and apply the method transform() on cv/test data.\n4. For more details please go through this <a href='https://soundcloud.com/applied-ai-course/leakage-bow-and-tfidf'>link.</a>"
    },
    {
      "metadata": {
        "_uuid": "3a046b737f472027730a18202fbf06b83693dcd5",
        "id": "OslfW12BgTfo",
        "colab_type": "text"
      },
      "cell_type": "markdown",
      "source": "#  Functions for Knn_Accuracy"
    },
    {
      "metadata": {
        "trusted": true,
        "_uuid": "268b5fe646c5cb778360213da83dae25d42cd713",
        "id": "MSbVYlu1gTfq",
        "colab_type": "code",
        "colab": {}
      },
      "cell_type": "code",
      "source": "\nfrom sklearn.neighbors import KNeighborsClassifier\nfrom sklearn.model_selection import GridSearchCV\n\n#Function to return KNN_Optimal parameter and Draw plot of area under roc curve vs Number of neighbors\ndef knn_accuracy(standarized_data ,Score_train , algorithms):\n    #possible number of neighbors\n    neighbors = np.arange(1,30, 2)\n    param_grid = dict(n_neighbors=neighbors)\n    \n    knn = KNeighborsClassifier(algorithm = algorithms)\n    grid = GridSearchCV(knn, param_grid=param_grid,scoring='roc_auc',cv=5,  n_jobs=-1)\n    grid_result = grid.fit(standarized_data , Score_train)\n    \n    # summarize results\n    Cv_mean = grid_result.cv_results_['mean_test_score']\n    Train_mean = grid_result.cv_results_['mean_train_score']\n    \n    # Plot graph between grid cross validation result and number of neighbors\n    plt.plot(neighbors, Cv_mean , label='AUC of CV data against number of of neighbors', marker = '*')\n    plt.plot(neighbors , Train_mean , label='AUC of train data against number of of neighbors' , marker = '*')\n    plt.title(\"Area under Roc Curve vs Number of Neighbors\")\n    plt.xlabel('neighbors')\n    plt.ylabel('Area')\n    plt.legend(loc=\"lower right\")\n    plt.show()\n\n# Function to  plot graph on area under roc curve on test and train data and print confusion matrix\ndef plot_Graph(n_neighbors,algorithms,Train_data, Train_label,Test_data, Test_label):\n    #Train KNN on optimal parameter\n    knn = KNeighborsClassifier(n_neighbors =  n_neighbors , algorithm = algorithms)\n    # fitting the model\n    knn.fit(Train_data, Train_label)\n\n    #predict the response of Train data and test data from model\n    train_pred = knn.predict(Train_data)\n    test_pred = knn.predict(Test_data)\n    \n    #Compute fpr and tpr from the predicted label and  True label of train data and test data\n    fpr_train, tpr_train,_ = roc_curve(Train_label, train_pred)\n    fpr_test, tpr_test,_ = roc_curve(Test_label, test_pred)\n    \n    # Compute area under roc curve\n    area_train = auc(fpr_train, tpr_train)\n    area_test = auc(fpr_test, tpr_test)\n    \n    lw =2\n    plt.plot(fpr_test, tpr_test, color='darkorange',lw=lw, label='ROC curve of Test data (area = %0.2f)' % area_test)\n    plt.plot(fpr_train, tpr_train, color='green',lw=lw, label='ROC curve of Train data(area = %0.2f)' % area_train)\n    plt.plot([0, 1], [0, 1], color='navy', lw=lw, linestyle='--')\n    plt.xlim([0.0, 1.0])\n    plt.ylim([0.0, 1.05])\n    plt.xlabel('False Positive Rate')\n    plt.ylabel('True Positive Rate')\n    plt.title('Receiver operating characteristic example')\n    plt.legend(loc=\"lower right\")\n    \n    # Confusion matrix for train data\n    \n    plt.figure()\n    cm = confusion_matrix(Train_label, train_pred)\n    class_label = [\"negative\", \"positive\"]\n    df_cm_train = pd.DataFrame(cm, index = class_label, columns = class_label)\n    sns.heatmap(df_cm_train , annot = True, fmt = \"d\")\n    plt.title(\"Confusiion Matrix for Train data\")\n    plt.xlabel(\"Predicted Label\")\n    plt.ylabel(\"True Label\")\n    \n    # Confusion matrix for test data\n    plt.figure()\n    cm = confusion_matrix(Test_label, test_pred)\n    class_label = [\"negative\", \"positive\"]\n    df_cm = pd.DataFrame(cm, index = class_label, columns = class_label)\n    sns.heatmap(df_cm, annot = True, fmt = \"d\")\n    plt.title(\"Confusiion Matrix for test data\")\n    plt.xlabel(\"Predicted Label\")\n    plt.ylabel(\"True Label\")\n    plt.show()\n ",
      "execution_count": null,
      "outputs": []
    },
    {
      "metadata": {
        "_uuid": "a2687481b9f9cf81871de452f793097b38df038a",
        "id": "b1OdejK_gTfs",
        "colab_type": "text"
      },
      "cell_type": "markdown",
      "source": "## [5.1] Applying KNN brute force"
    },
    {
      "metadata": {
        "trusted": true,
        "_uuid": "915e907fb21b792596fda5cd028ca053e5c1485c"
      },
      "cell_type": "code",
      "source": "# Random sampling and Splitting the Preprocessed data into train and test set\n\nimport warnings\nwarnings.filterwarnings(\"ignore\")\n\nalgorithms = 'brute'\n\n# Randomly select 50k rows from dataset\nfinal_brute = final.sample(n=50000)\npreprocessed_reviews_train, preprocessed_reviews_test, Score_train, Score_test = splitData(final_brute)",
      "execution_count": null,
      "outputs": []
    },
    {
      "metadata": {
        "_uuid": "d6e5bfdf928eb6ce0fd27ba0657d91e35f55d472",
        "id": "AOwtVtlagTf_",
        "colab_type": "text"
      },
      "cell_type": "markdown",
      "source": "### [5.1.1] Applying KNN brute force on  BOW,<font color='red'> SET 2</font>"
    },
    {
      "metadata": {
        "trusted": true,
        "_uuid": "aeaa766d47f001b8df0850cff7ff77843df7d2ea",
        "id": "iZXtP7_IgTgB",
        "colab_type": "code",
        "colab": {},
        "outputId": "35526f98-5a5c-48bd-8f2c-14caf26b4553"
      },
      "cell_type": "code",
      "source": "#BOW  Vectorization of the data\nbi_count_vect_train_data, bi_count_vect_test_data = ngramBowText(preprocessed_reviews_train,preprocessed_reviews_test,5000)\n\n# Find optimal number of neighbors\nknn_accuracy(bi_count_vect_train_data ,Score_train ,algorithms)",
      "execution_count": null,
      "outputs": []
    },
    {
      "metadata": {
        "trusted": true,
        "_uuid": "88ff84c9dd95bd9aafc4dab33265b2369097b955"
      },
      "cell_type": "code",
      "source": "# Based on the train and cross validation plot we can say that optimal number of neighbor\nbiBOW_optimal_k = 29\n\n#Plot the graph on area under roc curve on test and train data and print confusion matrix\nplot_Graph(biBOW_optimal_k ,algorithms ,bi_count_vect_train_data, Score_train,bi_count_vect_test_data, Score_test)\n",
      "execution_count": null,
      "outputs": []
    },
    {
      "metadata": {
        "_uuid": "2fd0c8a3fbf07359ed4c8f81f2b4b1c963effc5c",
        "id": "veab8FaWgTgJ",
        "colab_type": "text"
      },
      "cell_type": "markdown",
      "source": "### [5.1.2] Applying KNN brute force on TFIDF,<font color='red'> SET 2</font>"
    },
    {
      "metadata": {
        "trusted": true,
        "_uuid": "8c0c50cc16ebf0545b3f66d62817699fdad52a27",
        "id": "13aLFQqxgTgK",
        "colab_type": "code",
        "colab": {},
        "outputId": "382f4a13-b889-4202-99e2-deff92b7a923"
      },
      "cell_type": "code",
      "source": "#Tf-Idf  Vectorization of the data\ntfIdf_vect_train_data, tfIdf_vect_test_data = tfIdfText(preprocessed_reviews_train,preprocessed_reviews_test,5000)\n\n# Find optimal number of neighbors for n_gram TfIdf\nknn_accuracy(tfIdf_vect_train_data ,Score_train,algorithms)",
      "execution_count": null,
      "outputs": []
    },
    {
      "metadata": {
        "trusted": true,
        "_uuid": "a673a8c8c2f109071445e01f5e3271698dec69af"
      },
      "cell_type": "code",
      "source": "# Based on the train and cross validation plot we can say that optimal number of neighbor\ntfIdf_optimal_k = 29\n\n#Plot the graph on area under roc curve on test and train data and print confusion matrix\nplot_Graph(tfIdf_optimal_k ,algorithms,tfIdf_vect_train_data, Score_train,tfIdf_vect_test_data, Score_test)",
      "execution_count": null,
      "outputs": []
    },
    {
      "metadata": {
        "_uuid": "6fdaf54fa2319d1cdce0239020410b5ae04d68ba",
        "id": "Z6FKMxJTgTgR",
        "colab_type": "text"
      },
      "cell_type": "markdown",
      "source": "### [5.1.3] Applying KNN brute force on AVG W2V,<font color='red'> SET 3</font>"
    },
    {
      "metadata": {
        "trusted": true,
        "_uuid": "7ba357e2fcb6b50bdb625ce82f16ada477e52590",
        "id": "TSFuZbAEgTgT",
        "colab_type": "code",
        "colab": {},
        "outputId": "30c2bb90-bb5a-48aa-a874-92da0af74164"
      },
      "cell_type": "code",
      "source": "algorithms = 'brute'\n\n# Find optimal number of neighbors for AvgW2V vectors\nknn_accuracy(AvgW2V_train_data ,Score_W2V_train,algorithms)",
      "execution_count": null,
      "outputs": []
    },
    {
      "metadata": {
        "trusted": true,
        "_uuid": "2d809a8d089de0030266a6de4520c57cda68b68a"
      },
      "cell_type": "code",
      "source": "# Based on the train and cross validation plot we can say that optimal number of neighbor\nAvgW2V_optimal_k = 29\n\n#Plot the graph on area under roc curve on test and train data and print confusion matrix\nplot_Graph(AvgW2V_optimal_k ,algorithms,AvgW2V_train_data, Score_W2V_train,AvgW2V_test_data, Score_W2V_test)",
      "execution_count": null,
      "outputs": []
    },
    {
      "metadata": {
        "_uuid": "d597f0a018c3c3321b7f613df409c75e739a97ec",
        "id": "1IN6kGJ8gTgb",
        "colab_type": "text"
      },
      "cell_type": "markdown",
      "source": "\n### [5.1.4] Applying KNN brute force on TFIDF W2V,<font color='red'> SET 4</font>"
    },
    {
      "metadata": {
        "trusted": true,
        "_uuid": "78bc55daf0e2fda4620e4139d3ca3389884f00c6",
        "id": "JTxJmYfQgTgc",
        "colab_type": "code",
        "colab": {},
        "outputId": "099bd99c-c967-4eca-993f-712b037c50d8"
      },
      "cell_type": "code",
      "source": "algorithms = 'brute'\n\n# Find optimal number of neighbors for Avg W2V\nknn_accuracy(tfIdf_W2V_train_data ,Score_W2V_train,algorithms)",
      "execution_count": null,
      "outputs": []
    },
    {
      "metadata": {
        "trusted": true,
        "_uuid": "f03015b0c7cafd8a9418925385ff6b846d314681"
      },
      "cell_type": "code",
      "source": "# Based on the train and cross validation plot we can say that optimal number of neighbor\ntfIdf_W2V_optimal_k = 3\n\n#Plot the graph on area under roc curve on test and train data and print confusion matrix\nplot_Graph(tfIdf_W2V_optimal_k ,algorithms,tfIdf_W2V_train_data, Score_W2V_train,tfIdf_W2V_test_data, Score_W2V_test)",
      "execution_count": null,
      "outputs": []
    },
    {
      "metadata": {
        "_uuid": "9c080c98bcb4ef8fc7abf7f7019a8086d9931edb",
        "id": "U293MTXDgTgi",
        "colab_type": "text"
      },
      "cell_type": "markdown",
      "source": "## [5.2] Applying KNN kd-tree"
    },
    {
      "metadata": {
        "trusted": true,
        "_uuid": "18c976c6b7f473fc81c3c7a784bbcb82d65c53b4",
        "id": "-ugAOMK2gTgm",
        "colab_type": "code",
        "colab": {},
        "outputId": "cce383c0-0a80-4040-d2be-ef69fa64b5c7"
      },
      "cell_type": "code",
      "source": "# Random sampling and Splitting the Preprocessed data into train and test set\n\nimport warnings\nwarnings.filterwarnings(\"ignore\")\n\nalgorithms = 'kd_tree'\n\n# Randomly select 20k rows from dataset\nfinal_kd = final.sample(n=20000)\npreprocessed_reviews_train, preprocessed_reviews_test, Score_train, Score_test = splitData(final_kd)\n",
      "execution_count": null,
      "outputs": []
    },
    {
      "metadata": {
        "_uuid": "46940783d5cb12c1e339e60f801904f9bfedf388",
        "id": "isCL7IdLgTgr",
        "colab_type": "text"
      },
      "cell_type": "markdown",
      "source": "### [5.2.1] Applying KNN kd-tree on  BOW"
    },
    {
      "metadata": {
        "trusted": true,
        "_uuid": "1572b1cd403e1e2f4f5ead41b1d66c5908c53524",
        "id": "HcxQFsx9gTgt",
        "colab_type": "code",
        "colab": {},
        "outputId": "598f9677-7c7b-4f9f-a4db-7c7e83a2badc"
      },
      "cell_type": "code",
      "source": "# BOW  Vectorization of the data\nbi_count_vect_train_data, bi_count_vect_test_data = ngramBowText(preprocessed_reviews_train,preprocessed_reviews_test,500)\n\n# Find optimal number of neighbors\nknn_accuracy(bi_count_vect_train_data ,Score_train ,algorithms)",
      "execution_count": null,
      "outputs": []
    },
    {
      "metadata": {
        "trusted": true,
        "_uuid": "c1204d9bc01133f71ea4aedbbad42fa97b9831ec"
      },
      "cell_type": "code",
      "source": "# Based on the train and cross validation plot we can say that optimal number of neighbor\nkd_biBOW_optimal_k = 29\n\n#Plot the graph on area under roc curve on test and train data and print confusion matrix\nplot_Graph(kd_biBOW_optimal_k ,algorithms ,bi_count_vect_train_data, Score_train,bi_count_vect_test_data, Score_test)",
      "execution_count": null,
      "outputs": []
    },
    {
      "metadata": {
        "_uuid": "7ad8a19fcb88888da699ac7b23516d9e908a09c6",
        "id": "SN3hsWsWgTg0",
        "colab_type": "text"
      },
      "cell_type": "markdown",
      "source": "### [5.2.2] Applying KNN kd-tree on TFIDF,<font color='red'> SET 6</font>"
    },
    {
      "metadata": {
        "trusted": true,
        "_uuid": "34ab225ce64b6c1c0ffcd1d9c5963674828804ee",
        "id": "IhLeO6uGgTg3",
        "colab_type": "code",
        "colab": {},
        "outputId": "b87a074d-12c2-4794-f96e-4989d6ecf868"
      },
      "cell_type": "code",
      "source": "#Tf-Idf  Vectorization of the data\n\ntfIdf_vect_train_data, tfIdf_vect_test_data = tfIdfText(preprocessed_reviews_train,preprocessed_reviews_test,500)\n\n# Find optimal number of neighbors for n_gram TfIdf\nknn_accuracy(tfIdf_vect_train_data ,Score_train,algorithms)",
      "execution_count": null,
      "outputs": []
    },
    {
      "metadata": {
        "trusted": true,
        "_uuid": "5ae98d1adaa036807d056eabe25c167cc2014701"
      },
      "cell_type": "code",
      "source": "# Based on the train and cross validation plot we can say that optimal number of neighbor\nkd_tfIdf_optimal_k = 29\n\n#Plot the graph on area under roc curve on test and train data and print confusion matrix\nplot_Graph(kd_tfIdf_optimal_k ,algorithms,tfIdf_vect_train_data, Score_train,tfIdf_vect_test_data, Score_test)",
      "execution_count": null,
      "outputs": []
    },
    {
      "metadata": {
        "_uuid": "5eeaf242d0106108e1b0f67c3f7ce45a5057a803",
        "id": "BHUKwXIJgTg9",
        "colab_type": "text"
      },
      "cell_type": "markdown",
      "source": "### [5.2.3] Applying KNN kd-tree on AVG W2V,<font color='red'> SET 3</font>"
    },
    {
      "metadata": {
        "trusted": true,
        "_uuid": "bf6518ac2afd4a92262d5c20d6ad2965fa1c3b1f",
        "id": "aEZwC4ZpgTg-",
        "colab_type": "code",
        "colab": {},
        "outputId": "f2376415-7883-4e49-95b1-0e9423151bf3"
      },
      "cell_type": "code",
      "source": "algorithms = 'kd_tree'\n\n# Find optimal number of neighbors for AvgW2V vectors\nknn_accuracy(AvgW2V_train_data ,Score_W2V_train,algorithms)",
      "execution_count": null,
      "outputs": []
    },
    {
      "metadata": {
        "trusted": true,
        "_uuid": "0c664c613828d61569669400535343c8fc3409c5"
      },
      "cell_type": "code",
      "source": "# Based on the train and cross validation plot we can say that optimal number of neighbor\nAvgW2V_optimal_k = \n\n#Plot the graph on area under roc curve on test and train data and print confusion matrix\nplot_Graph(AvgW2V_optimal_k ,algorithms,AvgW2V_train_data, Score_W2V_train,AvgW2V_test_data, Score_W2V_test)",
      "execution_count": null,
      "outputs": []
    },
    {
      "metadata": {
        "_uuid": "daec2ad43b94b2559670e1325127257ee65804b9",
        "id": "8qki6tn6gThK",
        "colab_type": "text"
      },
      "cell_type": "markdown",
      "source": "### [5.2.4] Applying KNN kd-tree on TFIDF W2V,<font color='red'> SET 4</font>"
    },
    {
      "metadata": {
        "trusted": true,
        "_uuid": "39b619244aa2d60235fc51e2cba36c035bdf7f68",
        "id": "BznfKdcJgThM",
        "colab_type": "code",
        "colab": {},
        "outputId": "b43e9cf1-e061-40a8-84ec-afcd24210890"
      },
      "cell_type": "code",
      "source": "algorithms = 'kd_tree'\n\n# Find optimal number of neighbors for Avg W2V\nknn_accuracy(tfIdf_W2V_train_data ,Score_W2V_train,algorithms)",
      "execution_count": null,
      "outputs": []
    },
    {
      "metadata": {
        "trusted": true,
        "_uuid": "89276fc4f14bf9d30c95d4ce35fe274a1c64adec"
      },
      "cell_type": "code",
      "source": "# Based on the train and cross validation plot we can say that optimal number of neighbor\ntfIdf_W2V_optimal_k = \n\n#Plot the graph on area under roc curve on test and train data and print confusion matrix\nplot_Graph(tfIdf_W2V_optimal_k ,algorithms,tfIdf_W2V_train_data, Score_W2V_train,tfIdf_W2V_test_data, Score_W2V_test)",
      "execution_count": null,
      "outputs": []
    },
    {
      "metadata": {
        "_uuid": "5219f9af7702ad8f581f4220ee28ed17b9fa4449",
        "id": "uZHqGnqtgThS",
        "colab_type": "text"
      },
      "cell_type": "markdown",
      "source": "# [6] Conclusions"
    },
    {
      "metadata": {
        "trusted": true,
        "_uuid": "eca07e260a2acb2a2d4a8ad0a3752186fbb65347",
        "id": "o3W_NadhgThT",
        "colab_type": "code",
        "colab": {
          "base_uri": "https://localhost:8080/",
          "height": 260
        },
        "outputId": "cef7ce14-9fce-459a-a859-1757e93005be"
      },
      "cell_type": "code",
      "source": "from prettytable import PrettyTable\n\nx = PrettyTable()\n\nx.field_names = [\"Featurization\", \"Algorithm\", \"Optimal_no_neighbors\" , \"Train_data_AUC\", \"CrossValidation_data_AUC\", \"Test_data_AUC\"]\nx.add_row([\"Bigram Bow\", \"brute_knn\" , 27 , 0.54 , 0.660176 , 0.54 ])\nx.add_row([\"TfIdf\",      \"brute_knn\" , 17 , 0.56 , 0.650126 , 0.54 ])\nx.add_row([\"Bigram Bow\", \"brute_knn\" , 27 , 0.54 , 0.660176 , 0.54 ])\nx.add_row([\"TfIdf\",      \"brute_knn\" , 17 , 0.56 , 0.650126 , 0.54 ])\n\n\nprint(x)",
      "execution_count": null,
      "outputs": []
    },
    {
      "metadata": {
        "id": "ooPwA0jdltT1",
        "colab_type": "text",
        "_uuid": "84228b853804d11c42aea83cd8179809be2ed3d1"
      },
      "cell_type": "markdown",
      "source": "1.  **As here we trained  each model with limited  number of neighbors from 1 to 29 due to memory issue. so may be if we trained with higher number of neighbors, we can get more accuracy and different number of optimal neighbour because most model has 29 as optimal number  **\n\n2.  **Among all KNN model AvgW2V model is best with  optimal number of neighbors is 29 for both brute as well as kd_tree algorithm,**\n\n3.  **As we have compared from the above table, kd_tree algorithm has better performance than brute algorithm in Knn Classification Technique.**\n\n4.  **Every Model have about same accuracy  for Training and test data. so One thing is clear that   model is not overfitting as well  **"
    },
    {
      "metadata": {
        "id": "tU9q5MNsksdr",
        "colab_type": "code",
        "colab": {},
        "trusted": false,
        "_uuid": "20bfab641b6d0732f9523bb0e9a1ac8be245b9c3"
      },
      "cell_type": "code",
      "source": "",
      "execution_count": null,
      "outputs": []
    }
  ],
  "metadata": {
    "colab": {
      "name": "Amazon Fine Food Reviews Analysis_KNN.ipynb",
      "version": "0.3.2",
      "provenance": [],
      "toc_visible": true
    },
    "kernelspec": {
      "display_name": "Python 3",
      "language": "python",
      "name": "python3"
    },
    "language_info": {
      "name": "python",
      "version": "3.6.6",
      "mimetype": "text/x-python",
      "codemirror_mode": {
        "name": "ipython",
        "version": 3
      },
      "pygments_lexer": "ipython3",
      "nbconvert_exporter": "python",
      "file_extension": ".py"
    }
  },
  "nbformat": 4,
  "nbformat_minor": 1
}