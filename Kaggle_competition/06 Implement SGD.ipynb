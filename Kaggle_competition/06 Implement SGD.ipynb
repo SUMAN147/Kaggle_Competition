{
  "cells": [
    {
      "metadata": {
        "_uuid": "8f2839f25d086af736a60e9eeb907d3b93b6e0e5",
        "_cell_guid": "b1076dfc-b9ad-4769-8c92-a6c4dae69d19",
        "trusted": true
      },
      "cell_type": "code",
      "source": "import warnings\nwarnings.filterwarnings(\"ignore\")\nfrom sklearn.datasets import load_boston\nfrom random import seed\nfrom random import randrange\nfrom csv import reader\nfrom math import sqrt\nfrom sklearn import preprocessing\nimport pandas as pd\nimport numpy as np\nimport matplotlib.pyplot as plt\nfrom sklearn.linear_model import SGDRegressor\nfrom sklearn import preprocessing\nfrom sklearn.metrics import mean_squared_error",
      "execution_count": null,
      "outputs": []
    },
    {
      "metadata": {
        "_cell_guid": "79c7e3d0-c299-4dcb-8224-4455121ee9b0",
        "_uuid": "d629ff2d2480ee46fbb7e2d37f6b5fab8052498a",
        "trusted": true
      },
      "cell_type": "code",
      "source": "# Loading the data\n\nX = load_boston().data\nY = load_boston().target",
      "execution_count": null,
      "outputs": []
    },
    {
      "metadata": {
        "trusted": true,
        "_uuid": "353e5613f5c2d078032137068921c0c894f583ec"
      },
      "cell_type": "code",
      "source": "# Standarized the data\n\nscaler = preprocessing.StandardScaler().fit(X)\nX = scaler.transform(X)",
      "execution_count": null,
      "outputs": []
    },
    {
      "metadata": {
        "trusted": true,
        "_uuid": "7c4da0a61ca9af595fc72fdd56ad5646f99c514e"
      },
      "cell_type": "code",
      "source": "# Applying Regression on data and finding Mean Sqaured erro\n\nclf = SGDRegressor()\nclf.fit(X, Y)\nprint(mean_squared_error(Y, clf.predict(X)))",
      "execution_count": null,
      "outputs": []
    },
    {
      "metadata": {
        "trusted": true,
        "_uuid": "0cfebd2f966b0fb6bce9fafec2b82f363ce96150"
      },
      "cell_type": "code",
      "source": "# Function for Stochastic gradient descent\n\ndef sgd(X,Y,alpha,k, n_iter):\n    m = X.shape[0]                                         # Total number of datapoints\n    n = X.shape[1]                                         # Total number of features\n    weight = np.random.randn(n)                            # Randomly initialize the weight\n    intercept = np.random.rand()\n    \n    for x in range(n_iter):\n        idx = np.random.randint(m, size=k)                # Random k idx from total number of datapoints\n        X_batch = X[idx,:]\n        Y_batch = Y[idx]\n        weight = weight + alpha * (2.0/k) * (np.dot(X_batch.T,(Y_batch - np.dot(X_batch,weight))))\n        intercept = intercept + alpha * (2.0/k) * np.sum((Y_batch - np.dot(X_batch,weight) - intercept))\n        alpha /=2\n        \n    return [weight,intercept]   ",
      "execution_count": null,
      "outputs": []
    },
    {
      "metadata": {
        "trusted": true,
        "_uuid": "c37f442c19c4f82ed285cc03f575578d43259a40"
      },
      "cell_type": "code",
      "source": "alpha = 1\nn_iter = 100                          # number of iteration\nk = 10                                # number of random data use for each step of gradient descent \nweights,intercept = sgd(X,Y,alpha,k,n_iter)\n\n# Calculate Squared error on weight and bias term after 100 iteration\nprint(mean_squared_error(Y, np.dot(X,weights)))",
      "execution_count": null,
      "outputs": []
    },
    {
      "metadata": {
        "trusted": true,
        "_uuid": "7596123037aea2f60484a9c7418d243c2ee60671"
      },
      "cell_type": "code",
      "source": "",
      "execution_count": null,
      "outputs": []
    }
  ],
  "metadata": {
    "kernelspec": {
      "display_name": "Python 3",
      "language": "python",
      "name": "python3"
    },
    "language_info": {
      "name": "python",
      "version": "3.6.6",
      "mimetype": "text/x-python",
      "codemirror_mode": {
        "name": "ipython",
        "version": 3
      },
      "pygments_lexer": "ipython3",
      "nbconvert_exporter": "python",
      "file_extension": ".py"
    }
  },
  "nbformat": 4,
  "nbformat_minor": 1
}