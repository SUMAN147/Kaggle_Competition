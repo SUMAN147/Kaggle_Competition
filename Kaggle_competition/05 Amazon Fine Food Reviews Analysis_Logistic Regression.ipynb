{
  "cells": [
    {
      "metadata": {
        "id": "AM7jsfwALPlp",
        "colab_type": "text",
        "_uuid": "8774e500ed78096a02513694de4fd0552d199f2e"
      },
      "cell_type": "markdown",
      "source": "# Amazon Fine Food Reviews Analysis\n\n\nData Source: https://www.kaggle.com/snap/amazon-fine-food-reviews <br>\n\nEDA: https://nycdatascience.com/blog/student-works/amazon-fine-foods-visualization/\n\n\nThe Amazon Fine Food Reviews dataset consists of reviews of fine foods from Amazon.<br>\n\nNumber of reviews: 568,454<br>\nNumber of users: 256,059<br>\nNumber of products: 74,258<br>\nTimespan: Oct 1999 - Oct 2012<br>\nNumber of Attributes/Columns in data: 10 \n\nAttribute Information:\n\n1. Id\n2. ProductId - unique identifier for the product\n3. UserId - unqiue identifier for the user\n4. ProfileName\n5. HelpfulnessNumerator - number of users who found the review helpful\n6. HelpfulnessDenominator - number of users who indicated whether they found the review helpful or not\n7. Score - rating between 1 and 5\n8. Time - timestamp for the review\n9. Summary - brief summary of the review\n10. Text - text of the review\n\n\n#### Objective:\nGiven a review, determine whether the review is positive (rating of 4 or 5) or negative (rating of 1 or 2).\n\n<br>\n[Q] How to determine if a review is positive or negative?<br>\n<br> \n[Ans] We could use Score/Rating. A rating of 4 or 5 can be cosnidered as a positive review. A rating of 1 or 2 can be considered as negative one. A review of rating 3 is considered nuetral and such reviews are ignored from our analysis. This is an approximate and proxy way of determining the polarity (positivity/negativity) of a review.\n\n\n"
    },
    {
      "metadata": {
        "id": "CaQ7XJ4OLPls",
        "colab_type": "text",
        "_uuid": "099361643c03910a1d3ca3fc854c2d74f63e4710"
      },
      "cell_type": "markdown",
      "source": "# [1]. Reading Data"
    },
    {
      "metadata": {
        "id": "5VnEBjKRLPlu",
        "colab_type": "text",
        "_uuid": "7b1f645bc151f0d0d48571451655fe3abbf0f800"
      },
      "cell_type": "markdown",
      "source": "## [1.1] Loading the data\n\nThe dataset is available in two forms\n1. .csv file\n2. SQLite Database\n\nIn order to load the data, We have used the SQLITE dataset as it is easier to query the data and visualise the data efficiently.\n<br> \n\nHere as we only want to get the global sentiment of the recommendations (positive or negative), we will purposefully ignore all Scores equal to 3. If the score is above 3, then the recommendation wil be set to \"positive\". Otherwise, it will be set to \"negative\"."
    },
    {
      "metadata": {
        "id": "x6YclOzXLPlv",
        "colab_type": "code",
        "colab": {},
        "trusted": true,
        "_uuid": "b9b9035bdb9f2b8ba6afca278d9329514fc2bfc0"
      },
      "cell_type": "code",
      "source": "%matplotlib inline\nimport warnings\nwarnings.filterwarnings(\"ignore\")\n\n\nimport sqlite3\nimport pandas as pd\nimport numpy as np\nimport nltk\nimport string\nimport matplotlib.pyplot as plt\nimport seaborn as sns\nfrom sklearn.feature_extraction.text import TfidfTransformer\nfrom sklearn.feature_extraction.text import TfidfVectorizer\n\nfrom sklearn.feature_extraction.text import CountVectorizer\nfrom sklearn.metrics import confusion_matrix\nfrom sklearn import metrics\nfrom sklearn.metrics import roc_curve, auc\nfrom nltk.stem.porter import PorterStemmer\n\nimport re\n# Tutorial about Python regular expressions: https://pymotw.com/2/re/\nimport string\nfrom nltk.corpus import stopwords\nfrom nltk.stem import PorterStemmer\nfrom nltk.stem.wordnet import WordNetLemmatizer\nfrom sklearn.preprocessing import StandardScaler\nfrom sklearn.linear_model import LogisticRegression\nfrom sklearn.model_selection import GridSearchCV\nfrom numpy import count_nonzero\n\nfrom gensim.models import Word2Vec\nfrom gensim.models import KeyedVectors\nimport pickle\n\nfrom tqdm import tqdm\nimport os",
      "execution_count": null,
      "outputs": []
    },
    {
      "metadata": {
        "id": "NZ4OSpSiLPl0",
        "colab_type": "code",
        "colab": {},
        "outputId": "241c4c64-6186-4351-e38f-fcd06c6896dd",
        "trusted": true,
        "_uuid": "d2fd0db04f14dc7240a1d7d79db7a8535abe143b"
      },
      "cell_type": "code",
      "source": "# using SQLite Table to read data.\ncon = sqlite3.connect('../input/database.sqlite') \n\n# filtering only positive and negative reviews i.e. \n# not taking into consideration those reviews with Score=3\n# SELECT * FROM Reviews WHERE Score != 3 LIMIT 500000, will give top 500000 data points\n# you can change the number to any other number based on your computing power\n\n# filtered_data = pd.read_sql_query(\"\"\" SELECT * FROM Reviews WHERE Score != 3 LIMIT 500000\"\"\", con) \n# for tsne assignment you can take 5k data points\n\nfiltered_data = pd.read_sql_query(\"\"\" SELECT * FROM Reviews WHERE Score != 3\"\"\", con) \n\n# Give reviews with Score>3 a positive rating(1), and reviews with a score<3 a negative rating(0).\ndef partition(x):\n    if x < 3:\n        return 0\n    return 1\n\n#changing reviews with score less than 3 to be positive and vice-versa\nactualScore = filtered_data['Score']\npositiveNegative = actualScore.map(partition) \nfiltered_data['Score'] = positiveNegative\nprint(\"Number of data points in our data\", filtered_data.shape)\nfiltered_data.head(3)",
      "execution_count": null,
      "outputs": []
    },
    {
      "metadata": {
        "id": "r44Y4VDjLPl7",
        "colab_type": "code",
        "colab": {},
        "trusted": true,
        "_uuid": "4842d337f76c30eb3122cfcdd6a4770b7bd76d44"
      },
      "cell_type": "code",
      "source": "display = pd.read_sql_query(\"\"\"\nSELECT UserId, ProductId, ProfileName, Time, Score, Text, COUNT(*)\nFROM Reviews\nGROUP BY UserId\nHAVING COUNT(*)>1\n\"\"\", con)",
      "execution_count": null,
      "outputs": []
    },
    {
      "metadata": {
        "scrolled": true,
        "id": "tTwINQv1LPl_",
        "colab_type": "code",
        "colab": {},
        "outputId": "0385b9ca-0a35-4c2b-b656-8e8494414e6f",
        "trusted": true,
        "_uuid": "fdc95757501046b38edc8e186216372b9b38d414"
      },
      "cell_type": "code",
      "source": "print(display.shape)\ndisplay.head()",
      "execution_count": null,
      "outputs": []
    },
    {
      "metadata": {
        "id": "EOslHQgnLPmF",
        "colab_type": "code",
        "colab": {},
        "outputId": "cb28598d-470a-42bb-e742-4763f953c8cb",
        "trusted": true,
        "_uuid": "e1a40ecd765521391fb0938c620ec55fe4139be4"
      },
      "cell_type": "code",
      "source": "display[display['UserId']=='AZY10LLTJ71NX']",
      "execution_count": null,
      "outputs": []
    },
    {
      "metadata": {
        "id": "pSwF4sdoLPmM",
        "colab_type": "code",
        "colab": {},
        "outputId": "2f3bd7f2-0eea-45f7-eab6-bf08c630d9a3",
        "trusted": true,
        "_uuid": "3b8b51ff13527e8d4ffed7dcd1eae1f7bef937a6"
      },
      "cell_type": "code",
      "source": "display['COUNT(*)'].sum()",
      "execution_count": null,
      "outputs": []
    },
    {
      "metadata": {
        "id": "PuNkhjz0LPmQ",
        "colab_type": "text",
        "_uuid": "d8533e5dbb44e6494e4b15a77991f651c5303bce"
      },
      "cell_type": "markdown",
      "source": "#  [2] Exploratory Data Analysis"
    },
    {
      "metadata": {
        "id": "oCJaTWrTLPmS",
        "colab_type": "text",
        "_uuid": "dfa38ad517e5abe2b6ae5be003ed44fec96457fa"
      },
      "cell_type": "markdown",
      "source": "## [2.1] Data Cleaning: Deduplication\n\nIt is observed (as shown in the table below) that the reviews data had many duplicate entries. Hence it was necessary to remove duplicates in order to get unbiased results for the analysis of the data.  Following is an example:"
    },
    {
      "metadata": {
        "scrolled": false,
        "id": "3lvzRwWVLPmT",
        "colab_type": "code",
        "colab": {},
        "outputId": "96ba6f90-6c40-4972-ecd2-d2d208e48877",
        "trusted": true,
        "_uuid": "4ed474e2e7cd4126e61089dd9e13d0f602355a19"
      },
      "cell_type": "code",
      "source": "display= pd.read_sql_query(\"\"\"\nSELECT *\nFROM Reviews\nWHERE Score != 3 AND UserId=\"AR5J8UI46CURR\"\nORDER BY ProductID\n\"\"\", con)\ndisplay.head()",
      "execution_count": null,
      "outputs": []
    },
    {
      "metadata": {
        "id": "uT7p9_deLPmb",
        "colab_type": "text",
        "_uuid": "f59b88b771bfc9ef54f625819efb64bc52f75ad5"
      },
      "cell_type": "markdown",
      "source": "As it can be seen above that same user has multiple reviews with same values for HelpfulnessNumerator, HelpfulnessDenominator, Score, Time, Summary and Text and on doing analysis it was found that <br>\n<br> \nProductId=B000HDOPZG was Loacker Quadratini Vanilla Wafer Cookies, 8.82-Ounce Packages (Pack of 8)<br>\n<br> \nProductId=B000HDL1RQ was Loacker Quadratini Lemon Wafer Cookies, 8.82-Ounce Packages (Pack of 8) and so on<br>\n\nIt was inferred after analysis that reviews with same parameters other than ProductId belonged to the same product just having different flavour or quantity. Hence in order to reduce redundancy it was decided to eliminate the rows having same parameters.<br>\n\nThe method used for the same was that we first sort the data according to ProductId and then just keep the first similar product review and delelte the others. for eg. in the above just the review for ProductId=B000HDL1RQ remains. This method ensures that there is only one representative for each product and deduplication without sorting would lead to possibility of different representatives still existing for the same product."
    },
    {
      "metadata": {
        "id": "mdsKFc50LPme",
        "colab_type": "code",
        "colab": {},
        "trusted": true,
        "_uuid": "89d58f62dd033111d033d3cb2fb23fb7cb721c73"
      },
      "cell_type": "code",
      "source": "#Sorting data according to ProductId in ascending order\nsorted_data=filtered_data.sort_values('ProductId', axis=0, ascending=True, inplace=False, kind='quicksort', na_position='last')",
      "execution_count": null,
      "outputs": []
    },
    {
      "metadata": {
        "id": "2itLgX-NLPmk",
        "colab_type": "code",
        "colab": {},
        "outputId": "ac765625-dfdc-4e4e-f886-bd3b7ca3635a",
        "trusted": true,
        "_uuid": "fc05ea363a184e0957b76cf97a245dc98b64654c"
      },
      "cell_type": "code",
      "source": "#Deduplication of entries\nfinal=sorted_data.drop_duplicates(subset={\"UserId\",\"ProfileName\",\"Time\",\"Text\"}, keep='first', inplace=False)\nfinal.shape",
      "execution_count": null,
      "outputs": []
    },
    {
      "metadata": {
        "id": "IBU4iZk4LPmt",
        "colab_type": "code",
        "colab": {},
        "outputId": "ceeba223-fe3f-407a-b4e5-0d46c08f69dd",
        "trusted": true,
        "_uuid": "5f2a43fb80817699ea351d1fbb693b1fbf70d4a2"
      },
      "cell_type": "code",
      "source": "#Checking to see how much % of data still remains\n(final['Id'].size*1.0)/(filtered_data['Id'].size*1.0)*100",
      "execution_count": null,
      "outputs": []
    },
    {
      "metadata": {
        "id": "gFBOfSe4LPmy",
        "colab_type": "text",
        "_uuid": "c477b7dc4bd6953e21c13ab20c68249fd7389881"
      },
      "cell_type": "markdown",
      "source": "<b>Observation:-</b> It was also seen that in two rows given below the value of HelpfulnessNumerator is greater than HelpfulnessDenominator which is not practically possible hence these two rows too are removed from calcualtions"
    },
    {
      "metadata": {
        "id": "50flE40lLPmz",
        "colab_type": "code",
        "colab": {},
        "outputId": "b6c7e38e-25c1-4a48-be1f-70fdf31aba13",
        "trusted": true,
        "_uuid": "9d1fbb98e70ea770218d24cf1a3611186253bcc2"
      },
      "cell_type": "code",
      "source": "display= pd.read_sql_query(\"\"\"\nSELECT *\nFROM Reviews\nWHERE Score != 3 AND Id=44737 OR Id=64422\nORDER BY ProductID\n\"\"\", con)\n\ndisplay.head()",
      "execution_count": null,
      "outputs": []
    },
    {
      "metadata": {
        "id": "0YTPJMLTLPm7",
        "colab_type": "code",
        "colab": {},
        "trusted": true,
        "_uuid": "c5cc4109f2a2abcbcc1e8c8f4d5b79aaaeab0b74"
      },
      "cell_type": "code",
      "source": "\nfinal=final[final.HelpfulnessNumerator<=final.HelpfulnessDenominator]\nfinal['Score'].value_counts()",
      "execution_count": null,
      "outputs": []
    },
    {
      "metadata": {
        "id": "GrTYWzYrLPnH",
        "colab_type": "text",
        "_uuid": "a8641a9223d569bfed64b1eeb43aae01fed5dc04"
      },
      "cell_type": "markdown",
      "source": "#  [3] Preprocessing"
    },
    {
      "metadata": {
        "id": "zbvLitZeLPnI",
        "colab_type": "text",
        "_uuid": "239cb4d11aa5a879d0b12bae67933cb74f3eff6e"
      },
      "cell_type": "markdown",
      "source": "## [3.1].  Preprocessing Review Text\n\nNow that we have finished deduplication our data requires some preprocessing before we go on further with analysis and making the prediction model.\n\nHence in the Preprocessing phase we do the following in the order below:-\n\n1. Begin by removing the html tags\n2. Remove any punctuations or limited set of special characters like , or . or # etc.\n3. Check if the word is made up of english letters and is not alpha-numeric\n4. Check to see if the length of the word is greater than 2 (as it was researched that there is no adjective in 2-letters)\n5. Convert the word to lowercase\n6. Remove Stopwords\n7. Finally Snowball Stemming the word (it was obsereved to be better than Porter Stemming)<br>\n\nAfter which we collect the words used to describe positive and negative reviews"
    },
    {
      "metadata": {
        "id": "yYDc0ZXALPnK",
        "colab_type": "code",
        "colab": {},
        "outputId": "5403fab9-796a-493d-f9d3-2a410d004f64",
        "trusted": true,
        "_uuid": "806152452caf6d0aacf5600f8f0b77bac1484086"
      },
      "cell_type": "code",
      "source": "# printing some random reviews\nsent_0 = final['Text'].values[0]\nprint(sent_0)\nprint(\"=\"*50)\n\nsent_1000 = final['Text'].values[1000]\nprint(sent_1000)\nprint(\"=\"*50)\n\nsent_1500 = final['Text'].values[1500]\nprint(sent_1500)\nprint(\"=\"*50)\n\nsent_4900 = final['Text'].values[4900]\nprint(sent_4900)\nprint(\"=\"*50)",
      "execution_count": null,
      "outputs": []
    },
    {
      "metadata": {
        "id": "AxYh-wPiLPnS",
        "colab_type": "code",
        "colab": {},
        "outputId": "31bddcb2-6c52-4b16-f9fb-c03d5b3bb7c8",
        "trusted": true,
        "_uuid": "54c05446e6d4f46223b95aeff3461abeaecae56d"
      },
      "cell_type": "code",
      "source": "# remove urls from text python: https://stackoverflow.com/a/40823105/4084039\nsent_0 = re.sub(r\"http\\S+\", \"\", sent_0)\nsent_1000 = re.sub(r\"http\\S+\", \"\", sent_1000)\nsent_150 = re.sub(r\"http\\S+\", \"\", sent_1500)\nsent_4900 = re.sub(r\"http\\S+\", \"\", sent_4900)\n\nprint(sent_0)",
      "execution_count": null,
      "outputs": []
    },
    {
      "metadata": {
        "id": "JMSSWjZqLPne",
        "colab_type": "code",
        "colab": {},
        "outputId": "eb1bae4e-6f37-45ee-84a3-ef3bebf4e30a",
        "trusted": true,
        "_uuid": "05646c5919c7616abb24a856470553079e2c6c5c"
      },
      "cell_type": "code",
      "source": "# https://stackoverflow.com/questions/16206380/python-beautifulsoup-how-to-remove-all-tags-from-an-element\nfrom bs4 import BeautifulSoup\n\nsoup = BeautifulSoup(sent_0, 'lxml')\ntext = soup.get_text()\nprint(text)\nprint(\"=\"*50)\n\nsoup = BeautifulSoup(sent_1000, 'lxml')\ntext = soup.get_text()\nprint(text)\nprint(\"=\"*50)\n\nsoup = BeautifulSoup(sent_1500, 'lxml')\ntext = soup.get_text()\nprint(text)\nprint(\"=\"*50)\n\nsoup = BeautifulSoup(sent_4900, 'lxml')\ntext = soup.get_text()\nprint(text)",
      "execution_count": null,
      "outputs": []
    },
    {
      "metadata": {
        "id": "BEtpMkhULPnt",
        "colab_type": "code",
        "colab": {},
        "trusted": true,
        "_uuid": "529314cebfd0d0ed34ceacfa9c5c23a159920520"
      },
      "cell_type": "code",
      "source": "# https://stackoverflow.com/a/47091490/4084039\nimport re\n\ndef decontracted(phrase):\n    # specific\n    phrase = re.sub(r\"won't\", \"will not\", phrase)\n    phrase = re.sub(r\"can\\'t\", \"can not\", phrase)\n\n    # general\n    phrase = re.sub(r\"n\\'t\", \" not\", phrase)\n    phrase = re.sub(r\"\\'re\", \" are\", phrase)\n    phrase = re.sub(r\"\\'s\", \" is\", phrase)\n    phrase = re.sub(r\"\\'d\", \" would\", phrase)\n    phrase = re.sub(r\"\\'ll\", \" will\", phrase)\n    phrase = re.sub(r\"\\'t\", \" not\", phrase)\n    phrase = re.sub(r\"\\'ve\", \" have\", phrase)\n    phrase = re.sub(r\"\\'m\", \" am\", phrase)\n    return phrase",
      "execution_count": null,
      "outputs": []
    },
    {
      "metadata": {
        "id": "GavAnzNjLPnx",
        "colab_type": "code",
        "colab": {},
        "outputId": "517fca9a-b1b6-4c6c-ab33-4c5ac4a5bd62",
        "trusted": true,
        "_uuid": "5ecfbe6554b269eb06da85037448961a3f3e3f0a"
      },
      "cell_type": "code",
      "source": "sent_1500 = decontracted(sent_1500)\nprint(sent_1500)\nprint(\"=\"*50)",
      "execution_count": null,
      "outputs": []
    },
    {
      "metadata": {
        "id": "Kl8nOoL-LPn3",
        "colab_type": "code",
        "colab": {},
        "outputId": "16742d57-2529-4fc0-9d28-e9332dbbca97",
        "trusted": true,
        "_uuid": "b37606aac609ef514709fc1b55f84ca94551a1dd"
      },
      "cell_type": "code",
      "source": "#remove words with numbers python: https://stackoverflow.com/a/18082370/4084039\nsent_0 = re.sub(\"\\S*\\d\\S*\", \"\", sent_0).strip()\nprint(sent_0)",
      "execution_count": null,
      "outputs": []
    },
    {
      "metadata": {
        "id": "EGB6X2uxLPn7",
        "colab_type": "code",
        "colab": {},
        "outputId": "dbd754e5-eb73-4b3a-f3c3-7b1b40952851",
        "trusted": true,
        "_uuid": "a800268efff8d1a525ac5bbd597cf8af6baabfcc"
      },
      "cell_type": "code",
      "source": "#remove spacial character: https://stackoverflow.com/a/5843547/4084039\nsent_1500 = re.sub('[^A-Za-z0-9]+', ' ', sent_1500)\nprint(sent_1500)",
      "execution_count": null,
      "outputs": []
    },
    {
      "metadata": {
        "id": "CCurSJJ2LPn_",
        "colab_type": "code",
        "colab": {},
        "trusted": true,
        "_uuid": "11612e06f2b4488d73397f77092ee599aaac57d7"
      },
      "cell_type": "code",
      "source": "# https://gist.github.com/sebleier/554280\n# we are removing the words from the stop words list: 'no', 'nor', 'not'\n# <br /><br /> ==> after the above steps, we are getting \"br br\"\n# we are including them into stop words list\n# instead of <br /> if we have <br/> these tags would have revmoved in the 1st step\n\nstopwords= set(['br', 'the', 'i', 'me', 'my', 'myself', 'we', 'our', 'ours', 'ourselves', 'you', \"you're\", \"you've\",\\\n            \"you'll\", \"you'd\", 'your', 'yours', 'yourself', 'yourselves', 'he', 'him', 'his', 'himself', \\\n            'she', \"she's\", 'her', 'hers', 'herself', 'it', \"it's\", 'its', 'itself', 'they', 'them', 'their',\\\n            'theirs', 'themselves', 'what', 'which', 'who', 'whom', 'this', 'that', \"that'll\", 'these', 'those', \\\n            'am', 'is', 'are', 'was', 'were', 'be', 'been', 'being', 'have', 'has', 'had', 'having', 'do', 'does', \\\n            'did', 'doing', 'a', 'an', 'the', 'and', 'but', 'if', 'or', 'because', 'as', 'until', 'while', 'of', \\\n            'at', 'by', 'for', 'with', 'about', 'against', 'between', 'into', 'through', 'during', 'before', 'after',\\\n            'above', 'below', 'to', 'from', 'up', 'down', 'in', 'out', 'on', 'off', 'over', 'under', 'again', 'further',\\\n            'then', 'once', 'here', 'there', 'when', 'where', 'why', 'how', 'all', 'any', 'both', 'each', 'few', 'more',\\\n            'most', 'other', 'some', 'such', 'only', 'own', 'same', 'so', 'than', 'too', 'very', \\\n            's', 't', 'can', 'will', 'just', 'don', \"don't\", 'should', \"should've\", 'now', 'd', 'll', 'm', 'o', 're', \\\n            've', 'y', 'ain', 'aren', \"aren't\", 'couldn', \"couldn't\", 'didn', \"didn't\", 'doesn', \"doesn't\", 'hadn',\\\n            \"hadn't\", 'hasn', \"hasn't\", 'haven', \"haven't\", 'isn', \"isn't\", 'ma', 'mightn', \"mightn't\", 'mustn',\\\n            \"mustn't\", 'needn', \"needn't\", 'shan', \"shan't\", 'shouldn', \"shouldn't\", 'wasn', \"wasn't\", 'weren', \"weren't\", \\\n            'won', \"won't\", 'wouldn', \"wouldn't\"])",
      "execution_count": null,
      "outputs": []
    },
    {
      "metadata": {
        "id": "mFHQEvfnLPoF",
        "colab_type": "code",
        "colab": {},
        "outputId": "5cd6bcc3-54fe-4a8e-a39d-d6dabf3f37f9",
        "trusted": true,
        "_uuid": "e2a57f0f083a410939428d517940a8bc8e192c73"
      },
      "cell_type": "code",
      "source": "# Combining all the above stundents \nfrom tqdm import tqdm\npreprocessed_reviews = []\n# tqdm is for printing the status bar\nfor sentance in tqdm(final['Text'].values):\n    sentance = re.sub(r\"http\\S+\", \"\", sentance)\n    sentance = BeautifulSoup(sentance, 'lxml').get_text()\n    sentance = decontracted(sentance)\n    sentance = re.sub(\"\\S*\\d\\S*\", \"\", sentance).strip()\n    sentance = re.sub('[^A-Za-z]+', ' ', sentance)\n    # https://gist.github.com/sebleier/554280\n    sentance = ' '.join(e.lower() for e in sentance.split() if e.lower() not in stopwords)\n    preprocessed_reviews.append(sentance.strip())",
      "execution_count": null,
      "outputs": []
    },
    {
      "metadata": {
        "id": "Tqx8QUeRLPoH",
        "colab_type": "code",
        "colab": {},
        "outputId": "0182081c-6282-4113-b186-5b5bac596388",
        "trusted": true,
        "_uuid": "a95c6be9bd8f679fd4282ad8183890dfe8d43b21"
      },
      "cell_type": "code",
      "source": "preprocessed_reviews[1500]",
      "execution_count": null,
      "outputs": []
    },
    {
      "metadata": {
        "id": "9IuKp2HULPoL",
        "colab_type": "text",
        "_uuid": "050d4c7ad32010b7ccbcb2b4536fc438ddaead69"
      },
      "cell_type": "markdown",
      "source": "<h2><font color='blue'>[3.2] Preprocessing Review Summary</font></h2>"
    },
    {
      "metadata": {
        "id": "Qk7gYOmKLPoM",
        "colab_type": "code",
        "colab": {},
        "trusted": true,
        "_uuid": "813e0072782d315c0baa7759cc74032e203c8f47"
      },
      "cell_type": "code",
      "source": "## preprocessing for review summary \nsummary_preprocessed_reviews = []\n# tqdm is for printing the status bar\nfor sentance in tqdm(final['Summary'].values):\n    sentance = re.sub(r\"http\\S+\", \"\", sentance)\n    sentance = BeautifulSoup(sentance, 'lxml').get_text()\n    sentance = decontracted(sentance)\n    sentance = re.sub(\"\\S*\\d\\S*\", \"\", sentance).strip()\n    sentance = re.sub('[^A-Za-z]+', ' ', sentance)\n    # https://gist.github.com/sebleier/554280\n    sentance = ' '.join(e.lower() for e in sentance.split() if e.lower() not in stopwords)\n    summary_preprocessed_reviews.append(sentance.strip())\n\nprint(summary_preprocessed_reviews[1500])",
      "execution_count": null,
      "outputs": []
    },
    {
      "metadata": {
        "_uuid": "5fb09cdc7bc3d6a291e3aab5447ff7533426cf5c"
      },
      "cell_type": "markdown",
      "source": "<h2><font color='black'>Feature Engineering</font></h2>"
    },
    {
      "metadata": {
        "trusted": true,
        "_uuid": "ea9168d94a5d6113f7d570c2fe00e952fc32ce75"
      },
      "cell_type": "code",
      "source": "# Adding review text and Summary text as Input into the data\n\npreprocessed_reviews = [i + ' ' + j for i, j in zip(preprocessed_reviews,summary_preprocessed_reviews)] \nprint(preprocessed_reviews[1500])\n\n# Adding new Column to the Final dataframe\nfinal['preprocessed_reviews'] = preprocessed_reviews",
      "execution_count": null,
      "outputs": []
    },
    {
      "metadata": {
        "_uuid": "9d9928f340144781bc37286686079538fab76421"
      },
      "cell_type": "markdown",
      "source": "# Splitting of Preprocessed data into Train and Test data"
    },
    {
      "metadata": {
        "trusted": true,
        "_uuid": "aa9b6f7cc0e46955adfe92f7807bb1ad6afe6bc0"
      },
      "cell_type": "code",
      "source": "#Calculating the train and test size and dividing the data into train and test chunks into the 70 - 30 ratio\nimport math\n\nfinal = final.sample(n=100000)\npreprocessed_reviews = np.array(final['preprocessed_reviews']) \ntrain_size = math.floor(preprocessed_reviews.shape[0] * 0.7)\n\n#split the data set into train and test\npreprocessed_reviews_train = preprocessed_reviews[: train_size]\npreprocessed_reviews_test  =preprocessed_reviews[train_size : ]  \nScore_train =final['Score'][: train_size ]\nScore_test = final['Score'][train_size : ]\nprint(preprocessed_reviews_train.shape)\nprint(preprocessed_reviews_test.shape)\nprint(Score_train.shape)\nprint(Score_test.shape)\nprint(Score_train.value_counts())",
      "execution_count": null,
      "outputs": []
    },
    {
      "metadata": {
        "_uuid": "3b209a2d242ca4001ba44263ecf1ebaf809e10df"
      },
      "cell_type": "markdown",
      "source": "# Data Distribution for each Class is balanced or not?"
    },
    {
      "metadata": {
        "trusted": true,
        "_uuid": "4fa0256a9ea16ec44b062dd21e08328ac937de9b"
      },
      "cell_type": "code",
      "source": "# Draw a bar Plot for each Class of the data\n\nnum_neg = Score_train.value_counts()[0]\nnum_pos = Score_train.value_counts()[1]\nreview = ('Positive', 'Negative')\ny_pos = np.arange(len(review))\nnum_review = [num_pos, num_neg]\n \nplt.bar(y_pos, num_review, align='center', color = ['green','red'],alpha=0.5)\nplt.xticks(y_pos, review)\nplt.ylabel('Number Of Review')\nplt.title('Number of Review for Positive and Negative Class')\n \nplt.show()",
      "execution_count": null,
      "outputs": []
    },
    {
      "metadata": {
        "_uuid": "3487d86057e274e933b99f32e4fabe7ef6e312a3"
      },
      "cell_type": "markdown",
      "source": "# Observation"
    },
    {
      "metadata": {
        "_uuid": "dcfda6a3fdd0cf06075cef9f3e5878d94696a4a6"
      },
      "cell_type": "markdown",
      "source": " **-> Here we can see that number of Postive Review is much more than the number of negative review. So this is clearly Unbalanced dataset. **\n \n **-> As we will Use Area Under ROC Curve (AUROC) as Performance metric  ,so there is no need for the Upsampling or downsampling the data .If we use other metric like  accuracy then we need Upsampling or downsampling the data**"
    },
    {
      "metadata": {
        "id": "B93jqKuhLPoQ",
        "colab_type": "text",
        "_uuid": "656f4bfd85990d63dd2260b7206fce1123998029"
      },
      "cell_type": "markdown",
      "source": "# [4] Featurization"
    },
    {
      "metadata": {
        "id": "Mr4j2QhgLPoQ",
        "colab_type": "text",
        "_uuid": "086855db18e27875f16714d1f1ac13b905a08c02"
      },
      "cell_type": "markdown",
      "source": "## [4.1] BAG OF WORDS"
    },
    {
      "metadata": {
        "id": "dZVHt3mtLPoR",
        "colab_type": "code",
        "colab": {},
        "outputId": "ea1629cd-7c92-400e-9acd-f7caeef0f389",
        "trusted": true,
        "_uuid": "f7474ee83f191db055e64dd52c5afa8b7e6c7a73"
      },
      "cell_type": "code",
      "source": "#BoW \ncount_vect = CountVectorizer(min_df=5) #in scikit-learn\n\n# BOW on Train data and Test data \ncount_vect_train_data = count_vect.fit_transform(preprocessed_reviews_train)\ncount_vect_test_data = count_vect.transform(preprocessed_reviews_test)\n\n#Standardization of the train and test data\ncount_Standarized_train_data = StandardScaler(with_mean=False).fit_transform(count_vect_train_data)\ncount_Standarized_test_data = StandardScaler(with_mean=False).fit_transform(count_vect_test_data)\n\nprint(\"some feature names \", count_vect.get_feature_names()[:10])\nprint('='*50)\n\n\nprint(\"the type of count vectorizer of train Preprocessed data\",type(count_vect_train_data))\nprint(\"the type of count vectorizer of test Preprocessed data\",type(count_vect_test_data))\nprint(\"the shape of out text BOW vectorizer on train data\",count_vect_train_data.get_shape())\nprint(\"the shape of out text BOW vectorizer on test data\",count_vect_test_data.get_shape())\nprint(\"the number of unique words \", count_vect_test_data.get_shape()[1])",
      "execution_count": null,
      "outputs": []
    },
    {
      "metadata": {
        "id": "tSf5kRdLLPoV",
        "colab_type": "text",
        "_uuid": "c047c2d294c3199fe97ea602f99bb2dd92c7e1d8"
      },
      "cell_type": "markdown",
      "source": "## [4.2] Bi-Grams and n-Grams."
    },
    {
      "metadata": {
        "id": "Yfk2d7bLLPoW",
        "colab_type": "code",
        "colab": {},
        "outputId": "33472132-5eb3-493f-b08c-081749f99239",
        "trusted": true,
        "_uuid": "bcae3d75eb4a509a882799d93c780c03995e48c6"
      },
      "cell_type": "code",
      "source": "#bi-gram, tri-gram and n-gram\n\nn_count_vect = CountVectorizer(ngram_range=(1,2), min_df=10)\n\n# bi-gram BOW on Train data and Test data \nn_count_vect_train_data = n_count_vect.fit_transform(preprocessed_reviews_train) \nn_count_vect_test_data = n_count_vect.transform(preprocessed_reviews_test)\n\n#Standardization of the train and test data\nn_count_Standarized_train_data = StandardScaler(with_mean=False).fit_transform(n_count_vect_train_data)\nn_count_Standarized_test_data  = StandardScaler(with_mean=False).fit_transform(n_count_vect_test_data)\n\n\nprint(\"some feature names \", n_count_vect.get_feature_names()[:10])\nprint('='*50)\n\n\nprint(\"the type of count vectorizer of train Preprocessed data\",type(n_count_vect_train_data))\nprint(\"the type of count vectorizer of test Preprocessed data\",type(n_count_vect_test_data))\nprint(\"the shape of out text bi gram BOW vectorizer on train data\",n_count_vect_train_data.get_shape())\nprint(\"the shape of out text bi gram BOW vectorizer on test data\",n_count_vect_test_data.get_shape())\nprint(\"the number of unique words \",n_count_vect_train_data.get_shape()[1])",
      "execution_count": null,
      "outputs": []
    },
    {
      "metadata": {
        "id": "-cEEpDx0LPoZ",
        "colab_type": "text",
        "_uuid": "f1beba32c989e7c090664c6035ecfdbceb13614b"
      },
      "cell_type": "markdown",
      "source": "## [4.3] TF-IDF"
    },
    {
      "metadata": {
        "id": "TgP61HqBLPoa",
        "colab_type": "code",
        "colab": {},
        "outputId": "15f1c123-d93b-414d-914b-d4e3f32a6ac1",
        "trusted": true,
        "_uuid": "62f69a43836aca59a2390ef7e900ec7a667b0707"
      },
      "cell_type": "code",
      "source": "#Text converting into vector using Tf-Idf\ntf_idf_vect = TfidfVectorizer(ngram_range=(1,2), min_df=10 )\n\n# n-gram TfIdf on Train and Test data \ntfIdf_vect_train_data = tf_idf_vect.fit_transform(preprocessed_reviews_train) \ntfIdf_vect_test_data = tf_idf_vect.transform(preprocessed_reviews_test)\n\n#Standardization of the train and test data\ntfIdf_Standarized_train_data = StandardScaler(with_mean=False).fit_transform(tfIdf_vect_train_data)\ntfIdf_Standarized_test_data  = StandardScaler(with_mean=False).fit_transform(tfIdf_vect_test_data)\n\n\nprint(\"some feature names \", tf_idf_vect.get_feature_names()[:10])\nprint('='*50)\n\nprint(\"the type of count vectorizer of train Preprocessed data\",type(tfIdf_vect_train_data))\nprint(\"the type of count vectorizer of test Preprocessed data\",type(tfIdf_vect_test_data))\nprint(\"the shape of out text n-gram TfIdf vectorizer on train data\",tfIdf_vect_train_data.get_shape())\nprint(\"the shape of out text n-gram TfIdf vectorizer on test data\",tfIdf_vect_test_data.get_shape())\nprint(\"the number of unique words \",tfIdf_vect_train_data.get_shape()[1])",
      "execution_count": null,
      "outputs": []
    },
    {
      "metadata": {
        "id": "m3YEHTLPLPod",
        "colab_type": "text",
        "_uuid": "c0dbf9769f1297080797e25d6a40d0c7e3dde78b"
      },
      "cell_type": "markdown",
      "source": "## [4.4] Word2Vec"
    },
    {
      "metadata": {
        "id": "zwPZCf8cLPoe",
        "colab_type": "code",
        "colab": {},
        "trusted": true,
        "_uuid": "0660fcc0d670f40f5c5a88f0c8cad9b0bbf72470"
      },
      "cell_type": "code",
      "source": "# Train your own Word2Vec model using your own text corpus\nimport gensim\n\ni=0\nlist_of_sentance=[]\nfor sentance in preprocessed_reviews_train:\n    list_of_sentance.append(sentance.split())\n\nw2v_model=gensim.models.Word2Vec(list_of_sentance,min_count= 5,size=50, workers=4)   ",
      "execution_count": null,
      "outputs": []
    },
    {
      "metadata": {
        "scrolled": true,
        "id": "8ddGZNUfLPog",
        "colab_type": "code",
        "colab": {},
        "outputId": "390d4ccb-cda2-4391-83e9-0e502b578171",
        "trusted": true,
        "_uuid": "187b8024104bec8eddeb7dcc95a200af742778e5"
      },
      "cell_type": "code",
      "source": "# Using Google News Word2Vectors\n\n# in this project we are using a pretrained model by google\n# its 3.3G file, once you load this into your memory \n# it occupies ~9Gb, so please do this step only if you have >12G of ram\n# we will provide a pickle file wich contains a dict , \n# and it contains all our courpus words as keys and  model[word] as values\n# To use this code-snippet, download \"GoogleNews-vectors-negative300.bin\" \n# from https://drive.google.com/file/d/0B7XkCwpI5KDYNlNUTTlSS21pQmM/edit\n# it's 1.9GB in size.\n\n\n# http://kavita-ganesan.com/gensim-word2vec-tutorial-starter-code/#.W17SRFAzZPY\n# you can comment this whole cell\n# or change these varible according to your need\n\nis_your_ram_gt_16g=False\nwant_to_use_google_w2v = False\nwant_to_train_w2v = False\n\nif want_to_train_w2v:\n    # min_count = 5 considers only words that occured atleast 5 times\n    w2v_model=Word2Vec(list_of_sentance,min_count=5,size=50, workers=4)\n    print(w2v_model.wv.most_similar('great'))\n    print('='*50)\n    print(w2v_model.wv.most_similar('worst'))\n    \nelif want_to_use_google_w2v and is_your_ram_gt_16g:\n    if os.path.isfile('GoogleNews-vectors-negative300.bin'):\n        w2v_model=KeyedVectors.load_word2vec_format('GoogleNews-vectors-negative300.bin', binary=True)\n        print(w2v_model.wv.most_similar('great'))\n        print(w2v_model.wv.most_similar('worst'))\n    else:\n        print(\"you don't have gogole's word2vec file, keep want_to_train_w2v = True, to train your own w2v \")",
      "execution_count": null,
      "outputs": []
    },
    {
      "metadata": {
        "id": "bRWXmmnWLPoo",
        "colab_type": "code",
        "colab": {},
        "outputId": "1cc345e7-d991-49b8-f1b7-a0d81f0b97e6",
        "trusted": true,
        "_uuid": "64419928fa22e162ee4898300b53a648d0a687a6"
      },
      "cell_type": "code",
      "source": "w2v_words = list(w2v_model.wv.vocab)\nprint(\"number of words that occured minimum 5 times \",len(w2v_words))\nprint(\"sample words \", w2v_words[0:50])",
      "execution_count": null,
      "outputs": []
    },
    {
      "metadata": {
        "id": "TtWqibqfLPos",
        "colab_type": "text",
        "_uuid": "eaeaf7f926eab6279e9b08b3dd8f8443434b83b4"
      },
      "cell_type": "markdown",
      "source": "## [4.4.1] Converting text into vectors using Avg W2V, TFIDF-W2V"
    },
    {
      "metadata": {
        "id": "JriP5nZCLPot",
        "colab_type": "text",
        "_uuid": "a7391176cee14abf7e2a94112895e1332aa5eba9"
      },
      "cell_type": "markdown",
      "source": "#### [4.4.1.1] Avg W2v"
    },
    {
      "metadata": {
        "id": "UnXI9NHTLPot",
        "colab_type": "code",
        "colab": {},
        "outputId": "ecbe8256-9718-4bad-de33-e5ce1ee69038",
        "trusted": true,
        "_uuid": "caf4c082040c08e7918ac464cbca343db04c81f8"
      },
      "cell_type": "code",
      "source": "# average Word2Vec\n\n# compute average word2vec for Train review.\nAvgW2V_train_data = []\nfor sent in tqdm(preprocessed_reviews_train): # for each review/sentence\n    sent_vec = np.zeros(50) # as word vectors are of zero length 50, you might need to change this to 300 if you use google's w2v\n    cnt_words =0; # num of words with a valid vector in the sentence/review\n    for word in sent: # for each word in a review/sentence\n        if word in w2v_words:\n            vec = w2v_model.wv[word]\n            sent_vec += vec\n            cnt_words += 1\n    if cnt_words != 0:\n        sent_vec /= cnt_words\n    AvgW2V_train_data.append(sent_vec)\n\n# compute average word2vec for Test review.\nAvgW2V_test_data = []\nfor sent in tqdm(preprocessed_reviews_test): # for each review/sentence\n    sent_vec = np.zeros(50) # as word vectors are of zero length 50, you might need to change this to 300 if you use google's w2v\n    cnt_words =0; # num of words with a valid vector in the sentence/review\n    for word in sent: # for each word in a review/sentence\n        if word in w2v_words:\n            vec = w2v_model.wv[word]\n            sent_vec += vec\n            cnt_words += 1\n    if cnt_words != 0:\n        sent_vec /= cnt_words\n    AvgW2V_test_data.append(sent_vec)\nprint(len(AvgW2V_test_data))\nprint(len(AvgW2V_test_data[0]))",
      "execution_count": null,
      "outputs": []
    },
    {
      "metadata": {
        "id": "2sHfb529LPow",
        "colab_type": "text",
        "_uuid": "49cf16611b1647b06817f973e669a093cd679382"
      },
      "cell_type": "markdown",
      "source": "#### [4.4.1.2] TFIDF weighted W2v"
    },
    {
      "metadata": {
        "id": "sb_wDjAqLPow",
        "colab_type": "code",
        "colab": {},
        "trusted": true,
        "_uuid": "eb7f4412a2380b7eb9df72d1d32a97a435ba2410"
      },
      "cell_type": "code",
      "source": "# S = [\"abc def pqr\", \"def def def abc\", \"pqr pqr def\"]\nmodel = TfidfVectorizer()\ntf_idf_matrix = model.fit_transform(preprocessed_reviews_train)\n# we are converting a dictionary with word as a key, and the idf as a value\ndictionary = dict(zip(model.get_feature_names(), list(model.idf_)))",
      "execution_count": null,
      "outputs": []
    },
    {
      "metadata": {
        "scrolled": true,
        "id": "3VrUzqx7LPoy",
        "colab_type": "code",
        "colab": {},
        "outputId": "8480d5da-7b1d-4bbe-a4c9-fe0a5800b5d0",
        "trusted": true,
        "_uuid": "0f37211d589e9b2a8b6893f4698c8870bdb1e944"
      },
      "cell_type": "code",
      "source": "# TF-IDF weighted Word2Vec\ntfidf_feat = model.get_feature_names() # tfidf words/col-names\n# final_tf_idf is the sparse matrix with row= sentence, col=word and cell_val = tfidf\n\ntfIdf_W2V_train_data = []; # the tf-Idf avg-w2v for each train sentence/review is stored in this list\ntfIdf_W2V_test_data = [] ; # the tf-Idf avg-w2v for each test sentence/review is stored in this list\n\n# TF-IDF weighted Word2Vec for Train data\nrow=0;\nfor sent in tqdm(preprocessed_reviews_train): # for each review/sentence \n    sent_vec = np.zeros(50) # as word vectors are of zero length\n    weight_sum =0; # num of words with a valid vector in the sentence/review\n    for word in sent: # for each word in a review/sentence\n        if word in w2v_words and word in tfidf_feat:\n            vec = w2v_model.wv[word]\n#             tf_idf = tf_idf_matrix[row, tfidf_feat.index(word)]\n            # to reduce the computation we are \n            # dictionary[word] = idf value of word in whole courpus\n            # sent.count(word) = tf valeus of word in this review\n            tf_idf = dictionary[word]*(sent.count(word)/len(sent))\n            sent_vec += (vec * tf_idf)\n            weight_sum += tf_idf\n    if weight_sum != 0:\n        sent_vec /= weight_sum\n    tfIdf_W2V_train_data.append(sent_vec)\n    row += 1\n    \n# TF-IDF weighted Word2Vec for Test data \nrow=0;\nfor sent in tqdm(preprocessed_reviews_test): # for each review/sentence \n    sent_vec = np.zeros(50) # as word vectors are of zero length\n    weight_sum =0; # num of words with a valid vector in the sentence/review\n    for word in sent: # for each word in a review/sentence\n        if word in w2v_words and word in tfidf_feat:\n            vec = w2v_model.wv[word]\n#             tf_idf = tf_idf_matrix[row, tfidf_feat.index(word)]\n            # to reduce the computation we are \n            # dictionary[word] = idf value of word in whole courpus\n            # sent.count(word) = tf valeus of word in this review\n            tf_idf = dictionary[word]*(sent.count(word)/len(sent))\n            sent_vec += (vec * tf_idf)\n            weight_sum += tf_idf\n    if weight_sum != 0:\n        sent_vec /= weight_sum\n    tfIdf_W2V_test_data.append(sent_vec)\n    row += 1    ",
      "execution_count": null,
      "outputs": []
    },
    {
      "metadata": {
        "id": "Kxx72u1hLPo1",
        "colab_type": "text",
        "_uuid": "7d3ec28a2ced68ba6081870a151583a57fd6a178"
      },
      "cell_type": "markdown",
      "source": "# [5] Assignment 5: Apply Logistic Regression"
    },
    {
      "metadata": {
        "id": "KDR9We0oLPo2",
        "colab_type": "text",
        "_uuid": "026fbc8b70559556e5070fec73a2c9585648f0fc"
      },
      "cell_type": "markdown",
      "source": "<ol>\n    <li><strong>Apply Logistic Regression on these feature sets</strong>\n        <ul>\n            <li><font color='red'>SET 1:</font>Review text, preprocessed one converted into vectors using (BOW)</li>\n            <li><font color='red'>SET 2:</font>Review text, preprocessed one converted into vectors using (TFIDF)</li>\n            <li><font color='red'>SET 3:</font>Review text, preprocessed one converted into vectors using (AVG W2v)</li>\n            <li><font color='red'>SET 4:</font>Review text, preprocessed one converted into vectors using (TFIDF W2v)</li>\n        </ul>\n    </li>\n    <br>\n    <li><strong>Hyper paramter tuning (find best hyper parameters corresponding the algorithm that you choose)</strong>\n        <ul>\n    <li>Find the best hyper parameter which will give the maximum <a href='https://www.appliedaicourse.com/course/applied-ai-course-online/lessons/receiver-operating-characteristic-curve-roc-curve-and-auc-1/'>AUC</a> value</li>\n    <li>Find the best hyper paramter using k-fold cross validation or simple cross validation data</li>\n    <li>Use gridsearch cv or randomsearch cv or you can also write your own for loops to do this task of hyperparameter tuning</li>          \n        </ul>\n    </li>\n    <br>\n    <li><strong>Pertubation Test</strong>\n        <ul>\n    <li>Get the weights W after fit your model with the data X i.e Train data.</li>\n    <li>Add a noise to the X (X' = X + e) and get the new data set X' (if X is a sparse\nmatrix, X.data+=e)</li>\n    <li>Fit the model again on data X' and get the weights W'</li>\n    <li>Add a small eps value(to eliminate the divisible by zero error) to W and W’ i.e\nW=W+10^-6 and W’ = W’+10^-6</li>\n    <li>Now find the % change between W and W' (| (W-W') / (W) |)*100)</li>\n    <li>Calculate the 0th, 10th, 20th, 30th, ...100th percentiles, and observe any sudden rise in the values of percentage_change_vector</li>\n    <li> Ex: consider your 99th percentile is 1.3 and your 100th percentiles are 34.6, there is sudden rise from 1.3 to 34.6, now calculate the 99.1, 99.2, 99.3,..., 100th percentile values and get the proper value after which there is sudden rise the values, assume it is 2.5</li>\n            <li> Print the feature names whose % change is more than a threshold x(in our example it's 2.5)</li>\n        </ul>\n    </li>\n    <br>\n    <li><strong>Sparsity</strong>\n        <ul>\n    <li>Calculate sparsity on weight vector obtained after using L1 regularization</li>\n        </ul>\n    </li>\n    <br><font color='red'>NOTE: Do sparsity and multicollinearity for any one of the vectorizers. Bow or tf-idf is recommended.</font>\n    <br>\n    <br>\n    <li><strong>Feature importance</strong>\n        <ul>\n    <li>Get top 10 important features for both positive and negative classes separately.</li>\n        </ul>\n    </li>\n    <br>\n    <li><strong>Feature engineering</strong>\n        <ul>\n    <li>To increase the performance of your model, you can also experiment with with feature engineering like :</li>\n            <ul>\n            <li>Taking length of reviews as another feature.</li>\n            <li>Considering some features from review summary as well.</li>\n        </ul>\n        </ul>\n    </li>\n    <br>\n    <li><strong>Representation of results</strong>\n        <ul>\n    <li>You need to plot the performance of model both on train data and cross validation data for each hyper parameter, like shown in the figure.\n    <img src='train_cv_auc.JPG' width=300px></li>\n    <li>Once after you found the best hyper parameter, you need to train your model with it, and find the AUC on test data and plot the ROC curve on both train and test.\n    <img src='train_test_auc.JPG' width=300px></li>\n    <li>Along with plotting ROC curve, you need to print the <a href='https://www.appliedaicourse.com/course/applied-ai-course-online/lessons/confusion-matrix-tpr-fpr-fnr-tnr-1/'>confusion matrix</a> with predicted and original labels of test data points. Please visualize your confusion matrices using <a href='https://seaborn.pydata.org/generated/seaborn.heatmap.html'>seaborn heatmaps.\n    <img src='confusion_matrix.png' width=300px></li>\n        </ul>\n    </li>\n    <br>\n    <li><strong>Conclusion</strong>\n        <ul>\n    <li>You need to summarize the results at the end of the notebook, summarize it in the table format. To print out a table please refer to this prettytable library<a href='http://zetcode.com/python/prettytable/'>  link</a> \n        <img src='summary.JPG' width=400px>\n    </li>\n        </ul>\n</ol>"
    },
    {
      "metadata": {
        "_uuid": "56a880890f5fd12e8cc44f7fe1ee93928cbc4579"
      },
      "cell_type": "markdown",
      "source": "# Functions for Logistic Regression  Accuracy"
    },
    {
      "metadata": {
        "trusted": true,
        "_uuid": "ff6456d0affc8a98eb04c1487de781b8c7903193"
      },
      "cell_type": "code",
      "source": "#Function to return Optimal value of Lambda and Draw plot of area under roc curve vs Lambda\n\ndef LR_accuracy(Train_data, Score_train , penalty):\n    #possible number of lambda\n    lamda =  np.array([0.00001, 0.00003, 0.0001, 0.0003, 0.001, 0.003, 0.01, 0.03, 0.1, 0.3, 1, 3, 10,30,100,300,1000])\n    param_grid = dict(C = lamda)\n    \n    LR_Optimal = LogisticRegression(penalty=penalty, max_iter=100, fit_intercept=True)\n    grid = GridSearchCV(estimator = LR_Optimal, param_grid =param_grid , scoring='roc_auc',cv=5,  n_jobs=-1)\n    grid_result = grid.fit(Train_data , Score_train)\n    \n    # summarize results\n    print(\"Best: %f using %s\" % (grid_result.best_score_, grid_result.best_params_))\n    means_Cv_score = grid_result.cv_results_['mean_test_score']\n    mean_train_score = grid_result.cv_results_['mean_train_score']\n\n    # Plot graph between cross validation and Train data Area Under Roc Curve result and value of Lambda\n    plt.plot(np.log10(lamda) , means_Cv_score , marker = '*')\n    plt.plot(np.log10(lamda) , mean_train_score , marker = '*')\n    plt.title(\"Area under Roc Curve for train and Cross validation data vs lamda\")\n    plt.xlabel('lamda')\n    plt.ylabel('Area')\n    plt.legend(['AUC of Cv data against value of lamda','AUC of train data against value of lamda'], loc='lower right')\n    plt.show()\n\n# Function to  plot graph on area under roc curve on test and train data and print confusion matrix\ndef plot_Graph(lamda,penalty, Train_data, Train_label, Test_data, Test_label):\n    #Train KNN on optimal parameter\n    LR_Optimal = LogisticRegression(penalty=penalty ,C=lamda , max_iter=100, fit_intercept=True,)\n    # fitting the model\n    LR_Optimal.fit(Train_data, Train_label)\n\n    #predict the Class of Train data and test data from Trained model\n    train_pred = LR_Optimal.predict(Train_data)\n    test_pred =  LR_Optimal.predict(Test_data)\n        \n    #Compute fpr and tpr from the predicted label and  True label of train data and test data\n    fpr_train, tpr_train,_ = roc_curve(Train_label, train_pred)\n    fpr_test, tpr_test,_ = roc_curve(Test_label, test_pred)\n    \n    # Compute area under roc curve\n    area_train = auc(fpr_train, tpr_train)\n    area_test = auc(fpr_test, tpr_test)\n    \n    lw =2\n    plt.plot(fpr_test, tpr_test, color='darkorange',lw=lw, label='ROC curve of Test data (area = %0.2f)' % area_test)\n    plt.plot(fpr_train, tpr_train, color='green',lw=lw, label='ROC curve of Train data(area = %0.2f)' % area_train)\n    plt.plot([0, 1], [0, 1], color='navy', lw=lw, linestyle='--')\n    plt.xlim([0.0, 1.0])\n    plt.ylim([0.0, 1.05])\n    plt.xlabel('False Positive Rate')\n    plt.ylabel('True Positive Rate')\n    plt.title('Receiver operating characteristic example')\n    plt.legend(loc=\"lower right\")\n    \n    # Confusion matrix\n    \n    #For Train data\n    plt.figure()\n    cm = confusion_matrix(Train_label, train_pred)\n    class_label = [\"negative\", \"positive\"]\n    df_cm = pd.DataFrame(cm, index = class_label, columns = class_label)\n    sns.heatmap(df_cm, annot = True, fmt = \"d\")\n    plt.title(\"Confusiion Matrix For train data\")\n    plt.xlabel(\"Predicted Label\")\n    plt.ylabel(\"True Label\")\n    \n    # For test data\n    plt.figure()\n    cm = confusion_matrix(Test_label, test_pred)\n    class_label = [\"negative\", \"positive\"]\n    df_cm = pd.DataFrame(cm, index = class_label, columns = class_label)\n    sns.heatmap(df_cm, annot = True, fmt = \"d\")\n    plt.title(\"Confusiion Matrix for test data\")\n    plt.xlabel(\"Predicted Label\")\n    plt.ylabel(\"True Label\")\n    plt.show()",
      "execution_count": null,
      "outputs": []
    },
    {
      "metadata": {
        "id": "LE_XPVZJLPo4",
        "colab_type": "text",
        "_uuid": "f520cfff190f9736b32c1ae674ace00d8e8b20aa"
      },
      "cell_type": "markdown",
      "source": "## [5.1] Logistic Regression on BOW,<font color='red'> SET 1</font>"
    },
    {
      "metadata": {
        "id": "_iciJvj2LPo4",
        "colab_type": "text",
        "_uuid": "d107a90c3be3cf282e0fe7420039107133c01274"
      },
      "cell_type": "markdown",
      "source": "### [5.1.1] Applying Logistic Regression with L1 regularization on BOW,<font color='red'> SET 1</font>"
    },
    {
      "metadata": {
        "id": "MyOVi-xYLPo5",
        "colab_type": "code",
        "colab": {},
        "trusted": true,
        "_uuid": "cee80285cd7a551a7012d7067ddd7282028eadaa"
      },
      "cell_type": "code",
      "source": "import warnings\nwarnings.filterwarnings(\"ignore\")\n\n# Find optimal value of lamda\nLR_accuracy(n_count_Standarized_train_data , Score_train, \"l1\")",
      "execution_count": null,
      "outputs": []
    },
    {
      "metadata": {
        "trusted": true,
        "_uuid": "98160bcfb958684ad092c7b1174f4cc31a8aca39"
      },
      "cell_type": "code",
      "source": "# Based on the train and cross validation plot we can say that optimal value of lamda\nBOW_optimal_lamda = 0.1\n\n#Plot the graph on area under roc curve on test and train data and print confusion matrix\nplot_Graph(BOW_optimal_lamda , \"l1\" ,n_count_Standarized_train_data, Score_train, n_count_Standarized_test_data, Score_test)",
      "execution_count": null,
      "outputs": []
    },
    {
      "metadata": {
        "id": "5h4NhywcLPo7",
        "colab_type": "text",
        "_uuid": "856a90e2216d9996c9a00b4a3c7159404be2bd09"
      },
      "cell_type": "markdown",
      "source": "#### [5.1.1.1] Calculating sparsity on weight vector obtained using L1 regularization on BOW,<font color='red'> SET 1</font>"
    },
    {
      "metadata": {
        "id": "-mmdLzUALPo-",
        "colab_type": "code",
        "colab": {},
        "trusted": true,
        "_uuid": "a309f1a18e86b2365ccf1ab4e8d97fc7f23d40d6"
      },
      "cell_type": "code",
      "source": "# Train model with optimal value of alpha\nLR_Optimal = LogisticRegression(penalty='l1' ,C=BOW_optimal_lamda, max_iter=100, fit_intercept=True,)\n    \n# fitting the model\nLR_Optimal.fit(n_count_Standarized_train_data, Score_train)\n\n\n# Calculate Sparsity of weight vector\n\ncoef_l1_LR = LR_Optimal.coef_.ravel()\n\n# coef_l1_LR contains zeros due to the L1 sparsity inducing norm\n\nsparsity_l1_LR = np.mean(coef_l1_LR == 0) * 100\n\nprint(\"Sparsity with L1 penalty: %.2f%%\" % sparsity_l1_LR)",
      "execution_count": null,
      "outputs": []
    },
    {
      "metadata": {
        "id": "aRHMa52qLPpA",
        "colab_type": "text",
        "_uuid": "74f6b658774f05ae1f8d1ed47e1f12049f2f2d53"
      },
      "cell_type": "markdown",
      "source": "### [5.1.2] Applying Logistic Regression with L2 regularization on BOW,<font color='red'> SET 1</font>"
    },
    {
      "metadata": {
        "id": "GBbb9lxlLPpB",
        "colab_type": "code",
        "colab": {},
        "trusted": true,
        "_uuid": "db3f59ea55a0c0bfecbd920a3aafa3980f9d9a87"
      },
      "cell_type": "code",
      "source": "# Find optimal value of lamda\nLR_accuracy(n_count_Standarized_train_data , Score_train, \"l2\")",
      "execution_count": null,
      "outputs": []
    },
    {
      "metadata": {
        "id": "UaJkugTKLPpE",
        "colab_type": "text",
        "_uuid": "2c9c8b53e18dd24f5dc10e189d98cddb1ff6c665"
      },
      "cell_type": "markdown",
      "source": "#### [5.1.2.1] Performing pertubation test (multicollinearity check) on BOW,<font color='red'> SET 1</font>"
    },
    {
      "metadata": {
        "id": "E1c5B1nELPpF",
        "colab_type": "code",
        "colab": {},
        "trusted": true,
        "_uuid": "b7d5806606e2cb1720b8b8c33f9ca5570cfb9f6c"
      },
      "cell_type": "code",
      "source": "# Based on the train and cross validation plot we can say that optimal value of lamda\nBOW_optimal_lamda = 0.01\n\n# Train model on optimal value of lamda and store Initial weight\nLR_Optimal = LogisticRegression(penalty='l2' ,C=BOW_optimal_lamda, max_iter=100, fit_intercept=True,)\nLR_Optimal.fit(n_count_Standarized_train_data , Score_train)\ninitial_weight = LR_Optimal.coef_\n\n# Number of non zero element in the sparse matrix\nN = n_count_Standarized_train_data.nnz\n\n# add Noise to the Train data and Train model on modified data \nnoise = np.random.uniform(low = -0.01, high = 0.01,size = N)\nn_count_Standarized_train_data.data = n_count_Standarized_train_data.data + noise\nLR_Optimal.fit(n_count_Standarized_train_data , Score_train)\n\n# Store the final weight\nfinal_weight = LR_Optimal.coef_\n\n# # Adding epsilon to the weights to avoid divide by zero\nepsilon = 0.000001\ninitial_weight += epsilon\nfinal_weight += epsilon\n\n#calculate the percentage change in the weights of the features and Sort it\nchange_weight = abs((initial_weight - final_weight)/(initial_weight)) * 100\nchange_weight.sort()\n\n# Calculate percentile value\nfirst = np.percentile(change_weight,99.1)\nsecond = np.percentile(change_weight,99.2)\nthird = np.percentile(change_weight,99.4)\nfourth = np.percentile(change_weight,99.5)\nfifth = np.percentile(change_weight,99.6)\nsixth = np.percentile(change_weight,99.7)\nseventh = np.percentile(change_weight,99.8)\neighth = np.percentile(change_weight,99.9)\nhundred = np.percentile(change_weight,100)\nprint(first , second, third, fourth , fifth , sixth, seventh ,eighth , hundred)",
      "execution_count": null,
      "outputs": []
    },
    {
      "metadata": {
        "_uuid": "7563d21df919b0454a11301b89b956c62cfb68dc"
      },
      "cell_type": "markdown",
      "source": "# Conclusion"
    },
    {
      "metadata": {
        "trusted": true,
        "_uuid": "50f727bc5d922efbacf45219c2d1220e2e9e47aa"
      },
      "cell_type": "code",
      "source": "''' \n  After checking the percentile of changed weight in the above cell we comes to the conclusion that after 17.854. percent ,the change in the \n  weight is sudden. so our threshold is 11.12260.so we will print all feature which having change in weight is more than our threshold value\n'''\n\n# Threshold value  \nthreshold = 15.1854   \n\n# Get all features \nfeatures = n_count_vect.get_feature_names()\nfeatures = np.asarray(features)\n\n#calculate the percentage change in the weights of the features \nchange_weight = abs((initial_weight - final_weight)/(initial_weight)) * 100\n\n# print features having multicollinearity\nmulticollinear_feat_index = change_weight > threshold\nmulticollinear_feat = features[multicollinear_feat_index[0]]\nprint(\"Feature having multicollinearity are\",multicollinear_feat)",
      "execution_count": null,
      "outputs": []
    },
    {
      "metadata": {
        "id": "eB1rF0BQLPpG",
        "colab_type": "text",
        "_uuid": "d87830721850a36e978d0c41d4497cb9bf6c92c3"
      },
      "cell_type": "markdown",
      "source": "# [5.1.3] Feature Importance on BOW,<font color='red'> SET 1</font>"
    },
    {
      "metadata": {
        "trusted": true,
        "_uuid": "0c9ec428c97368d86a665067b0cabf0f61d21277"
      },
      "cell_type": "code",
      "source": "# Make a dictionary having weight as key and feature as value\n\nfeatures = n_count_vect.get_feature_names()\nweight_feature_dict = dict(zip(initial_weight[0],features))\n\n# Sort dictionary on basis of Weight value \nsort_weight_feature_dict ={}\nfor i in sorted(weight_feature_dict):\n    sort_weight_feature_dict[i] = weight_feature_dict[i]\n",
      "execution_count": null,
      "outputs": []
    },
    {
      "metadata": {
        "id": "JZTP19dqLPpI",
        "colab_type": "text",
        "_uuid": "3d0c3f7c013ef8d6777d345189e898d799d73e00"
      },
      "cell_type": "markdown",
      "source": "#### [5.1.3.1] Top 10 important features of positive class from<font color='red'> SET 1</font>"
    },
    {
      "metadata": {
        "trusted": true,
        "_uuid": "7c7612895466c3568e3b76e7f7f05ce3fb5eef22"
      },
      "cell_type": "code",
      "source": "# Top 10 important feature of positive class will be having top 10 highest value in positive weight\npos_imp_feat =  [sort_weight_feature_dict[k] for k in list(sort_weight_feature_dict)[-10:]]\nprint(\"Top 10 important features of positive class are \",pos_imp_feat)",
      "execution_count": null,
      "outputs": []
    },
    {
      "metadata": {
        "id": "UJLYBE1gLPpJ",
        "colab_type": "text",
        "_uuid": "daf47ccb35690f32a59b1328ff2b2e0e9f7e77ea"
      },
      "cell_type": "markdown",
      "source": " 3### [5.1.3.2] Top 10 important features of negative class from<font color='red'> SET 1</font>"
    },
    {
      "metadata": {
        "id": "c9r7Zjx1LPpK",
        "colab_type": "code",
        "colab": {},
        "trusted": true,
        "_uuid": "4f35b0d2d60211dced4f69d663f7f673f204ecfc"
      },
      "cell_type": "code",
      "source": "# Top 10 important feature of negative  class will be having top 10 highest value in negative  weight\nneg_imp_feature =  [sort_weight_feature_dict[k] for k in list(sort_weight_feature_dict)[:10]]\nprint(\"Top 10 important features of negative class are\",neg_imp_feature)",
      "execution_count": null,
      "outputs": []
    },
    {
      "metadata": {
        "id": "nKn3VXcZLPpN",
        "colab_type": "text",
        "_uuid": "73cb08416df98598442472a5e74be43cf7e8281c"
      },
      "cell_type": "markdown",
      "source": "## [5.2] Logistic Regression on TFIDF,<font color='red'> SET 2</font>"
    },
    {
      "metadata": {
        "id": "naTBSzm6LPpN",
        "colab_type": "text",
        "_uuid": "a28adbc56cc2976847213ad119194243150407f8"
      },
      "cell_type": "markdown",
      "source": "### [5.2.1] Applying Logistic Regression with L1 regularization on TFIDF,<font color='red'> SET 2</font>"
    },
    {
      "metadata": {
        "id": "PEhaagXXLPpS",
        "colab_type": "code",
        "colab": {},
        "trusted": true,
        "_uuid": "677726972e88f899b3b2ae628c7234aa3a235c16"
      },
      "cell_type": "code",
      "source": "import warnings\nwarnings.filterwarnings(\"ignore\")\n\n# Find optimal value of lamda\nLR_accuracy(tfIdf_Standarized_train_data , Score_train, \"l1\")",
      "execution_count": null,
      "outputs": []
    },
    {
      "metadata": {
        "trusted": true,
        "_uuid": "46e0567a2c29af156bcffcb79aaf8497dab896ff"
      },
      "cell_type": "code",
      "source": "# Based on the train and cross validation plot we can say that optimal value of lamda\ntfIdf_optimal_lamda = 0.1\n\n#Plot the graph on area under roc curve on test and train data and print confusion matrix\nplot_Graph(tfIdf_optimal_lamda , \"l1\" ,tfIdf_Standarized_train_data, Score_train, tfIdf_Standarized_test_data, Score_test)",
      "execution_count": null,
      "outputs": []
    },
    {
      "metadata": {
        "id": "NdFShHQJLPpV",
        "colab_type": "text",
        "_uuid": "940f6043ade8f60adb1d5e0c1990273690a5acaa"
      },
      "cell_type": "markdown",
      "source": "### [5.2.2] Applying Logistic Regression with L2 regularization on TFIDF,<font color='red'> SET 2</font>"
    },
    {
      "metadata": {
        "id": "Jyhq3JDzLPpW",
        "colab_type": "code",
        "colab": {},
        "trusted": true,
        "_uuid": "7ca437f4f6270c4280389638c46ced8568e7f06e"
      },
      "cell_type": "code",
      "source": "import warnings\nwarnings.filterwarnings(\"ignore\")\n\n# Find optimal value of lamda\nLR_accuracy(tfIdf_Standarized_train_data , Score_train, \"l2\")",
      "execution_count": null,
      "outputs": []
    },
    {
      "metadata": {
        "trusted": true,
        "_uuid": "f350e789dae0a9eb8fba943c27e3ef718a56d245"
      },
      "cell_type": "code",
      "source": "# Based on the train and cross validation plot we can say that optimal value of lamda\ntfIdf_optimal_lamda = 0.003\n\n#Plot the graph on area under roc curve on test and train data and print confusion matrix\nplot_Graph(tfIdf_optimal_lamda , \"l2\" ,tfIdf_Standarized_train_data, Score_train, tfIdf_Standarized_test_data, Score_test)",
      "execution_count": null,
      "outputs": []
    },
    {
      "metadata": {
        "id": "xeeJ8eVvLPpX",
        "colab_type": "text",
        "_uuid": "54338e34219bbe46d4a69fbb1a8c5df5e46e24f7"
      },
      "cell_type": "markdown",
      "source": "### [5.2.3] Feature Importance on TFIDF,<font color='red'> SET 2</font>"
    },
    {
      "metadata": {
        "trusted": true,
        "_uuid": "b2fce8f517e3eff1b366a7a11a64170c56a3d526"
      },
      "cell_type": "code",
      "source": "# Based on the train and cross validation plot we can say that optimal value of lamda\ntfIdf_optimal_lamda = 0.003\n\n# Train model on optimal value of lamda and find weight\nLR_Optimal = LogisticRegression(penalty='l2' ,C = tfIdf_optimal_lamda, max_iter=100, fit_intercept=True,)\nLR_Optimal.fit(tfIdf_Standarized_train_data , Score_train)\nweight = LR_Optimal.coef_\n\n# Make a dictionary having weight as key and feature as value\n\nfeatures = tf_idf_vect.get_feature_names()\nweight_feature_dict = dict(zip(weight[0],features))\n\n# Sort dictionary on basis of Weight value \nsort_weight_feature_dict ={}\nfor i in sorted(weight_feature_dict):\n    sort_weight_feature_dict[i] = weight_feature_dict[i]",
      "execution_count": null,
      "outputs": []
    },
    {
      "metadata": {
        "id": "Cj9XEmqQLPpY",
        "colab_type": "text",
        "_uuid": "9e83df094ca530b9abb9fe35f09424eca36b6fb5"
      },
      "cell_type": "markdown",
      "source": "#### [5.2.3.1] Top 10 important features of positive class from<font color='red'> SET 2</font>"
    },
    {
      "metadata": {
        "id": "RG10txygLPpb",
        "colab_type": "code",
        "colab": {},
        "trusted": true,
        "_uuid": "39836f73c9f3c00d7137f9fd7fabe7999c0bbf9d"
      },
      "cell_type": "code",
      "source": "# Top 10 important feature of negative class will be having top 10 highest value in positive weight\npos_imp_feature =  [sort_weight_feature_dict[k] for k in list(sort_weight_feature_dict)[-10:]]\nprint(\"Top 10 important features of positive class are\",pos_imp_feature)",
      "execution_count": null,
      "outputs": []
    },
    {
      "metadata": {
        "id": "PowEfns4LPpg",
        "colab_type": "text",
        "_uuid": "d19ef41c6086cacc2f26e2ba0385dfacc5da3b36"
      },
      "cell_type": "markdown",
      "source": "#### [5.2.3.2] Top 10 important features of negative class from<font color='red'> SET 2</font>"
    },
    {
      "metadata": {
        "id": "G7jrma95LPpg",
        "colab_type": "code",
        "colab": {},
        "trusted": true,
        "_uuid": "71fae95649bcbdc9bd045a10c6c1d6f7e9370145"
      },
      "cell_type": "code",
      "source": "# Top 10 important feature of negative class will be having top 10 highest value in negative  weight\nneg_imp_feature =  [sort_weight_feature_dict[k] for k in list(sort_weight_feature_dict)[:10]]\nprint(\"Top 10 important features of negative class are\",neg_imp_feature)",
      "execution_count": null,
      "outputs": []
    },
    {
      "metadata": {
        "id": "sqYadGOgLPpi",
        "colab_type": "text",
        "_uuid": "5e6ea3d9a77d8d6d9ed5af6fb03541461cf3b2e7"
      },
      "cell_type": "markdown",
      "source": "## [5.3] Logistic Regression on AVG W2V,<font color='red'> SET 3</font>"
    },
    {
      "metadata": {
        "id": "kByBCEA1LPpj",
        "colab_type": "text",
        "_uuid": "bbe512ad29f013c7c9bb39a98127fc1c9a4f87d1"
      },
      "cell_type": "markdown",
      "source": "### [5.3.1] Applying Logistic Regression with L1 regularization on AVG W2V<font color='red'> SET 3</font>"
    },
    {
      "metadata": {
        "id": "yCQ_4iJkLPpj",
        "colab_type": "code",
        "colab": {},
        "trusted": true,
        "_uuid": "86a02d6d7965f03b90472933712096ae66d0b80b"
      },
      "cell_type": "code",
      "source": "import warnings\nwarnings.filterwarnings(\"ignore\")\n\n# Find optimal value of lamda\nLR_accuracy(AvgW2V_train_data , Score_train, \"l1\")",
      "execution_count": null,
      "outputs": []
    },
    {
      "metadata": {
        "trusted": true,
        "_uuid": "053ee25e229f377e470dd55945da734c6fea7b46"
      },
      "cell_type": "code",
      "source": "# Based on the train and cross validation plot we can say that optimal value of lamda\nW2V_optimal_lamda = 1000.0\n\n#Plot the graph on area under roc curve on test and train data and print confusion matrix\nplot_Graph(W2V_optimal_lamda , \"l1\" ,AvgW2V_train_data, Score_train, AvgW2V_test_data, Score_test)",
      "execution_count": null,
      "outputs": []
    },
    {
      "metadata": {
        "id": "O_8Gu2SfLPpn",
        "colab_type": "text",
        "_uuid": "e7fc32f01d513143fd901d948fafca90f54587c5"
      },
      "cell_type": "markdown",
      "source": "### [5.3.2] Applying Logistic Regression with L2 regularization on AVG W2V,<font color='red'> SET 3</font>"
    },
    {
      "metadata": {
        "id": "Zy3s4jk1LPpn",
        "colab_type": "code",
        "colab": {},
        "trusted": true,
        "_uuid": "2a925c63168c90563aa32b639f899a5dbe333ad6"
      },
      "cell_type": "code",
      "source": "import warnings\nwarnings.filterwarnings(\"ignore\")\n\n# Find optimal value of lamda\nLR_accuracy(AvgW2V_train_data , Score_train, \"l2\")",
      "execution_count": null,
      "outputs": []
    },
    {
      "metadata": {
        "trusted": true,
        "_uuid": "c564363008958a47856455b3cae850a35f12aecd"
      },
      "cell_type": "code",
      "source": "# Based on the train and cross validation plot we can say that optimal value of lamda\nW2V_optimal_lamda = 1000.0\n\n#Plot the graph on area under roc curve on test and train data and print confusion matrix\nplot_Graph(W2V_optimal_lamda , \"l2\" ,AvgW2V_train_data, Score_train, AvgW2V_test_data, Score_test)",
      "execution_count": null,
      "outputs": []
    },
    {
      "metadata": {
        "id": "pdXTwVIPLPpp",
        "colab_type": "text",
        "_uuid": "b7fa756227dc498486c1b9e1d1756aae56fcf911"
      },
      "cell_type": "markdown",
      "source": "## [5.4] Logistic Regression on TFIDF W2V,<font color='red'> SET 4</font>"
    },
    {
      "metadata": {
        "id": "WP9NjwNSLPpp",
        "colab_type": "text",
        "_uuid": "a866a995b45e208ddd2eb9e97b48a4dfe99cf726"
      },
      "cell_type": "markdown",
      "source": "### [5.4.1] Applying Logistic Regression with L1 regularization on TFIDF W2V,<font color='red'> SET 4</font>"
    },
    {
      "metadata": {
        "id": "207gYymwLPpq",
        "colab_type": "code",
        "colab": {},
        "trusted": true,
        "_uuid": "36e3bfa78104a6f3b93f907bdbdb9f9d7614ce06"
      },
      "cell_type": "code",
      "source": "import warnings\nwarnings.filterwarnings(\"ignore\")\n\n# Find optimal value of lamda\nLR_accuracy(tfIdf_W2V_train_data , Score_train, \"l1\")",
      "execution_count": null,
      "outputs": []
    },
    {
      "metadata": {
        "trusted": true,
        "_uuid": "8c1f6a7c9867d54242f845f467f3f54440921912"
      },
      "cell_type": "code",
      "source": "# Based on the train and cross validation plot we can say that optimal value of lamda\nW2V_optimal_lamda = 0.001\n\n#Plot the graph on area under roc curve on test and train data and print confusion matrix\nplot_Graph(W2V_optimal_lamda , \"l1\" ,tfIdf_W2V_train_data, Score_train, tfIdf_W2V_test_data, Score_test)",
      "execution_count": null,
      "outputs": []
    },
    {
      "metadata": {
        "id": "ynUK2tYDLPps",
        "colab_type": "text",
        "_uuid": "425401fd9b99d87d0697c4b5ec8c5228a025a6b3"
      },
      "cell_type": "markdown",
      "source": "### [5.4.2] Applying Logistic Regression with L2 regularization on TFIDF W2V,<font color='red'> SET 4</font>"
    },
    {
      "metadata": {
        "id": "hVYuiXl2LPpt",
        "colab_type": "code",
        "colab": {},
        "trusted": true,
        "_uuid": "8181dbd2f3c6e94816cb080358944aa081273ef7"
      },
      "cell_type": "code",
      "source": "import warnings\nwarnings.filterwarnings(\"ignore\")\n\n# Find optimal value of lamda\nLR_accuracy(tfIdf_W2V_train_data , Score_train, \"l2\")",
      "execution_count": null,
      "outputs": []
    },
    {
      "metadata": {
        "trusted": true,
        "_uuid": "6cdf76a252df008de06576d5eccb804257372912"
      },
      "cell_type": "code",
      "source": "# Based on the train and cross validation plot we can say that optimal value of lamda\nW2V_optimal_lamda = 0.0001\n\n#Plot the graph on area under roc curve on test and train data and print confusion matrix\nplot_Graph(W2V_optimal_lamda , \"l2\" ,tfIdf_W2V_train_data, Score_train, tfIdf_W2V_test_data, Score_test)",
      "execution_count": null,
      "outputs": []
    },
    {
      "metadata": {
        "id": "nOvsBNf2LPpv",
        "colab_type": "text",
        "_uuid": "4f1bb9c7d42cbea74a46a2ed9b04e1f5ded901a6"
      },
      "cell_type": "markdown",
      "source": "# [6] Conclusions"
    },
    {
      "metadata": {
        "id": "T7VxD0q2LPpw",
        "colab_type": "code",
        "colab": {},
        "trusted": false,
        "_uuid": "4138449d97eb44206002016e8ebec79c690ed2e1"
      },
      "cell_type": "code",
      "source": "# Please compare all your models using Prettytable library",
      "execution_count": null,
      "outputs": []
    }
  ],
  "metadata": {
    "colab": {
      "name": "05 Amazon Fine Food Reviews Analysis_Logistic Regression.ipynb",
      "version": "0.3.2",
      "provenance": []
    },
    "kernelspec": {
      "display_name": "Python 3",
      "language": "python",
      "name": "python3"
    },
    "language_info": {
      "name": "python",
      "version": "3.6.6",
      "mimetype": "text/x-python",
      "codemirror_mode": {
        "name": "ipython",
        "version": 3
      },
      "pygments_lexer": "ipython3",
      "nbconvert_exporter": "python",
      "file_extension": ".py"
    }
  },
  "nbformat": 4,
  "nbformat_minor": 1
}